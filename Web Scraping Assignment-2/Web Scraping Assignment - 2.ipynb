{
 "cells": [
  {
   "cell_type": "code",
   "execution_count": null,
   "id": "8fb4f2dd",
   "metadata": {},
   "outputs": [],
   "source": [
    "# importing required libraries\n",
    "\n",
    "import selenium\n",
    "from selenium import webdriver\n",
    "import pandas as pd\n",
    "import numpy as np\n",
    "import warnings\n",
    "warnings.filterwarnings('ignore')"
   ]
  },
  {
   "cell_type": "markdown",
   "id": "8066839d",
   "metadata": {},
   "source": [
    "# Q1:"
   ]
  },
  {
   "cell_type": "code",
   "execution_count": null,
   "id": "77cee3e9",
   "metadata": {},
   "outputs": [],
   "source": [
    "driver=webdriver.Chrome('chromedriver.exe')"
   ]
  },
  {
   "cell_type": "code",
   "execution_count": null,
   "id": "61c6a51e",
   "metadata": {},
   "outputs": [],
   "source": [
    "url1='https://www.naukri.com/'\n",
    "driver.get(url1)"
   ]
  },
  {
   "cell_type": "code",
   "execution_count": null,
   "id": "d5d29b02",
   "metadata": {},
   "outputs": [],
   "source": [
    "job_search=driver.find_element_by_xpath('/html/body/div/div[2]/div[3]/div/div/div[1]/div/div/div/input')\n",
    "job_search"
   ]
  },
  {
   "cell_type": "code",
   "execution_count": null,
   "id": "e86b44a7",
   "metadata": {},
   "outputs": [],
   "source": [
    "job_search.send_keys('Data Analyst')"
   ]
  },
  {
   "cell_type": "code",
   "execution_count": null,
   "id": "29f6c443",
   "metadata": {},
   "outputs": [],
   "source": [
    "job_locn=driver.find_element_by_xpath('/html/body/div/div[2]/div[3]/div/div/div[3]/div/div/div/input')\n",
    "job_locn"
   ]
  },
  {
   "cell_type": "code",
   "execution_count": null,
   "id": "5d446414",
   "metadata": {},
   "outputs": [],
   "source": [
    "job_locn.send_keys('Bangalore')"
   ]
  },
  {
   "cell_type": "code",
   "execution_count": null,
   "id": "9ad8e31c",
   "metadata": {},
   "outputs": [],
   "source": [
    "search_btn=driver.find_element_by_class_name('qsbSubmit')\n",
    "search_btn"
   ]
  },
  {
   "cell_type": "code",
   "execution_count": null,
   "id": "bf956ac1",
   "metadata": {},
   "outputs": [],
   "source": [
    "search_btn.click()"
   ]
  },
  {
   "cell_type": "code",
   "execution_count": null,
   "id": "90dfb007",
   "metadata": {},
   "outputs": [],
   "source": [
    "#Extracting job titles\n",
    "\n",
    "title_tags=driver.find_elements_by_xpath('//a[@class=\"title fw500 ellipsis\"]')\n",
    "title_tags"
   ]
  },
  {
   "cell_type": "code",
   "execution_count": null,
   "id": "1373b6e0",
   "metadata": {},
   "outputs": [],
   "source": [
    "job_titles=[]\n",
    "\n",
    "for i in title_tags:\n",
    "    job_titles.append(i.text)\n",
    "print(len(job_titles))    \n",
    "job_titles_10=job_titles[0:10]\n",
    "job_titles_10"
   ]
  },
  {
   "cell_type": "code",
   "execution_count": null,
   "id": "ecb60b08",
   "metadata": {},
   "outputs": [],
   "source": [
    "#Extracting job location\n",
    "\n",
    "locn_tags=driver.find_elements_by_xpath('//li[@class=\"fleft grey-text br2 placeHolderLi location\"]')\n",
    "locn_tags"
   ]
  },
  {
   "cell_type": "code",
   "execution_count": null,
   "id": "9618bff1",
   "metadata": {},
   "outputs": [],
   "source": [
    "job_location=[]\n",
    "\n",
    "for i in locn_tags:\n",
    "    job_location.append(i.text)\n",
    "    \n",
    "print(len(job_location))\n",
    "job_location_10=job_location[0:10]\n",
    "job_location_10"
   ]
  },
  {
   "cell_type": "code",
   "execution_count": null,
   "id": "33b84489",
   "metadata": {},
   "outputs": [],
   "source": [
    "#Extracting company name\n",
    "\n",
    "name_tags=driver.find_elements_by_xpath('//a[@class=\"subTitle ellipsis fleft\"]')\n",
    "name_tags"
   ]
  },
  {
   "cell_type": "code",
   "execution_count": null,
   "id": "b5e0d07a",
   "metadata": {},
   "outputs": [],
   "source": [
    "company_name=[]\n",
    "\n",
    "for i in name_tags:\n",
    "    company_name.append(i.text)\n",
    "    \n",
    "print(len(company_name))\n",
    "company_name_10=company_name[0:10]\n",
    "company_name_10"
   ]
  },
  {
   "cell_type": "code",
   "execution_count": null,
   "id": "645e524a",
   "metadata": {},
   "outputs": [],
   "source": [
    "#Extracting the experience required\n",
    "\n",
    "exp_tags=driver.find_elements_by_xpath('//li[@class=\"fleft grey-text br2 placeHolderLi experience\"]')\n",
    "exp_tags"
   ]
  },
  {
   "cell_type": "code",
   "execution_count": null,
   "id": "677329eb",
   "metadata": {},
   "outputs": [],
   "source": [
    "experience_required=[]\n",
    "\n",
    "for i in exp_tags:\n",
    "    experience_required.append(i.text)\n",
    "    \n",
    "print(len(experience_required))\n",
    "experience_required_10=experience_required[0:10]\n",
    "experience_required_10"
   ]
  },
  {
   "cell_type": "code",
   "execution_count": null,
   "id": "37eafc65",
   "metadata": {},
   "outputs": [],
   "source": [
    "df1=pd.DataFrame({\"Job Title\":job_titles_10,\"Job Location\":job_location_10,\"Company Name\":company_name_10,\"Experience Required\":experience_required_10})\n",
    "df1.index=np.arange(1,len(df1)+1)\n",
    "df1"
   ]
  },
  {
   "cell_type": "markdown",
   "id": "8d959f2b",
   "metadata": {},
   "source": [
    "# Q2:"
   ]
  },
  {
   "cell_type": "code",
   "execution_count": null,
   "id": "dbf5ecc2",
   "metadata": {},
   "outputs": [],
   "source": [
    "driver2=webdriver.Chrome(\"chromedriver.exe\")"
   ]
  },
  {
   "cell_type": "code",
   "execution_count": null,
   "id": "ee8c7b64",
   "metadata": {},
   "outputs": [],
   "source": [
    "url2=\"https://www.naukri.com/\"\n",
    "driver2.get(url2)"
   ]
  },
  {
   "cell_type": "code",
   "execution_count": null,
   "id": "916cea38",
   "metadata": {},
   "outputs": [],
   "source": [
    "search_job=driver2.find_element_by_xpath(\"/html/body/div/div[2]/div[3]/div/div/div[1]/div/div/div/input\")\n",
    "search_job"
   ]
  },
  {
   "cell_type": "code",
   "execution_count": null,
   "id": "3d0a1238",
   "metadata": {},
   "outputs": [],
   "source": [
    "search_job.send_keys(\"Data Scientist\")"
   ]
  },
  {
   "cell_type": "code",
   "execution_count": null,
   "id": "e1b77282",
   "metadata": {},
   "outputs": [],
   "source": [
    "search_locn=driver2.find_element_by_xpath(\"/html/body/div/div[2]/div[3]/div/div/div[3]/div/div/div/input\")\n",
    "search_locn"
   ]
  },
  {
   "cell_type": "code",
   "execution_count": null,
   "id": "011cfab9",
   "metadata": {},
   "outputs": [],
   "source": [
    "search_locn.send_keys(\"Bangalore\")"
   ]
  },
  {
   "cell_type": "code",
   "execution_count": null,
   "id": "5bf88b4c",
   "metadata": {},
   "outputs": [],
   "source": [
    "search_btn=driver2.find_element_by_class_name(\"qsbSubmit\")\n",
    "search_btn"
   ]
  },
  {
   "cell_type": "code",
   "execution_count": null,
   "id": "dece27ee",
   "metadata": {},
   "outputs": [],
   "source": [
    "search_btn.click()"
   ]
  },
  {
   "cell_type": "code",
   "execution_count": null,
   "id": "aa7e0f99",
   "metadata": {},
   "outputs": [],
   "source": [
    "#Extracting job title\n",
    "\n",
    "title_tags=driver2.find_elements_by_xpath(\"//a[@class='title fw500 ellipsis']\")\n",
    "title_tags"
   ]
  },
  {
   "cell_type": "code",
   "execution_count": null,
   "id": "e8013f76",
   "metadata": {},
   "outputs": [],
   "source": [
    "job_title=[]\n",
    "\n",
    "for i in title_tags:\n",
    "    job_title.append(i.text)\n",
    "    \n",
    "job_title_10=job_title[0:10]\n",
    "job_title_10"
   ]
  },
  {
   "cell_type": "code",
   "execution_count": null,
   "id": "b10c7d55",
   "metadata": {},
   "outputs": [],
   "source": [
    "#Extracting job location\n",
    "\n",
    "locn_tags=driver2.find_elements_by_xpath(\"//li[@class='fleft grey-text br2 placeHolderLi location']\")\n",
    "locn_tags"
   ]
  },
  {
   "cell_type": "code",
   "execution_count": null,
   "id": "7144761b",
   "metadata": {},
   "outputs": [],
   "source": [
    "job_location=[]\n",
    "\n",
    "for i in locn_tags:\n",
    "    job_location.append(i.text)\n",
    "    \n",
    "job_location_10=job_location[0:10]\n",
    "job_location_10"
   ]
  },
  {
   "cell_type": "code",
   "execution_count": null,
   "id": "d1c36d3c",
   "metadata": {},
   "outputs": [],
   "source": [
    "#Extracting company name\n",
    "\n",
    "name_tags=driver2.find_elements_by_xpath(\"//a[@class='subTitle ellipsis fleft']\")\n",
    "name_tags"
   ]
  },
  {
   "cell_type": "code",
   "execution_count": null,
   "id": "64fe6548",
   "metadata": {},
   "outputs": [],
   "source": [
    "company_name=[]\n",
    "\n",
    "for i in name_tags:\n",
    "    company_name.append(i.text)\n",
    "    \n",
    "company_name_10=company_name[0:10]\n",
    "company_name_10"
   ]
  },
  {
   "cell_type": "code",
   "execution_count": null,
   "id": "41b467b8",
   "metadata": {},
   "outputs": [],
   "source": [
    "df2=pd.DataFrame({\"Job Title\":job_title_10,\"Job Location\":job_location_10,\"Company Name\":company_name_10})\n",
    "df2.index=np.arange(1,len(df2)+1)\n",
    "df2"
   ]
  },
  {
   "cell_type": "markdown",
   "id": "072681c1",
   "metadata": {},
   "source": [
    "# Q3:"
   ]
  },
  {
   "cell_type": "code",
   "execution_count": null,
   "id": "ef1e6dc6",
   "metadata": {},
   "outputs": [],
   "source": [
    "driver3=webdriver.Chrome(\"chromedriver.exe\")"
   ]
  },
  {
   "cell_type": "code",
   "execution_count": null,
   "id": "88063ef0",
   "metadata": {},
   "outputs": [],
   "source": [
    "url3=\"https://www.naukri.com/\"\n",
    "driver3.get(url3)"
   ]
  },
  {
   "cell_type": "code",
   "execution_count": null,
   "id": "80593d66",
   "metadata": {},
   "outputs": [],
   "source": [
    "search_job=driver3.find_element_by_xpath(\"/html/body/div/div[2]/div[3]/div/div/div[1]/div/div/div/input\")\n",
    "search_job"
   ]
  },
  {
   "cell_type": "code",
   "execution_count": null,
   "id": "cc29f8c1",
   "metadata": {},
   "outputs": [],
   "source": [
    "search_job.send_keys(\"Data Scientist\")"
   ]
  },
  {
   "cell_type": "code",
   "execution_count": null,
   "id": "7956aa4f",
   "metadata": {},
   "outputs": [],
   "source": [
    "search_btn=driver3.find_element_by_class_name(\"qsbSubmit\")\n",
    "search_btn"
   ]
  },
  {
   "cell_type": "code",
   "execution_count": null,
   "id": "0ada8d51",
   "metadata": {},
   "outputs": [],
   "source": [
    "search_btn.click()"
   ]
  },
  {
   "cell_type": "code",
   "execution_count": null,
   "id": "6e7b45ff",
   "metadata": {},
   "outputs": [],
   "source": [
    "locn_filter=driver3.find_element_by_xpath(\"/html/body/div[1]/div[3]/div[2]/section[1]/div[2]/div[3]/div[2]/div[3]/label/i\")\n",
    "locn_filter"
   ]
  },
  {
   "cell_type": "code",
   "execution_count": null,
   "id": "80ac209d",
   "metadata": {},
   "outputs": [],
   "source": [
    "locn_filter.click()"
   ]
  },
  {
   "cell_type": "code",
   "execution_count": null,
   "id": "d27e39cf",
   "metadata": {},
   "outputs": [],
   "source": [
    "salary_filter=driver3.find_element_by_xpath(\"/html/body/div[1]/div[3]/div[2]/section[1]/div[2]/div[4]/div[2]/div[2]/label/i\")\n",
    "salary_filter"
   ]
  },
  {
   "cell_type": "code",
   "execution_count": null,
   "id": "2b656de8",
   "metadata": {},
   "outputs": [],
   "source": [
    "salary_filter.click()"
   ]
  },
  {
   "cell_type": "code",
   "execution_count": null,
   "id": "f54a5dd8",
   "metadata": {},
   "outputs": [],
   "source": [
    "#Extracting job title\n",
    "\n",
    "title_tags=driver3.find_elements_by_xpath(\"//a[@class='title fw500 ellipsis']\")\n",
    "title_tags"
   ]
  },
  {
   "cell_type": "code",
   "execution_count": null,
   "id": "81146452",
   "metadata": {},
   "outputs": [],
   "source": [
    "job_title=[]\n",
    "\n",
    "for i in title_tags:\n",
    "    job_title.append(i.text)\n",
    "    \n",
    "job_title_10=job_title[0:10]\n",
    "job_title_10"
   ]
  },
  {
   "cell_type": "code",
   "execution_count": null,
   "id": "e40d2492",
   "metadata": {},
   "outputs": [],
   "source": [
    "locn_tags=driver3.find_elements_by_xpath(\"//li[@class='fleft grey-text br2 placeHolderLi location']\")\n",
    "locn_tags"
   ]
  },
  {
   "cell_type": "code",
   "execution_count": null,
   "id": "25b24fcc",
   "metadata": {},
   "outputs": [],
   "source": [
    "job_locn=[]\n",
    "\n",
    "for i in locn_tags:\n",
    "    job_locn.append(i.text)\n",
    "    \n",
    "job_locn_10=job_locn[0:10]\n",
    "job_locn_10"
   ]
  },
  {
   "cell_type": "code",
   "execution_count": null,
   "id": "ea7fa0ed",
   "metadata": {},
   "outputs": [],
   "source": [
    "name_tags=driver3.find_elements_by_xpath(\"//a[@class='subTitle ellipsis fleft']\")\n",
    "name_tags"
   ]
  },
  {
   "cell_type": "code",
   "execution_count": null,
   "id": "5f7b1460",
   "metadata": {},
   "outputs": [],
   "source": [
    "company_name=[]\n",
    "\n",
    "for i in name_tags:\n",
    "    company_name.append(i.text)\n",
    "    \n",
    "company_name_10=company_name[0:10]\n",
    "company_name_10"
   ]
  },
  {
   "cell_type": "code",
   "execution_count": null,
   "id": "8d3e0c0d",
   "metadata": {},
   "outputs": [],
   "source": [
    "exp_tags=driver3.find_elements_by_xpath(\"//li[@class='fleft grey-text br2 placeHolderLi experience']\")\n",
    "exp_tags"
   ]
  },
  {
   "cell_type": "code",
   "execution_count": null,
   "id": "6b0ecbc2",
   "metadata": {},
   "outputs": [],
   "source": [
    "exp_reqd=[]\n",
    "\n",
    "for i in exp_tags:\n",
    "    exp_reqd.append(i.text)\n",
    "    \n",
    "exp_reqd_10=exp_reqd[0:10]\n",
    "exp_reqd_10"
   ]
  },
  {
   "cell_type": "code",
   "execution_count": null,
   "id": "8ee2f45f",
   "metadata": {},
   "outputs": [],
   "source": [
    "df3=pd.DataFrame({\"Job Title\":job_title_10,\"Job Location\":job_locn_10,\"Company Name\":company_name_10,\"Experience Required\":exp_reqd_10})\n",
    "df3.index=np.arange(1,len(df3)+1)\n",
    "df3"
   ]
  },
  {
   "cell_type": "markdown",
   "id": "edc4229a",
   "metadata": {},
   "source": [
    "# Q4:"
   ]
  },
  {
   "cell_type": "code",
   "execution_count": null,
   "id": "4a297357",
   "metadata": {},
   "outputs": [],
   "source": [
    "driver4=webdriver.Chrome(\"chromedriver.exe\")"
   ]
  },
  {
   "cell_type": "code",
   "execution_count": null,
   "id": "d8da710c",
   "metadata": {},
   "outputs": [],
   "source": [
    "url4=\"https://www.flipkart.com/\"\n",
    "driver4.get(url4)"
   ]
  },
  {
   "cell_type": "code",
   "execution_count": null,
   "id": "06ee8463",
   "metadata": {},
   "outputs": [],
   "source": [
    "search_field=driver4.find_element_by_class_name(\"_3704LK\")\n",
    "search_field"
   ]
  },
  {
   "cell_type": "code",
   "execution_count": null,
   "id": "d7c2b18d",
   "metadata": {},
   "outputs": [],
   "source": [
    "search_field.send_keys(\"sunglasses\")"
   ]
  },
  {
   "cell_type": "code",
   "execution_count": null,
   "id": "8504e649",
   "metadata": {},
   "outputs": [],
   "source": [
    "search_btn=driver4.find_element_by_class_name(\"L0Z3Pu\")\n",
    "search_btn"
   ]
  },
  {
   "cell_type": "code",
   "execution_count": null,
   "id": "9bb1f856",
   "metadata": {},
   "outputs": [],
   "source": [
    "search_btn.click()"
   ]
  },
  {
   "cell_type": "code",
   "execution_count": null,
   "id": "41a0dbdb",
   "metadata": {},
   "outputs": [],
   "source": [
    "#Extracting the brand\n",
    "\n",
    "brand_tags=driver4.find_elements_by_xpath(\"//div[@class='_2WkVRV']\")\n",
    "brand_tags[0:2]"
   ]
  },
  {
   "cell_type": "code",
   "execution_count": null,
   "id": "2d21046c",
   "metadata": {},
   "outputs": [],
   "source": [
    "brand=[]\n",
    "\n",
    "for i in brand_tags:\n",
    "    brand.append(i.text)\n",
    "print(len(brand))    \n",
    "brand"
   ]
  },
  {
   "cell_type": "code",
   "execution_count": null,
   "id": "bf7b4cb8",
   "metadata": {},
   "outputs": [],
   "source": [
    "desc_tags=driver4.find_elements_by_class_name('IRpwTa')\n",
    "print(len(desc_tags))\n",
    "desc_tags[0:2]"
   ]
  },
  {
   "cell_type": "code",
   "execution_count": null,
   "id": "e68ec4cf",
   "metadata": {
    "scrolled": false
   },
   "outputs": [],
   "source": [
    "pdt_desc=[]\n",
    "\n",
    "for i in desc_tags:\n",
    "    pdt_desc.append(i.text)\n",
    "    \n",
    "print(len(pdt_desc))\n",
    "pdt_desc"
   ]
  },
  {
   "cell_type": "code",
   "execution_count": null,
   "id": "820ca42d",
   "metadata": {},
   "outputs": [],
   "source": [
    "price_tags=driver4.find_elements_by_xpath(\"//div[@class='_30jeq3']\")\n",
    "price_tags[0:2]"
   ]
  },
  {
   "cell_type": "code",
   "execution_count": null,
   "id": "b3890580",
   "metadata": {},
   "outputs": [],
   "source": [
    "price=[]\n",
    "\n",
    "for i in price_tags:\n",
    "    price.append(i.text.replace(\"₹\",\"\"))\n",
    "    \n",
    "price"
   ]
  },
  {
   "cell_type": "code",
   "execution_count": null,
   "id": "82c4cca6",
   "metadata": {},
   "outputs": [],
   "source": [
    "discount_tags=driver4.find_elements_by_xpath(\"//div[@class='_3Ay6Sb']\")\n",
    "discount_tags[0:2]"
   ]
  },
  {
   "cell_type": "code",
   "execution_count": null,
   "id": "bd551e9a",
   "metadata": {},
   "outputs": [],
   "source": [
    "discount=[]\n",
    "\n",
    "for i in discount_tags:\n",
    "    discount.append(i.text.replace(\"% off\",\"\"))\n",
    "    \n",
    "discount"
   ]
  },
  {
   "cell_type": "code",
   "execution_count": null,
   "id": "8056d553",
   "metadata": {},
   "outputs": [],
   "source": [
    "len(discount)"
   ]
  },
  {
   "cell_type": "code",
   "execution_count": null,
   "id": "42227a82",
   "metadata": {},
   "outputs": [],
   "source": [
    "next_btn=driver4.find_element_by_xpath(\"/html/body/div[1]/div/div[3]/div[1]/div[2]/div[12]/div/div/nav/a[11]\")\n",
    "next_btn"
   ]
  },
  {
   "cell_type": "code",
   "execution_count": null,
   "id": "3a5e2471",
   "metadata": {},
   "outputs": [],
   "source": [
    "next_btn.click()"
   ]
  },
  {
   "cell_type": "code",
   "execution_count": null,
   "id": "b4c9cbf6",
   "metadata": {},
   "outputs": [],
   "source": [
    "brand_tags=driver4.find_elements_by_xpath(\"//div[@class='_2WkVRV']\")\n",
    "brand_tags[0:2]\n",
    "len(brand_tags)"
   ]
  },
  {
   "cell_type": "code",
   "execution_count": null,
   "id": "0e21a2cc",
   "metadata": {},
   "outputs": [],
   "source": [
    "for i in brand_tags:\n",
    "    brand.append(i.text)\n",
    "print(len(brand))    \n",
    "brand"
   ]
  },
  {
   "cell_type": "code",
   "execution_count": null,
   "id": "6a4b300a",
   "metadata": {},
   "outputs": [],
   "source": [
    "desc_tags=driver4.find_elements_by_class_name('IRpwTa')\n",
    "print(len(desc_tags))\n",
    "desc_tags[0:2]\n",
    "\n",
    "for i in desc_tags:\n",
    "    pdt_desc.append(i.text)\n",
    "    \n",
    "print(len(pdt_desc))\n",
    "pdt_desc"
   ]
  },
  {
   "cell_type": "code",
   "execution_count": null,
   "id": "ee708407",
   "metadata": {},
   "outputs": [],
   "source": [
    "price_tags=driver4.find_elements_by_xpath(\"//div[@class='_30jeq3']\")\n",
    "price_tags[0:2]\n",
    "\n",
    "for i in price_tags:\n",
    "    price.append(i.text.replace(\"₹\",\"\"))\n",
    "    \n",
    "print(len(price))\n",
    "price"
   ]
  },
  {
   "cell_type": "code",
   "execution_count": null,
   "id": "f632c6f7",
   "metadata": {},
   "outputs": [],
   "source": [
    "discount_tags=driver4.find_elements_by_xpath(\"//div[@class='_3Ay6Sb']\")\n",
    "discount_tags[0:2]\n",
    "\n",
    "for i in discount_tags:\n",
    "    discount.append(i.text.replace(\"% off\",\"\"))\n",
    "    \n",
    "print(len(discount))\n",
    "discount"
   ]
  },
  {
   "cell_type": "code",
   "execution_count": null,
   "id": "76f3eca8",
   "metadata": {},
   "outputs": [],
   "source": [
    "next_btn=driver4.find_element_by_xpath(\"/html/body/div[1]/div/div[3]/div[1]/div[2]/div[12]/div/div/nav/a[12]\")\n",
    "next_btn"
   ]
  },
  {
   "cell_type": "code",
   "execution_count": null,
   "id": "fed3375d",
   "metadata": {},
   "outputs": [],
   "source": [
    "next_btn.click()"
   ]
  },
  {
   "cell_type": "code",
   "execution_count": null,
   "id": "e3fbff17",
   "metadata": {},
   "outputs": [],
   "source": [
    "brand_tags=driver4.find_elements_by_xpath(\"//div[@class='_2WkVRV']\")\n",
    "brand_tags[0:2]\n",
    "\n",
    "for i in brand_tags:\n",
    "    brand.append(i.text)\n",
    "print(len(brand))    \n",
    "brand_100=brand[0:100]\n",
    "brand_100"
   ]
  },
  {
   "cell_type": "code",
   "execution_count": null,
   "id": "fc2973a5",
   "metadata": {},
   "outputs": [],
   "source": [
    "desc_tags=driver4.find_elements_by_class_name('IRpwTa')\n",
    "print(len(desc_tags))\n",
    "desc_tags[0:2]\n",
    "\n",
    "for i in desc_tags:\n",
    "    pdt_desc.append(i.text)\n",
    "    \n",
    "print(len(pdt_desc))\n",
    "pdt_desc_100=pdt_desc[0:100]\n",
    "pdt_desc_100"
   ]
  },
  {
   "cell_type": "code",
   "execution_count": null,
   "id": "d62ccd32",
   "metadata": {},
   "outputs": [],
   "source": [
    "price_tags=driver4.find_elements_by_xpath(\"//div[@class='_30jeq3']\")\n",
    "price_tags[0:2]\n",
    "\n",
    "for i in price_tags:\n",
    "    price.append(i.text.replace(\"₹\",\"\"))\n",
    "    \n",
    "print(len(price))\n",
    "price_100=price[0:100]\n",
    "price_100"
   ]
  },
  {
   "cell_type": "code",
   "execution_count": null,
   "id": "cfebec75",
   "metadata": {},
   "outputs": [],
   "source": [
    "discount_tags=driver4.find_elements_by_xpath(\"//div[@class='_3Ay6Sb']\")\n",
    "discount_tags[0:2]\n",
    "len(discount_tags)"
   ]
  },
  {
   "cell_type": "code",
   "execution_count": null,
   "id": "2855785e",
   "metadata": {},
   "outputs": [],
   "source": [
    "for i in discount_tags:\n",
    "    discount.append(i.text.replace(\"% off\",\"\"))\n",
    "    \n",
    "print(len(discount))\n",
    "discount_100=discount[0:100]\n",
    "discount_100\n",
    "discount"
   ]
  },
  {
   "cell_type": "code",
   "execution_count": null,
   "id": "b7439ad2",
   "metadata": {},
   "outputs": [],
   "source": [
    "len(brand_100),len(pdt_desc_100),len(price_100),len(discount_100)"
   ]
  },
  {
   "cell_type": "code",
   "execution_count": null,
   "id": "e8e667d5",
   "metadata": {},
   "outputs": [],
   "source": [
    "df4=pd.DataFrame({\"Brand\":brand_100,\"Product Description\":pdt_desc_100,\"Price(in ₹)\":price_100,\"Discount(in %)\":discount_100})\n",
    "df4.index=np.arange(1,len(df4)+1)\n",
    "df4"
   ]
  },
  {
   "cell_type": "markdown",
   "id": "26852a7f",
   "metadata": {},
   "source": [
    "# Q5:"
   ]
  },
  {
   "cell_type": "code",
   "execution_count": null,
   "id": "ee18ad37",
   "metadata": {},
   "outputs": [],
   "source": [
    "driver5=webdriver.Chrome(\"chromedriver.exe\")"
   ]
  },
  {
   "cell_type": "code",
   "execution_count": null,
   "id": "62fc124e",
   "metadata": {},
   "outputs": [],
   "source": [
    "url5=\"https://www.flipkart.com/apple-iphone-11-black-64-gb-includes- earpods-power-adapter/p/itm0f37c2240b217?pid=MOBFKCTSVZAXUHGR&lid=LSTMOBFKCTSVZAXUHGREPBFGI&marketplace.\"\n",
    "driver5.get(url5)"
   ]
  },
  {
   "cell_type": "code",
   "execution_count": null,
   "id": "cd670888",
   "metadata": {},
   "outputs": [],
   "source": [
    "all_reviews=driver5.find_element_by_xpath(\"/html/body/div[1]/div/div[3]/div[1]/div[2]/div[8]/div/div/div[5]/div/a/div\")\n",
    "all_reviews"
   ]
  },
  {
   "cell_type": "code",
   "execution_count": null,
   "id": "3cdc5706",
   "metadata": {},
   "outputs": [],
   "source": [
    "all_reviews.click()"
   ]
  },
  {
   "cell_type": "code",
   "execution_count": null,
   "id": "0ab6f03a",
   "metadata": {
    "scrolled": true
   },
   "outputs": [],
   "source": [
    "rating=[]\n",
    "review_summary=[]\n",
    "full_review=[]\n",
    "urls=[]\n",
    "rating_tags=driver5.find_elements_by_xpath(\"//div[@class='_3LWZlK _1BLPMq']\")\n",
    "rev_sum_tags=driver5.find_elements_by_xpath(\"//p[@class='_2-N8zT']\")\n",
    "full_rev_tags=driver5.find_elements_by_xpath(\"//div[@class='t-ZTKy']\")\n",
    "for i in rating_tags:\n",
    "    rating.append(i.text)\n",
    "for i in rev_sum_tags:\n",
    "    review_summary.append(i.text)\n",
    "for i in full_rev_tags:\n",
    "    full_review.append(i.text)\n",
    "    \n",
    "print(rating)\n",
    "print(review_summary)\n",
    "print(full_review)"
   ]
  },
  {
   "cell_type": "code",
   "execution_count": null,
   "id": "4966b981",
   "metadata": {},
   "outputs": [],
   "source": [
    "\n",
    "\n",
    "for page in range(2,10):\n",
    "    page_url=\"https://www.flipkart.com/apple-iphone-11-black-64-gb-includes-earpods-power-adapter/product-reviews/itm0f37c2240b217?pid=MOBFKCTSVZAXUHGR&page=\"+str(page)\n",
    "    driver5.get(page_url)\n",
    "    \n",
    "    rating_tags=driver5.find_elements_by_xpath(\"//div[@class='_3LWZlK _1BLPMq']\")\n",
    "    rev_sum_tags=driver5.find_elements_by_xpath(\"//p[@class='_2-N8zT']\")\n",
    "    full_rev_tags=driver5.find_elements_by_xpath(\"//div[@class='t-ZTKy']\")\n",
    "    for i in rating_tags:\n",
    "        rating.append(i.text)\n",
    "    for i in rev_sum_tags:\n",
    "        review_summary.append(i.text)\n",
    "    for i in full_rev_tags:\n",
    "        full_review.append(i.text)\n",
    "    \n",
    "print(rating)\n",
    "print(review_summary)\n",
    "print(full_review)\n",
    "    "
   ]
  },
  {
   "cell_type": "code",
   "execution_count": null,
   "id": "87919425",
   "metadata": {},
   "outputs": [],
   "source": []
  },
  {
   "cell_type": "code",
   "execution_count": null,
   "id": "c5e16d8a",
   "metadata": {},
   "outputs": [],
   "source": []
  },
  {
   "cell_type": "code",
   "execution_count": null,
   "id": "697aa1b2",
   "metadata": {},
   "outputs": [],
   "source": []
  },
  {
   "cell_type": "markdown",
   "id": "4b6005d9",
   "metadata": {},
   "source": [
    "# Q6:"
   ]
  },
  {
   "cell_type": "code",
   "execution_count": 220,
   "id": "75f0d79a",
   "metadata": {},
   "outputs": [],
   "source": [
    "driver6=webdriver.Chrome(\"chromedriver.exe\")"
   ]
  },
  {
   "cell_type": "code",
   "execution_count": 221,
   "id": "cb4d1ca7",
   "metadata": {},
   "outputs": [],
   "source": [
    "url=\"https://www.flipkart.com/\"\n",
    "driver6.get(url)"
   ]
  },
  {
   "cell_type": "code",
   "execution_count": 222,
   "id": "9fb3b793",
   "metadata": {},
   "outputs": [
    {
     "data": {
      "text/plain": [
       "<selenium.webdriver.remote.webelement.WebElement (session=\"2bca9ec594bbaf1c513fab72b8a1e08f\", element=\"fa6d356d-d358-45bb-abff-e5d1f27481ca\")>"
      ]
     },
     "execution_count": 222,
     "metadata": {},
     "output_type": "execute_result"
    }
   ],
   "source": [
    "pop_up=driver6.find_element_by_xpath(\"/html/body/div[2]/div/div/button\")\n",
    "pop_up"
   ]
  },
  {
   "cell_type": "code",
   "execution_count": 223,
   "id": "daa10c39",
   "metadata": {},
   "outputs": [],
   "source": [
    "pop_up.click()"
   ]
  },
  {
   "cell_type": "code",
   "execution_count": 224,
   "id": "15eb9a28",
   "metadata": {},
   "outputs": [
    {
     "data": {
      "text/plain": [
       "<selenium.webdriver.remote.webelement.WebElement (session=\"2bca9ec594bbaf1c513fab72b8a1e08f\", element=\"4298f3e6-2212-4b1d-a78d-47607416ae6c\")>"
      ]
     },
     "execution_count": 224,
     "metadata": {},
     "output_type": "execute_result"
    }
   ],
   "source": [
    "search_pdt=driver6.find_element_by_xpath(\"/html/body/div[1]/div/div[1]/div[1]/div[2]/div[2]/form/div/div/input\")\n",
    "search_pdt"
   ]
  },
  {
   "cell_type": "code",
   "execution_count": 225,
   "id": "2a9ecf84",
   "metadata": {},
   "outputs": [],
   "source": [
    "search_pdt.send_keys(\"sneakers\")"
   ]
  },
  {
   "cell_type": "code",
   "execution_count": 226,
   "id": "678761f1",
   "metadata": {},
   "outputs": [
    {
     "data": {
      "text/plain": [
       "<selenium.webdriver.remote.webelement.WebElement (session=\"2bca9ec594bbaf1c513fab72b8a1e08f\", element=\"88309069-2ac1-4b71-bd2a-5ef90dcdae33\")>"
      ]
     },
     "execution_count": 226,
     "metadata": {},
     "output_type": "execute_result"
    }
   ],
   "source": [
    "search_btn=driver6.find_element_by_xpath(\"/html/body/div[1]/div/div[1]/div[1]/div[2]/div[2]/form/div/button\")\n",
    "search_btn"
   ]
  },
  {
   "cell_type": "code",
   "execution_count": 227,
   "id": "fa3b577e",
   "metadata": {},
   "outputs": [],
   "source": [
    "search_btn.click()"
   ]
  },
  {
   "cell_type": "code",
   "execution_count": 228,
   "id": "02ebd477",
   "metadata": {},
   "outputs": [
    {
     "name": "stdout",
     "output_type": "stream",
     "text": [
      "120 120 120 120\n",
      "['RapidBox', 'HRX by Hrithik Roshan', 'Magnolia', 'Chevit', 'TR', 'BRUTON', 'Magnolia', 'Navtrend', 'KWIK FIT', 'Kraasa', 'URBANBOX', 'Echor', 'corsac', 'World Wear Footwear', 'World Wear Footwear', 'RapidBox', 'D-SNEAKERZ', 'Shoes Bank', 'Magnolia', 'Deals4you', 'aadi', 'BRUTON', 'DUNKASTON', 'Echor', 'CAMPUS', 'luxury fashion', 'SCATCHITE', 'Echor', 'BRUTON', 'Kraasa', 'RapidBox', 'HRX by Hrithik Roshan', 'Kzaara', 'luxury fashion', 'BRUTON', 'CLYMB', 'India hub', 'BRUTON', 'Xtoon', 'Echor', 'Elevarse', 'RAFTAR FASHION', 'Chevit', 'HRX by Hrithik Roshan', 'Kraasa', 'BRUTON', 'BIRDE', 'RapidBox', 'World Wear Footwear', 'Vellinto', 'Chevit', 'Navtrend', 'Numenzo', 'Robbie jones', 'CLYMB', 'Echor', 'ASTEROID', 'ASIAN', 'ORICUM', 'Deals4you', 'Ktiz', 'D-SNEAKERZ', 'PUMA', 'RapidBox', 'AMICO', 'SPARX', 'SWIGGY', 'Echor', 'Echor', 'Zorth', 'ESSENCE', 'Echor', 'T-ROCK', 'Stinson', 'Robbie jones', 'Echor', 'CLYMB', 'LE GREEM', 'DUNKASTON', 'Numenzo', 'Bond Street By Red Tape', 'Magnolia', 'ESSENCE', 'HRX by Hrithik Roshan', 'aadi', 'Bretton', 'Chevit', 'Navtrend', 'Hida', 'Arohi', 'Echor', 'Echor', 'SPARX', 'bluemaker', 'WHITE WALKERS', 'Deals4you', 'WHITEHUB', 'luxury fashion', 'RapidBox', 'Echor', 'DUNKASTON', 'PUMA', 'Kraasa', 'Echor', 'Zorth', 'Kzaara', 'Rzisbo', 'RapidBox', 'bluemaker', 'Robbie jones', 'U.S. POLO ASSN.', 'Echor', 'BAUCHHAAR', 'Numenzo', 'FILA', 'CLYMB', 'Trendmode', 'Brainer', 'U.S. POLO ASSN.', 'Echor']\n",
      "['Sneakers For Men', 'Men White Printed Sneakers Sneakers For Men', 'Sneakers For Men', 'Super Stylish & Trendy Combo Pack of 02 Pairs Sneakers ...', 'Sneakers For Men', 'Modern Trendy Sneakers Shoes Sneakers For Men', 'Sneakers For Men', 'Sneakers For Men', 'Kwik FIT casual sneaker shoes and partywear shoes Casua...', 'Series 7 Sneakers For Men', 'Sneakers Sneakers For Men', \"Echor Men's Sneakers Fashion Lightweight Running Shoes ...\", 'STYLISH MENS BLACK AND WHITE SNEAKER Sneakers For Men', '5011-Latest Collection Stylish Casual Loafer Sneakers S...', 'Sneakers For Men', 'Sneakers For Men', \"Casual , Partywear Sneakers Shoes For Men's And Boys Wh...\", \"White Sneaker For Men's/Boy's Sneakers For Men\", 'Sneakers For Men', 'Sneakers For Men', 'Sneakers For Men', 'Modern & Trendy Collection Combo Pack of 02 Shoes for M...', 'Sneakers For Men', \"Men's Sneakers Fashion Lightweight Running Shoes Tennis...\", 'EXPLORE Sneakers For Men', 'Luxury Fashionable casual shoes Sneakers For Men', 'Sneakers For Men', \"Men's casual shoes sports shoes black sneaker Sneakers ...\", 'Sneaker Sneakers For Men', 'Shark-41 Sneakers For Men', 'Sneakers For Men', 'Sneakers For Men', 'Sneakers For Men', 'Sneakers For Men', 'Combo Pack Of 2 Latest Stylish Casual Shoes for Men Lac...', \"Perfect Sports Shoes for Men's Running ,Cycling & Trekk...\", 'Luxury Fashionable casual sneaker shoes Sneakers For Me...', 'Combo Pack Of 4 Casual Shoes Loafer Shoes Sneakers For ...', \"white Casual shoes,Sneakers for men's Sneakers For Men\", 'Stylish & Trendy Shoe For Men Sneakers Sneakers For Men', 'Sneakers For Men', 'Sneakers For Men', '516 Trendy Star Perfect Sneakers For Men', 'Men White Printed Sneakers Sneakers For Men', 'Casuals, Canvas, Partywear Sneakers For Men', 'Modern & Trendy Collection Combo Pack of 02 Shoes for M...', 'Sports Running Shoes Sneakers For Men', 'Sneakers For Men', 'Latest Collection-1227 Stylish Casual Sports Sneakers F...', 'Casual Sneakrs For Men Sneakers For Men', 'Unique & Perfect Collection Combo Pack of 02 Shoes for ...', 'Sneakers For Men', '411 Casual Sneakers For Men', 'Sneakers For Men', \"Perfect Sports Shoes for Men's Running ,Cycling & Trekk...\", \"Echor Men's Sneakers Fashion Lightweight Running Shoes ...\", 'Sneakers For Men', 'Skypy-31 Walking Shoes,Training Shoes,Sneakers,Loafers,...', 'Casual Sneakers Shoes for Men Pack of 5 Combo(O)-1667-3...', 'Sneakers For Men', 'Sneakers For Men', \"Casual , Partywear Sneakers Shoes For Men's And Boys Wh...\", 'Sneakers For Men', 'Sneakers For Men', 'Sneakers For Men', 'SM-439 Sneakers For Men', 'casual sneakers shoes For Mens Multicolor Combo(MR)-179...', \"Men's Sneakers Fashion Lightweight Running Shoes Tennis...\", \"Men's Sneakers Fashion Lightweight Running Shoes Tennis...\", 'Sneakers For Men', 'Sneakers For Men', \"Men's casual shoes sports shoes black sneaker Sneakers ...\", 'Stylish White Casual Sneakers shoes Men and Boys Sneake...', 'Sneakers For Men', 'Casual Sneakers White Shoes For Men Sneakers For Men', 'Stylish & Trendy Shoe For Men Sneakers Sneakers For Men', 'Sneakers For Men', 'Comfortable & Ultra Light Weight Sneaker Sneakers For M...', 'Sneakers For Men', '411 Casual Sneakers For Men', 'Sneakers For Men', 'White Sneakers Sneakers For Men', 'Sneakers For Men', 'Men White Printed Sneakers Sneakers For Men', 'Sneakers For Men', 'Classy Stylish Ayasa Sneakers Sneakers For Men', 'Perfect & Affordable Combo Pack of 02 Pairs Sneakers Ou...', 'Sneakers For Men', 'Sneakers For Men', 'Sneakers For Men', 'Sneakers For Men', \"Echor Men's Sneakers Fashion Lightweight Running Shoes ...\", 'SM-439 Sneakers For Men', 'casual for men Sneakers For Men', 'Stylish & Trending Outdoor Walking Comfortable Sneakers...', 'Sneakers For Men', 'Sneakers For Men', 'Fashionable sneaker shoes Sneakers For Men', 'Sneakers For Men', \"Men's casual shoes sports shoes black sneaker Sneakers ...\", 'Sneakers For Men', 'Rigel Sneakers For Men', 'Shark-41 Sneakers For Men', \"Men's Sneakers Fashion Lightweight Running Shoes Tennis...\", 'New Fashion Outdoor Trendy Lightweight Casual,Canvas St...', 'Kzaara Sneakers Casual Canvas shoes | Branded Stylish O...', 'Sneakers For Men', 'Sneakers For Men', 'casual for men Sneakers For Men', 'Sneakers For Men', 'PANAL Sneakers For Men', \"Men's Sneakers Fashion Lightweight Running Shoes Tennis...\", 'sports shoes for men | Latest Stylish Casual sneakers f...', 'Sneakers For Men', 'Sneakers For Men', \"Perfect Sports Shoes for Men's Running ,Cycling & Trekk...\", 'Sneakers For Men', 'Sneakers For Men', 'Sneakers For Men', 'Stylish & Trendy Shoe For Men Sneakers Sneakers For Men']\n",
      "['₹630', '₹2,049', '₹327', '₹501', '₹272', '₹209', '₹327', '₹379', '₹349', '₹394', '₹148', '₹433', '₹399', '₹149', '₹190', '₹580', '₹249', '₹248', '₹349', '₹331', '₹269', '₹421', '₹269', '₹424', '₹999', '₹357', '₹348', '₹424', '₹249', '₹394', '₹630', '₹1,849', '₹209', '₹439', '₹449', '₹199', '₹349', '₹449', '₹429', '₹433', '₹349', '₹649', '₹209', '₹2,049', '₹444', '₹486', '₹249', '₹630', '₹209', '₹549', '₹373', '₹379', '₹424', '₹424', '₹199', '₹433', '₹424', '₹498', '₹885', '₹331', '₹398', '₹334', '₹3,262', '₹580', '₹449', '₹799', '₹580', '₹424', '₹424', '₹397', '₹349', '₹424', '₹349', '₹209', '₹424', '₹433', '₹534', '₹399', '₹309', '₹424', '₹999', '₹307', '₹349', '₹2,049', '₹269', '₹201', '₹365', '₹379', '₹566', '₹395', '₹449', '₹433', '₹799', '₹424', '₹549', '₹331', '₹429', '₹449', '₹630', '₹424', '₹349', '₹1,377', '₹394', '₹424', '₹385', '₹209', '₹549', '₹580', '₹424', '₹424', '₹1,499', '₹424', '₹349', '₹379', '₹997', '₹199', '₹209', '₹449', '₹1,549', '₹433']\n",
      "['37% off', '46% off', '67% off', '69% off', '73% off', '84% off', '67% off', '81% off', '83% off', '61% off', '85% off', '71% off', '73% off', '70% off', '62% off', '42% off', '62% off', '75% off', '65% off', '78% off', '73% off', '83% off', '82% off', '58% off', '47% off', '73% off', '65% off', '72% off', '81% off', '61% off', '37% off', '49% off', '79% off', '78% off', '82% off', '80% off', '83% off', '87% off', '71% off', '71% off', '65% off', '35% off', '74% off', '46% off', '56% off', '81% off', '50% off', '37% off', '58% off', '58% off', '75% off', '81% off', '79% off', '58% off', '80% off', '71% off', '79% off', '38% off', '65% off', '78% off', '60% off', '67% off', '64% off', '42% off', '70% off', '6% off', '42% off', '58% off', '58% off', '60% off', '65% off', '72% off', '65% off', '58% off', '58% off', '71% off', '64% off', '60% off', '79% off', '79% off', '76% off', '69% off', '65% off', '46% off', '73% off', '90% off', '80% off', '81% off', '43% off', '60% off', '70% off', '71% off', '6% off', '58% off', '54% off', '78% off', '57% off', '78% off', '37% off', '72% off', '77% off', '51% off', '61% off', '58% off', '61% off', '79% off', '45% off', '42% off', '58% off', '58% off', '50% off', '58% off', '65% off', '71% off', '67% off', '80% off', '70% off', '65% off', '61% off', '71% off']\n"
     ]
    }
   ],
   "source": [
    "brand=[]\n",
    "pdt_desc=[]\n",
    "price=[]\n",
    "discount=[]\n",
    "\n",
    "for page in range(1,4):\n",
    "    urls=\"https://www.flipkart.com/search?q=sneakers&otracker=search&otracker1=search&marketplace=FLIPKART&as-show=on&as=off&page=\"+str(page)\n",
    "    driver6.get(urls)\n",
    "    brand_tags=driver6.find_elements_by_xpath(\"//div[@class='_2WkVRV']\")\n",
    "    for j in brand_tags:\n",
    "        brand.append(j.text)\n",
    "    prd_desc_tags=driver6.find_elements_by_class_name('IRpwTa')\n",
    "    for j in prd_desc_tags:\n",
    "        pdt_desc.append(j.text)\n",
    "    price_tags=driver6.find_elements_by_xpath('//div[@class=\"_30jeq3\"]')\n",
    "    for j in price_tags:\n",
    "        price.append(j.text)\n",
    "    discount_tags=driver6.find_elements_by_xpath('//div[@class=\"_3Ay6Sb\"]')\n",
    "    for j in discount_tags:\n",
    "        discount.append(j.text)\n",
    "\n",
    "print(len(brand),len(pdt_desc),len(price),len(discount))\n",
    "print(brand)\n",
    "print(pdt_desc)\n",
    "print(price)\n",
    "print(discount)"
   ]
  },
  {
   "cell_type": "code",
   "execution_count": 229,
   "id": "3264908f",
   "metadata": {},
   "outputs": [
    {
     "name": "stdout",
     "output_type": "stream",
     "text": [
      "['RapidBox', 'HRX by Hrithik Roshan', 'Magnolia', 'Chevit', 'TR', 'BRUTON', 'Magnolia', 'Navtrend', 'KWIK FIT', 'Kraasa', 'URBANBOX', 'Echor', 'corsac', 'World Wear Footwear', 'World Wear Footwear', 'RapidBox', 'D-SNEAKERZ', 'Shoes Bank', 'Magnolia', 'Deals4you', 'aadi', 'BRUTON', 'DUNKASTON', 'Echor', 'CAMPUS', 'luxury fashion', 'SCATCHITE', 'Echor', 'BRUTON', 'Kraasa', 'RapidBox', 'HRX by Hrithik Roshan', 'Kzaara', 'luxury fashion', 'BRUTON', 'CLYMB', 'India hub', 'BRUTON', 'Xtoon', 'Echor', 'Elevarse', 'RAFTAR FASHION', 'Chevit', 'HRX by Hrithik Roshan', 'Kraasa', 'BRUTON', 'BIRDE', 'RapidBox', 'World Wear Footwear', 'Vellinto', 'Chevit', 'Navtrend', 'Numenzo', 'Robbie jones', 'CLYMB', 'Echor', 'ASTEROID', 'ASIAN', 'ORICUM', 'Deals4you', 'Ktiz', 'D-SNEAKERZ', 'PUMA', 'RapidBox', 'AMICO', 'SPARX', 'SWIGGY', 'Echor', 'Echor', 'Zorth', 'ESSENCE', 'Echor', 'T-ROCK', 'Stinson', 'Robbie jones', 'Echor', 'CLYMB', 'LE GREEM', 'DUNKASTON', 'Numenzo', 'Bond Street By Red Tape', 'Magnolia', 'ESSENCE', 'HRX by Hrithik Roshan', 'aadi', 'Bretton', 'Chevit', 'Navtrend', 'Hida', 'Arohi', 'Echor', 'Echor', 'SPARX', 'bluemaker', 'WHITE WALKERS', 'Deals4you', 'WHITEHUB', 'luxury fashion', 'RapidBox', 'Echor']\n",
      "['Sneakers For Men', 'Men White Printed Sneakers Sneakers For Men', 'Sneakers For Men', 'Super Stylish & Trendy Combo Pack of 02 Pairs Sneakers ...', 'Sneakers For Men', 'Modern Trendy Sneakers Shoes Sneakers For Men', 'Sneakers For Men', 'Sneakers For Men', 'Kwik FIT casual sneaker shoes and partywear shoes Casua...', 'Series 7 Sneakers For Men', 'Sneakers Sneakers For Men', \"Echor Men's Sneakers Fashion Lightweight Running Shoes ...\", 'STYLISH MENS BLACK AND WHITE SNEAKER Sneakers For Men', '5011-Latest Collection Stylish Casual Loafer Sneakers S...', 'Sneakers For Men', 'Sneakers For Men', \"Casual , Partywear Sneakers Shoes For Men's And Boys Wh...\", \"White Sneaker For Men's/Boy's Sneakers For Men\", 'Sneakers For Men', 'Sneakers For Men', 'Sneakers For Men', 'Modern & Trendy Collection Combo Pack of 02 Shoes for M...', 'Sneakers For Men', \"Men's Sneakers Fashion Lightweight Running Shoes Tennis...\", 'EXPLORE Sneakers For Men', 'Luxury Fashionable casual shoes Sneakers For Men', 'Sneakers For Men', \"Men's casual shoes sports shoes black sneaker Sneakers ...\", 'Sneaker Sneakers For Men', 'Shark-41 Sneakers For Men', 'Sneakers For Men', 'Sneakers For Men', 'Sneakers For Men', 'Sneakers For Men', 'Combo Pack Of 2 Latest Stylish Casual Shoes for Men Lac...', \"Perfect Sports Shoes for Men's Running ,Cycling & Trekk...\", 'Luxury Fashionable casual sneaker shoes Sneakers For Me...', 'Combo Pack Of 4 Casual Shoes Loafer Shoes Sneakers For ...', \"white Casual shoes,Sneakers for men's Sneakers For Men\", 'Stylish & Trendy Shoe For Men Sneakers Sneakers For Men', 'Sneakers For Men', 'Sneakers For Men', '516 Trendy Star Perfect Sneakers For Men', 'Men White Printed Sneakers Sneakers For Men', 'Casuals, Canvas, Partywear Sneakers For Men', 'Modern & Trendy Collection Combo Pack of 02 Shoes for M...', 'Sports Running Shoes Sneakers For Men', 'Sneakers For Men', 'Latest Collection-1227 Stylish Casual Sports Sneakers F...', 'Casual Sneakrs For Men Sneakers For Men', 'Unique & Perfect Collection Combo Pack of 02 Shoes for ...', 'Sneakers For Men', '411 Casual Sneakers For Men', 'Sneakers For Men', \"Perfect Sports Shoes for Men's Running ,Cycling & Trekk...\", \"Echor Men's Sneakers Fashion Lightweight Running Shoes ...\", 'Sneakers For Men', 'Skypy-31 Walking Shoes,Training Shoes,Sneakers,Loafers,...', 'Casual Sneakers Shoes for Men Pack of 5 Combo(O)-1667-3...', 'Sneakers For Men', 'Sneakers For Men', \"Casual , Partywear Sneakers Shoes For Men's And Boys Wh...\", 'Sneakers For Men', 'Sneakers For Men', 'Sneakers For Men', 'SM-439 Sneakers For Men', 'casual sneakers shoes For Mens Multicolor Combo(MR)-179...', \"Men's Sneakers Fashion Lightweight Running Shoes Tennis...\", \"Men's Sneakers Fashion Lightweight Running Shoes Tennis...\", 'Sneakers For Men', 'Sneakers For Men', \"Men's casual shoes sports shoes black sneaker Sneakers ...\", 'Stylish White Casual Sneakers shoes Men and Boys Sneake...', 'Sneakers For Men', 'Casual Sneakers White Shoes For Men Sneakers For Men', 'Stylish & Trendy Shoe For Men Sneakers Sneakers For Men', 'Sneakers For Men', 'Comfortable & Ultra Light Weight Sneaker Sneakers For M...', 'Sneakers For Men', '411 Casual Sneakers For Men', 'Sneakers For Men', 'White Sneakers Sneakers For Men', 'Sneakers For Men', 'Men White Printed Sneakers Sneakers For Men', 'Sneakers For Men', 'Classy Stylish Ayasa Sneakers Sneakers For Men', 'Perfect & Affordable Combo Pack of 02 Pairs Sneakers Ou...', 'Sneakers For Men', 'Sneakers For Men', 'Sneakers For Men', 'Sneakers For Men', \"Echor Men's Sneakers Fashion Lightweight Running Shoes ...\", 'SM-439 Sneakers For Men', 'casual for men Sneakers For Men', 'Stylish & Trending Outdoor Walking Comfortable Sneakers...', 'Sneakers For Men', 'Sneakers For Men', 'Fashionable sneaker shoes Sneakers For Men', 'Sneakers For Men', \"Men's casual shoes sports shoes black sneaker Sneakers ...\"]\n",
      "['₹630', '₹2,049', '₹327', '₹501', '₹272', '₹209', '₹327', '₹379', '₹349', '₹394', '₹148', '₹433', '₹399', '₹149', '₹190', '₹580', '₹249', '₹248', '₹349', '₹331', '₹269', '₹421', '₹269', '₹424', '₹999', '₹357', '₹348', '₹424', '₹249', '₹394', '₹630', '₹1,849', '₹209', '₹439', '₹449', '₹199', '₹349', '₹449', '₹429', '₹433', '₹349', '₹649', '₹209', '₹2,049', '₹444', '₹486', '₹249', '₹630', '₹209', '₹549', '₹373', '₹379', '₹424', '₹424', '₹199', '₹433', '₹424', '₹498', '₹885', '₹331', '₹398', '₹334', '₹3,262', '₹580', '₹449', '₹799', '₹580', '₹424', '₹424', '₹397', '₹349', '₹424', '₹349', '₹209', '₹424', '₹433', '₹534', '₹399', '₹309', '₹424', '₹999', '₹307', '₹349', '₹2,049', '₹269', '₹201', '₹365', '₹379', '₹566', '₹395', '₹449', '₹433', '₹799', '₹424', '₹549', '₹331', '₹429', '₹449', '₹630', '₹424']\n",
      "['37% off', '46% off', '67% off', '69% off', '73% off', '84% off', '67% off', '81% off', '83% off', '61% off', '85% off', '71% off', '73% off', '70% off', '62% off', '42% off', '62% off', '75% off', '65% off', '78% off', '73% off', '83% off', '82% off', '58% off', '47% off', '73% off', '65% off', '72% off', '81% off', '61% off', '37% off', '49% off', '79% off', '78% off', '82% off', '80% off', '83% off', '87% off', '71% off', '71% off', '65% off', '35% off', '74% off', '46% off', '56% off', '81% off', '50% off', '37% off', '58% off', '58% off', '75% off', '81% off', '79% off', '58% off', '80% off', '71% off', '79% off', '38% off', '65% off', '78% off', '60% off', '67% off', '64% off', '42% off', '70% off', '6% off', '42% off', '58% off', '58% off', '60% off', '65% off', '72% off', '65% off', '58% off', '58% off', '71% off', '64% off', '60% off', '79% off', '79% off', '76% off', '69% off', '65% off', '46% off', '73% off', '90% off', '80% off', '81% off', '43% off', '60% off', '70% off', '71% off', '6% off', '58% off', '54% off', '78% off', '57% off', '78% off', '37% off', '72% off']\n"
     ]
    }
   ],
   "source": [
    "brand_100=brand[0:100]\n",
    "pdt_desc_100=pdt_desc[0:100]\n",
    "price_100=price[0:100]\n",
    "discount_100=discount[0:100]\n",
    "print(brand_100)\n",
    "print(pdt_desc_100)\n",
    "print(price_100)\n",
    "print(discount_100)"
   ]
  },
  {
   "cell_type": "code",
   "execution_count": 231,
   "id": "294fbc96",
   "metadata": {},
   "outputs": [
    {
     "data": {
      "text/html": [
       "<div>\n",
       "<style scoped>\n",
       "    .dataframe tbody tr th:only-of-type {\n",
       "        vertical-align: middle;\n",
       "    }\n",
       "\n",
       "    .dataframe tbody tr th {\n",
       "        vertical-align: top;\n",
       "    }\n",
       "\n",
       "    .dataframe thead th {\n",
       "        text-align: right;\n",
       "    }\n",
       "</style>\n",
       "<table border=\"1\" class=\"dataframe\">\n",
       "  <thead>\n",
       "    <tr style=\"text-align: right;\">\n",
       "      <th></th>\n",
       "      <th>Brand</th>\n",
       "      <th>Product Description</th>\n",
       "      <th>Price</th>\n",
       "      <th>Discount</th>\n",
       "    </tr>\n",
       "  </thead>\n",
       "  <tbody>\n",
       "    <tr>\n",
       "      <th>1</th>\n",
       "      <td>RapidBox</td>\n",
       "      <td>Sneakers For Men</td>\n",
       "      <td>₹630</td>\n",
       "      <td>37% off</td>\n",
       "    </tr>\n",
       "    <tr>\n",
       "      <th>2</th>\n",
       "      <td>HRX by Hrithik Roshan</td>\n",
       "      <td>Men White Printed Sneakers Sneakers For Men</td>\n",
       "      <td>₹2,049</td>\n",
       "      <td>46% off</td>\n",
       "    </tr>\n",
       "    <tr>\n",
       "      <th>3</th>\n",
       "      <td>Magnolia</td>\n",
       "      <td>Sneakers For Men</td>\n",
       "      <td>₹327</td>\n",
       "      <td>67% off</td>\n",
       "    </tr>\n",
       "    <tr>\n",
       "      <th>4</th>\n",
       "      <td>Chevit</td>\n",
       "      <td>Super Stylish &amp; Trendy Combo Pack of 02 Pairs ...</td>\n",
       "      <td>₹501</td>\n",
       "      <td>69% off</td>\n",
       "    </tr>\n",
       "    <tr>\n",
       "      <th>5</th>\n",
       "      <td>TR</td>\n",
       "      <td>Sneakers For Men</td>\n",
       "      <td>₹272</td>\n",
       "      <td>73% off</td>\n",
       "    </tr>\n",
       "    <tr>\n",
       "      <th>...</th>\n",
       "      <td>...</td>\n",
       "      <td>...</td>\n",
       "      <td>...</td>\n",
       "      <td>...</td>\n",
       "    </tr>\n",
       "    <tr>\n",
       "      <th>96</th>\n",
       "      <td>Deals4you</td>\n",
       "      <td>Sneakers For Men</td>\n",
       "      <td>₹331</td>\n",
       "      <td>78% off</td>\n",
       "    </tr>\n",
       "    <tr>\n",
       "      <th>97</th>\n",
       "      <td>WHITEHUB</td>\n",
       "      <td>Sneakers For Men</td>\n",
       "      <td>₹429</td>\n",
       "      <td>57% off</td>\n",
       "    </tr>\n",
       "    <tr>\n",
       "      <th>98</th>\n",
       "      <td>luxury fashion</td>\n",
       "      <td>Fashionable sneaker shoes Sneakers For Men</td>\n",
       "      <td>₹449</td>\n",
       "      <td>78% off</td>\n",
       "    </tr>\n",
       "    <tr>\n",
       "      <th>99</th>\n",
       "      <td>RapidBox</td>\n",
       "      <td>Sneakers For Men</td>\n",
       "      <td>₹630</td>\n",
       "      <td>37% off</td>\n",
       "    </tr>\n",
       "    <tr>\n",
       "      <th>100</th>\n",
       "      <td>Echor</td>\n",
       "      <td>Men's casual shoes sports shoes black sneaker ...</td>\n",
       "      <td>₹424</td>\n",
       "      <td>72% off</td>\n",
       "    </tr>\n",
       "  </tbody>\n",
       "</table>\n",
       "<p>100 rows × 4 columns</p>\n",
       "</div>"
      ],
      "text/plain": [
       "                     Brand                                Product Description  \\\n",
       "1                 RapidBox                                   Sneakers For Men   \n",
       "2    HRX by Hrithik Roshan        Men White Printed Sneakers Sneakers For Men   \n",
       "3                 Magnolia                                   Sneakers For Men   \n",
       "4                   Chevit  Super Stylish & Trendy Combo Pack of 02 Pairs ...   \n",
       "5                       TR                                   Sneakers For Men   \n",
       "..                     ...                                                ...   \n",
       "96               Deals4you                                   Sneakers For Men   \n",
       "97                WHITEHUB                                   Sneakers For Men   \n",
       "98          luxury fashion         Fashionable sneaker shoes Sneakers For Men   \n",
       "99                RapidBox                                   Sneakers For Men   \n",
       "100                  Echor  Men's casual shoes sports shoes black sneaker ...   \n",
       "\n",
       "      Price Discount  \n",
       "1      ₹630  37% off  \n",
       "2    ₹2,049  46% off  \n",
       "3      ₹327  67% off  \n",
       "4      ₹501  69% off  \n",
       "5      ₹272  73% off  \n",
       "..      ...      ...  \n",
       "96     ₹331  78% off  \n",
       "97     ₹429  57% off  \n",
       "98     ₹449  78% off  \n",
       "99     ₹630  37% off  \n",
       "100    ₹424  72% off  \n",
       "\n",
       "[100 rows x 4 columns]"
      ]
     },
     "execution_count": 231,
     "metadata": {},
     "output_type": "execute_result"
    }
   ],
   "source": [
    "df6=pd.DataFrame({\"Brand\":brand_100,\"Product Description\":pdt_desc_100,\"Price\":price_100,\"Discount\":discount_100})\n",
    "df6.index=np.arange(1,len(df6)+1)\n",
    "df6"
   ]
  },
  {
   "cell_type": "markdown",
   "id": "e0a6ac48",
   "metadata": {},
   "source": [
    "# Q7:"
   ]
  },
  {
   "cell_type": "code",
   "execution_count": 239,
   "id": "45d2c2cd",
   "metadata": {},
   "outputs": [],
   "source": [
    "driver7=webdriver.Chrome(\"chromedriver.exe\")"
   ]
  },
  {
   "cell_type": "code",
   "execution_count": 240,
   "id": "6a36e22b",
   "metadata": {},
   "outputs": [],
   "source": [
    "url7=\"https://www.myntra.com/shoes\"\n",
    "driver7.get(url7)"
   ]
  },
  {
   "cell_type": "code",
   "execution_count": 246,
   "id": "96b9effb",
   "metadata": {},
   "outputs": [
    {
     "data": {
      "text/plain": [
       "<selenium.webdriver.remote.webelement.WebElement (session=\"63b59b107af355110888e8d88ab72820\", element=\"fa07be46-411e-4811-878b-15c934d53640\")>"
      ]
     },
     "execution_count": 246,
     "metadata": {},
     "output_type": "execute_result"
    }
   ],
   "source": [
    "price_filter=driver7.find_element_by_xpath(\"/html/body/div[2]/div/div[1]/main/div[3]/div[1]/section/div/div[5]/ul/li[2]/label/div\")\n",
    "price_filter"
   ]
  },
  {
   "cell_type": "code",
   "execution_count": 247,
   "id": "6ebd9827",
   "metadata": {},
   "outputs": [],
   "source": [
    "price_filter.click()"
   ]
  },
  {
   "cell_type": "code",
   "execution_count": 243,
   "id": "77102623",
   "metadata": {},
   "outputs": [
    {
     "data": {
      "text/plain": [
       "<selenium.webdriver.remote.webelement.WebElement (session=\"63b59b107af355110888e8d88ab72820\", element=\"3f6a61cb-da16-4d1c-a121-5b7da1ea6b86\")>"
      ]
     },
     "execution_count": 243,
     "metadata": {},
     "output_type": "execute_result"
    }
   ],
   "source": [
    "color_filter=driver7.find_element_by_xpath(\"/html/body/div[2]/div/div[1]/main/div[3]/div[1]/section/div/div[6]/ul/li[1]/label/div\")\n",
    "color_filter"
   ]
  },
  {
   "cell_type": "code",
   "execution_count": 244,
   "id": "cff7925a",
   "metadata": {},
   "outputs": [],
   "source": [
    "color_filter.click()"
   ]
  },
  {
   "cell_type": "code",
   "execution_count": 248,
   "id": "8ff99f99",
   "metadata": {},
   "outputs": [
    {
     "name": "stdout",
     "output_type": "stream",
     "text": [
      "100 100 100\n",
      "['Nike', 'ALDO', 'ALDO', 'Puma', 'ALDO', 'Puma', 'Puma', 'Hush Puppies', 'Puma', 'Puma', 'Nike', 'Puma', 'Hush Puppies', 'Hush Puppies', 'Puma', 'PUMA Motorsport', 'J.FONTINI', 'MANGO', 'Hush Puppies', 'Clarks', 'Saint G', 'Hush Puppies', 'Bugatti', 'ASICS', 'ALDO', 'Geox', 'TRIBAN By Decathlon', 'Clarks', 'ROSSO BRUNELLO', 'Saint G', 'J.FONTINI', 'FILA', 'J.FONTINI', 'J.FONTINI', 'Geox', 'Tommy Hilfiger', 'DAVINCHI', 'ALDO', 'Heel & Buckle London', 'Clarks', 'Saint G', 'J.FONTINI', 'Saint G', 'FILA', 'Sole To Soul', 'Sole To Soul', 'Sole To Soul', 'ROSSO BRUNELLO', 'Sole To Soul', 'ROSSO BRUNELLO', 'ROSSO BRUNELLO', 'ROSSO BRUNELLO', 'New Balance', 'Columbia', 'Columbia', 'Columbia', 'Geox', 'Bugatti', 'Cole Haan', 'Bugatti', 'Cole Haan', 'Columbia', 'Cobblerz', 'Xtep', 'Saint G', 'Geox', 'Geox', 'RARE RABBIT', 'Geox', 'Royal Enfield', 'ASICS', 'Cole Haan', 'Cole Haan', 'Geox', 'J.FONTINI', 'Cole Haan', 'Pavers England', 'Saint G', 'Saint G', 'Saint G', 'Saint G', 'Sole To Soul', 'Bugatti', 'DAVINCHI', 'DAVINCHI', 'J.FONTINI', 'DAVINCHI', 'J.FONTINI', 'Saint G', 'Saint G', 'Saint G', 'DAVINCHI', 'Saint G', 'DAVINCHI', 'Saint G', 'Saint G', 'Saint G', 'Saint G', 'Saint G', 'Saint G']\n",
      "['Men Winflo 7 Running Shoes', 'Men Printed Sneakers', 'Men Leather Driving Shoes', 'Electrify Nitro Running Shoes', 'Men Woven Design Sneakers', 'Eternity Nitro Running Shoes', 'Men Jamming 2.0 Running Shoes', 'Men Solid Leather Formal Slip-Ons', 'Men Training or Gym Shoes', 'Women Eternity NITRO Shoes', 'Men Air Max Dawn Sneakers', 'Women Velocity NITRO Runners', 'Men Formal Derbys', 'Men Solid Leather Formal Slip-Ons', 'Men FUSE Training Shoes', 'Unisex Ferrari Drift8 Sneakers', 'Men Black Leather Loafers', 'Women Solid Sneakers', 'Men Solid Leather Formal Derbys', 'Men Solid Formal Leather Derbys', 'Women Leather Block Heels', 'Men Solid Formal Slip-Ons', 'Men Textured Leather High-Top Flat Boots', 'Women Running Shoes', 'Wedge Sandals', 'Women Leather Pumps', 'Unisex Training or Gym Shoes', 'Men Leather Derbys', 'PU Block Pumps with Buckles', 'Men Mid-Top Chelsea Boots', 'Men Solid Loafers', 'Men Printed Trekking Shoes', 'Men Textured Leather Loafers', 'Men Textured Leather Loafers', 'Men Formal Derbys', 'Men Cleated Leather Sneakers', 'Men Textured Formal Leather Loafers', 'Leather Slim Heels', 'Men Formal Leather Derby', 'Men Solid Leather Formal Loafers', 'Striped Suede Flatform Heeled Boots', 'Men Leather Formal Loafers', 'Leather Party Block Mules', 'Women Leather Sneakers', 'Women Block Heeled Boots', 'High-Top Block Heeled Boots', 'Suede High-Top Block Heeled Boots', 'Printed PU Kitten Sandals', 'High-Top Platform Heeled Boots', 'PU Block Pumps with Buckles', 'PU Block Pumps with Buckles', 'Textured PU Block Pumps', 'Women Woven Running Shoes', 'PEAKFREAK XCRSN Trekking Shoe', 'Women REDMOND V2 TrekkingShoe', 'PEAKFREAK OUTDRY Trekking Shoe', 'Men Leather Driving Shoes', 'Men Solid Formal Oxfords', 'Men Wingtip Oxford Sneakers', 'Men Solid Leather Formal Derbys', 'Men GENERATION ZEROGRAND STITCHLITE', 'Men FACET OUTDRY Trekking Shoe', 'Men Textured Leather Formal Derbys', 'Men Running Shoes', 'Women Leather Mules', 'Women Solid Leather Pumps', 'Women Solid Leather Pumps', 'Men Leather Flat Boots', 'Men Leather Loafers', 'Cabo WP Riding Boots', 'Men Colourblocked PU Sneakers', 'Women Open Toe Flats', 'Women Sneakers', 'Women Solid Leather Ballerinas', 'Men Leather Formal Loafers', 'Women Solid Leather Ballerinas', 'Men Leather Driving Shoes', 'Leather Heeled Knee High Boots', 'Women Leather Heeled Boots', 'Women Leather Heeled Boots', 'Women Leather Knee High Boots', 'Platform Peep Toes with Buckles', 'Block Heeled Boots', 'Ustraa black', 'Men Formal Leather Slip-Ons', 'Men Solid Leather Formal Loafers', 'Solid Slip On Shoes', 'Men Textured Leather Formal Loafers', 'Leather Wedge Heeled Boots with Buckles', 'Leather High-Top Block Heeled Boots', 'Leather Kitten Heeled Boots', 'Men Solid Leather Formal Derbys', 'Printed Flatform Heeled Boots with Buckles', 'Men Textured Formal Leather Loafers', 'Leather Platform Heeled Boots', 'Leather Block Heeled Boots with Bows', 'Leather High-Top Heeled Boots', 'Suede Party High-Top Block Heeled Boots', 'Suede High-Top Flatform Heeled Boots', 'Leather Boots with Buckles']\n",
      "['Rs. 7995', 'Rs. 9099Rs. 12999(30% OFF)', 'Rs. 12999', 'Rs. 9999', 'Rs. 13999', 'Rs. 12999', 'Rs. 12999', 'Rs. 7649Rs. 8999(15% OFF)', 'Rs. 7999', 'Rs. 9099Rs. 12999(30% OFF)', 'Rs. 10995', 'Rs. 7149Rs. 10999(35% OFF)', 'Rs. 8499Rs. 9999(15% OFF)', 'Rs. 8499Rs. 9999(15% OFF)', 'Rs. 7999', 'Rs. 7999', 'Rs. 8490', 'Rs. 7192Rs. 8990(20% OFF)', 'Rs. 8499Rs. 9999(15% OFF)', 'Rs. 9999', 'Rs. 7480Rs. 8500(12% OFF)', 'Rs. 8499Rs. 9999(15% OFF)', 'Rs. 8399Rs. 11999(30% OFF)', 'Rs. 7999', 'Rs. 7999', 'Rs. 8999', 'Rs. 8029Rs. 10999(27% OFF)', 'Rs. 7499', 'Rs. 7499', 'Rs. 10500Rs. 10900(Rs. 400 OFF)', 'Rs. 8990', 'Rs. 11599', 'Rs. 8490', 'Rs. 7990', 'Rs. 9990', 'Rs. 7739Rs. 8599(10% OFF)', 'Rs. 8990', 'Rs. 8399Rs. 11999(30% OFF)', 'Rs. 7990', 'Rs. 7999', 'Rs. 8415Rs. 9900(15% OFF)', 'Rs. 7490', 'Rs. 7380Rs. 8200(10% OFF)', 'Rs. 8499', 'Rs. 8900', 'Rs. 7900', 'Rs. 9500', 'Rs. 8499', 'Rs. 8900', 'Rs. 7999', 'Rs. 7999', 'Rs. 7999', 'Rs. 7149Rs. 12999(45% OFF)', 'Rs. 9999', 'Rs. 7999', 'Rs. 9999', 'Rs. 9499', 'Rs. 8999', 'Rs. 12999', 'Rs. 9499', 'Rs. 11999', 'Rs. 12999', 'Rs. 8999Rs. 9999(Rs. 1000 OFF)', 'Rs. 7699', 'Rs. 7216Rs. 8200(12% OFF)', 'Rs. 7999', 'Rs. 10990', 'Rs. 8099Rs. 9999(19% OFF)', 'Rs. 9999', 'Rs. 8500', 'Rs. 9999', 'Rs. 11999', 'Rs. 12999', 'Rs. 8999', 'Rs. 7490', 'Rs. 13999', 'Rs. 7499', 'Rs. 12325Rs. 14500(15% OFF)', 'Rs. 12325Rs. 14500(15% OFF)', 'Rs. 14025Rs. 16500(15% OFF)', 'Rs. 11815Rs. 13900(15% OFF)', 'Rs. 7690', 'Rs. 7699Rs. 10999(30% OFF)', 'Rs. 8990', 'Rs. 8990', 'Rs. 9990', 'Rs. 7990', 'Rs. 8990', 'Rs. 12665Rs. 14900(15% OFF)', 'Rs. 14025Rs. 16500(15% OFF)', 'Rs. 8415Rs. 9900(15% OFF)', 'Rs. 9990', 'Rs. 8415Rs. 9900(15% OFF)', 'Rs. 8990', 'Rs. 9265Rs. 10900(15% OFF)', 'Rs. 11815Rs. 13900(15% OFF)', 'Rs. 10625Rs. 12500(15% OFF)', 'Rs. 8925Rs. 10500(15% OFF)', 'Rs. 11475Rs. 13500(15% OFF)', 'Rs. 8925Rs. 10500(15% OFF)']\n"
     ]
    }
   ],
   "source": [
    "brand=[]\n",
    "pdt_desc=[]\n",
    "price=[]\n",
    "\n",
    "for page in range(1,3):\n",
    "    urls=\"https://www.myntra.com/shoes?f=Color%3ABlack_36454f&p=\"+str(page)+\"&rf=Price%3A7134.0_14089.0_7134.0%20TO%2014089.0\"\n",
    "    driver7.get(urls)\n",
    "    brand_tags=driver7.find_elements_by_xpath(\"//h3[@class='product-brand']\")\n",
    "    for j in brand_tags:\n",
    "        brand.append(j.text)\n",
    "    prd_desc_tags=driver7.find_elements_by_class_name('product-product')\n",
    "    for j in prd_desc_tags:\n",
    "        pdt_desc.append(j.text)\n",
    "    price_tags=driver7.find_elements_by_xpath('//div[@class=\"product-price\"]')\n",
    "    for j in price_tags:\n",
    "        price.append(j.text)\n",
    "        \n",
    "print(len(brand),len(pdt_desc),len(price))\n",
    "print(brand)\n",
    "print(pdt_desc)\n",
    "print(price)"
   ]
  },
  {
   "cell_type": "code",
   "execution_count": 249,
   "id": "709a06a9",
   "metadata": {},
   "outputs": [
    {
     "data": {
      "text/html": [
       "<div>\n",
       "<style scoped>\n",
       "    .dataframe tbody tr th:only-of-type {\n",
       "        vertical-align: middle;\n",
       "    }\n",
       "\n",
       "    .dataframe tbody tr th {\n",
       "        vertical-align: top;\n",
       "    }\n",
       "\n",
       "    .dataframe thead th {\n",
       "        text-align: right;\n",
       "    }\n",
       "</style>\n",
       "<table border=\"1\" class=\"dataframe\">\n",
       "  <thead>\n",
       "    <tr style=\"text-align: right;\">\n",
       "      <th></th>\n",
       "      <th>Brand</th>\n",
       "      <th>Product Description</th>\n",
       "      <th>Price</th>\n",
       "    </tr>\n",
       "  </thead>\n",
       "  <tbody>\n",
       "    <tr>\n",
       "      <th>1</th>\n",
       "      <td>Nike</td>\n",
       "      <td>Men Winflo 7 Running Shoes</td>\n",
       "      <td>Rs. 7995</td>\n",
       "    </tr>\n",
       "    <tr>\n",
       "      <th>2</th>\n",
       "      <td>ALDO</td>\n",
       "      <td>Men Printed Sneakers</td>\n",
       "      <td>Rs. 9099Rs. 12999(30% OFF)</td>\n",
       "    </tr>\n",
       "    <tr>\n",
       "      <th>3</th>\n",
       "      <td>ALDO</td>\n",
       "      <td>Men Leather Driving Shoes</td>\n",
       "      <td>Rs. 12999</td>\n",
       "    </tr>\n",
       "    <tr>\n",
       "      <th>4</th>\n",
       "      <td>Puma</td>\n",
       "      <td>Electrify Nitro Running Shoes</td>\n",
       "      <td>Rs. 9999</td>\n",
       "    </tr>\n",
       "    <tr>\n",
       "      <th>5</th>\n",
       "      <td>ALDO</td>\n",
       "      <td>Men Woven Design Sneakers</td>\n",
       "      <td>Rs. 13999</td>\n",
       "    </tr>\n",
       "    <tr>\n",
       "      <th>...</th>\n",
       "      <td>...</td>\n",
       "      <td>...</td>\n",
       "      <td>...</td>\n",
       "    </tr>\n",
       "    <tr>\n",
       "      <th>96</th>\n",
       "      <td>Saint G</td>\n",
       "      <td>Leather Block Heeled Boots with Bows</td>\n",
       "      <td>Rs. 11815Rs. 13900(15% OFF)</td>\n",
       "    </tr>\n",
       "    <tr>\n",
       "      <th>97</th>\n",
       "      <td>Saint G</td>\n",
       "      <td>Leather High-Top Heeled Boots</td>\n",
       "      <td>Rs. 10625Rs. 12500(15% OFF)</td>\n",
       "    </tr>\n",
       "    <tr>\n",
       "      <th>98</th>\n",
       "      <td>Saint G</td>\n",
       "      <td>Suede Party High-Top Block Heeled Boots</td>\n",
       "      <td>Rs. 8925Rs. 10500(15% OFF)</td>\n",
       "    </tr>\n",
       "    <tr>\n",
       "      <th>99</th>\n",
       "      <td>Saint G</td>\n",
       "      <td>Suede High-Top Flatform Heeled Boots</td>\n",
       "      <td>Rs. 11475Rs. 13500(15% OFF)</td>\n",
       "    </tr>\n",
       "    <tr>\n",
       "      <th>100</th>\n",
       "      <td>Saint G</td>\n",
       "      <td>Leather Boots with Buckles</td>\n",
       "      <td>Rs. 8925Rs. 10500(15% OFF)</td>\n",
       "    </tr>\n",
       "  </tbody>\n",
       "</table>\n",
       "<p>100 rows × 3 columns</p>\n",
       "</div>"
      ],
      "text/plain": [
       "       Brand                      Product Description  \\\n",
       "1       Nike               Men Winflo 7 Running Shoes   \n",
       "2       ALDO                     Men Printed Sneakers   \n",
       "3       ALDO                Men Leather Driving Shoes   \n",
       "4       Puma            Electrify Nitro Running Shoes   \n",
       "5       ALDO                Men Woven Design Sneakers   \n",
       "..       ...                                      ...   \n",
       "96   Saint G     Leather Block Heeled Boots with Bows   \n",
       "97   Saint G            Leather High-Top Heeled Boots   \n",
       "98   Saint G  Suede Party High-Top Block Heeled Boots   \n",
       "99   Saint G     Suede High-Top Flatform Heeled Boots   \n",
       "100  Saint G               Leather Boots with Buckles   \n",
       "\n",
       "                           Price  \n",
       "1                       Rs. 7995  \n",
       "2     Rs. 9099Rs. 12999(30% OFF)  \n",
       "3                      Rs. 12999  \n",
       "4                       Rs. 9999  \n",
       "5                      Rs. 13999  \n",
       "..                           ...  \n",
       "96   Rs. 11815Rs. 13900(15% OFF)  \n",
       "97   Rs. 10625Rs. 12500(15% OFF)  \n",
       "98    Rs. 8925Rs. 10500(15% OFF)  \n",
       "99   Rs. 11475Rs. 13500(15% OFF)  \n",
       "100   Rs. 8925Rs. 10500(15% OFF)  \n",
       "\n",
       "[100 rows x 3 columns]"
      ]
     },
     "execution_count": 249,
     "metadata": {},
     "output_type": "execute_result"
    }
   ],
   "source": [
    "df7=pd.DataFrame({\"Brand\":brand,\"Product Description\":pdt_desc,\"Price\":price})\n",
    "df7.index=np.arange(1,len(df7)+1)\n",
    "df7"
   ]
  },
  {
   "cell_type": "markdown",
   "id": "7ce114c2",
   "metadata": {},
   "source": [
    "# Q8:"
   ]
  },
  {
   "cell_type": "code",
   "execution_count": 463,
   "id": "a48381c7",
   "metadata": {},
   "outputs": [],
   "source": [
    "driver8=webdriver.Chrome(\"chromedriver.exe\")"
   ]
  },
  {
   "cell_type": "code",
   "execution_count": 464,
   "id": "8ecc611a",
   "metadata": {},
   "outputs": [],
   "source": [
    "url8=\"https://www.amazon.in/\"\n",
    "driver8.get(url8)"
   ]
  },
  {
   "cell_type": "code",
   "execution_count": 465,
   "id": "5c312c09",
   "metadata": {},
   "outputs": [
    {
     "data": {
      "text/plain": [
       "<selenium.webdriver.remote.webelement.WebElement (session=\"6d1d3fd85fac4fe3d649ad15fd878dd2\", element=\"e6242fac-7820-4ffa-9dd9-934ec8b3e67c\")>"
      ]
     },
     "execution_count": 465,
     "metadata": {},
     "output_type": "execute_result"
    }
   ],
   "source": [
    "search=driver8.find_element_by_xpath(\"/html/body/div[1]/header/div/div[1]/div[2]/div/form/div[2]/div[1]/input\")\n",
    "search"
   ]
  },
  {
   "cell_type": "code",
   "execution_count": 466,
   "id": "4f554a31",
   "metadata": {},
   "outputs": [],
   "source": [
    "search.send_keys(\"Laptop\")"
   ]
  },
  {
   "cell_type": "code",
   "execution_count": 467,
   "id": "3bd32476",
   "metadata": {},
   "outputs": [
    {
     "data": {
      "text/plain": [
       "<selenium.webdriver.remote.webelement.WebElement (session=\"6d1d3fd85fac4fe3d649ad15fd878dd2\", element=\"6d488d4f-f86d-4a30-b521-ba97dac56350\")>"
      ]
     },
     "execution_count": 467,
     "metadata": {},
     "output_type": "execute_result"
    }
   ],
   "source": [
    "search_btn=driver8.find_element_by_xpath(\"/html/body/div[1]/header/div/div[1]/div[2]/div/form/div[3]/div/span/input\")\n",
    "search_btn"
   ]
  },
  {
   "cell_type": "code",
   "execution_count": 468,
   "id": "bf7b71eb",
   "metadata": {},
   "outputs": [],
   "source": [
    "search_btn.click()"
   ]
  },
  {
   "cell_type": "code",
   "execution_count": 469,
   "id": "38576a95",
   "metadata": {},
   "outputs": [],
   "source": [
    "chk_box1=driver8.find_element_by_xpath(\"/html/body/div[1]/div[2]/div[1]/div[2]/div/div[3]/span/div[1]/div/div/div[5]/ul[4]/li[13]/span/a/div/label/i\")\n",
    "chk_box1.click()"
   ]
  },
  {
   "cell_type": "code",
   "execution_count": 472,
   "id": "772908fc",
   "metadata": {},
   "outputs": [
    {
     "data": {
      "text/plain": [
       "['ASUS TUF Gaming F15 (2021), 15.6\" (39.62 cms) FHD 144Hz, Intel Core i7-11600H 11th Gen, 4GB RTX 3050 Graphics, Gaming Laptop (16GB/512GB SSD/Windows 10/Office 2019/Gray/2.3 Kg), FX566HCB-HN299TS',\n",
       " 'ASUS VivoBook 14 (2021), 14-inch (35.56 cms) FHD, Intel Core i7-1065G7 10th Gen, Thin and Light Laptop (16GB/512GB SSD/Integrated Graphics/Office 2021/Windows 11/Silver/1.6 Kg), X415JA-EK701WS',\n",
       " 'ASUS VivoBook 14 (2021), 14-inch (35.56 cms) FHD, Intel Core i7-1065G7 10th Gen, Thin and Light Laptop (16GB/512GB SSD/Integrated Graphics/Office 2021/Windows 11/Silver/1.6 Kg), X415JA-EK701WS',\n",
       " 'Mi Notebook Ultra 3.2K Resolution Display Intel Core i7-11370H 11th Gen 15.6-inch(39.62 cm) Thin and Light Laptop (16GB/512GB SSD/Iris Xe Graphic/Win 10/MS Office/Backlit KB/Fingerprint Sensor/1.7Kg)',\n",
       " 'HP Pavilion x360 11th Gen Intel Core i7 14 inches FHD, IPS, Convertible Laptop (16 GB RAM/512GB SSD, B&O/Win 11 Home/Backlit keyboard/FPR/ Alexa-Built in/MS Office/Natural Silver/1.52 Kg) -14-dy1013TU',\n",
       " 'ASUS TUF Gaming F15 (2021), 15.6\" (39.62 cms) FHD 144Hz, Intel Core i7-11600H 11th Gen, 4GB RTX 3050 Graphics, Gaming Laptop (16GB/512GB SSD/Windows 10/Office 2019/Gray/2.3 Kg), FX566HCB-HN299TS',\n",
       " 'Acer Predator Helios 300 Gaming Laptop 11th Gen Intel Core i9-11900H 15.6\" (39.62cms) FHD IPS Display (16 GB/1TB SSD/Win 11 Home/6 GB Graphics/NVIDIA GeForce RTX 3060/300 Hz, Black, 2.3 kg) PH315-54',\n",
       " 'Lenovo ThinkBook 13s Intel 11th Gen Core i7 13.3\"(33.78 cm) WQXGA IPS 300 nits 100% sRGB Dolby Vision Thin and Light Laptop (16GB/512GB SSD/Windows 10/MS Office/FPR/Mineral Grey/1.26 Kg), 20V9A05FIH',\n",
       " 'ASUS TUF Dash F15 (2021), 15.6\" (39.62 cms) FHD 240Hz/3ms, Intel Core i7-11370H 11th Gen, 8GB RTX 3070 Graphics, Gaming Laptop (16GB/1TB SSD/Office 2019/Windows 10/Gray/2 Kg), FX516PRZ-AZ122TS',\n",
       " 'ASUS VivoBook K15 OLED (2021), 15.6-inch (39.62 cms) FHD OLED, Intel Core i7-1165G7 11th Gen, Thin and Light Laptop (16GB/512GB SSD/Iris Xe Graphics/Office 2021/Windows 11/Silver/1.8 Kg) K513EA-L712WS']"
      ]
     },
     "execution_count": 472,
     "metadata": {},
     "output_type": "execute_result"
    }
   ],
   "source": [
    "# Extracting titles\n",
    "\n",
    "title=[]\n",
    "\n",
    "title_tag=driver8.find_elements_by_xpath(\"//span[@class='a-size-medium a-color-base a-text-normal']\")\n",
    "for i in title_tag:\n",
    "    title.append(i.text)\n",
    "    \n",
    "title_10=title[0:10]\n",
    "title_10"
   ]
  },
  {
   "cell_type": "code",
   "execution_count": 503,
   "id": "b248b7c2",
   "metadata": {},
   "outputs": [
    {
     "name": "stdout",
     "output_type": "stream",
     "text": [
      "[<selenium.webdriver.remote.webelement.WebElement (session=\"6d1d3fd85fac4fe3d649ad15fd878dd2\", element=\"cc06b12d-0f27-4270-9ab8-8bfe50d63a8e\")>, <selenium.webdriver.remote.webelement.WebElement (session=\"6d1d3fd85fac4fe3d649ad15fd878dd2\", element=\"71b8722f-a60c-4a8c-a430-2d67e150d51d\")>, <selenium.webdriver.remote.webelement.WebElement (session=\"6d1d3fd85fac4fe3d649ad15fd878dd2\", element=\"a293e6f2-ead9-4fec-8482-e84d4fed504b\")>, <selenium.webdriver.remote.webelement.WebElement (session=\"6d1d3fd85fac4fe3d649ad15fd878dd2\", element=\"07cb610b-0f37-4ee5-a5d4-65a73169c129\")>, <selenium.webdriver.remote.webelement.WebElement (session=\"6d1d3fd85fac4fe3d649ad15fd878dd2\", element=\"b542ceb4-d1f6-48de-b52f-88f81c48a599\")>, <selenium.webdriver.remote.webelement.WebElement (session=\"6d1d3fd85fac4fe3d649ad15fd878dd2\", element=\"cd125ad0-75ba-4fce-a02d-00d24cdb45d3\")>, <selenium.webdriver.remote.webelement.WebElement (session=\"6d1d3fd85fac4fe3d649ad15fd878dd2\", element=\"651f26e2-7d23-4488-ae5e-0b6d52df4dc3\")>, <selenium.webdriver.remote.webelement.WebElement (session=\"6d1d3fd85fac4fe3d649ad15fd878dd2\", element=\"f4fa3821-1cbd-4645-be2e-21796fe678ad\")>, <selenium.webdriver.remote.webelement.WebElement (session=\"6d1d3fd85fac4fe3d649ad15fd878dd2\", element=\"1333e864-5dcd-4427-af71-23c0b07e7ec1\")>, <selenium.webdriver.remote.webelement.WebElement (session=\"6d1d3fd85fac4fe3d649ad15fd878dd2\", element=\"eb9492e5-d117-46b2-a1d4-89db52d062cb\")>, <selenium.webdriver.remote.webelement.WebElement (session=\"6d1d3fd85fac4fe3d649ad15fd878dd2\", element=\"8c6bdca6-f07f-4282-a66f-2e141e847189\")>, <selenium.webdriver.remote.webelement.WebElement (session=\"6d1d3fd85fac4fe3d649ad15fd878dd2\", element=\"ceeb4912-f0fa-4090-adee-d1acb50c7a6c\")>, <selenium.webdriver.remote.webelement.WebElement (session=\"6d1d3fd85fac4fe3d649ad15fd878dd2\", element=\"0dbcc553-25a5-4a33-9907-e6df703566ad\")>, <selenium.webdriver.remote.webelement.WebElement (session=\"6d1d3fd85fac4fe3d649ad15fd878dd2\", element=\"a55e9ef6-6312-4931-aaf8-7805d0f6bed7\")>, <selenium.webdriver.remote.webelement.WebElement (session=\"6d1d3fd85fac4fe3d649ad15fd878dd2\", element=\"70dc123a-01fc-4784-8bb8-1bc15cd20872\")>, <selenium.webdriver.remote.webelement.WebElement (session=\"6d1d3fd85fac4fe3d649ad15fd878dd2\", element=\"83817e24-3e92-4bce-937a-b5d1cce8dd90\")>, <selenium.webdriver.remote.webelement.WebElement (session=\"6d1d3fd85fac4fe3d649ad15fd878dd2\", element=\"094d6fa8-1025-4220-bb3d-ff1e65d0e5ae\")>, <selenium.webdriver.remote.webelement.WebElement (session=\"6d1d3fd85fac4fe3d649ad15fd878dd2\", element=\"5badf0e6-f6bc-4442-869e-52be094629a5\")>, <selenium.webdriver.remote.webelement.WebElement (session=\"6d1d3fd85fac4fe3d649ad15fd878dd2\", element=\"b8dda5f6-38d1-4605-811b-dfedc90b2df7\")>, <selenium.webdriver.remote.webelement.WebElement (session=\"6d1d3fd85fac4fe3d649ad15fd878dd2\", element=\"2caea95a-16f3-4306-9109-09e233af311b\")>, <selenium.webdriver.remote.webelement.WebElement (session=\"6d1d3fd85fac4fe3d649ad15fd878dd2\", element=\"202d9997-6109-400f-840f-a2fd7ef7b3a6\")>, <selenium.webdriver.remote.webelement.WebElement (session=\"6d1d3fd85fac4fe3d649ad15fd878dd2\", element=\"f7311fcb-252f-4430-b01f-e9b94647c609\")>, <selenium.webdriver.remote.webelement.WebElement (session=\"6d1d3fd85fac4fe3d649ad15fd878dd2\", element=\"d1d88325-d83a-48c7-bcc5-a934a91fa42c\")>, <selenium.webdriver.remote.webelement.WebElement (session=\"6d1d3fd85fac4fe3d649ad15fd878dd2\", element=\"c9e5aa17-8126-4a06-bc90-00ce2e619d95\")>, <selenium.webdriver.remote.webelement.WebElement (session=\"6d1d3fd85fac4fe3d649ad15fd878dd2\", element=\"79a2e85a-df2e-4b90-a6f0-f6d882a5887e\")>, <selenium.webdriver.remote.webelement.WebElement (session=\"6d1d3fd85fac4fe3d649ad15fd878dd2\", element=\"c857609d-2bef-42b6-adb8-e8144456488f\")>]\n",
      "26\n"
     ]
    },
    {
     "data": {
      "text/plain": [
       "['',\n",
       " '',\n",
       " '',\n",
       " '',\n",
       " '',\n",
       " '',\n",
       " '',\n",
       " '',\n",
       " '',\n",
       " '',\n",
       " '',\n",
       " '',\n",
       " '',\n",
       " '',\n",
       " '',\n",
       " '',\n",
       " '',\n",
       " '',\n",
       " '',\n",
       " '',\n",
       " '',\n",
       " '',\n",
       " '',\n",
       " '',\n",
       " '',\n",
       " '']"
      ]
     },
     "execution_count": 503,
     "metadata": {},
     "output_type": "execute_result"
    }
   ],
   "source": [
    "# Extracting ratings\n",
    "\n",
    "rating=[]\n",
    "j=0\n",
    "rating_tag=driver8.find_elements_by_xpath(\"//a[@class='a-popover-trigger a-declarative']\")\n",
    "print(rating_tag)\n",
    "print(len(rating_tag))\n",
    "for i in rating_tag:\n",
    "    if rating_tag[j]!=False:\n",
    "        child=i.find_element_by_tag_name('span')\n",
    "        rating.append(child.text)\n",
    "        j=j+1\n",
    "    else:\n",
    "        print(\"NA\")\n",
    "    \n",
    "'''for i in rating_tag:\n",
    "    rating.append(i.text)'''\n",
    "    \n",
    "rating"
   ]
  },
  {
   "cell_type": "code",
   "execution_count": 506,
   "id": "cfc1224f",
   "metadata": {},
   "outputs": [
    {
     "name": "stdout",
     "output_type": "stream",
     "text": [
      "0\n",
      "[]\n"
     ]
    }
   ],
   "source": [
    "# Extracting price\n",
    "\n",
    "price=[]\n",
    "\n",
    "price_tags=driver8.find_elements_by_xpath(\"//span[@class='a-price-whole']\")\n",
    "\n",
    "for i in price_tags:\n",
    "    if price_tags==True:\n",
    "        price.append(i.text)\n",
    "    \n",
    "print(len(price))\n",
    "print(price)"
   ]
  },
  {
   "cell_type": "code",
   "execution_count": null,
   "id": "d1dc70be",
   "metadata": {},
   "outputs": [],
   "source": []
  },
  {
   "cell_type": "markdown",
   "id": "6d0e1508",
   "metadata": {},
   "source": [
    "# Q9:"
   ]
  },
  {
   "cell_type": "code",
   "execution_count": 352,
   "id": "9e5d524e",
   "metadata": {},
   "outputs": [],
   "source": [
    "driver9=webdriver.Chrome(\"chromedriver.exe\")"
   ]
  },
  {
   "cell_type": "code",
   "execution_count": 353,
   "id": "8c2224da",
   "metadata": {},
   "outputs": [],
   "source": [
    "url9=\"https://www.ambitionbox.com/\"\n",
    "driver9.get(url9)"
   ]
  },
  {
   "cell_type": "code",
   "execution_count": 354,
   "id": "16175f77",
   "metadata": {},
   "outputs": [],
   "source": [
    "job_btn=driver9.find_element_by_xpath(\"/html/body/div[1]/nav/nav/a[6]\")\n",
    "job_btn.click()"
   ]
  },
  {
   "cell_type": "code",
   "execution_count": 355,
   "id": "d525ad58",
   "metadata": {},
   "outputs": [],
   "source": [
    "search_bar=driver9.find_element_by_xpath(\"/html/body/div/div/div/div[2]/div[1]/div/div/div/div/span/input\")\n",
    "search_bar.send_keys(\"Data Scientist\")"
   ]
  },
  {
   "cell_type": "code",
   "execution_count": 356,
   "id": "3244f109",
   "metadata": {},
   "outputs": [],
   "source": [
    "search_btn=driver9.find_element_by_xpath(\"/html/body/div/div/div/div[2]/div[1]/div/div/div/button\")\n",
    "search_btn.click()"
   ]
  },
  {
   "cell_type": "code",
   "execution_count": 357,
   "id": "85551060",
   "metadata": {},
   "outputs": [],
   "source": [
    "location=driver9.find_element_by_xpath(\"/html/body/div/div/div/div[2]/div[2]/div[1]/div/div/div/div[2]/div[1]/p\")\n",
    "location.click()"
   ]
  },
  {
   "cell_type": "code",
   "execution_count": 358,
   "id": "d0590722",
   "metadata": {},
   "outputs": [],
   "source": [
    "location_input=driver9.find_element_by_xpath(\"/html/body/div/div/div/div[2]/div[2]/div[1]/div/div/div/div[2]/div[2]/div/div[2]/input\")\n",
    "location_input.send_keys(\"Noida\")"
   ]
  },
  {
   "cell_type": "code",
   "execution_count": 360,
   "id": "5a0547a0",
   "metadata": {},
   "outputs": [],
   "source": [
    "locn_input_slt=driver9.find_element_by_xpath(\"/html/body/div/div/div/div[2]/div[2]/div[1]/div/div/div/div[2]/div[2]/div/div[3]/div[1]/div[1]/div/label\")\n",
    "locn_input_slt.click()"
   ]
  },
  {
   "cell_type": "code",
   "execution_count": 361,
   "id": "1261adb2",
   "metadata": {},
   "outputs": [
    {
     "name": "stdout",
     "output_type": "stream",
     "text": [
      "['NTT DATA GLOBAL DELIVERY SERVICES PRIVATE LIMITED', 'HCL Technologies Limited', 'Optum Global Solutions (India) Private Limited', 'WSP CONSULTANTS INDIA PRIVATE LIMITED', 'Microsoft India (R and D) Pvt Ltd', 'HCL Technologies Ltd', 'Jubilant Foodworks Limited', 'HCL Technologies', 'RATEGAIN TRAVEL TECHNOLOGIES LIMITED', 'Hanu Software Solutions Pvt Ltd']\n"
     ]
    }
   ],
   "source": [
    "# Extracting company name:\n",
    "\n",
    "company_name=[]\n",
    "name_tags=driver9.find_elements_by_xpath('//p[@class=\"company body-medium\"]')\n",
    "for i in name_tags:\n",
    "    company_name.append(i.text)\n",
    "    \n",
    "print(company_name[0:10])    "
   ]
  },
  {
   "cell_type": "code",
   "execution_count": 368,
   "id": "6227e1ec",
   "metadata": {},
   "outputs": [
    {
     "name": "stdout",
     "output_type": "stream",
     "text": [
      "['7d ago', '8d ago', '18d ago', '8d ago', '19d ago', '16d ago', '6d ago', '23d ago', '19hr ago', '8d ago']\n"
     ]
    }
   ],
   "source": [
    "# Extracting the no. of days ago when job was posted\n",
    "\n",
    "days_ago=[]\n",
    "days_tags=driver9.find_elements_by_xpath('//span[@class=\"body-small-l\"]')\n",
    "for i in days_tags:\n",
    "    days_ago.append(i.text)\n",
    "        \n",
    "for j in days_ago:\n",
    "    if j==\"via naukri.com\":\n",
    "        days_ago.remove(j)\n",
    "print(days_ago[0:10])"
   ]
  },
  {
   "cell_type": "code",
   "execution_count": 369,
   "id": "2829093b",
   "metadata": {},
   "outputs": [
    {
     "name": "stdout",
     "output_type": "stream",
     "text": [
      "['3.9', '3.8', '4.1', '4.2', '4.2', '3.8', '3.9', '3.8', '3.8', '3.7']\n"
     ]
    }
   ],
   "source": [
    "# Extracting rating of the company\n",
    "\n",
    "rating=[]\n",
    "rating_tags=driver9.find_elements_by_xpath('//span[@class=\"body-small\"]')\n",
    "for i in rating_tags:\n",
    "    rating.append(i.text)\n",
    "    \n",
    "print(rating[0:10])    "
   ]
  },
  {
   "cell_type": "code",
   "execution_count": 370,
   "id": "d1a9d01c",
   "metadata": {},
   "outputs": [
    {
     "data": {
      "text/html": [
       "<div>\n",
       "<style scoped>\n",
       "    .dataframe tbody tr th:only-of-type {\n",
       "        vertical-align: middle;\n",
       "    }\n",
       "\n",
       "    .dataframe tbody tr th {\n",
       "        vertical-align: top;\n",
       "    }\n",
       "\n",
       "    .dataframe thead th {\n",
       "        text-align: right;\n",
       "    }\n",
       "</style>\n",
       "<table border=\"1\" class=\"dataframe\">\n",
       "  <thead>\n",
       "    <tr style=\"text-align: right;\">\n",
       "      <th></th>\n",
       "      <th>Company Name</th>\n",
       "      <th>No. of days ago when job was posted</th>\n",
       "      <th>Rating of the Company</th>\n",
       "    </tr>\n",
       "  </thead>\n",
       "  <tbody>\n",
       "    <tr>\n",
       "      <th>1</th>\n",
       "      <td>NTT DATA GLOBAL DELIVERY SERVICES PRIVATE LIMITED</td>\n",
       "      <td>7d ago</td>\n",
       "      <td>3.9</td>\n",
       "    </tr>\n",
       "    <tr>\n",
       "      <th>2</th>\n",
       "      <td>HCL Technologies Limited</td>\n",
       "      <td>8d ago</td>\n",
       "      <td>3.8</td>\n",
       "    </tr>\n",
       "    <tr>\n",
       "      <th>3</th>\n",
       "      <td>Optum Global Solutions (India) Private Limited</td>\n",
       "      <td>18d ago</td>\n",
       "      <td>4.1</td>\n",
       "    </tr>\n",
       "    <tr>\n",
       "      <th>4</th>\n",
       "      <td>WSP CONSULTANTS INDIA PRIVATE LIMITED</td>\n",
       "      <td>8d ago</td>\n",
       "      <td>4.2</td>\n",
       "    </tr>\n",
       "    <tr>\n",
       "      <th>5</th>\n",
       "      <td>Microsoft India (R and D) Pvt Ltd</td>\n",
       "      <td>19d ago</td>\n",
       "      <td>4.2</td>\n",
       "    </tr>\n",
       "    <tr>\n",
       "      <th>6</th>\n",
       "      <td>HCL Technologies Ltd</td>\n",
       "      <td>16d ago</td>\n",
       "      <td>3.8</td>\n",
       "    </tr>\n",
       "    <tr>\n",
       "      <th>7</th>\n",
       "      <td>Jubilant Foodworks Limited</td>\n",
       "      <td>6d ago</td>\n",
       "      <td>3.9</td>\n",
       "    </tr>\n",
       "    <tr>\n",
       "      <th>8</th>\n",
       "      <td>HCL Technologies</td>\n",
       "      <td>23d ago</td>\n",
       "      <td>3.8</td>\n",
       "    </tr>\n",
       "    <tr>\n",
       "      <th>9</th>\n",
       "      <td>RATEGAIN TRAVEL TECHNOLOGIES LIMITED</td>\n",
       "      <td>19hr ago</td>\n",
       "      <td>3.8</td>\n",
       "    </tr>\n",
       "    <tr>\n",
       "      <th>10</th>\n",
       "      <td>Hanu Software Solutions Pvt Ltd</td>\n",
       "      <td>8d ago</td>\n",
       "      <td>3.7</td>\n",
       "    </tr>\n",
       "  </tbody>\n",
       "</table>\n",
       "</div>"
      ],
      "text/plain": [
       "                                         Company Name  \\\n",
       "1   NTT DATA GLOBAL DELIVERY SERVICES PRIVATE LIMITED   \n",
       "2                            HCL Technologies Limited   \n",
       "3      Optum Global Solutions (India) Private Limited   \n",
       "4               WSP CONSULTANTS INDIA PRIVATE LIMITED   \n",
       "5                   Microsoft India (R and D) Pvt Ltd   \n",
       "6                                HCL Technologies Ltd   \n",
       "7                          Jubilant Foodworks Limited   \n",
       "8                                    HCL Technologies   \n",
       "9                RATEGAIN TRAVEL TECHNOLOGIES LIMITED   \n",
       "10                    Hanu Software Solutions Pvt Ltd   \n",
       "\n",
       "    No. of days ago when job was posted Rating of the Company  \n",
       "1                                7d ago                   3.9  \n",
       "2                                8d ago                   3.8  \n",
       "3                               18d ago                   4.1  \n",
       "4                                8d ago                   4.2  \n",
       "5                               19d ago                   4.2  \n",
       "6                               16d ago                   3.8  \n",
       "7                                6d ago                   3.9  \n",
       "8                               23d ago                   3.8  \n",
       "9                              19hr ago                   3.8  \n",
       "10                               8d ago                   3.7  "
      ]
     },
     "execution_count": 370,
     "metadata": {},
     "output_type": "execute_result"
    }
   ],
   "source": [
    "company_name_10=company_name[0:10]\n",
    "days_ago_10=days_ago[0:10]\n",
    "rating_10=rating[0:10]\n",
    "\n",
    "df9=pd.DataFrame({\"Company Name\":company_name_10,\" No. of days ago when job was posted\":days_ago_10,\"Rating of the Company\":rating_10})\n",
    "df9.index=np.arange(1,len(df9)+1)\n",
    "df9"
   ]
  },
  {
   "cell_type": "markdown",
   "id": "f3b824e5",
   "metadata": {},
   "source": [
    "# Q10:"
   ]
  },
  {
   "cell_type": "code",
   "execution_count": 396,
   "id": "5a8cb8bc",
   "metadata": {},
   "outputs": [],
   "source": [
    "driver10=webdriver.Chrome(\"chromedriver.exe\")"
   ]
  },
  {
   "cell_type": "code",
   "execution_count": 397,
   "id": "839b567e",
   "metadata": {},
   "outputs": [],
   "source": [
    "url10=\"https://www.ambitionbox.com/\"\n",
    "driver10.get(url10)"
   ]
  },
  {
   "cell_type": "code",
   "execution_count": 398,
   "id": "ea8f701e",
   "metadata": {},
   "outputs": [],
   "source": [
    "salary_btn=driver10.find_element_by_xpath(\"/html/body/div[1]/nav/nav/a[4]\")\n",
    "salary_btn.click()"
   ]
  },
  {
   "cell_type": "code",
   "execution_count": 401,
   "id": "9d62dc93",
   "metadata": {},
   "outputs": [],
   "source": [
    "job_profile=driver10.find_element_by_xpath(\"/html/body/div/div/div/main/section[1]/div[2]/div[1]/span/input\")\n",
    "job_profile.send_keys(\"Data Scientist\")"
   ]
  },
  {
   "cell_type": "code",
   "execution_count": 441,
   "id": "014edc6c",
   "metadata": {},
   "outputs": [
    {
     "data": {
      "text/plain": [
       "['Ab Inbev',\n",
       " 'ZS',\n",
       " 'Optum',\n",
       " 'Fractal Analytics',\n",
       " 'Tiger Analytics',\n",
       " 'UnitedHealth',\n",
       " 'Verizon',\n",
       " 'Ganit Business Solutions',\n",
       " 'Ericsson',\n",
       " 'Deloitte']"
      ]
     },
     "execution_count": 441,
     "metadata": {},
     "output_type": "execute_result"
    }
   ],
   "source": [
    "# Extracting company name\n",
    "\n",
    "company_name=[]\n",
    "\n",
    "name_tag=driver10.find_elements_by_xpath('//div[@class=\"name\"]')\n",
    "for i in name_tag:\n",
    "    child=i.find_element_by_tag_name(\"a\")\n",
    "    company_name.append(child.text)\n",
    "    \n",
    "company_name_10=company_name[0:10]\n",
    "company_name_10"
   ]
  },
  {
   "cell_type": "code",
   "execution_count": 442,
   "id": "80c0acde",
   "metadata": {},
   "outputs": [
    {
     "data": {
      "text/plain": [
       "['based on 28 salaries',\n",
       " 'based on 15 salaries',\n",
       " 'based on 25 salaries',\n",
       " 'based on 77 salaries',\n",
       " 'based on 33 salaries',\n",
       " 'based on 52 salaries',\n",
       " 'based on 14 salaries',\n",
       " 'based on 13 salaries',\n",
       " 'based on 43 salaries',\n",
       " 'based on 57 salaries']"
      ]
     },
     "execution_count": 442,
     "metadata": {},
     "output_type": "execute_result"
    }
   ],
   "source": [
    "# Extracting total salary record\n",
    "\n",
    "sal_record=[]\n",
    "sal_record_tag=driver10.find_elements_by_xpath('//div[@class=\"name\"]')\n",
    "for i in sal_record_tag:\n",
    "    child=i.find_element_by_tag_name(\"span\")\n",
    "    sal_record.append(child.text)\n",
    "    \n",
    "sal_record_10=sal_record[0:10]\n",
    "sal_record_10"
   ]
  },
  {
   "cell_type": "code",
   "execution_count": 443,
   "id": "f18c7b97",
   "metadata": {},
   "outputs": [
    {
     "data": {
      "text/plain": [
       "['₹ 20.3L',\n",
       " '₹ 15.3L',\n",
       " '₹ 15.1L',\n",
       " '₹ 15.1L',\n",
       " '₹ 14.4L',\n",
       " '₹ 13.9L',\n",
       " '₹ 12.7L',\n",
       " '₹ 12.4L',\n",
       " '₹ 11.9L',\n",
       " '₹ 11.7L']"
      ]
     },
     "execution_count": 443,
     "metadata": {},
     "output_type": "execute_result"
    }
   ],
   "source": [
    "# Extracting average salary\n",
    "\n",
    "avg_sal=[]\n",
    "avg_sal_tag=driver10.find_elements_by_xpath(\"//p[@class='averageCtc']\")\n",
    "for i in avg_sal_tag:\n",
    "    avg_sal.append(i.text)\n",
    "    \n",
    "avg_sal_10=avg_sal[0:10]\n",
    "avg_sal_10"
   ]
  },
  {
   "cell_type": "code",
   "execution_count": 447,
   "id": "c5145a88",
   "metadata": {},
   "outputs": [
    {
     "name": "stdout",
     "output_type": "stream",
     "text": [
      "['₹ 15.0L', '₹ 9.5L', '₹ 11.0L', '₹ 9.5L', '₹ 8.3L', '₹ 8.3L', '₹ 10.0L', '₹ 8.5L', '₹ 5.8L', '₹ 6.9L']\n",
      "['₹ 25.5L', '₹ 20.0L', '₹ 21.3L', '₹ 22.0L', '₹ 20.0L', '₹ 20.5L', '₹ 21.0L', '₹ 15.0L', '₹ 24.0L', '₹ 23.4L']\n"
     ]
    }
   ],
   "source": [
    "# Extracting minimum and maximum salary\n",
    "\n",
    "sal=[]\n",
    "sal_tag=driver10.find_elements_by_xpath(\"//div[@class='value body-medium']\")\n",
    "for i in sal_tag:\n",
    "    sal.append(i.text)\n",
    "    \n",
    "min_sal=sal[0::2]\n",
    "max_sal=sal[1::2]\n",
    "    \n",
    "min_sal_10=min_sal[0:10]\n",
    "max_sal_10=max_sal[0:10]\n",
    "print(min_sal_10)\n",
    "print(max_sal_10)"
   ]
  },
  {
   "cell_type": "code",
   "execution_count": 453,
   "id": "90dd2593",
   "metadata": {},
   "outputs": [
    {
     "data": {
      "text/plain": [
       "['3-4 yrs exp',\n",
       " '2 yrs exp',\n",
       " '3-4 yrs exp',\n",
       " '2-4 yrs exp',\n",
       " '3-4 yrs exp',\n",
       " '2-4 yrs exp',\n",
       " '4 yrs exp',\n",
       " '4 yrs exp',\n",
       " '3-4 yrs exp',\n",
       " '2-4 yrs exp']"
      ]
     },
     "execution_count": 453,
     "metadata": {},
     "output_type": "execute_result"
    }
   ],
   "source": [
    "# Extracting experience required\n",
    "\n",
    "exp=[]\n",
    "exp_tag=driver10.find_elements_by_xpath(\"//div[@class='salaries sbold-list-header']\")\n",
    "for i in exp_tag:\n",
    "    exp.append(i.text.replace(\"Data Scientist\\n . \\n\",\"\"))\n",
    "    \n",
    "exp_10=exp[0:10]\n",
    "exp_10"
   ]
  },
  {
   "cell_type": "code",
   "execution_count": 454,
   "id": "27af6c9e",
   "metadata": {},
   "outputs": [
    {
     "data": {
      "text/html": [
       "<div>\n",
       "<style scoped>\n",
       "    .dataframe tbody tr th:only-of-type {\n",
       "        vertical-align: middle;\n",
       "    }\n",
       "\n",
       "    .dataframe tbody tr th {\n",
       "        vertical-align: top;\n",
       "    }\n",
       "\n",
       "    .dataframe thead th {\n",
       "        text-align: right;\n",
       "    }\n",
       "</style>\n",
       "<table border=\"1\" class=\"dataframe\">\n",
       "  <thead>\n",
       "    <tr style=\"text-align: right;\">\n",
       "      <th></th>\n",
       "      <th>Company Name</th>\n",
       "      <th>Total Salary Record</th>\n",
       "      <th>Average Salary</th>\n",
       "      <th>Minimum Salary</th>\n",
       "      <th>Maximum Salary</th>\n",
       "      <th>Experience Required</th>\n",
       "    </tr>\n",
       "  </thead>\n",
       "  <tbody>\n",
       "    <tr>\n",
       "      <th>1</th>\n",
       "      <td>Ab Inbev</td>\n",
       "      <td>based on 28 salaries</td>\n",
       "      <td>₹ 20.3L</td>\n",
       "      <td>₹ 15.0L</td>\n",
       "      <td>₹ 25.5L</td>\n",
       "      <td>3-4 yrs exp</td>\n",
       "    </tr>\n",
       "    <tr>\n",
       "      <th>2</th>\n",
       "      <td>ZS</td>\n",
       "      <td>based on 15 salaries</td>\n",
       "      <td>₹ 15.3L</td>\n",
       "      <td>₹ 9.5L</td>\n",
       "      <td>₹ 20.0L</td>\n",
       "      <td>2 yrs exp</td>\n",
       "    </tr>\n",
       "    <tr>\n",
       "      <th>3</th>\n",
       "      <td>Optum</td>\n",
       "      <td>based on 25 salaries</td>\n",
       "      <td>₹ 15.1L</td>\n",
       "      <td>₹ 11.0L</td>\n",
       "      <td>₹ 21.3L</td>\n",
       "      <td>3-4 yrs exp</td>\n",
       "    </tr>\n",
       "    <tr>\n",
       "      <th>4</th>\n",
       "      <td>Fractal Analytics</td>\n",
       "      <td>based on 77 salaries</td>\n",
       "      <td>₹ 15.1L</td>\n",
       "      <td>₹ 9.5L</td>\n",
       "      <td>₹ 22.0L</td>\n",
       "      <td>2-4 yrs exp</td>\n",
       "    </tr>\n",
       "    <tr>\n",
       "      <th>5</th>\n",
       "      <td>Tiger Analytics</td>\n",
       "      <td>based on 33 salaries</td>\n",
       "      <td>₹ 14.4L</td>\n",
       "      <td>₹ 8.3L</td>\n",
       "      <td>₹ 20.0L</td>\n",
       "      <td>3-4 yrs exp</td>\n",
       "    </tr>\n",
       "    <tr>\n",
       "      <th>6</th>\n",
       "      <td>UnitedHealth</td>\n",
       "      <td>based on 52 salaries</td>\n",
       "      <td>₹ 13.9L</td>\n",
       "      <td>₹ 8.3L</td>\n",
       "      <td>₹ 20.5L</td>\n",
       "      <td>2-4 yrs exp</td>\n",
       "    </tr>\n",
       "    <tr>\n",
       "      <th>7</th>\n",
       "      <td>Verizon</td>\n",
       "      <td>based on 14 salaries</td>\n",
       "      <td>₹ 12.7L</td>\n",
       "      <td>₹ 10.0L</td>\n",
       "      <td>₹ 21.0L</td>\n",
       "      <td>4 yrs exp</td>\n",
       "    </tr>\n",
       "    <tr>\n",
       "      <th>8</th>\n",
       "      <td>Ganit Business Solutions</td>\n",
       "      <td>based on 13 salaries</td>\n",
       "      <td>₹ 12.4L</td>\n",
       "      <td>₹ 8.5L</td>\n",
       "      <td>₹ 15.0L</td>\n",
       "      <td>4 yrs exp</td>\n",
       "    </tr>\n",
       "    <tr>\n",
       "      <th>9</th>\n",
       "      <td>Ericsson</td>\n",
       "      <td>based on 43 salaries</td>\n",
       "      <td>₹ 11.9L</td>\n",
       "      <td>₹ 5.8L</td>\n",
       "      <td>₹ 24.0L</td>\n",
       "      <td>3-4 yrs exp</td>\n",
       "    </tr>\n",
       "    <tr>\n",
       "      <th>10</th>\n",
       "      <td>Deloitte</td>\n",
       "      <td>based on 57 salaries</td>\n",
       "      <td>₹ 11.7L</td>\n",
       "      <td>₹ 6.9L</td>\n",
       "      <td>₹ 23.4L</td>\n",
       "      <td>2-4 yrs exp</td>\n",
       "    </tr>\n",
       "  </tbody>\n",
       "</table>\n",
       "</div>"
      ],
      "text/plain": [
       "                Company Name   Total Salary Record Average Salary  \\\n",
       "1                   Ab Inbev  based on 28 salaries        ₹ 20.3L   \n",
       "2                         ZS  based on 15 salaries        ₹ 15.3L   \n",
       "3                      Optum  based on 25 salaries        ₹ 15.1L   \n",
       "4          Fractal Analytics  based on 77 salaries        ₹ 15.1L   \n",
       "5            Tiger Analytics  based on 33 salaries        ₹ 14.4L   \n",
       "6               UnitedHealth  based on 52 salaries        ₹ 13.9L   \n",
       "7                    Verizon  based on 14 salaries        ₹ 12.7L   \n",
       "8   Ganit Business Solutions  based on 13 salaries        ₹ 12.4L   \n",
       "9                   Ericsson  based on 43 salaries        ₹ 11.9L   \n",
       "10                  Deloitte  based on 57 salaries        ₹ 11.7L   \n",
       "\n",
       "   Minimum Salary Maximum Salary Experience Required  \n",
       "1         ₹ 15.0L        ₹ 25.5L         3-4 yrs exp  \n",
       "2          ₹ 9.5L        ₹ 20.0L           2 yrs exp  \n",
       "3         ₹ 11.0L        ₹ 21.3L         3-4 yrs exp  \n",
       "4          ₹ 9.5L        ₹ 22.0L         2-4 yrs exp  \n",
       "5          ₹ 8.3L        ₹ 20.0L         3-4 yrs exp  \n",
       "6          ₹ 8.3L        ₹ 20.5L         2-4 yrs exp  \n",
       "7         ₹ 10.0L        ₹ 21.0L           4 yrs exp  \n",
       "8          ₹ 8.5L        ₹ 15.0L           4 yrs exp  \n",
       "9          ₹ 5.8L        ₹ 24.0L         3-4 yrs exp  \n",
       "10         ₹ 6.9L        ₹ 23.4L         2-4 yrs exp  "
      ]
     },
     "execution_count": 454,
     "metadata": {},
     "output_type": "execute_result"
    }
   ],
   "source": [
    "df10=pd.DataFrame({\"Company Name\":company_name_10,\"Total Salary Record\":sal_record_10,\"Average Salary\":avg_sal_10,\"Minimum Salary\":min_sal_10,\"Maximum Salary\":max_sal_10,\"Experience Required\":exp_10})\n",
    "df10.index=np.arange(1,len(df10)+1)\n",
    "df10"
   ]
  },
  {
   "cell_type": "code",
   "execution_count": null,
   "id": "d0a3778e",
   "metadata": {},
   "outputs": [],
   "source": []
  }
 ],
 "metadata": {
  "kernelspec": {
   "display_name": "Python 3",
   "language": "python",
   "name": "python3"
  },
  "language_info": {
   "codemirror_mode": {
    "name": "ipython",
    "version": 3
   },
   "file_extension": ".py",
   "mimetype": "text/x-python",
   "name": "python",
   "nbconvert_exporter": "python",
   "pygments_lexer": "ipython3",
   "version": "3.8.8"
  }
 },
 "nbformat": 4,
 "nbformat_minor": 5
}
