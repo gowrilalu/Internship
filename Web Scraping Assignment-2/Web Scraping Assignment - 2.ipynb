{
 "cells": [
  {
   "cell_type": "code",
   "execution_count": 1,
   "id": "8fb4f2dd",
   "metadata": {},
   "outputs": [],
   "source": [
    "# importing required libraries\n",
    "\n",
    "import selenium\n",
    "from selenium import webdriver\n",
    "import pandas as pd\n",
    "import numpy as np\n",
    "import warnings\n",
    "warnings.filterwarnings('ignore')"
   ]
  },
  {
   "cell_type": "markdown",
   "id": "8066839d",
   "metadata": {},
   "source": [
    "# Q1:"
   ]
  },
  {
   "cell_type": "code",
   "execution_count": 2,
   "id": "77cee3e9",
   "metadata": {},
   "outputs": [],
   "source": [
    "driver=webdriver.Chrome('chromedriver.exe')"
   ]
  },
  {
   "cell_type": "code",
   "execution_count": 3,
   "id": "61c6a51e",
   "metadata": {},
   "outputs": [],
   "source": [
    "url1='https://www.naukri.com/'\n",
    "driver.get(url1)"
   ]
  },
  {
   "cell_type": "code",
   "execution_count": 4,
   "id": "d5d29b02",
   "metadata": {},
   "outputs": [
    {
     "data": {
      "text/plain": [
       "<selenium.webdriver.remote.webelement.WebElement (session=\"d50a7abf8ea9a25cf6f8771384d104dc\", element=\"7b1bea3f-e459-4f6e-a6f3-c71f35aeb7dd\")>"
      ]
     },
     "execution_count": 4,
     "metadata": {},
     "output_type": "execute_result"
    }
   ],
   "source": [
    "job_search=driver.find_element_by_xpath('/html/body/div/div[2]/div[3]/div/div/div[1]/div/div/div/input')\n",
    "job_search"
   ]
  },
  {
   "cell_type": "code",
   "execution_count": 5,
   "id": "e86b44a7",
   "metadata": {},
   "outputs": [],
   "source": [
    "job_search.send_keys('Data Analyst')"
   ]
  },
  {
   "cell_type": "code",
   "execution_count": 6,
   "id": "29f6c443",
   "metadata": {},
   "outputs": [
    {
     "data": {
      "text/plain": [
       "<selenium.webdriver.remote.webelement.WebElement (session=\"d50a7abf8ea9a25cf6f8771384d104dc\", element=\"30654b5e-6595-4e82-816e-4eeaca568eec\")>"
      ]
     },
     "execution_count": 6,
     "metadata": {},
     "output_type": "execute_result"
    }
   ],
   "source": [
    "job_locn=driver.find_element_by_xpath('/html/body/div/div[2]/div[3]/div/div/div[3]/div/div/div/input')\n",
    "job_locn"
   ]
  },
  {
   "cell_type": "code",
   "execution_count": 7,
   "id": "5d446414",
   "metadata": {},
   "outputs": [],
   "source": [
    "job_locn.send_keys('Bangalore')"
   ]
  },
  {
   "cell_type": "code",
   "execution_count": 8,
   "id": "9ad8e31c",
   "metadata": {},
   "outputs": [
    {
     "data": {
      "text/plain": [
       "<selenium.webdriver.remote.webelement.WebElement (session=\"d50a7abf8ea9a25cf6f8771384d104dc\", element=\"78346a8f-232e-484f-a361-e409d3b908b4\")>"
      ]
     },
     "execution_count": 8,
     "metadata": {},
     "output_type": "execute_result"
    }
   ],
   "source": [
    "search_btn=driver.find_element_by_class_name('qsbSubmit')\n",
    "search_btn"
   ]
  },
  {
   "cell_type": "code",
   "execution_count": 9,
   "id": "bf956ac1",
   "metadata": {},
   "outputs": [],
   "source": [
    "search_btn.click()"
   ]
  },
  {
   "cell_type": "code",
   "execution_count": 10,
   "id": "90dfb007",
   "metadata": {},
   "outputs": [
    {
     "data": {
      "text/plain": [
       "[<selenium.webdriver.remote.webelement.WebElement (session=\"d50a7abf8ea9a25cf6f8771384d104dc\", element=\"9777ea16-8c61-42e2-8ddf-5c5e9f0db691\")>,\n",
       " <selenium.webdriver.remote.webelement.WebElement (session=\"d50a7abf8ea9a25cf6f8771384d104dc\", element=\"788c5498-d103-4853-9224-26e477e95a3b\")>,\n",
       " <selenium.webdriver.remote.webelement.WebElement (session=\"d50a7abf8ea9a25cf6f8771384d104dc\", element=\"4118d310-5ac4-4ced-b79e-a68bc0e6df31\")>,\n",
       " <selenium.webdriver.remote.webelement.WebElement (session=\"d50a7abf8ea9a25cf6f8771384d104dc\", element=\"a841f8f1-9a63-4870-86a8-c6f1efff2719\")>,\n",
       " <selenium.webdriver.remote.webelement.WebElement (session=\"d50a7abf8ea9a25cf6f8771384d104dc\", element=\"c71b2403-ea48-4ae3-a9a9-60d8e768d00e\")>,\n",
       " <selenium.webdriver.remote.webelement.WebElement (session=\"d50a7abf8ea9a25cf6f8771384d104dc\", element=\"35d85e5f-cead-4d7c-b99f-b9de42e1bd68\")>,\n",
       " <selenium.webdriver.remote.webelement.WebElement (session=\"d50a7abf8ea9a25cf6f8771384d104dc\", element=\"d1cf9662-38fb-483e-96ae-b27501e2b9ce\")>,\n",
       " <selenium.webdriver.remote.webelement.WebElement (session=\"d50a7abf8ea9a25cf6f8771384d104dc\", element=\"017b0b2b-fa9c-4990-9fd8-6fc1ff18c138\")>,\n",
       " <selenium.webdriver.remote.webelement.WebElement (session=\"d50a7abf8ea9a25cf6f8771384d104dc\", element=\"24836088-36a4-418d-8205-e41aa99e912b\")>,\n",
       " <selenium.webdriver.remote.webelement.WebElement (session=\"d50a7abf8ea9a25cf6f8771384d104dc\", element=\"1dfc4f4f-6458-4331-8ef7-c1aa5a4c0ff5\")>,\n",
       " <selenium.webdriver.remote.webelement.WebElement (session=\"d50a7abf8ea9a25cf6f8771384d104dc\", element=\"99301dd4-3def-42d5-8345-cff58bdb9f40\")>,\n",
       " <selenium.webdriver.remote.webelement.WebElement (session=\"d50a7abf8ea9a25cf6f8771384d104dc\", element=\"aae6be77-30f7-4cb1-a1b1-37f302e25d33\")>,\n",
       " <selenium.webdriver.remote.webelement.WebElement (session=\"d50a7abf8ea9a25cf6f8771384d104dc\", element=\"cd210a2e-e50f-4a41-9b0c-1e7c3fe6ebfc\")>,\n",
       " <selenium.webdriver.remote.webelement.WebElement (session=\"d50a7abf8ea9a25cf6f8771384d104dc\", element=\"2f9629d7-8852-4af2-b1ae-207e13b12229\")>,\n",
       " <selenium.webdriver.remote.webelement.WebElement (session=\"d50a7abf8ea9a25cf6f8771384d104dc\", element=\"7406f8bd-6eb6-478d-9a61-c03d79cba8f6\")>,\n",
       " <selenium.webdriver.remote.webelement.WebElement (session=\"d50a7abf8ea9a25cf6f8771384d104dc\", element=\"03abaa57-675d-4c75-98f4-8d0afe3841cb\")>,\n",
       " <selenium.webdriver.remote.webelement.WebElement (session=\"d50a7abf8ea9a25cf6f8771384d104dc\", element=\"cfc9d3f3-5ebb-410b-9078-84db492dcb21\")>,\n",
       " <selenium.webdriver.remote.webelement.WebElement (session=\"d50a7abf8ea9a25cf6f8771384d104dc\", element=\"aa653917-ec9d-4211-94a3-d6945cd7e036\")>,\n",
       " <selenium.webdriver.remote.webelement.WebElement (session=\"d50a7abf8ea9a25cf6f8771384d104dc\", element=\"a3be97af-852f-4e7a-a00f-7274364e6cdc\")>,\n",
       " <selenium.webdriver.remote.webelement.WebElement (session=\"d50a7abf8ea9a25cf6f8771384d104dc\", element=\"e9169320-3b8a-4450-91e2-35a32f929aa9\")>]"
      ]
     },
     "execution_count": 10,
     "metadata": {},
     "output_type": "execute_result"
    }
   ],
   "source": [
    "#Extracting job titles\n",
    "\n",
    "title_tags=driver.find_elements_by_xpath('//a[@class=\"title fw500 ellipsis\"]')\n",
    "title_tags"
   ]
  },
  {
   "cell_type": "code",
   "execution_count": 11,
   "id": "1373b6e0",
   "metadata": {},
   "outputs": [
    {
     "name": "stdout",
     "output_type": "stream",
     "text": [
      "20\n"
     ]
    },
    {
     "data": {
      "text/plain": [
       "['Hiring For Data Analyst I(SQL & Python)',\n",
       " 'Senior Data Analyst II',\n",
       " 'Senior Data Analyst',\n",
       " 'Senior Data Analyst II',\n",
       " 'Senior Data Analyst II',\n",
       " 'Senior Data Analyst - Ads & Promotion Platform (APP)',\n",
       " 'Hiring Data analyst with Pharma Background across India',\n",
       " 'Data Coordinator | Data Analyst | MS Excel | Typing | Bangalore',\n",
       " 'Lead Data Analyst - Flipkart Data science group',\n",
       " 'Data Analyst']"
      ]
     },
     "execution_count": 11,
     "metadata": {},
     "output_type": "execute_result"
    }
   ],
   "source": [
    "job_titles=[]\n",
    "\n",
    "for i in title_tags:\n",
    "    job_titles.append(i.text)\n",
    "print(len(job_titles))    \n",
    "job_titles_10=job_titles[0:10]\n",
    "job_titles_10"
   ]
  },
  {
   "cell_type": "code",
   "execution_count": 12,
   "id": "ecb60b08",
   "metadata": {},
   "outputs": [
    {
     "data": {
      "text/plain": [
       "[<selenium.webdriver.remote.webelement.WebElement (session=\"d50a7abf8ea9a25cf6f8771384d104dc\", element=\"6526676d-1a6e-4e80-8e0b-56001939c3f2\")>,\n",
       " <selenium.webdriver.remote.webelement.WebElement (session=\"d50a7abf8ea9a25cf6f8771384d104dc\", element=\"674fbc15-2348-49f2-96ae-b41e6cc75bda\")>,\n",
       " <selenium.webdriver.remote.webelement.WebElement (session=\"d50a7abf8ea9a25cf6f8771384d104dc\", element=\"7c5f374b-d64b-4e3c-add9-bcae30f19657\")>,\n",
       " <selenium.webdriver.remote.webelement.WebElement (session=\"d50a7abf8ea9a25cf6f8771384d104dc\", element=\"a6dafab0-3886-442d-b657-c56950993f5a\")>,\n",
       " <selenium.webdriver.remote.webelement.WebElement (session=\"d50a7abf8ea9a25cf6f8771384d104dc\", element=\"e796d1ae-a118-49b4-9d84-a264ce5760e1\")>,\n",
       " <selenium.webdriver.remote.webelement.WebElement (session=\"d50a7abf8ea9a25cf6f8771384d104dc\", element=\"535907d6-697e-4ac0-aadd-22def22fef02\")>,\n",
       " <selenium.webdriver.remote.webelement.WebElement (session=\"d50a7abf8ea9a25cf6f8771384d104dc\", element=\"c76ca4fa-6579-4dab-bcde-d2e046485250\")>,\n",
       " <selenium.webdriver.remote.webelement.WebElement (session=\"d50a7abf8ea9a25cf6f8771384d104dc\", element=\"64af2599-8723-49f9-9990-dea920b6b9b6\")>,\n",
       " <selenium.webdriver.remote.webelement.WebElement (session=\"d50a7abf8ea9a25cf6f8771384d104dc\", element=\"b2babf2e-26c3-4449-b05f-04e3b30502c0\")>,\n",
       " <selenium.webdriver.remote.webelement.WebElement (session=\"d50a7abf8ea9a25cf6f8771384d104dc\", element=\"07ade4a2-6eb6-479c-802a-ff8b3556cb23\")>,\n",
       " <selenium.webdriver.remote.webelement.WebElement (session=\"d50a7abf8ea9a25cf6f8771384d104dc\", element=\"c239e9ed-b833-4227-9b60-77f246b29c51\")>,\n",
       " <selenium.webdriver.remote.webelement.WebElement (session=\"d50a7abf8ea9a25cf6f8771384d104dc\", element=\"75741a32-2cc7-47d1-ae8d-67a8348c223c\")>,\n",
       " <selenium.webdriver.remote.webelement.WebElement (session=\"d50a7abf8ea9a25cf6f8771384d104dc\", element=\"fa605eaa-58c1-43d5-9281-3248faf1dfd8\")>,\n",
       " <selenium.webdriver.remote.webelement.WebElement (session=\"d50a7abf8ea9a25cf6f8771384d104dc\", element=\"a0310ec1-4fea-44b6-847c-3ae2b8826176\")>,\n",
       " <selenium.webdriver.remote.webelement.WebElement (session=\"d50a7abf8ea9a25cf6f8771384d104dc\", element=\"92b291ef-d6ef-43bd-be09-f798f465ff6c\")>,\n",
       " <selenium.webdriver.remote.webelement.WebElement (session=\"d50a7abf8ea9a25cf6f8771384d104dc\", element=\"1af678ff-ea47-46c2-9ec2-3b7ba68ca292\")>,\n",
       " <selenium.webdriver.remote.webelement.WebElement (session=\"d50a7abf8ea9a25cf6f8771384d104dc\", element=\"8716fce0-8d8a-480a-b5f0-e7a553d80b6b\")>,\n",
       " <selenium.webdriver.remote.webelement.WebElement (session=\"d50a7abf8ea9a25cf6f8771384d104dc\", element=\"090738c1-c12c-420f-8527-8fc379fdb65a\")>,\n",
       " <selenium.webdriver.remote.webelement.WebElement (session=\"d50a7abf8ea9a25cf6f8771384d104dc\", element=\"f0ef407e-4cf1-4531-9ea5-14febd69f73d\")>,\n",
       " <selenium.webdriver.remote.webelement.WebElement (session=\"d50a7abf8ea9a25cf6f8771384d104dc\", element=\"e189a25d-5774-472d-a652-00a6a6a02ce4\")>]"
      ]
     },
     "execution_count": 12,
     "metadata": {},
     "output_type": "execute_result"
    }
   ],
   "source": [
    "#Extracting job location\n",
    "\n",
    "locn_tags=driver.find_elements_by_xpath('//li[@class=\"fleft grey-text br2 placeHolderLi location\"]')\n",
    "locn_tags"
   ]
  },
  {
   "cell_type": "code",
   "execution_count": 13,
   "id": "9618bff1",
   "metadata": {},
   "outputs": [
    {
     "name": "stdout",
     "output_type": "stream",
     "text": [
      "20\n"
     ]
    },
    {
     "data": {
      "text/plain": [
       "['Bangalore/Bengaluru',\n",
       " 'Bangalore/Bengaluru',\n",
       " 'Bangalore/Bengaluru',\n",
       " 'Bangalore/Bengaluru',\n",
       " 'Bangalore/Bengaluru',\n",
       " 'Bangalore/Bengaluru',\n",
       " 'Hyderabad/Secunderabad, Chennai, Bangalore/Bengaluru\\n(WFH during Covid)',\n",
       " 'Bangalore/Bengaluru(Sadashiva Nagar)',\n",
       " 'Bangalore/Bengaluru',\n",
       " 'Bangalore/Bengaluru']"
      ]
     },
     "execution_count": 13,
     "metadata": {},
     "output_type": "execute_result"
    }
   ],
   "source": [
    "job_location=[]\n",
    "\n",
    "for i in locn_tags:\n",
    "    job_location.append(i.text)\n",
    "    \n",
    "print(len(job_location))\n",
    "job_location_10=job_location[0:10]\n",
    "job_location_10"
   ]
  },
  {
   "cell_type": "code",
   "execution_count": 14,
   "id": "33b84489",
   "metadata": {},
   "outputs": [
    {
     "data": {
      "text/plain": [
       "[<selenium.webdriver.remote.webelement.WebElement (session=\"d50a7abf8ea9a25cf6f8771384d104dc\", element=\"66fbd9dd-0be4-4f22-8f1b-d5af72f70d84\")>,\n",
       " <selenium.webdriver.remote.webelement.WebElement (session=\"d50a7abf8ea9a25cf6f8771384d104dc\", element=\"8208598a-b5c3-465d-8af2-79fd066f596d\")>,\n",
       " <selenium.webdriver.remote.webelement.WebElement (session=\"d50a7abf8ea9a25cf6f8771384d104dc\", element=\"7c5148bf-5063-423a-8922-e9f54b19e435\")>,\n",
       " <selenium.webdriver.remote.webelement.WebElement (session=\"d50a7abf8ea9a25cf6f8771384d104dc\", element=\"139c080b-ffd4-4791-a95e-4b8ff77bc56c\")>,\n",
       " <selenium.webdriver.remote.webelement.WebElement (session=\"d50a7abf8ea9a25cf6f8771384d104dc\", element=\"a0acea27-3e1f-4c8f-bc27-a352dcba0d7d\")>,\n",
       " <selenium.webdriver.remote.webelement.WebElement (session=\"d50a7abf8ea9a25cf6f8771384d104dc\", element=\"fba83783-33c5-4063-8182-850abc61ea51\")>,\n",
       " <selenium.webdriver.remote.webelement.WebElement (session=\"d50a7abf8ea9a25cf6f8771384d104dc\", element=\"f08a4037-8ee9-44c6-9867-03110d3d2280\")>,\n",
       " <selenium.webdriver.remote.webelement.WebElement (session=\"d50a7abf8ea9a25cf6f8771384d104dc\", element=\"24df2dc2-181f-40e9-8e9c-52fd990b9f8e\")>,\n",
       " <selenium.webdriver.remote.webelement.WebElement (session=\"d50a7abf8ea9a25cf6f8771384d104dc\", element=\"df260b4d-222f-4876-a96d-786babe4f435\")>,\n",
       " <selenium.webdriver.remote.webelement.WebElement (session=\"d50a7abf8ea9a25cf6f8771384d104dc\", element=\"9bdd89f0-8dd0-4da1-ab0f-658fceb28b78\")>,\n",
       " <selenium.webdriver.remote.webelement.WebElement (session=\"d50a7abf8ea9a25cf6f8771384d104dc\", element=\"683784a3-ac06-4519-9901-1e800b965bcd\")>,\n",
       " <selenium.webdriver.remote.webelement.WebElement (session=\"d50a7abf8ea9a25cf6f8771384d104dc\", element=\"a71d7a3a-7112-4453-85e7-fd503db5624f\")>,\n",
       " <selenium.webdriver.remote.webelement.WebElement (session=\"d50a7abf8ea9a25cf6f8771384d104dc\", element=\"9245bdd3-715d-4bae-be61-f71cf3ed7e90\")>,\n",
       " <selenium.webdriver.remote.webelement.WebElement (session=\"d50a7abf8ea9a25cf6f8771384d104dc\", element=\"35762565-d1fa-472e-83c5-bc060aed68f7\")>,\n",
       " <selenium.webdriver.remote.webelement.WebElement (session=\"d50a7abf8ea9a25cf6f8771384d104dc\", element=\"38021964-1bcc-4ebc-a672-daa4aa11db4c\")>,\n",
       " <selenium.webdriver.remote.webelement.WebElement (session=\"d50a7abf8ea9a25cf6f8771384d104dc\", element=\"03465372-eefa-43e3-93ca-c1c6c2372983\")>,\n",
       " <selenium.webdriver.remote.webelement.WebElement (session=\"d50a7abf8ea9a25cf6f8771384d104dc\", element=\"6dd6e682-22ac-48aa-a81c-9744c4bfbfd4\")>,\n",
       " <selenium.webdriver.remote.webelement.WebElement (session=\"d50a7abf8ea9a25cf6f8771384d104dc\", element=\"29f9e9f8-00a2-4094-a1c8-bfa455981947\")>,\n",
       " <selenium.webdriver.remote.webelement.WebElement (session=\"d50a7abf8ea9a25cf6f8771384d104dc\", element=\"5ae7bc63-676a-4edb-b8c4-1174d8140dfe\")>,\n",
       " <selenium.webdriver.remote.webelement.WebElement (session=\"d50a7abf8ea9a25cf6f8771384d104dc\", element=\"038c7394-9405-422b-a3eb-3d0353326ff3\")>]"
      ]
     },
     "execution_count": 14,
     "metadata": {},
     "output_type": "execute_result"
    }
   ],
   "source": [
    "#Extracting company name\n",
    "\n",
    "name_tags=driver.find_elements_by_xpath('//a[@class=\"subTitle ellipsis fleft\"]')\n",
    "name_tags"
   ]
  },
  {
   "cell_type": "code",
   "execution_count": 15,
   "id": "b5e0d07a",
   "metadata": {},
   "outputs": [
    {
     "name": "stdout",
     "output_type": "stream",
     "text": [
      "20\n"
     ]
    },
    {
     "data": {
      "text/plain": [
       "['Clario India Pvt Ltd',\n",
       " 'Flipkart',\n",
       " 'Flipkart',\n",
       " 'Flipkart',\n",
       " 'Flipkart',\n",
       " 'Gojek',\n",
       " 'HCL',\n",
       " 'Inspiration Manpower Consultancy Pvt. Ltd.',\n",
       " 'Flipkart',\n",
       " 'Flipkart']"
      ]
     },
     "execution_count": 15,
     "metadata": {},
     "output_type": "execute_result"
    }
   ],
   "source": [
    "company_name=[]\n",
    "\n",
    "for i in name_tags:\n",
    "    company_name.append(i.text)\n",
    "    \n",
    "print(len(company_name))\n",
    "company_name_10=company_name[0:10]\n",
    "company_name_10"
   ]
  },
  {
   "cell_type": "code",
   "execution_count": 16,
   "id": "645e524a",
   "metadata": {},
   "outputs": [
    {
     "data": {
      "text/plain": [
       "[<selenium.webdriver.remote.webelement.WebElement (session=\"d50a7abf8ea9a25cf6f8771384d104dc\", element=\"6bf0cc1a-1dd9-4ac2-86db-6c63d76f5ee6\")>,\n",
       " <selenium.webdriver.remote.webelement.WebElement (session=\"d50a7abf8ea9a25cf6f8771384d104dc\", element=\"3e8bf9a5-8418-4034-850b-eaadf198e129\")>,\n",
       " <selenium.webdriver.remote.webelement.WebElement (session=\"d50a7abf8ea9a25cf6f8771384d104dc\", element=\"94f82cd9-c586-470e-8d00-a59a9a404737\")>,\n",
       " <selenium.webdriver.remote.webelement.WebElement (session=\"d50a7abf8ea9a25cf6f8771384d104dc\", element=\"69345bda-aa19-49db-af64-9142832674d6\")>,\n",
       " <selenium.webdriver.remote.webelement.WebElement (session=\"d50a7abf8ea9a25cf6f8771384d104dc\", element=\"520275e3-2540-43cc-ad4a-63107dc458da\")>,\n",
       " <selenium.webdriver.remote.webelement.WebElement (session=\"d50a7abf8ea9a25cf6f8771384d104dc\", element=\"69f1216e-df56-4358-bfe2-34513dbeafaf\")>,\n",
       " <selenium.webdriver.remote.webelement.WebElement (session=\"d50a7abf8ea9a25cf6f8771384d104dc\", element=\"d1bfc6e7-21df-47b1-a605-19c49122c14c\")>,\n",
       " <selenium.webdriver.remote.webelement.WebElement (session=\"d50a7abf8ea9a25cf6f8771384d104dc\", element=\"6c2aa8b0-4947-4dc7-9a2f-faa047bf11a9\")>,\n",
       " <selenium.webdriver.remote.webelement.WebElement (session=\"d50a7abf8ea9a25cf6f8771384d104dc\", element=\"c9cc8b37-38bb-4739-810f-d1d4261b8ce2\")>,\n",
       " <selenium.webdriver.remote.webelement.WebElement (session=\"d50a7abf8ea9a25cf6f8771384d104dc\", element=\"b00eccd1-7957-48ff-8b51-738931cee651\")>,\n",
       " <selenium.webdriver.remote.webelement.WebElement (session=\"d50a7abf8ea9a25cf6f8771384d104dc\", element=\"d29cf83b-a59e-46ab-a2a0-b37cb365e662\")>,\n",
       " <selenium.webdriver.remote.webelement.WebElement (session=\"d50a7abf8ea9a25cf6f8771384d104dc\", element=\"827dd7e8-2ba0-43a2-ab40-2d47711f5297\")>,\n",
       " <selenium.webdriver.remote.webelement.WebElement (session=\"d50a7abf8ea9a25cf6f8771384d104dc\", element=\"de452aa1-560d-45ad-a51c-6cc81868ff27\")>,\n",
       " <selenium.webdriver.remote.webelement.WebElement (session=\"d50a7abf8ea9a25cf6f8771384d104dc\", element=\"88538d72-81db-4baa-973f-2bc8d7cdf557\")>,\n",
       " <selenium.webdriver.remote.webelement.WebElement (session=\"d50a7abf8ea9a25cf6f8771384d104dc\", element=\"7d8d0140-2424-4c33-826c-da03651bdf9d\")>,\n",
       " <selenium.webdriver.remote.webelement.WebElement (session=\"d50a7abf8ea9a25cf6f8771384d104dc\", element=\"c7455d30-1119-4411-b2f8-369b9e350504\")>,\n",
       " <selenium.webdriver.remote.webelement.WebElement (session=\"d50a7abf8ea9a25cf6f8771384d104dc\", element=\"0e061b01-1e07-4f7a-a525-02c65fb583ef\")>,\n",
       " <selenium.webdriver.remote.webelement.WebElement (session=\"d50a7abf8ea9a25cf6f8771384d104dc\", element=\"d4965b6e-e58f-47dd-9bed-4d64b8b72d12\")>,\n",
       " <selenium.webdriver.remote.webelement.WebElement (session=\"d50a7abf8ea9a25cf6f8771384d104dc\", element=\"6351496a-3407-4d5c-b3c2-d77f08e214e2\")>]"
      ]
     },
     "execution_count": 16,
     "metadata": {},
     "output_type": "execute_result"
    }
   ],
   "source": [
    "#Extracting the experience required\n",
    "\n",
    "exp_tags=driver.find_elements_by_xpath('//li[@class=\"fleft grey-text br2 placeHolderLi experience\"]')\n",
    "exp_tags"
   ]
  },
  {
   "cell_type": "code",
   "execution_count": 17,
   "id": "677329eb",
   "metadata": {},
   "outputs": [
    {
     "name": "stdout",
     "output_type": "stream",
     "text": [
      "19\n"
     ]
    },
    {
     "data": {
      "text/plain": [
       "['0-2 Yrs',\n",
       " '3-6 Yrs',\n",
       " '3-8 Yrs',\n",
       " '2-4 Yrs',\n",
       " '2-4 Yrs',\n",
       " '3-8 Yrs',\n",
       " '6-11 Yrs',\n",
       " '4-7 Yrs',\n",
       " '1-3 Yrs',\n",
       " '1-2 Yrs']"
      ]
     },
     "execution_count": 17,
     "metadata": {},
     "output_type": "execute_result"
    }
   ],
   "source": [
    "experience_required=[]\n",
    "\n",
    "for i in exp_tags:\n",
    "    experience_required.append(i.text)\n",
    "    \n",
    "print(len(experience_required))\n",
    "experience_required_10=experience_required[0:10]\n",
    "experience_required_10"
   ]
  },
  {
   "cell_type": "code",
   "execution_count": 18,
   "id": "37eafc65",
   "metadata": {},
   "outputs": [
    {
     "data": {
      "text/html": [
       "<div>\n",
       "<style scoped>\n",
       "    .dataframe tbody tr th:only-of-type {\n",
       "        vertical-align: middle;\n",
       "    }\n",
       "\n",
       "    .dataframe tbody tr th {\n",
       "        vertical-align: top;\n",
       "    }\n",
       "\n",
       "    .dataframe thead th {\n",
       "        text-align: right;\n",
       "    }\n",
       "</style>\n",
       "<table border=\"1\" class=\"dataframe\">\n",
       "  <thead>\n",
       "    <tr style=\"text-align: right;\">\n",
       "      <th></th>\n",
       "      <th>Job Title</th>\n",
       "      <th>Job Location</th>\n",
       "      <th>Company Name</th>\n",
       "      <th>Experience Required</th>\n",
       "    </tr>\n",
       "  </thead>\n",
       "  <tbody>\n",
       "    <tr>\n",
       "      <th>1</th>\n",
       "      <td>Hiring For Data Analyst I(SQL &amp; Python)</td>\n",
       "      <td>Bangalore/Bengaluru</td>\n",
       "      <td>Clario India Pvt Ltd</td>\n",
       "      <td>0-2 Yrs</td>\n",
       "    </tr>\n",
       "    <tr>\n",
       "      <th>2</th>\n",
       "      <td>Senior Data Analyst II</td>\n",
       "      <td>Bangalore/Bengaluru</td>\n",
       "      <td>Flipkart</td>\n",
       "      <td>3-6 Yrs</td>\n",
       "    </tr>\n",
       "    <tr>\n",
       "      <th>3</th>\n",
       "      <td>Senior Data Analyst</td>\n",
       "      <td>Bangalore/Bengaluru</td>\n",
       "      <td>Flipkart</td>\n",
       "      <td>3-8 Yrs</td>\n",
       "    </tr>\n",
       "    <tr>\n",
       "      <th>4</th>\n",
       "      <td>Senior Data Analyst II</td>\n",
       "      <td>Bangalore/Bengaluru</td>\n",
       "      <td>Flipkart</td>\n",
       "      <td>2-4 Yrs</td>\n",
       "    </tr>\n",
       "    <tr>\n",
       "      <th>5</th>\n",
       "      <td>Senior Data Analyst II</td>\n",
       "      <td>Bangalore/Bengaluru</td>\n",
       "      <td>Flipkart</td>\n",
       "      <td>2-4 Yrs</td>\n",
       "    </tr>\n",
       "    <tr>\n",
       "      <th>6</th>\n",
       "      <td>Senior Data Analyst - Ads &amp; Promotion Platform...</td>\n",
       "      <td>Bangalore/Bengaluru</td>\n",
       "      <td>Gojek</td>\n",
       "      <td>3-8 Yrs</td>\n",
       "    </tr>\n",
       "    <tr>\n",
       "      <th>7</th>\n",
       "      <td>Hiring Data analyst with Pharma Background acr...</td>\n",
       "      <td>Hyderabad/Secunderabad, Chennai, Bangalore/Ben...</td>\n",
       "      <td>HCL</td>\n",
       "      <td>6-11 Yrs</td>\n",
       "    </tr>\n",
       "    <tr>\n",
       "      <th>8</th>\n",
       "      <td>Data Coordinator | Data Analyst | MS Excel | T...</td>\n",
       "      <td>Bangalore/Bengaluru(Sadashiva Nagar)</td>\n",
       "      <td>Inspiration Manpower Consultancy Pvt. Ltd.</td>\n",
       "      <td>4-7 Yrs</td>\n",
       "    </tr>\n",
       "    <tr>\n",
       "      <th>9</th>\n",
       "      <td>Lead Data Analyst - Flipkart Data science group</td>\n",
       "      <td>Bangalore/Bengaluru</td>\n",
       "      <td>Flipkart</td>\n",
       "      <td>1-3 Yrs</td>\n",
       "    </tr>\n",
       "    <tr>\n",
       "      <th>10</th>\n",
       "      <td>Data Analyst</td>\n",
       "      <td>Bangalore/Bengaluru</td>\n",
       "      <td>Flipkart</td>\n",
       "      <td>1-2 Yrs</td>\n",
       "    </tr>\n",
       "  </tbody>\n",
       "</table>\n",
       "</div>"
      ],
      "text/plain": [
       "                                            Job Title  \\\n",
       "1             Hiring For Data Analyst I(SQL & Python)   \n",
       "2                              Senior Data Analyst II   \n",
       "3                                 Senior Data Analyst   \n",
       "4                              Senior Data Analyst II   \n",
       "5                              Senior Data Analyst II   \n",
       "6   Senior Data Analyst - Ads & Promotion Platform...   \n",
       "7   Hiring Data analyst with Pharma Background acr...   \n",
       "8   Data Coordinator | Data Analyst | MS Excel | T...   \n",
       "9     Lead Data Analyst - Flipkart Data science group   \n",
       "10                                       Data Analyst   \n",
       "\n",
       "                                         Job Location  \\\n",
       "1                                 Bangalore/Bengaluru   \n",
       "2                                 Bangalore/Bengaluru   \n",
       "3                                 Bangalore/Bengaluru   \n",
       "4                                 Bangalore/Bengaluru   \n",
       "5                                 Bangalore/Bengaluru   \n",
       "6                                 Bangalore/Bengaluru   \n",
       "7   Hyderabad/Secunderabad, Chennai, Bangalore/Ben...   \n",
       "8                Bangalore/Bengaluru(Sadashiva Nagar)   \n",
       "9                                 Bangalore/Bengaluru   \n",
       "10                                Bangalore/Bengaluru   \n",
       "\n",
       "                                  Company Name Experience Required  \n",
       "1                         Clario India Pvt Ltd             0-2 Yrs  \n",
       "2                                     Flipkart             3-6 Yrs  \n",
       "3                                     Flipkart             3-8 Yrs  \n",
       "4                                     Flipkart             2-4 Yrs  \n",
       "5                                     Flipkart             2-4 Yrs  \n",
       "6                                        Gojek             3-8 Yrs  \n",
       "7                                          HCL            6-11 Yrs  \n",
       "8   Inspiration Manpower Consultancy Pvt. Ltd.             4-7 Yrs  \n",
       "9                                     Flipkart             1-3 Yrs  \n",
       "10                                    Flipkart             1-2 Yrs  "
      ]
     },
     "execution_count": 18,
     "metadata": {},
     "output_type": "execute_result"
    }
   ],
   "source": [
    "df1=pd.DataFrame({\"Job Title\":job_titles_10,\"Job Location\":job_location_10,\"Company Name\":company_name_10,\"Experience Required\":experience_required_10})\n",
    "df1.index=np.arange(1,len(df1)+1)\n",
    "df1"
   ]
  },
  {
   "cell_type": "markdown",
   "id": "8d959f2b",
   "metadata": {},
   "source": [
    "# Q2:"
   ]
  },
  {
   "cell_type": "code",
   "execution_count": 19,
   "id": "dbf5ecc2",
   "metadata": {},
   "outputs": [],
   "source": [
    "driver2=webdriver.Chrome(\"chromedriver.exe\")"
   ]
  },
  {
   "cell_type": "code",
   "execution_count": 20,
   "id": "ee8c7b64",
   "metadata": {},
   "outputs": [],
   "source": [
    "url2=\"https://www.naukri.com/\"\n",
    "driver2.get(url2)"
   ]
  },
  {
   "cell_type": "code",
   "execution_count": 21,
   "id": "916cea38",
   "metadata": {},
   "outputs": [
    {
     "data": {
      "text/plain": [
       "<selenium.webdriver.remote.webelement.WebElement (session=\"4738768bc29f65cf18ca7caeb628a7dd\", element=\"948fd4cf-bd53-44d4-b4cc-d6b3d63b8178\")>"
      ]
     },
     "execution_count": 21,
     "metadata": {},
     "output_type": "execute_result"
    }
   ],
   "source": [
    "search_job=driver2.find_element_by_xpath(\"/html/body/div/div[2]/div[3]/div/div/div[1]/div/div/div/input\")\n",
    "search_job"
   ]
  },
  {
   "cell_type": "code",
   "execution_count": 22,
   "id": "3d0a1238",
   "metadata": {},
   "outputs": [],
   "source": [
    "search_job.send_keys(\"Data Scientist\")"
   ]
  },
  {
   "cell_type": "code",
   "execution_count": 23,
   "id": "e1b77282",
   "metadata": {},
   "outputs": [
    {
     "data": {
      "text/plain": [
       "<selenium.webdriver.remote.webelement.WebElement (session=\"4738768bc29f65cf18ca7caeb628a7dd\", element=\"97e72e79-fa13-4037-9694-b367fcdd7d6f\")>"
      ]
     },
     "execution_count": 23,
     "metadata": {},
     "output_type": "execute_result"
    }
   ],
   "source": [
    "search_locn=driver2.find_element_by_xpath(\"/html/body/div/div[2]/div[3]/div/div/div[3]/div/div/div/input\")\n",
    "search_locn"
   ]
  },
  {
   "cell_type": "code",
   "execution_count": 24,
   "id": "011cfab9",
   "metadata": {},
   "outputs": [],
   "source": [
    "search_locn.send_keys(\"Bangalore\")"
   ]
  },
  {
   "cell_type": "code",
   "execution_count": 25,
   "id": "5bf88b4c",
   "metadata": {},
   "outputs": [
    {
     "data": {
      "text/plain": [
       "<selenium.webdriver.remote.webelement.WebElement (session=\"4738768bc29f65cf18ca7caeb628a7dd\", element=\"bf125910-6abe-44b5-b491-4ab33f9d18e6\")>"
      ]
     },
     "execution_count": 25,
     "metadata": {},
     "output_type": "execute_result"
    }
   ],
   "source": [
    "search_btn=driver2.find_element_by_class_name(\"qsbSubmit\")\n",
    "search_btn"
   ]
  },
  {
   "cell_type": "code",
   "execution_count": 26,
   "id": "dece27ee",
   "metadata": {},
   "outputs": [],
   "source": [
    "search_btn.click()"
   ]
  },
  {
   "cell_type": "code",
   "execution_count": 27,
   "id": "aa7e0f99",
   "metadata": {},
   "outputs": [
    {
     "data": {
      "text/plain": [
       "[<selenium.webdriver.remote.webelement.WebElement (session=\"4738768bc29f65cf18ca7caeb628a7dd\", element=\"6095d477-f90d-4487-acfd-a5f351427bc8\")>,\n",
       " <selenium.webdriver.remote.webelement.WebElement (session=\"4738768bc29f65cf18ca7caeb628a7dd\", element=\"841e5f88-f14b-4ced-b4c2-98156035b1cd\")>,\n",
       " <selenium.webdriver.remote.webelement.WebElement (session=\"4738768bc29f65cf18ca7caeb628a7dd\", element=\"02f61f95-0e02-4147-8b80-5ff986278869\")>,\n",
       " <selenium.webdriver.remote.webelement.WebElement (session=\"4738768bc29f65cf18ca7caeb628a7dd\", element=\"8cd5e50d-393a-4675-ad30-26450421ea2c\")>,\n",
       " <selenium.webdriver.remote.webelement.WebElement (session=\"4738768bc29f65cf18ca7caeb628a7dd\", element=\"d008b8c3-a6a1-43a8-a832-d8e7a28e67ba\")>,\n",
       " <selenium.webdriver.remote.webelement.WebElement (session=\"4738768bc29f65cf18ca7caeb628a7dd\", element=\"2547acb8-9426-405b-bffb-2dd68fc81b6c\")>,\n",
       " <selenium.webdriver.remote.webelement.WebElement (session=\"4738768bc29f65cf18ca7caeb628a7dd\", element=\"0f643a33-8339-4f38-aa49-a9697fc40b4d\")>,\n",
       " <selenium.webdriver.remote.webelement.WebElement (session=\"4738768bc29f65cf18ca7caeb628a7dd\", element=\"1227533a-4184-48dd-b8c8-cec2c978badb\")>,\n",
       " <selenium.webdriver.remote.webelement.WebElement (session=\"4738768bc29f65cf18ca7caeb628a7dd\", element=\"1200bac2-c360-43ad-96f6-e8ebdcdeedbe\")>,\n",
       " <selenium.webdriver.remote.webelement.WebElement (session=\"4738768bc29f65cf18ca7caeb628a7dd\", element=\"9ba06f1c-7a6e-4117-9639-b44aa1a7123b\")>,\n",
       " <selenium.webdriver.remote.webelement.WebElement (session=\"4738768bc29f65cf18ca7caeb628a7dd\", element=\"0d7e64f3-13d0-42f6-b7d1-9e2fdd2ee71e\")>,\n",
       " <selenium.webdriver.remote.webelement.WebElement (session=\"4738768bc29f65cf18ca7caeb628a7dd\", element=\"77eca26b-2266-4151-b062-65b46c198d90\")>,\n",
       " <selenium.webdriver.remote.webelement.WebElement (session=\"4738768bc29f65cf18ca7caeb628a7dd\", element=\"7aba1be8-5471-404a-a78f-f49458fc6878\")>,\n",
       " <selenium.webdriver.remote.webelement.WebElement (session=\"4738768bc29f65cf18ca7caeb628a7dd\", element=\"26e27dc1-f11d-4795-8175-3ab7198f7f5c\")>,\n",
       " <selenium.webdriver.remote.webelement.WebElement (session=\"4738768bc29f65cf18ca7caeb628a7dd\", element=\"5f61d060-7415-4031-9520-3e58dca0dea4\")>,\n",
       " <selenium.webdriver.remote.webelement.WebElement (session=\"4738768bc29f65cf18ca7caeb628a7dd\", element=\"37113760-09b4-4c7e-a7e0-2e5070a83f2f\")>,\n",
       " <selenium.webdriver.remote.webelement.WebElement (session=\"4738768bc29f65cf18ca7caeb628a7dd\", element=\"8289a638-6684-491a-a0df-51c09367c2d1\")>,\n",
       " <selenium.webdriver.remote.webelement.WebElement (session=\"4738768bc29f65cf18ca7caeb628a7dd\", element=\"877efc4d-2306-46da-a432-85fc93490839\")>,\n",
       " <selenium.webdriver.remote.webelement.WebElement (session=\"4738768bc29f65cf18ca7caeb628a7dd\", element=\"daa0625c-a535-4dc5-8b5e-496eceb0133e\")>,\n",
       " <selenium.webdriver.remote.webelement.WebElement (session=\"4738768bc29f65cf18ca7caeb628a7dd\", element=\"32419c08-0a2a-45f5-b46f-db4f180d74bf\")>]"
      ]
     },
     "execution_count": 27,
     "metadata": {},
     "output_type": "execute_result"
    }
   ],
   "source": [
    "#Extracting job title\n",
    "\n",
    "title_tags=driver2.find_elements_by_xpath(\"//a[@class='title fw500 ellipsis']\")\n",
    "title_tags"
   ]
  },
  {
   "cell_type": "code",
   "execution_count": 28,
   "id": "e8013f76",
   "metadata": {},
   "outputs": [
    {
     "data": {
      "text/plain": [
       "['Need Data scientists and data engineers - WFH- less than 30days notice',\n",
       " 'Principal Data Scientist',\n",
       " 'Data Scientist',\n",
       " 'Data Scientist',\n",
       " 'Senior Data Scientist Payments',\n",
       " 'Computer Vision Python Data Scientist',\n",
       " 'Data Scientist',\n",
       " 'Data Scientist',\n",
       " 'Lead Data Scientist',\n",
       " 'Senior/ Lead Data Scientist']"
      ]
     },
     "execution_count": 28,
     "metadata": {},
     "output_type": "execute_result"
    }
   ],
   "source": [
    "job_title=[]\n",
    "\n",
    "for i in title_tags:\n",
    "    job_title.append(i.text)\n",
    "    \n",
    "job_title_10=job_title[0:10]\n",
    "job_title_10"
   ]
  },
  {
   "cell_type": "code",
   "execution_count": 29,
   "id": "b10c7d55",
   "metadata": {},
   "outputs": [
    {
     "data": {
      "text/plain": [
       "[<selenium.webdriver.remote.webelement.WebElement (session=\"4738768bc29f65cf18ca7caeb628a7dd\", element=\"36825e65-ff6b-49cf-992e-28f1e6f4c8c6\")>,\n",
       " <selenium.webdriver.remote.webelement.WebElement (session=\"4738768bc29f65cf18ca7caeb628a7dd\", element=\"88146e33-bd10-453e-9352-c8ac498faabb\")>,\n",
       " <selenium.webdriver.remote.webelement.WebElement (session=\"4738768bc29f65cf18ca7caeb628a7dd\", element=\"ba725883-c935-4631-9c51-8b2c51eb56e0\")>,\n",
       " <selenium.webdriver.remote.webelement.WebElement (session=\"4738768bc29f65cf18ca7caeb628a7dd\", element=\"fd2e3f93-d60d-45ae-81f5-61e017566120\")>,\n",
       " <selenium.webdriver.remote.webelement.WebElement (session=\"4738768bc29f65cf18ca7caeb628a7dd\", element=\"87c8a15d-738a-4080-87ef-8aed05910d52\")>,\n",
       " <selenium.webdriver.remote.webelement.WebElement (session=\"4738768bc29f65cf18ca7caeb628a7dd\", element=\"01242849-4dbf-41aa-b8dc-aca7785f3a47\")>,\n",
       " <selenium.webdriver.remote.webelement.WebElement (session=\"4738768bc29f65cf18ca7caeb628a7dd\", element=\"06963a9c-0906-4290-ba48-99e156d5e154\")>,\n",
       " <selenium.webdriver.remote.webelement.WebElement (session=\"4738768bc29f65cf18ca7caeb628a7dd\", element=\"b7ad50d4-4a36-4780-ad3f-9ab321c6dc1b\")>,\n",
       " <selenium.webdriver.remote.webelement.WebElement (session=\"4738768bc29f65cf18ca7caeb628a7dd\", element=\"a7932e9b-6d50-4c63-8aed-7a9a425cf35e\")>,\n",
       " <selenium.webdriver.remote.webelement.WebElement (session=\"4738768bc29f65cf18ca7caeb628a7dd\", element=\"b8c0a950-82cd-4d72-81ce-441768ebf6df\")>,\n",
       " <selenium.webdriver.remote.webelement.WebElement (session=\"4738768bc29f65cf18ca7caeb628a7dd\", element=\"00cc9bd4-a079-4c80-95ab-ea8135169791\")>,\n",
       " <selenium.webdriver.remote.webelement.WebElement (session=\"4738768bc29f65cf18ca7caeb628a7dd\", element=\"b370c070-9d0c-4bc9-87a8-403edf76e5a6\")>,\n",
       " <selenium.webdriver.remote.webelement.WebElement (session=\"4738768bc29f65cf18ca7caeb628a7dd\", element=\"006b8545-ab3d-4e75-a3f8-182f7ac5f30e\")>,\n",
       " <selenium.webdriver.remote.webelement.WebElement (session=\"4738768bc29f65cf18ca7caeb628a7dd\", element=\"5e320b17-45ee-4c5d-a398-40af3a59ecc8\")>,\n",
       " <selenium.webdriver.remote.webelement.WebElement (session=\"4738768bc29f65cf18ca7caeb628a7dd\", element=\"67c0b52c-3e61-4c73-bc21-414ca1b16cca\")>,\n",
       " <selenium.webdriver.remote.webelement.WebElement (session=\"4738768bc29f65cf18ca7caeb628a7dd\", element=\"30806b7c-937b-4560-a2e9-1d73a910ad78\")>,\n",
       " <selenium.webdriver.remote.webelement.WebElement (session=\"4738768bc29f65cf18ca7caeb628a7dd\", element=\"a25d26f3-5099-434e-a1f4-f2b4f3167b56\")>,\n",
       " <selenium.webdriver.remote.webelement.WebElement (session=\"4738768bc29f65cf18ca7caeb628a7dd\", element=\"bf6b33c9-4b73-4169-84c4-5610b5f880c0\")>,\n",
       " <selenium.webdriver.remote.webelement.WebElement (session=\"4738768bc29f65cf18ca7caeb628a7dd\", element=\"0f64a4e0-681d-4859-a261-177ec2bc77fe\")>,\n",
       " <selenium.webdriver.remote.webelement.WebElement (session=\"4738768bc29f65cf18ca7caeb628a7dd\", element=\"534fe5b8-aacb-42fe-807a-1974632ee73e\")>]"
      ]
     },
     "execution_count": 29,
     "metadata": {},
     "output_type": "execute_result"
    }
   ],
   "source": [
    "#Extracting job location\n",
    "\n",
    "locn_tags=driver2.find_elements_by_xpath(\"//li[@class='fleft grey-text br2 placeHolderLi location']\")\n",
    "locn_tags"
   ]
  },
  {
   "cell_type": "code",
   "execution_count": 30,
   "id": "7144761b",
   "metadata": {},
   "outputs": [
    {
     "data": {
      "text/plain": [
       "['Hyderabad/Secunderabad, Bangalore/Bengaluru, Mumbai (All Areas)\\n(WFH during Covid)',\n",
       " 'Bangalore/Bengaluru',\n",
       " 'Pune, Gurgaon/Gurugram, Chennai, Bangalore/Bengaluru, Delhi / NCR, Mumbai (All Areas)',\n",
       " 'Bangalore/Bengaluru',\n",
       " 'Bangalore/Bengaluru',\n",
       " 'Mumbai, Hyderabad/Secunderabad, Pune, Chennai, Bangalore/Bengaluru',\n",
       " 'Bangalore/Bengaluru',\n",
       " 'Bangalore/Bengaluru',\n",
       " 'Bangalore/Bengaluru',\n",
       " 'Bangalore/Bengaluru']"
      ]
     },
     "execution_count": 30,
     "metadata": {},
     "output_type": "execute_result"
    }
   ],
   "source": [
    "job_location=[]\n",
    "\n",
    "for i in locn_tags:\n",
    "    job_location.append(i.text)\n",
    "    \n",
    "job_location_10=job_location[0:10]\n",
    "job_location_10"
   ]
  },
  {
   "cell_type": "code",
   "execution_count": 31,
   "id": "d1c36d3c",
   "metadata": {},
   "outputs": [
    {
     "data": {
      "text/plain": [
       "[<selenium.webdriver.remote.webelement.WebElement (session=\"4738768bc29f65cf18ca7caeb628a7dd\", element=\"0d3c04f8-1d07-49c2-85c3-f4edb066548e\")>,\n",
       " <selenium.webdriver.remote.webelement.WebElement (session=\"4738768bc29f65cf18ca7caeb628a7dd\", element=\"e773a87b-377b-4bed-8c61-f672957c1f7d\")>,\n",
       " <selenium.webdriver.remote.webelement.WebElement (session=\"4738768bc29f65cf18ca7caeb628a7dd\", element=\"806f9dc2-a25b-4582-bb05-a91b123b4085\")>,\n",
       " <selenium.webdriver.remote.webelement.WebElement (session=\"4738768bc29f65cf18ca7caeb628a7dd\", element=\"1619f9bc-4026-4b3e-b4fb-959661222b0b\")>,\n",
       " <selenium.webdriver.remote.webelement.WebElement (session=\"4738768bc29f65cf18ca7caeb628a7dd\", element=\"a20c709c-546f-46c4-8c66-d3a72c59ad1a\")>,\n",
       " <selenium.webdriver.remote.webelement.WebElement (session=\"4738768bc29f65cf18ca7caeb628a7dd\", element=\"2493e482-d71e-4264-a17d-fc8a74223711\")>,\n",
       " <selenium.webdriver.remote.webelement.WebElement (session=\"4738768bc29f65cf18ca7caeb628a7dd\", element=\"f9cb99b5-4eed-4481-8e29-99cc1a74ba98\")>,\n",
       " <selenium.webdriver.remote.webelement.WebElement (session=\"4738768bc29f65cf18ca7caeb628a7dd\", element=\"521c4857-083c-4cec-845a-ae0bfbb88693\")>,\n",
       " <selenium.webdriver.remote.webelement.WebElement (session=\"4738768bc29f65cf18ca7caeb628a7dd\", element=\"09334513-4efa-4336-a942-bc67b91d5f00\")>,\n",
       " <selenium.webdriver.remote.webelement.WebElement (session=\"4738768bc29f65cf18ca7caeb628a7dd\", element=\"768fc21c-1cc9-4f1e-b940-0b8208ff4596\")>,\n",
       " <selenium.webdriver.remote.webelement.WebElement (session=\"4738768bc29f65cf18ca7caeb628a7dd\", element=\"a979e1eb-fdba-4ca3-a9b1-3fdbe93f2018\")>,\n",
       " <selenium.webdriver.remote.webelement.WebElement (session=\"4738768bc29f65cf18ca7caeb628a7dd\", element=\"3e40061a-21d3-491b-8bce-5eddf2302991\")>,\n",
       " <selenium.webdriver.remote.webelement.WebElement (session=\"4738768bc29f65cf18ca7caeb628a7dd\", element=\"5151d7b5-6b97-4d63-830d-3f6c75898e55\")>,\n",
       " <selenium.webdriver.remote.webelement.WebElement (session=\"4738768bc29f65cf18ca7caeb628a7dd\", element=\"ba1e87f7-9c5f-4e6e-b221-f58e8f242906\")>,\n",
       " <selenium.webdriver.remote.webelement.WebElement (session=\"4738768bc29f65cf18ca7caeb628a7dd\", element=\"6790211a-2409-4b4a-bc09-8cbd87d24fd5\")>,\n",
       " <selenium.webdriver.remote.webelement.WebElement (session=\"4738768bc29f65cf18ca7caeb628a7dd\", element=\"c403f003-c35c-4506-9171-c157039f7173\")>,\n",
       " <selenium.webdriver.remote.webelement.WebElement (session=\"4738768bc29f65cf18ca7caeb628a7dd\", element=\"be0e874b-28ed-4489-a0f4-c5cefdfbb699\")>,\n",
       " <selenium.webdriver.remote.webelement.WebElement (session=\"4738768bc29f65cf18ca7caeb628a7dd\", element=\"9784046b-a277-4a5c-ac90-1561b2705882\")>,\n",
       " <selenium.webdriver.remote.webelement.WebElement (session=\"4738768bc29f65cf18ca7caeb628a7dd\", element=\"6185e63e-37af-4637-98b2-6d84a386e32d\")>,\n",
       " <selenium.webdriver.remote.webelement.WebElement (session=\"4738768bc29f65cf18ca7caeb628a7dd\", element=\"0715f3fb-08e6-4f75-ad41-433fcad42074\")>]"
      ]
     },
     "execution_count": 31,
     "metadata": {},
     "output_type": "execute_result"
    }
   ],
   "source": [
    "#Extracting company name\n",
    "\n",
    "name_tags=driver2.find_elements_by_xpath(\"//a[@class='subTitle ellipsis fleft']\")\n",
    "name_tags"
   ]
  },
  {
   "cell_type": "code",
   "execution_count": 32,
   "id": "64fe6548",
   "metadata": {},
   "outputs": [
    {
     "data": {
      "text/plain": [
       "['Covalense Technologies Private Limited',\n",
       " 'Mobile Premier League',\n",
       " 'HDFC Bank',\n",
       " 'Shell',\n",
       " 'AirSeva',\n",
       " 'OceanOfWeb',\n",
       " 'Minions Ventures',\n",
       " 'Gojek',\n",
       " 'Kyndryl',\n",
       " 'AmoliTalents']"
      ]
     },
     "execution_count": 32,
     "metadata": {},
     "output_type": "execute_result"
    }
   ],
   "source": [
    "company_name=[]\n",
    "\n",
    "for i in name_tags:\n",
    "    company_name.append(i.text)\n",
    "    \n",
    "company_name_10=company_name[0:10]\n",
    "company_name_10"
   ]
  },
  {
   "cell_type": "code",
   "execution_count": 33,
   "id": "41b467b8",
   "metadata": {},
   "outputs": [
    {
     "data": {
      "text/html": [
       "<div>\n",
       "<style scoped>\n",
       "    .dataframe tbody tr th:only-of-type {\n",
       "        vertical-align: middle;\n",
       "    }\n",
       "\n",
       "    .dataframe tbody tr th {\n",
       "        vertical-align: top;\n",
       "    }\n",
       "\n",
       "    .dataframe thead th {\n",
       "        text-align: right;\n",
       "    }\n",
       "</style>\n",
       "<table border=\"1\" class=\"dataframe\">\n",
       "  <thead>\n",
       "    <tr style=\"text-align: right;\">\n",
       "      <th></th>\n",
       "      <th>Job Title</th>\n",
       "      <th>Job Location</th>\n",
       "      <th>Company Name</th>\n",
       "    </tr>\n",
       "  </thead>\n",
       "  <tbody>\n",
       "    <tr>\n",
       "      <th>1</th>\n",
       "      <td>Need Data scientists and data engineers - WFH-...</td>\n",
       "      <td>Hyderabad/Secunderabad, Bangalore/Bengaluru, M...</td>\n",
       "      <td>Covalense Technologies Private Limited</td>\n",
       "    </tr>\n",
       "    <tr>\n",
       "      <th>2</th>\n",
       "      <td>Principal Data Scientist</td>\n",
       "      <td>Bangalore/Bengaluru</td>\n",
       "      <td>Mobile Premier League</td>\n",
       "    </tr>\n",
       "    <tr>\n",
       "      <th>3</th>\n",
       "      <td>Data Scientist</td>\n",
       "      <td>Pune, Gurgaon/Gurugram, Chennai, Bangalore/Ben...</td>\n",
       "      <td>HDFC Bank</td>\n",
       "    </tr>\n",
       "    <tr>\n",
       "      <th>4</th>\n",
       "      <td>Data Scientist</td>\n",
       "      <td>Bangalore/Bengaluru</td>\n",
       "      <td>Shell</td>\n",
       "    </tr>\n",
       "    <tr>\n",
       "      <th>5</th>\n",
       "      <td>Senior Data Scientist Payments</td>\n",
       "      <td>Bangalore/Bengaluru</td>\n",
       "      <td>AirSeva</td>\n",
       "    </tr>\n",
       "    <tr>\n",
       "      <th>6</th>\n",
       "      <td>Computer Vision Python Data Scientist</td>\n",
       "      <td>Mumbai, Hyderabad/Secunderabad, Pune, Chennai,...</td>\n",
       "      <td>OceanOfWeb</td>\n",
       "    </tr>\n",
       "    <tr>\n",
       "      <th>7</th>\n",
       "      <td>Data Scientist</td>\n",
       "      <td>Bangalore/Bengaluru</td>\n",
       "      <td>Minions Ventures</td>\n",
       "    </tr>\n",
       "    <tr>\n",
       "      <th>8</th>\n",
       "      <td>Data Scientist</td>\n",
       "      <td>Bangalore/Bengaluru</td>\n",
       "      <td>Gojek</td>\n",
       "    </tr>\n",
       "    <tr>\n",
       "      <th>9</th>\n",
       "      <td>Lead Data Scientist</td>\n",
       "      <td>Bangalore/Bengaluru</td>\n",
       "      <td>Kyndryl</td>\n",
       "    </tr>\n",
       "    <tr>\n",
       "      <th>10</th>\n",
       "      <td>Senior/ Lead Data Scientist</td>\n",
       "      <td>Bangalore/Bengaluru</td>\n",
       "      <td>AmoliTalents</td>\n",
       "    </tr>\n",
       "  </tbody>\n",
       "</table>\n",
       "</div>"
      ],
      "text/plain": [
       "                                            Job Title  \\\n",
       "1   Need Data scientists and data engineers - WFH-...   \n",
       "2                            Principal Data Scientist   \n",
       "3                                      Data Scientist   \n",
       "4                                      Data Scientist   \n",
       "5                      Senior Data Scientist Payments   \n",
       "6               Computer Vision Python Data Scientist   \n",
       "7                                      Data Scientist   \n",
       "8                                      Data Scientist   \n",
       "9                                 Lead Data Scientist   \n",
       "10                        Senior/ Lead Data Scientist   \n",
       "\n",
       "                                         Job Location  \\\n",
       "1   Hyderabad/Secunderabad, Bangalore/Bengaluru, M...   \n",
       "2                                 Bangalore/Bengaluru   \n",
       "3   Pune, Gurgaon/Gurugram, Chennai, Bangalore/Ben...   \n",
       "4                                 Bangalore/Bengaluru   \n",
       "5                                 Bangalore/Bengaluru   \n",
       "6   Mumbai, Hyderabad/Secunderabad, Pune, Chennai,...   \n",
       "7                                 Bangalore/Bengaluru   \n",
       "8                                 Bangalore/Bengaluru   \n",
       "9                                 Bangalore/Bengaluru   \n",
       "10                                Bangalore/Bengaluru   \n",
       "\n",
       "                              Company Name  \n",
       "1   Covalense Technologies Private Limited  \n",
       "2                    Mobile Premier League  \n",
       "3                                HDFC Bank  \n",
       "4                                    Shell  \n",
       "5                                  AirSeva  \n",
       "6                               OceanOfWeb  \n",
       "7                         Minions Ventures  \n",
       "8                                    Gojek  \n",
       "9                                  Kyndryl  \n",
       "10                            AmoliTalents  "
      ]
     },
     "execution_count": 33,
     "metadata": {},
     "output_type": "execute_result"
    }
   ],
   "source": [
    "df2=pd.DataFrame({\"Job Title\":job_title_10,\"Job Location\":job_location_10,\"Company Name\":company_name_10})\n",
    "df2.index=np.arange(1,len(df2)+1)\n",
    "df2"
   ]
  },
  {
   "cell_type": "markdown",
   "id": "072681c1",
   "metadata": {},
   "source": [
    "# Q3:"
   ]
  },
  {
   "cell_type": "code",
   "execution_count": 34,
   "id": "ef1e6dc6",
   "metadata": {},
   "outputs": [],
   "source": [
    "driver3=webdriver.Chrome(\"chromedriver.exe\")"
   ]
  },
  {
   "cell_type": "code",
   "execution_count": 35,
   "id": "88063ef0",
   "metadata": {},
   "outputs": [],
   "source": [
    "url3=\"https://www.naukri.com/\"\n",
    "driver3.get(url3)"
   ]
  },
  {
   "cell_type": "code",
   "execution_count": 36,
   "id": "80593d66",
   "metadata": {},
   "outputs": [
    {
     "data": {
      "text/plain": [
       "<selenium.webdriver.remote.webelement.WebElement (session=\"00bbd2b592de8ba1ca4c84e969999f4e\", element=\"e54b6242-e9b7-421a-b884-1749a7beb003\")>"
      ]
     },
     "execution_count": 36,
     "metadata": {},
     "output_type": "execute_result"
    }
   ],
   "source": [
    "search_job=driver3.find_element_by_xpath(\"/html/body/div/div[2]/div[3]/div/div/div[1]/div/div/div/input\")\n",
    "search_job"
   ]
  },
  {
   "cell_type": "code",
   "execution_count": 37,
   "id": "cc29f8c1",
   "metadata": {},
   "outputs": [],
   "source": [
    "search_job.send_keys(\"Data Scientist\")"
   ]
  },
  {
   "cell_type": "code",
   "execution_count": 38,
   "id": "7956aa4f",
   "metadata": {},
   "outputs": [
    {
     "data": {
      "text/plain": [
       "<selenium.webdriver.remote.webelement.WebElement (session=\"00bbd2b592de8ba1ca4c84e969999f4e\", element=\"49df8000-b7b5-4d5e-a425-0808851350b8\")>"
      ]
     },
     "execution_count": 38,
     "metadata": {},
     "output_type": "execute_result"
    }
   ],
   "source": [
    "search_btn=driver3.find_element_by_class_name(\"qsbSubmit\")\n",
    "search_btn"
   ]
  },
  {
   "cell_type": "code",
   "execution_count": 39,
   "id": "0ada8d51",
   "metadata": {},
   "outputs": [],
   "source": [
    "search_btn.click()"
   ]
  },
  {
   "cell_type": "code",
   "execution_count": 40,
   "id": "6e7b45ff",
   "metadata": {},
   "outputs": [
    {
     "data": {
      "text/plain": [
       "<selenium.webdriver.remote.webelement.WebElement (session=\"00bbd2b592de8ba1ca4c84e969999f4e\", element=\"7187b61f-4ead-4612-8431-ea11c769c15c\")>"
      ]
     },
     "execution_count": 40,
     "metadata": {},
     "output_type": "execute_result"
    }
   ],
   "source": [
    "locn_filter=driver3.find_element_by_xpath(\"/html/body/div[1]/div[3]/div[2]/section[1]/div[2]/div[3]/div[2]/div[3]/label/i\")\n",
    "locn_filter"
   ]
  },
  {
   "cell_type": "code",
   "execution_count": 41,
   "id": "80ac209d",
   "metadata": {},
   "outputs": [],
   "source": [
    "locn_filter.click()"
   ]
  },
  {
   "cell_type": "code",
   "execution_count": 42,
   "id": "d27e39cf",
   "metadata": {},
   "outputs": [
    {
     "data": {
      "text/plain": [
       "<selenium.webdriver.remote.webelement.WebElement (session=\"00bbd2b592de8ba1ca4c84e969999f4e\", element=\"bace3b28-1bd0-4296-9368-75df42e576a0\")>"
      ]
     },
     "execution_count": 42,
     "metadata": {},
     "output_type": "execute_result"
    }
   ],
   "source": [
    "salary_filter=driver3.find_element_by_xpath(\"/html/body/div[1]/div[3]/div[2]/section[1]/div[2]/div[4]/div[2]/div[2]/label/i\")\n",
    "salary_filter"
   ]
  },
  {
   "cell_type": "code",
   "execution_count": 43,
   "id": "2b656de8",
   "metadata": {},
   "outputs": [],
   "source": [
    "salary_filter.click()"
   ]
  },
  {
   "cell_type": "code",
   "execution_count": 44,
   "id": "f54a5dd8",
   "metadata": {},
   "outputs": [
    {
     "data": {
      "text/plain": [
       "[<selenium.webdriver.remote.webelement.WebElement (session=\"00bbd2b592de8ba1ca4c84e969999f4e\", element=\"07d5ebe3-f017-4948-9778-f9c4475a8d85\")>,\n",
       " <selenium.webdriver.remote.webelement.WebElement (session=\"00bbd2b592de8ba1ca4c84e969999f4e\", element=\"06c40134-dd52-45cf-a52c-a831a0ccf77f\")>,\n",
       " <selenium.webdriver.remote.webelement.WebElement (session=\"00bbd2b592de8ba1ca4c84e969999f4e\", element=\"3ed65930-fae3-49ee-980f-9ee74473a07f\")>,\n",
       " <selenium.webdriver.remote.webelement.WebElement (session=\"00bbd2b592de8ba1ca4c84e969999f4e\", element=\"dc306e81-ebfc-4fbf-9910-d5ffb02d2b3b\")>,\n",
       " <selenium.webdriver.remote.webelement.WebElement (session=\"00bbd2b592de8ba1ca4c84e969999f4e\", element=\"4683fe00-29b6-44b7-bd30-8c705d538609\")>,\n",
       " <selenium.webdriver.remote.webelement.WebElement (session=\"00bbd2b592de8ba1ca4c84e969999f4e\", element=\"7631a453-9c59-4630-b7ab-1849359b8d6d\")>,\n",
       " <selenium.webdriver.remote.webelement.WebElement (session=\"00bbd2b592de8ba1ca4c84e969999f4e\", element=\"26f947bb-b89e-4cfe-be2f-5a60cb3983ae\")>,\n",
       " <selenium.webdriver.remote.webelement.WebElement (session=\"00bbd2b592de8ba1ca4c84e969999f4e\", element=\"620737fb-9658-4d0b-bd2a-e15ccd9e6763\")>,\n",
       " <selenium.webdriver.remote.webelement.WebElement (session=\"00bbd2b592de8ba1ca4c84e969999f4e\", element=\"fc9907d5-dc4c-4342-8caa-3972efac8c53\")>,\n",
       " <selenium.webdriver.remote.webelement.WebElement (session=\"00bbd2b592de8ba1ca4c84e969999f4e\", element=\"b91dd0a1-1093-4283-9043-7fbbfbb12200\")>,\n",
       " <selenium.webdriver.remote.webelement.WebElement (session=\"00bbd2b592de8ba1ca4c84e969999f4e\", element=\"ff3dc654-79ee-4071-8ae3-b1a5afd93c97\")>,\n",
       " <selenium.webdriver.remote.webelement.WebElement (session=\"00bbd2b592de8ba1ca4c84e969999f4e\", element=\"a06d519d-d303-40e2-9e5d-cb1f22a17197\")>,\n",
       " <selenium.webdriver.remote.webelement.WebElement (session=\"00bbd2b592de8ba1ca4c84e969999f4e\", element=\"45e448bb-df64-4395-a157-f1f651adaf3b\")>,\n",
       " <selenium.webdriver.remote.webelement.WebElement (session=\"00bbd2b592de8ba1ca4c84e969999f4e\", element=\"d65a74e7-ebd0-4739-8627-b9c752888016\")>,\n",
       " <selenium.webdriver.remote.webelement.WebElement (session=\"00bbd2b592de8ba1ca4c84e969999f4e\", element=\"a48f36d8-bcab-4a6e-aba6-d81ac29358a0\")>,\n",
       " <selenium.webdriver.remote.webelement.WebElement (session=\"00bbd2b592de8ba1ca4c84e969999f4e\", element=\"5f899288-6cb3-4a3b-887a-577bdf2b83de\")>,\n",
       " <selenium.webdriver.remote.webelement.WebElement (session=\"00bbd2b592de8ba1ca4c84e969999f4e\", element=\"69c292ca-e2f6-42f6-90f3-44c8c282bc6f\")>,\n",
       " <selenium.webdriver.remote.webelement.WebElement (session=\"00bbd2b592de8ba1ca4c84e969999f4e\", element=\"af36a360-4702-4395-9d2b-41227ae23f2c\")>,\n",
       " <selenium.webdriver.remote.webelement.WebElement (session=\"00bbd2b592de8ba1ca4c84e969999f4e\", element=\"15429d0f-878f-4c6a-b165-e2b6b315b96f\")>,\n",
       " <selenium.webdriver.remote.webelement.WebElement (session=\"00bbd2b592de8ba1ca4c84e969999f4e\", element=\"051a4068-950b-442d-a812-3593cc2e4591\")>]"
      ]
     },
     "execution_count": 44,
     "metadata": {},
     "output_type": "execute_result"
    }
   ],
   "source": [
    "#Extracting job title\n",
    "\n",
    "title_tags=driver3.find_elements_by_xpath(\"//a[@class='title fw500 ellipsis']\")\n",
    "title_tags"
   ]
  },
  {
   "cell_type": "code",
   "execution_count": 45,
   "id": "81146452",
   "metadata": {},
   "outputs": [
    {
     "data": {
      "text/plain": [
       "['Excellent Opportunity For Freshers For AI/ML, Data Scientist, BI, QA',\n",
       " 'Data Analyst / Data Scientist / Business Analytics / Fresher - MNC',\n",
       " 'Hiring For Senior Data Scientist-Noida',\n",
       " 'Data scientist- Python',\n",
       " 'Junior Data Analyst/ Scientist- Fresher Position',\n",
       " 'Data Scientist _NLP',\n",
       " 'Data Scientist - MIND Infotech',\n",
       " 'Data Scientist - MIND Infotech',\n",
       " 'Only Fresher / Python Data Scientist / Trainee / Analytics - MNC Jobs',\n",
       " 'Lead Data Scientist']"
      ]
     },
     "execution_count": 45,
     "metadata": {},
     "output_type": "execute_result"
    }
   ],
   "source": [
    "job_title=[]\n",
    "\n",
    "for i in title_tags:\n",
    "    job_title.append(i.text)\n",
    "    \n",
    "job_title_10=job_title[0:10]\n",
    "job_title_10"
   ]
  },
  {
   "cell_type": "code",
   "execution_count": 46,
   "id": "e40d2492",
   "metadata": {},
   "outputs": [
    {
     "data": {
      "text/plain": [
       "[<selenium.webdriver.remote.webelement.WebElement (session=\"00bbd2b592de8ba1ca4c84e969999f4e\", element=\"8dcc8d74-f29b-4e53-8527-b64eb7f9c374\")>,\n",
       " <selenium.webdriver.remote.webelement.WebElement (session=\"00bbd2b592de8ba1ca4c84e969999f4e\", element=\"3e7e92c7-5d42-416e-9a9b-9246fa18534c\")>,\n",
       " <selenium.webdriver.remote.webelement.WebElement (session=\"00bbd2b592de8ba1ca4c84e969999f4e\", element=\"581be9de-0aec-4ff7-8514-73c95b5c1f3e\")>,\n",
       " <selenium.webdriver.remote.webelement.WebElement (session=\"00bbd2b592de8ba1ca4c84e969999f4e\", element=\"5083bf80-a8d7-4856-b1a5-74e603243dc0\")>,\n",
       " <selenium.webdriver.remote.webelement.WebElement (session=\"00bbd2b592de8ba1ca4c84e969999f4e\", element=\"18fe848c-d1b5-47d4-8222-da9ee7093609\")>,\n",
       " <selenium.webdriver.remote.webelement.WebElement (session=\"00bbd2b592de8ba1ca4c84e969999f4e\", element=\"59e438b5-fb0d-475b-a4d4-99131eb370b2\")>,\n",
       " <selenium.webdriver.remote.webelement.WebElement (session=\"00bbd2b592de8ba1ca4c84e969999f4e\", element=\"37916540-a405-4a55-b2d5-452d36365d10\")>,\n",
       " <selenium.webdriver.remote.webelement.WebElement (session=\"00bbd2b592de8ba1ca4c84e969999f4e\", element=\"c144c68a-301a-4a44-8675-34065b2c751c\")>,\n",
       " <selenium.webdriver.remote.webelement.WebElement (session=\"00bbd2b592de8ba1ca4c84e969999f4e\", element=\"5082f6a9-65fd-4530-a815-522efca5df37\")>,\n",
       " <selenium.webdriver.remote.webelement.WebElement (session=\"00bbd2b592de8ba1ca4c84e969999f4e\", element=\"afb71b9c-8800-40e0-9c92-a4928c4e216d\")>,\n",
       " <selenium.webdriver.remote.webelement.WebElement (session=\"00bbd2b592de8ba1ca4c84e969999f4e\", element=\"96648dfa-3cd3-48c3-9810-9cc935ff4c22\")>,\n",
       " <selenium.webdriver.remote.webelement.WebElement (session=\"00bbd2b592de8ba1ca4c84e969999f4e\", element=\"baa454d0-5cdd-4405-b952-5a7f52947bda\")>,\n",
       " <selenium.webdriver.remote.webelement.WebElement (session=\"00bbd2b592de8ba1ca4c84e969999f4e\", element=\"36c875c7-358a-4cb8-9a77-7ceaaa54fcc8\")>,\n",
       " <selenium.webdriver.remote.webelement.WebElement (session=\"00bbd2b592de8ba1ca4c84e969999f4e\", element=\"79d35541-425f-4790-91d2-70b4214e2744\")>,\n",
       " <selenium.webdriver.remote.webelement.WebElement (session=\"00bbd2b592de8ba1ca4c84e969999f4e\", element=\"428fd65f-2bda-4176-b951-0aaab1c4db02\")>,\n",
       " <selenium.webdriver.remote.webelement.WebElement (session=\"00bbd2b592de8ba1ca4c84e969999f4e\", element=\"61edd5e0-1c29-41d9-8a45-ab02e1ab79a9\")>,\n",
       " <selenium.webdriver.remote.webelement.WebElement (session=\"00bbd2b592de8ba1ca4c84e969999f4e\", element=\"f48a05e5-47f5-4201-91fd-886ab57be429\")>,\n",
       " <selenium.webdriver.remote.webelement.WebElement (session=\"00bbd2b592de8ba1ca4c84e969999f4e\", element=\"5cbb3e7c-4bc3-4dfa-9d7b-740156d5b67a\")>,\n",
       " <selenium.webdriver.remote.webelement.WebElement (session=\"00bbd2b592de8ba1ca4c84e969999f4e\", element=\"d12f3410-8348-4344-8190-80aee86cce3f\")>,\n",
       " <selenium.webdriver.remote.webelement.WebElement (session=\"00bbd2b592de8ba1ca4c84e969999f4e\", element=\"1357a2b0-2f25-4c0c-ae83-3bac91ac6d60\")>]"
      ]
     },
     "execution_count": 46,
     "metadata": {},
     "output_type": "execute_result"
    }
   ],
   "source": [
    "locn_tags=driver3.find_elements_by_xpath(\"//li[@class='fleft grey-text br2 placeHolderLi location']\")\n",
    "locn_tags"
   ]
  },
  {
   "cell_type": "code",
   "execution_count": 47,
   "id": "25b24fcc",
   "metadata": {},
   "outputs": [
    {
     "data": {
      "text/plain": [
       "['Noida, Kolkata, Hyderabad/Secunderabad, Pune, Chennai, Bangalore/Bengaluru, Delhi / NCR, Mumbai (All Areas)\\n(WFH during Covid)',\n",
       " 'Noida, New Delhi, Delhi / NCR',\n",
       " 'Noida, New Delhi, Greater Noida',\n",
       " 'Gurgaon/Gurugram',\n",
       " 'Kolkata, Hyderabad/Secunderabad, Pune, Ahmedabad, Chennai, Bangalore/Bengaluru, Delhi / NCR, Mumbai (All Areas)\\n(WFH during Covid)',\n",
       " 'Bangalore/Bengaluru, Delhi / NCR\\n(WFH during Covid)',\n",
       " 'Noida',\n",
       " 'Noida',\n",
       " 'Noida, New Delhi, Gurgaon/Gurugram',\n",
       " 'Delhi / NCR\\n(WFH during Covid)']"
      ]
     },
     "execution_count": 47,
     "metadata": {},
     "output_type": "execute_result"
    }
   ],
   "source": [
    "job_locn=[]\n",
    "\n",
    "for i in locn_tags:\n",
    "    job_locn.append(i.text)\n",
    "    \n",
    "job_locn_10=job_locn[0:10]\n",
    "job_locn_10"
   ]
  },
  {
   "cell_type": "code",
   "execution_count": 48,
   "id": "ea7fa0ed",
   "metadata": {},
   "outputs": [
    {
     "data": {
      "text/plain": [
       "[<selenium.webdriver.remote.webelement.WebElement (session=\"00bbd2b592de8ba1ca4c84e969999f4e\", element=\"a9907a54-8184-4b45-a9d9-d2ffb1696e45\")>,\n",
       " <selenium.webdriver.remote.webelement.WebElement (session=\"00bbd2b592de8ba1ca4c84e969999f4e\", element=\"001aa048-28c7-47e0-9b5d-510475275d47\")>,\n",
       " <selenium.webdriver.remote.webelement.WebElement (session=\"00bbd2b592de8ba1ca4c84e969999f4e\", element=\"7d0e9d4a-7b66-44b2-8030-5b2a0be50857\")>,\n",
       " <selenium.webdriver.remote.webelement.WebElement (session=\"00bbd2b592de8ba1ca4c84e969999f4e\", element=\"df95fdc7-3e43-44e5-944a-8bcea4d67c44\")>,\n",
       " <selenium.webdriver.remote.webelement.WebElement (session=\"00bbd2b592de8ba1ca4c84e969999f4e\", element=\"a58a2758-e3ea-4d5d-bed2-649a51f68871\")>,\n",
       " <selenium.webdriver.remote.webelement.WebElement (session=\"00bbd2b592de8ba1ca4c84e969999f4e\", element=\"c297c936-53d9-493c-85e7-6b213fd6462a\")>,\n",
       " <selenium.webdriver.remote.webelement.WebElement (session=\"00bbd2b592de8ba1ca4c84e969999f4e\", element=\"bf0a2f1e-3302-41af-ac41-2abade02530b\")>,\n",
       " <selenium.webdriver.remote.webelement.WebElement (session=\"00bbd2b592de8ba1ca4c84e969999f4e\", element=\"6c2542ff-c3d8-435e-94cb-5e974f1ad84f\")>,\n",
       " <selenium.webdriver.remote.webelement.WebElement (session=\"00bbd2b592de8ba1ca4c84e969999f4e\", element=\"f869745e-6eaf-47fb-9ba5-9a2f168684a0\")>,\n",
       " <selenium.webdriver.remote.webelement.WebElement (session=\"00bbd2b592de8ba1ca4c84e969999f4e\", element=\"9527e21a-0f8d-4c86-81f0-f3a456eefe2d\")>,\n",
       " <selenium.webdriver.remote.webelement.WebElement (session=\"00bbd2b592de8ba1ca4c84e969999f4e\", element=\"c628cb65-2557-49fa-94b7-93ea3ffbe4e4\")>,\n",
       " <selenium.webdriver.remote.webelement.WebElement (session=\"00bbd2b592de8ba1ca4c84e969999f4e\", element=\"642e9f8e-daf2-438b-9a42-36cfc0c7a490\")>,\n",
       " <selenium.webdriver.remote.webelement.WebElement (session=\"00bbd2b592de8ba1ca4c84e969999f4e\", element=\"796ec5b3-02a8-4c9f-8c34-371f7dad1fa3\")>,\n",
       " <selenium.webdriver.remote.webelement.WebElement (session=\"00bbd2b592de8ba1ca4c84e969999f4e\", element=\"9069c090-c072-4eb7-b09a-2fc5f5ddd692\")>,\n",
       " <selenium.webdriver.remote.webelement.WebElement (session=\"00bbd2b592de8ba1ca4c84e969999f4e\", element=\"828a3add-6792-4f7c-9f89-b6228b9b55df\")>,\n",
       " <selenium.webdriver.remote.webelement.WebElement (session=\"00bbd2b592de8ba1ca4c84e969999f4e\", element=\"ad775f2a-0357-402e-88d6-b66b1f5e49a9\")>,\n",
       " <selenium.webdriver.remote.webelement.WebElement (session=\"00bbd2b592de8ba1ca4c84e969999f4e\", element=\"e65bf4e1-77b8-4197-8c33-5a0dc960f670\")>,\n",
       " <selenium.webdriver.remote.webelement.WebElement (session=\"00bbd2b592de8ba1ca4c84e969999f4e\", element=\"f5dc4289-fcd7-412c-81ef-73a82c0ee2b3\")>,\n",
       " <selenium.webdriver.remote.webelement.WebElement (session=\"00bbd2b592de8ba1ca4c84e969999f4e\", element=\"c3ddb7c0-6d81-45e8-8ccf-a3449e990473\")>,\n",
       " <selenium.webdriver.remote.webelement.WebElement (session=\"00bbd2b592de8ba1ca4c84e969999f4e\", element=\"afb9db1a-4e1a-4e00-a1f7-60438dcd05c0\")>]"
      ]
     },
     "execution_count": 48,
     "metadata": {},
     "output_type": "execute_result"
    }
   ],
   "source": [
    "name_tags=driver3.find_elements_by_xpath(\"//a[@class='subTitle ellipsis fleft']\")\n",
    "name_tags"
   ]
  },
  {
   "cell_type": "code",
   "execution_count": 49,
   "id": "5f7b1460",
   "metadata": {},
   "outputs": [
    {
     "data": {
      "text/plain": [
       "['NTT Data',\n",
       " 'GABA Consultancy services',\n",
       " 'Lumiq.ai',\n",
       " 'TeamPlus Staffing Solution Pvt Ltd',\n",
       " 'Sejal Consulting Hub',\n",
       " 'EXL',\n",
       " 'MOTHERSONSUMI INFOTECH & DESIGNS LIMITED',\n",
       " 'MOTHERSONSUMI INFOTECH & DESIGNS LIMITED',\n",
       " 'GABA Consultancy services',\n",
       " 'Indihire HR Consultants Private Limited']"
      ]
     },
     "execution_count": 49,
     "metadata": {},
     "output_type": "execute_result"
    }
   ],
   "source": [
    "company_name=[]\n",
    "\n",
    "for i in name_tags:\n",
    "    company_name.append(i.text)\n",
    "    \n",
    "company_name_10=company_name[0:10]\n",
    "company_name_10"
   ]
  },
  {
   "cell_type": "code",
   "execution_count": 50,
   "id": "8d3e0c0d",
   "metadata": {},
   "outputs": [
    {
     "data": {
      "text/plain": [
       "[<selenium.webdriver.remote.webelement.WebElement (session=\"00bbd2b592de8ba1ca4c84e969999f4e\", element=\"27b2b796-236b-4be7-b030-d0fc1a6f3603\")>,\n",
       " <selenium.webdriver.remote.webelement.WebElement (session=\"00bbd2b592de8ba1ca4c84e969999f4e\", element=\"28da1459-5b8f-4105-9ed0-eaa266a7ac14\")>,\n",
       " <selenium.webdriver.remote.webelement.WebElement (session=\"00bbd2b592de8ba1ca4c84e969999f4e\", element=\"486698df-7d2f-4cff-a464-4ac77ab835f0\")>,\n",
       " <selenium.webdriver.remote.webelement.WebElement (session=\"00bbd2b592de8ba1ca4c84e969999f4e\", element=\"a9b61791-9820-4bcc-be7c-9ee512601209\")>,\n",
       " <selenium.webdriver.remote.webelement.WebElement (session=\"00bbd2b592de8ba1ca4c84e969999f4e\", element=\"8d7cdff4-f411-4829-b320-48e449e48d4e\")>,\n",
       " <selenium.webdriver.remote.webelement.WebElement (session=\"00bbd2b592de8ba1ca4c84e969999f4e\", element=\"70e05db5-5d3c-45a6-8807-1b9f4e7793ce\")>,\n",
       " <selenium.webdriver.remote.webelement.WebElement (session=\"00bbd2b592de8ba1ca4c84e969999f4e\", element=\"76be5683-5cfd-48de-a4da-1f8e8ac6afd3\")>,\n",
       " <selenium.webdriver.remote.webelement.WebElement (session=\"00bbd2b592de8ba1ca4c84e969999f4e\", element=\"0988abb0-2ec0-4e8f-9e5c-f269e8be4132\")>,\n",
       " <selenium.webdriver.remote.webelement.WebElement (session=\"00bbd2b592de8ba1ca4c84e969999f4e\", element=\"f0921d8d-5829-4cf0-8d30-74b63e874fad\")>,\n",
       " <selenium.webdriver.remote.webelement.WebElement (session=\"00bbd2b592de8ba1ca4c84e969999f4e\", element=\"05cef669-7d8f-477e-a864-164946a612d2\")>,\n",
       " <selenium.webdriver.remote.webelement.WebElement (session=\"00bbd2b592de8ba1ca4c84e969999f4e\", element=\"70a066b5-7740-479a-9672-c6ad571d840f\")>,\n",
       " <selenium.webdriver.remote.webelement.WebElement (session=\"00bbd2b592de8ba1ca4c84e969999f4e\", element=\"df5d7404-06bf-4bf1-9e06-60d0ae458299\")>,\n",
       " <selenium.webdriver.remote.webelement.WebElement (session=\"00bbd2b592de8ba1ca4c84e969999f4e\", element=\"0ccb36d1-567d-4def-8682-265d4cd31cab\")>,\n",
       " <selenium.webdriver.remote.webelement.WebElement (session=\"00bbd2b592de8ba1ca4c84e969999f4e\", element=\"ec090b91-14fa-4584-af5b-2baa3ffa6942\")>,\n",
       " <selenium.webdriver.remote.webelement.WebElement (session=\"00bbd2b592de8ba1ca4c84e969999f4e\", element=\"6ad2e501-9567-475b-8d9f-447cd553e973\")>,\n",
       " <selenium.webdriver.remote.webelement.WebElement (session=\"00bbd2b592de8ba1ca4c84e969999f4e\", element=\"2fbf8430-7d73-4b47-84ad-336113e82746\")>,\n",
       " <selenium.webdriver.remote.webelement.WebElement (session=\"00bbd2b592de8ba1ca4c84e969999f4e\", element=\"3e7351ed-4d50-4593-91a4-d9ea477c9d24\")>,\n",
       " <selenium.webdriver.remote.webelement.WebElement (session=\"00bbd2b592de8ba1ca4c84e969999f4e\", element=\"2fba79fa-3dfd-4c8a-876e-2ae492387447\")>,\n",
       " <selenium.webdriver.remote.webelement.WebElement (session=\"00bbd2b592de8ba1ca4c84e969999f4e\", element=\"6a7a48cb-4f25-4208-8203-750545425e84\")>,\n",
       " <selenium.webdriver.remote.webelement.WebElement (session=\"00bbd2b592de8ba1ca4c84e969999f4e\", element=\"b3d4ed0b-d885-4f16-9d2f-f3bc09614540\")>]"
      ]
     },
     "execution_count": 50,
     "metadata": {},
     "output_type": "execute_result"
    }
   ],
   "source": [
    "exp_tags=driver3.find_elements_by_xpath(\"//li[@class='fleft grey-text br2 placeHolderLi experience']\")\n",
    "exp_tags"
   ]
  },
  {
   "cell_type": "code",
   "execution_count": 51,
   "id": "6b0ecbc2",
   "metadata": {},
   "outputs": [
    {
     "data": {
      "text/plain": [
       "['0-0 Yrs',\n",
       " '0-0 Yrs',\n",
       " '2-6 Yrs',\n",
       " '3-6 Yrs',\n",
       " '0-3 Yrs',\n",
       " '3-8 Yrs',\n",
       " '4-8 Yrs',\n",
       " '4-8 Yrs',\n",
       " '0-0 Yrs',\n",
       " '2-4 Yrs']"
      ]
     },
     "execution_count": 51,
     "metadata": {},
     "output_type": "execute_result"
    }
   ],
   "source": [
    "exp_reqd=[]\n",
    "\n",
    "for i in exp_tags:\n",
    "    exp_reqd.append(i.text)\n",
    "    \n",
    "exp_reqd_10=exp_reqd[0:10]\n",
    "exp_reqd_10"
   ]
  },
  {
   "cell_type": "code",
   "execution_count": 52,
   "id": "8ee2f45f",
   "metadata": {},
   "outputs": [
    {
     "data": {
      "text/html": [
       "<div>\n",
       "<style scoped>\n",
       "    .dataframe tbody tr th:only-of-type {\n",
       "        vertical-align: middle;\n",
       "    }\n",
       "\n",
       "    .dataframe tbody tr th {\n",
       "        vertical-align: top;\n",
       "    }\n",
       "\n",
       "    .dataframe thead th {\n",
       "        text-align: right;\n",
       "    }\n",
       "</style>\n",
       "<table border=\"1\" class=\"dataframe\">\n",
       "  <thead>\n",
       "    <tr style=\"text-align: right;\">\n",
       "      <th></th>\n",
       "      <th>Job Title</th>\n",
       "      <th>Job Location</th>\n",
       "      <th>Company Name</th>\n",
       "      <th>Experience Required</th>\n",
       "    </tr>\n",
       "  </thead>\n",
       "  <tbody>\n",
       "    <tr>\n",
       "      <th>1</th>\n",
       "      <td>Excellent Opportunity For Freshers For AI/ML, ...</td>\n",
       "      <td>Noida, Kolkata, Hyderabad/Secunderabad, Pune, ...</td>\n",
       "      <td>NTT Data</td>\n",
       "      <td>0-0 Yrs</td>\n",
       "    </tr>\n",
       "    <tr>\n",
       "      <th>2</th>\n",
       "      <td>Data Analyst / Data Scientist / Business Analy...</td>\n",
       "      <td>Noida, New Delhi, Delhi / NCR</td>\n",
       "      <td>GABA Consultancy services</td>\n",
       "      <td>0-0 Yrs</td>\n",
       "    </tr>\n",
       "    <tr>\n",
       "      <th>3</th>\n",
       "      <td>Hiring For Senior Data Scientist-Noida</td>\n",
       "      <td>Noida, New Delhi, Greater Noida</td>\n",
       "      <td>Lumiq.ai</td>\n",
       "      <td>2-6 Yrs</td>\n",
       "    </tr>\n",
       "    <tr>\n",
       "      <th>4</th>\n",
       "      <td>Data scientist- Python</td>\n",
       "      <td>Gurgaon/Gurugram</td>\n",
       "      <td>TeamPlus Staffing Solution Pvt Ltd</td>\n",
       "      <td>3-6 Yrs</td>\n",
       "    </tr>\n",
       "    <tr>\n",
       "      <th>5</th>\n",
       "      <td>Junior Data Analyst/ Scientist- Fresher Position</td>\n",
       "      <td>Kolkata, Hyderabad/Secunderabad, Pune, Ahmedab...</td>\n",
       "      <td>Sejal Consulting Hub</td>\n",
       "      <td>0-3 Yrs</td>\n",
       "    </tr>\n",
       "    <tr>\n",
       "      <th>6</th>\n",
       "      <td>Data Scientist _NLP</td>\n",
       "      <td>Bangalore/Bengaluru, Delhi / NCR\\n(WFH during ...</td>\n",
       "      <td>EXL</td>\n",
       "      <td>3-8 Yrs</td>\n",
       "    </tr>\n",
       "    <tr>\n",
       "      <th>7</th>\n",
       "      <td>Data Scientist - MIND Infotech</td>\n",
       "      <td>Noida</td>\n",
       "      <td>MOTHERSONSUMI INFOTECH &amp; DESIGNS LIMITED</td>\n",
       "      <td>4-8 Yrs</td>\n",
       "    </tr>\n",
       "    <tr>\n",
       "      <th>8</th>\n",
       "      <td>Data Scientist - MIND Infotech</td>\n",
       "      <td>Noida</td>\n",
       "      <td>MOTHERSONSUMI INFOTECH &amp; DESIGNS LIMITED</td>\n",
       "      <td>4-8 Yrs</td>\n",
       "    </tr>\n",
       "    <tr>\n",
       "      <th>9</th>\n",
       "      <td>Only Fresher / Python Data Scientist / Trainee...</td>\n",
       "      <td>Noida, New Delhi, Gurgaon/Gurugram</td>\n",
       "      <td>GABA Consultancy services</td>\n",
       "      <td>0-0 Yrs</td>\n",
       "    </tr>\n",
       "    <tr>\n",
       "      <th>10</th>\n",
       "      <td>Lead Data Scientist</td>\n",
       "      <td>Delhi / NCR\\n(WFH during Covid)</td>\n",
       "      <td>Indihire HR Consultants Private Limited</td>\n",
       "      <td>2-4 Yrs</td>\n",
       "    </tr>\n",
       "  </tbody>\n",
       "</table>\n",
       "</div>"
      ],
      "text/plain": [
       "                                            Job Title  \\\n",
       "1   Excellent Opportunity For Freshers For AI/ML, ...   \n",
       "2   Data Analyst / Data Scientist / Business Analy...   \n",
       "3              Hiring For Senior Data Scientist-Noida   \n",
       "4                              Data scientist- Python   \n",
       "5    Junior Data Analyst/ Scientist- Fresher Position   \n",
       "6                                 Data Scientist _NLP   \n",
       "7                      Data Scientist - MIND Infotech   \n",
       "8                      Data Scientist - MIND Infotech   \n",
       "9   Only Fresher / Python Data Scientist / Trainee...   \n",
       "10                                Lead Data Scientist   \n",
       "\n",
       "                                         Job Location  \\\n",
       "1   Noida, Kolkata, Hyderabad/Secunderabad, Pune, ...   \n",
       "2                       Noida, New Delhi, Delhi / NCR   \n",
       "3                     Noida, New Delhi, Greater Noida   \n",
       "4                                    Gurgaon/Gurugram   \n",
       "5   Kolkata, Hyderabad/Secunderabad, Pune, Ahmedab...   \n",
       "6   Bangalore/Bengaluru, Delhi / NCR\\n(WFH during ...   \n",
       "7                                               Noida   \n",
       "8                                               Noida   \n",
       "9                  Noida, New Delhi, Gurgaon/Gurugram   \n",
       "10                    Delhi / NCR\\n(WFH during Covid)   \n",
       "\n",
       "                                Company Name Experience Required  \n",
       "1                                   NTT Data             0-0 Yrs  \n",
       "2                  GABA Consultancy services             0-0 Yrs  \n",
       "3                                   Lumiq.ai             2-6 Yrs  \n",
       "4         TeamPlus Staffing Solution Pvt Ltd             3-6 Yrs  \n",
       "5                       Sejal Consulting Hub             0-3 Yrs  \n",
       "6                                        EXL             3-8 Yrs  \n",
       "7   MOTHERSONSUMI INFOTECH & DESIGNS LIMITED             4-8 Yrs  \n",
       "8   MOTHERSONSUMI INFOTECH & DESIGNS LIMITED             4-8 Yrs  \n",
       "9                  GABA Consultancy services             0-0 Yrs  \n",
       "10   Indihire HR Consultants Private Limited             2-4 Yrs  "
      ]
     },
     "execution_count": 52,
     "metadata": {},
     "output_type": "execute_result"
    }
   ],
   "source": [
    "df3=pd.DataFrame({\"Job Title\":job_title_10,\"Job Location\":job_locn_10,\"Company Name\":company_name_10,\"Experience Required\":exp_reqd_10})\n",
    "df3.index=np.arange(1,len(df3)+1)\n",
    "df3"
   ]
  },
  {
   "cell_type": "markdown",
   "id": "edc4229a",
   "metadata": {},
   "source": [
    "# Q4:"
   ]
  },
  {
   "cell_type": "code",
   "execution_count": 53,
   "id": "4a297357",
   "metadata": {},
   "outputs": [],
   "source": [
    "driver4=webdriver.Chrome(\"chromedriver.exe\")"
   ]
  },
  {
   "cell_type": "code",
   "execution_count": 54,
   "id": "d8da710c",
   "metadata": {},
   "outputs": [],
   "source": [
    "url4=\"https://www.flipkart.com/\"\n",
    "driver4.get(url4)"
   ]
  },
  {
   "cell_type": "code",
   "execution_count": 55,
   "id": "06ee8463",
   "metadata": {},
   "outputs": [
    {
     "data": {
      "text/plain": [
       "<selenium.webdriver.remote.webelement.WebElement (session=\"d2cee3184319299e498ba06adda2501a\", element=\"f7b6460b-8919-490d-8db4-1d54f5a6c2dd\")>"
      ]
     },
     "execution_count": 55,
     "metadata": {},
     "output_type": "execute_result"
    }
   ],
   "source": [
    "search_field=driver4.find_element_by_class_name(\"_3704LK\")\n",
    "search_field"
   ]
  },
  {
   "cell_type": "code",
   "execution_count": 56,
   "id": "d7c2b18d",
   "metadata": {},
   "outputs": [],
   "source": [
    "search_field.send_keys(\"sunglasses\")"
   ]
  },
  {
   "cell_type": "code",
   "execution_count": 59,
   "id": "8504e649",
   "metadata": {},
   "outputs": [
    {
     "data": {
      "text/plain": [
       "<selenium.webdriver.remote.webelement.WebElement (session=\"d2cee3184319299e498ba06adda2501a\", element=\"0d33d46e-2324-493f-98c0-dfb5bb3bae93\")>"
      ]
     },
     "execution_count": 59,
     "metadata": {},
     "output_type": "execute_result"
    }
   ],
   "source": [
    "search_btn=driver4.find_element_by_class_name(\"L0Z3Pu\")\n",
    "search_btn"
   ]
  },
  {
   "cell_type": "code",
   "execution_count": 61,
   "id": "9bb1f856",
   "metadata": {},
   "outputs": [],
   "source": [
    "search_btn.click()"
   ]
  },
  {
   "cell_type": "code",
   "execution_count": 62,
   "id": "41a0dbdb",
   "metadata": {},
   "outputs": [
    {
     "data": {
      "text/plain": [
       "[<selenium.webdriver.remote.webelement.WebElement (session=\"d2cee3184319299e498ba06adda2501a\", element=\"a47a7679-6558-42f7-b336-0bb90c055dcf\")>,\n",
       " <selenium.webdriver.remote.webelement.WebElement (session=\"d2cee3184319299e498ba06adda2501a\", element=\"7160dc09-45a5-401f-a7a5-60307f896919\")>]"
      ]
     },
     "execution_count": 62,
     "metadata": {},
     "output_type": "execute_result"
    }
   ],
   "source": [
    "#Extracting the brand\n",
    "\n",
    "brand_tags=driver4.find_elements_by_xpath(\"//div[@class='_2WkVRV']\")\n",
    "brand_tags[0:2]"
   ]
  },
  {
   "cell_type": "code",
   "execution_count": 63,
   "id": "2d21046c",
   "metadata": {},
   "outputs": [
    {
     "name": "stdout",
     "output_type": "stream",
     "text": [
      "40\n"
     ]
    },
    {
     "data": {
      "text/plain": [
       "['Singco India',\n",
       " 'ROZZETTA CRAFT',\n",
       " 'SRPM',\n",
       " 'SUNBEE',\n",
       " 'PIRASO',\n",
       " 'DEIXELS',\n",
       " 'PIRASO',\n",
       " 'ROYAL SON',\n",
       " 'Elligator',\n",
       " 'Fastrack',\n",
       " 'New Specs',\n",
       " 'ROZZETTA CRAFT',\n",
       " 'SHAAH COLLECTIONS',\n",
       " 'kingsunglasses',\n",
       " 'GANSTA',\n",
       " 'ROZZETTA CRAFT',\n",
       " 'PIRASO',\n",
       " 'Fastrack',\n",
       " 'ROZZETTA CRAFT',\n",
       " 'ROZZETTA CRAFT',\n",
       " 'Lee Topper',\n",
       " 'Lee Topper',\n",
       " 'Silver Kartz',\n",
       " 'povty',\n",
       " 'PIRASO',\n",
       " 'Elligator',\n",
       " 'Elligator',\n",
       " 'VINCENT CHASE',\n",
       " 'kingsunglasses',\n",
       " 'Fastrack',\n",
       " 'PHENOMENAL',\n",
       " 'Singco India',\n",
       " 'Rich Club',\n",
       " 'Fastrack',\n",
       " 'PIRASO',\n",
       " 'Singco India',\n",
       " 'kingsunglasses',\n",
       " 'SRPM',\n",
       " 'ROYAL SON',\n",
       " 'ROYAL SON']"
      ]
     },
     "execution_count": 63,
     "metadata": {},
     "output_type": "execute_result"
    }
   ],
   "source": [
    "brand=[]\n",
    "\n",
    "for i in brand_tags:\n",
    "    brand.append(i.text)\n",
    "print(len(brand))    \n",
    "brand"
   ]
  },
  {
   "cell_type": "code",
   "execution_count": 64,
   "id": "bf7b4cb8",
   "metadata": {},
   "outputs": [
    {
     "name": "stdout",
     "output_type": "stream",
     "text": [
      "40\n"
     ]
    },
    {
     "data": {
      "text/plain": [
       "[<selenium.webdriver.remote.webelement.WebElement (session=\"d2cee3184319299e498ba06adda2501a\", element=\"c1e88de3-89f3-4b6e-853e-011486f5b7b9\")>,\n",
       " <selenium.webdriver.remote.webelement.WebElement (session=\"d2cee3184319299e498ba06adda2501a\", element=\"ca76650f-2ba6-47a2-980a-421cd033889e\")>]"
      ]
     },
     "execution_count": 64,
     "metadata": {},
     "output_type": "execute_result"
    }
   ],
   "source": [
    "desc_tags=driver4.find_elements_by_class_name('IRpwTa')\n",
    "print(len(desc_tags))\n",
    "desc_tags[0:2]"
   ]
  },
  {
   "cell_type": "code",
   "execution_count": 65,
   "id": "e68ec4cf",
   "metadata": {
    "scrolled": false
   },
   "outputs": [
    {
     "name": "stdout",
     "output_type": "stream",
     "text": [
      "40\n"
     ]
    },
    {
     "data": {
      "text/plain": [
       "['Gradient, Toughened Glass Lens, UV Protection Retro Squ...',\n",
       " 'UV Protection, UV Protection Retro Square Sunglasses (F...',\n",
       " 'UV Protection Wayfarer Sunglasses (50)',\n",
       " 'UV Protection, Polarized Wayfarer Sunglasses (Free Size...',\n",
       " 'UV Protection Aviator Sunglasses (54)',\n",
       " 'UV Protection Aviator, Wayfarer Sunglasses (Free Size)',\n",
       " 'UV Protection Aviator Sunglasses (54)',\n",
       " 'UV Protection Retro Square Sunglasses (60)',\n",
       " 'UV Protection Round Sunglasses (54)',\n",
       " 'UV Protection Rectangular Sunglasses (Free Size)',\n",
       " 'UV Protection Rectangular Sunglasses (Free Size)',\n",
       " 'UV Protection Round Sunglasses (Free Size)',\n",
       " 'UV Protection, Polarized, Mirrored Rectangular Sunglass...',\n",
       " 'UV Protection, Riding Glasses, Mirrored Wayfarer Sungla...',\n",
       " 'UV Protection, Riding Glasses Wayfarer Sunglasses (53)',\n",
       " 'Gradient, UV Protection Round Sunglasses (Free Size)',\n",
       " 'UV Protection Aviator Sunglasses (54)',\n",
       " 'UV Protection Wayfarer Sunglasses (Free Size)',\n",
       " 'Polarized, Night Vision, Riding Glasses Sports, Wrap-ar...',\n",
       " 'UV Protection Spectacle Sunglasses (Free Size)',\n",
       " 'UV Protection Rectangular Sunglasses (Free Size)',\n",
       " 'Riding Glasses Wrap-around Sunglasses (Free Size)',\n",
       " 'UV Protection Wayfarer Sunglasses (Free Size)',\n",
       " 'UV Protection Retro Square Sunglasses (Free Size)',\n",
       " 'UV Protection Wayfarer Sunglasses (55)',\n",
       " 'UV Protection Round Sunglasses (53)',\n",
       " 'UV Protection Wayfarer Sunglasses (53)',\n",
       " 'by Lenskart Polarized, UV Protection Round Sunglasses (...',\n",
       " 'Mirrored, UV Protection Wayfarer Sunglasses (Free Size)',\n",
       " 'Polarized Retro Square Sunglasses (Free Size)',\n",
       " 'UV Protection Retro Square Sunglasses (53)',\n",
       " 'Mirrored, UV Protection, Riding Glasses Wayfarer Sungla...',\n",
       " 'UV Protection Round Sunglasses (48)',\n",
       " 'Gradient, UV Protection Wayfarer Sunglasses (Free Size)',\n",
       " 'UV Protection Wayfarer Sunglasses (32)',\n",
       " 'Mirrored, Riding Glasses, Others Sports Sunglasses (50)',\n",
       " 'UV Protection Round Sunglasses (54)',\n",
       " 'Others Wayfarer, Retro Square Sunglasses (50)',\n",
       " 'Mirrored Aviator Sunglasses (55)',\n",
       " 'UV Protection Retro Square Sunglasses (51)']"
      ]
     },
     "execution_count": 65,
     "metadata": {},
     "output_type": "execute_result"
    }
   ],
   "source": [
    "pdt_desc=[]\n",
    "\n",
    "for i in desc_tags:\n",
    "    pdt_desc.append(i.text)\n",
    "    \n",
    "print(len(pdt_desc))\n",
    "pdt_desc"
   ]
  },
  {
   "cell_type": "code",
   "execution_count": 66,
   "id": "820ca42d",
   "metadata": {},
   "outputs": [
    {
     "data": {
      "text/plain": [
       "[<selenium.webdriver.remote.webelement.WebElement (session=\"d2cee3184319299e498ba06adda2501a\", element=\"610e6822-333e-4e48-990f-18dd1a85216a\")>,\n",
       " <selenium.webdriver.remote.webelement.WebElement (session=\"d2cee3184319299e498ba06adda2501a\", element=\"285d8298-f8cc-4d97-8c33-db81f47e35fd\")>]"
      ]
     },
     "execution_count": 66,
     "metadata": {},
     "output_type": "execute_result"
    }
   ],
   "source": [
    "price_tags=driver4.find_elements_by_xpath(\"//div[@class='_30jeq3']\")\n",
    "price_tags[0:2]"
   ]
  },
  {
   "cell_type": "code",
   "execution_count": 67,
   "id": "b3890580",
   "metadata": {},
   "outputs": [
    {
     "data": {
      "text/plain": [
       "['614',\n",
       " '181',\n",
       " '148',\n",
       " '203',\n",
       " '179',\n",
       " '152',\n",
       " '175',\n",
       " '649',\n",
       " '208',\n",
       " '629',\n",
       " '182',\n",
       " '376',\n",
       " '115',\n",
       " '134',\n",
       " '148',\n",
       " '376',\n",
       " '175',\n",
       " '549',\n",
       " '424',\n",
       " '349',\n",
       " '149',\n",
       " '225',\n",
       " '196',\n",
       " '249',\n",
       " '175',\n",
       " '139',\n",
       " '126',\n",
       " '799',\n",
       " '189',\n",
       " '548',\n",
       " '239',\n",
       " '245',\n",
       " '210',\n",
       " '629',\n",
       " '175',\n",
       " '144',\n",
       " '136',\n",
       " '128',\n",
       " '329',\n",
       " '614']"
      ]
     },
     "execution_count": 67,
     "metadata": {},
     "output_type": "execute_result"
    }
   ],
   "source": [
    "price=[]\n",
    "\n",
    "for i in price_tags:\n",
    "    price.append(i.text.replace(\"₹\",\"\"))\n",
    "    \n",
    "price"
   ]
  },
  {
   "cell_type": "code",
   "execution_count": 68,
   "id": "82c4cca6",
   "metadata": {},
   "outputs": [
    {
     "data": {
      "text/plain": [
       "[<selenium.webdriver.remote.webelement.WebElement (session=\"d2cee3184319299e498ba06adda2501a\", element=\"ee1cea1c-cd49-42ba-8db5-62df1fa9617f\")>,\n",
       " <selenium.webdriver.remote.webelement.WebElement (session=\"d2cee3184319299e498ba06adda2501a\", element=\"6d911805-7c38-4046-bc92-2ef31ba8cf07\")>]"
      ]
     },
     "execution_count": 68,
     "metadata": {},
     "output_type": "execute_result"
    }
   ],
   "source": [
    "discount_tags=driver4.find_elements_by_xpath(\"//div[@class='_3Ay6Sb']\")\n",
    "discount_tags[0:2]"
   ]
  },
  {
   "cell_type": "code",
   "execution_count": 69,
   "id": "bd551e9a",
   "metadata": {},
   "outputs": [
    {
     "data": {
      "text/plain": [
       "['79',\n",
       " '89',\n",
       " '88',\n",
       " '84',\n",
       " '88',\n",
       " '87',\n",
       " '89',\n",
       " '67',\n",
       " '91',\n",
       " '21',\n",
       " '92',\n",
       " '85',\n",
       " '93',\n",
       " '88',\n",
       " '91',\n",
       " '81',\n",
       " '89',\n",
       " '31',\n",
       " '78',\n",
       " '82',\n",
       " '85',\n",
       " '90',\n",
       " '86',\n",
       " '75',\n",
       " '89',\n",
       " '86',\n",
       " '91',\n",
       " '68',\n",
       " '90',\n",
       " '31',\n",
       " '76',\n",
       " '90',\n",
       " '73',\n",
       " '21',\n",
       " '89',\n",
       " '90',\n",
       " '86',\n",
       " '87',\n",
       " '78',\n",
       " '69']"
      ]
     },
     "execution_count": 69,
     "metadata": {},
     "output_type": "execute_result"
    }
   ],
   "source": [
    "discount=[]\n",
    "\n",
    "for i in discount_tags:\n",
    "    discount.append(i.text.replace(\"% off\",\"\"))\n",
    "    \n",
    "discount"
   ]
  },
  {
   "cell_type": "code",
   "execution_count": 70,
   "id": "8056d553",
   "metadata": {},
   "outputs": [
    {
     "data": {
      "text/plain": [
       "40"
      ]
     },
     "execution_count": 70,
     "metadata": {},
     "output_type": "execute_result"
    }
   ],
   "source": [
    "len(discount)"
   ]
  },
  {
   "cell_type": "code",
   "execution_count": 71,
   "id": "42227a82",
   "metadata": {},
   "outputs": [
    {
     "data": {
      "text/plain": [
       "<selenium.webdriver.remote.webelement.WebElement (session=\"d2cee3184319299e498ba06adda2501a\", element=\"dca99d6f-76fb-4f20-9c7f-cf46f85fff73\")>"
      ]
     },
     "execution_count": 71,
     "metadata": {},
     "output_type": "execute_result"
    }
   ],
   "source": [
    "next_btn=driver4.find_element_by_xpath(\"/html/body/div[1]/div/div[3]/div[1]/div[2]/div[12]/div/div/nav/a[11]\")\n",
    "next_btn"
   ]
  },
  {
   "cell_type": "code",
   "execution_count": 72,
   "id": "3a5e2471",
   "metadata": {},
   "outputs": [],
   "source": [
    "next_btn.click()"
   ]
  },
  {
   "cell_type": "code",
   "execution_count": 73,
   "id": "b4c9cbf6",
   "metadata": {},
   "outputs": [
    {
     "data": {
      "text/plain": [
       "40"
      ]
     },
     "execution_count": 73,
     "metadata": {},
     "output_type": "execute_result"
    }
   ],
   "source": [
    "brand_tags=driver4.find_elements_by_xpath(\"//div[@class='_2WkVRV']\")\n",
    "brand_tags[0:2]\n",
    "len(brand_tags)"
   ]
  },
  {
   "cell_type": "code",
   "execution_count": 74,
   "id": "0e21a2cc",
   "metadata": {},
   "outputs": [
    {
     "name": "stdout",
     "output_type": "stream",
     "text": [
      "80\n"
     ]
    },
    {
     "data": {
      "text/plain": [
       "['Singco India',\n",
       " 'ROZZETTA CRAFT',\n",
       " 'SRPM',\n",
       " 'SUNBEE',\n",
       " 'PIRASO',\n",
       " 'DEIXELS',\n",
       " 'PIRASO',\n",
       " 'ROYAL SON',\n",
       " 'Elligator',\n",
       " 'Fastrack',\n",
       " 'New Specs',\n",
       " 'ROZZETTA CRAFT',\n",
       " 'SHAAH COLLECTIONS',\n",
       " 'kingsunglasses',\n",
       " 'GANSTA',\n",
       " 'ROZZETTA CRAFT',\n",
       " 'PIRASO',\n",
       " 'Fastrack',\n",
       " 'ROZZETTA CRAFT',\n",
       " 'ROZZETTA CRAFT',\n",
       " 'Lee Topper',\n",
       " 'Lee Topper',\n",
       " 'Silver Kartz',\n",
       " 'povty',\n",
       " 'PIRASO',\n",
       " 'Elligator',\n",
       " 'Elligator',\n",
       " 'VINCENT CHASE',\n",
       " 'kingsunglasses',\n",
       " 'Fastrack',\n",
       " 'PHENOMENAL',\n",
       " 'Singco India',\n",
       " 'Rich Club',\n",
       " 'Fastrack',\n",
       " 'PIRASO',\n",
       " 'Singco India',\n",
       " 'kingsunglasses',\n",
       " 'SRPM',\n",
       " 'ROYAL SON',\n",
       " 'ROYAL SON',\n",
       " 'New Specs',\n",
       " 'SUNBEE',\n",
       " 'SRPM',\n",
       " 'Fastrack',\n",
       " 'kingsunglasses',\n",
       " 'GANSTA',\n",
       " 'SHAAH COLLECTIONS',\n",
       " 'kingsunglasses',\n",
       " 'ROYAL SON',\n",
       " 'PIRASO',\n",
       " 'PHENOMENAL',\n",
       " 'ROZZETTA CRAFT',\n",
       " 'NuVew',\n",
       " 'IDEE',\n",
       " 'Rich Club',\n",
       " 'New Specs',\n",
       " 'SRPM',\n",
       " 'PIRASO',\n",
       " 'PIRASO',\n",
       " 'DEIXELS',\n",
       " 'PIRASO',\n",
       " 'ROYAL SON',\n",
       " 'Silver Kartz',\n",
       " 'VINCENT CHASE',\n",
       " 'Singco India',\n",
       " 'IDEE',\n",
       " 'IDEE',\n",
       " 'PIRASO',\n",
       " 'SUNBEE',\n",
       " 'IDEE',\n",
       " 'Lee Topper',\n",
       " 'PHENOMENAL',\n",
       " 'Lee Topper',\n",
       " 'kingsunglasses',\n",
       " 'ROYAL SON',\n",
       " 'SUNBEE',\n",
       " 'New Specs',\n",
       " 'ROZZETTA CRAFT',\n",
       " 'hipe',\n",
       " 'Mi']"
      ]
     },
     "execution_count": 74,
     "metadata": {},
     "output_type": "execute_result"
    }
   ],
   "source": [
    "for i in brand_tags:\n",
    "    brand.append(i.text)\n",
    "print(len(brand))    \n",
    "brand"
   ]
  },
  {
   "cell_type": "code",
   "execution_count": 75,
   "id": "6a4b300a",
   "metadata": {},
   "outputs": [
    {
     "name": "stdout",
     "output_type": "stream",
     "text": [
      "40\n",
      "80\n"
     ]
    },
    {
     "data": {
      "text/plain": [
       "['Gradient, Toughened Glass Lens, UV Protection Retro Squ...',\n",
       " 'UV Protection, UV Protection Retro Square Sunglasses (F...',\n",
       " 'UV Protection Wayfarer Sunglasses (50)',\n",
       " 'UV Protection, Polarized Wayfarer Sunglasses (Free Size...',\n",
       " 'UV Protection Aviator Sunglasses (54)',\n",
       " 'UV Protection Aviator, Wayfarer Sunglasses (Free Size)',\n",
       " 'UV Protection Aviator Sunglasses (54)',\n",
       " 'UV Protection Retro Square Sunglasses (60)',\n",
       " 'UV Protection Round Sunglasses (54)',\n",
       " 'UV Protection Rectangular Sunglasses (Free Size)',\n",
       " 'UV Protection Rectangular Sunglasses (Free Size)',\n",
       " 'UV Protection Round Sunglasses (Free Size)',\n",
       " 'UV Protection, Polarized, Mirrored Rectangular Sunglass...',\n",
       " 'UV Protection, Riding Glasses, Mirrored Wayfarer Sungla...',\n",
       " 'UV Protection, Riding Glasses Wayfarer Sunglasses (53)',\n",
       " 'Gradient, UV Protection Round Sunglasses (Free Size)',\n",
       " 'UV Protection Aviator Sunglasses (54)',\n",
       " 'UV Protection Wayfarer Sunglasses (Free Size)',\n",
       " 'Polarized, Night Vision, Riding Glasses Sports, Wrap-ar...',\n",
       " 'UV Protection Spectacle Sunglasses (Free Size)',\n",
       " 'UV Protection Rectangular Sunglasses (Free Size)',\n",
       " 'Riding Glasses Wrap-around Sunglasses (Free Size)',\n",
       " 'UV Protection Wayfarer Sunglasses (Free Size)',\n",
       " 'UV Protection Retro Square Sunglasses (Free Size)',\n",
       " 'UV Protection Wayfarer Sunglasses (55)',\n",
       " 'UV Protection Round Sunglasses (53)',\n",
       " 'UV Protection Wayfarer Sunglasses (53)',\n",
       " 'by Lenskart Polarized, UV Protection Round Sunglasses (...',\n",
       " 'Mirrored, UV Protection Wayfarer Sunglasses (Free Size)',\n",
       " 'Polarized Retro Square Sunglasses (Free Size)',\n",
       " 'UV Protection Retro Square Sunglasses (53)',\n",
       " 'Mirrored, UV Protection, Riding Glasses Wayfarer Sungla...',\n",
       " 'UV Protection Round Sunglasses (48)',\n",
       " 'Gradient, UV Protection Wayfarer Sunglasses (Free Size)',\n",
       " 'UV Protection Wayfarer Sunglasses (32)',\n",
       " 'Mirrored, Riding Glasses, Others Sports Sunglasses (50)',\n",
       " 'UV Protection Round Sunglasses (54)',\n",
       " 'Others Wayfarer, Retro Square Sunglasses (50)',\n",
       " 'Mirrored Aviator Sunglasses (55)',\n",
       " 'UV Protection Retro Square Sunglasses (51)',\n",
       " 'Mirrored, UV Protection, Riding Glasses, Others Round S...',\n",
       " 'UV Protection, Polarized, Mirrored Round Sunglasses (Fr...',\n",
       " 'UV Protection Wayfarer Sunglasses (53)',\n",
       " 'Gradient, UV Protection Wayfarer Sunglasses (Free Size)',\n",
       " 'Mirrored, UV Protection Wayfarer, Rectangular Sunglasse...',\n",
       " 'UV Protection Aviator Sunglasses (57)',\n",
       " 'UV Protection, Polarized, Mirrored Rectangular Sunglass...',\n",
       " 'UV Protection Round Sunglasses (Free Size)',\n",
       " 'Mirrored Aviator Sunglasses (Free Size)',\n",
       " 'UV Protection Aviator Sunglasses (Free Size)',\n",
       " 'UV Protection Retro Square Sunglasses (Free Size)',\n",
       " 'UV Protection Retro Square Sunglasses (Free Size)',\n",
       " 'UV Protection Sports Sunglasses (62)',\n",
       " 'UV Protection Rectangular Sunglasses (59)',\n",
       " 'Polarized Round Sunglasses (48)',\n",
       " 'UV Protection Aviator Sunglasses (Free Size)',\n",
       " 'Night Vision, UV Protection Round Sunglasses (54)',\n",
       " 'UV Protection Butterfly Sunglasses (65)',\n",
       " 'UV Protection Aviator Sunglasses (58)',\n",
       " 'UV Protection Wayfarer Sunglasses (Free Size)',\n",
       " 'Mirrored Aviator Sunglasses (32)',\n",
       " 'Mirrored Aviator Sunglasses (55)',\n",
       " 'UV Protection Aviator Sunglasses (88)',\n",
       " 'by Lenskart Polarized, UV Protection Wayfarer Sunglasse...',\n",
       " 'Mirrored, Riding Glasses, Others Sports Sunglasses (50)',\n",
       " 'UV Protection Over-sized Sunglasses (57)',\n",
       " 'UV Protection Cat-eye Sunglasses (17)',\n",
       " 'UV Protection Butterfly Sunglasses (60)',\n",
       " 'UV Protection, Polarized, Mirrored Wayfarer Sunglasses ...',\n",
       " 'UV Protection Cat-eye Sunglasses (17)',\n",
       " 'UV Protection, Riding Glasses Retro Square, Spectacle ...',\n",
       " 'UV Protection, Mirrored Retro Square Sunglasses (53)',\n",
       " 'Riding Glasses, Night Vision Wrap-around Sunglasses (Fr...',\n",
       " 'UV Protection Rectangular Sunglasses (Free Size)',\n",
       " 'UV Protection Rectangular Sunglasses (58)',\n",
       " 'UV Protection, Polarized, Mirrored Retro Square Sunglas...',\n",
       " 'UV Protection, Mirrored Sports Sunglasses (Free Size)',\n",
       " 'UV Protection, Gradient Rectangular Sunglasses (Free Si...',\n",
       " 'UV Protection, Gradient, Mirrored, Riding Glasses Aviat...',\n",
       " 'Polarized Aviator Sunglasses (Free Size)']"
      ]
     },
     "execution_count": 75,
     "metadata": {},
     "output_type": "execute_result"
    }
   ],
   "source": [
    "desc_tags=driver4.find_elements_by_class_name('IRpwTa')\n",
    "print(len(desc_tags))\n",
    "desc_tags[0:2]\n",
    "\n",
    "for i in desc_tags:\n",
    "    pdt_desc.append(i.text)\n",
    "    \n",
    "print(len(pdt_desc))\n",
    "pdt_desc"
   ]
  },
  {
   "cell_type": "code",
   "execution_count": 76,
   "id": "ee708407",
   "metadata": {},
   "outputs": [
    {
     "name": "stdout",
     "output_type": "stream",
     "text": [
      "80\n"
     ]
    },
    {
     "data": {
      "text/plain": [
       "['614',\n",
       " '181',\n",
       " '148',\n",
       " '203',\n",
       " '179',\n",
       " '152',\n",
       " '175',\n",
       " '649',\n",
       " '208',\n",
       " '629',\n",
       " '182',\n",
       " '376',\n",
       " '115',\n",
       " '134',\n",
       " '148',\n",
       " '376',\n",
       " '175',\n",
       " '549',\n",
       " '424',\n",
       " '349',\n",
       " '149',\n",
       " '225',\n",
       " '196',\n",
       " '249',\n",
       " '175',\n",
       " '139',\n",
       " '126',\n",
       " '799',\n",
       " '189',\n",
       " '548',\n",
       " '239',\n",
       " '245',\n",
       " '210',\n",
       " '629',\n",
       " '175',\n",
       " '144',\n",
       " '136',\n",
       " '128',\n",
       " '329',\n",
       " '614',\n",
       " '213',\n",
       " '234',\n",
       " '170',\n",
       " '629',\n",
       " '208',\n",
       " '234',\n",
       " '131',\n",
       " '239',\n",
       " '329',\n",
       " '249',\n",
       " '278',\n",
       " '424',\n",
       " '277',\n",
       " '929',\n",
       " '125',\n",
       " '133',\n",
       " '149',\n",
       " '325',\n",
       " '299',\n",
       " '149',\n",
       " '149',\n",
       " '329',\n",
       " '205',\n",
       " '749',\n",
       " '144',\n",
       " '929',\n",
       " '869',\n",
       " '325',\n",
       " '203',\n",
       " '859',\n",
       " '325',\n",
       " '267',\n",
       " '226',\n",
       " '130',\n",
       " '424',\n",
       " '180',\n",
       " '108',\n",
       " '349',\n",
       " '159',\n",
       " '959']"
      ]
     },
     "execution_count": 76,
     "metadata": {},
     "output_type": "execute_result"
    }
   ],
   "source": [
    "price_tags=driver4.find_elements_by_xpath(\"//div[@class='_30jeq3']\")\n",
    "price_tags[0:2]\n",
    "\n",
    "for i in price_tags:\n",
    "    price.append(i.text.replace(\"₹\",\"\"))\n",
    "    \n",
    "print(len(price))\n",
    "price"
   ]
  },
  {
   "cell_type": "code",
   "execution_count": 77,
   "id": "f632c6f7",
   "metadata": {},
   "outputs": [
    {
     "name": "stdout",
     "output_type": "stream",
     "text": [
      "80\n"
     ]
    },
    {
     "data": {
      "text/plain": [
       "['79',\n",
       " '89',\n",
       " '88',\n",
       " '84',\n",
       " '88',\n",
       " '87',\n",
       " '89',\n",
       " '67',\n",
       " '91',\n",
       " '21',\n",
       " '92',\n",
       " '85',\n",
       " '93',\n",
       " '88',\n",
       " '91',\n",
       " '81',\n",
       " '89',\n",
       " '31',\n",
       " '78',\n",
       " '82',\n",
       " '85',\n",
       " '90',\n",
       " '86',\n",
       " '75',\n",
       " '89',\n",
       " '86',\n",
       " '91',\n",
       " '68',\n",
       " '90',\n",
       " '31',\n",
       " '76',\n",
       " '90',\n",
       " '73',\n",
       " '21',\n",
       " '89',\n",
       " '90',\n",
       " '86',\n",
       " '87',\n",
       " '78',\n",
       " '69',\n",
       " '84',\n",
       " '86',\n",
       " '82',\n",
       " '30',\n",
       " '89',\n",
       " '88',\n",
       " '86',\n",
       " '85',\n",
       " '78',\n",
       " '84',\n",
       " '86',\n",
       " '80',\n",
       " '77',\n",
       " '62',\n",
       " '74',\n",
       " '91',\n",
       " '85',\n",
       " '87',\n",
       " '88',\n",
       " '70',\n",
       " '90',\n",
       " '78',\n",
       " '82',\n",
       " '70',\n",
       " '90',\n",
       " '62',\n",
       " '61',\n",
       " '87',\n",
       " '84',\n",
       " '61',\n",
       " '74',\n",
       " '86',\n",
       " '90',\n",
       " '88',\n",
       " '71',\n",
       " '86',\n",
       " '91',\n",
       " '82',\n",
       " '84',\n",
       " '20']"
      ]
     },
     "execution_count": 77,
     "metadata": {},
     "output_type": "execute_result"
    }
   ],
   "source": [
    "discount_tags=driver4.find_elements_by_xpath(\"//div[@class='_3Ay6Sb']\")\n",
    "discount_tags[0:2]\n",
    "\n",
    "for i in discount_tags:\n",
    "    discount.append(i.text.replace(\"% off\",\"\"))\n",
    "    \n",
    "print(len(discount))\n",
    "discount"
   ]
  },
  {
   "cell_type": "code",
   "execution_count": 78,
   "id": "76f3eca8",
   "metadata": {},
   "outputs": [
    {
     "data": {
      "text/plain": [
       "<selenium.webdriver.remote.webelement.WebElement (session=\"d2cee3184319299e498ba06adda2501a\", element=\"dca99d6f-76fb-4f20-9c7f-cf46f85fff73\")>"
      ]
     },
     "execution_count": 78,
     "metadata": {},
     "output_type": "execute_result"
    }
   ],
   "source": [
    "next_btn=driver4.find_element_by_xpath(\"/html/body/div[1]/div/div[3]/div[1]/div[2]/div[12]/div/div/nav/a[12]\")\n",
    "next_btn"
   ]
  },
  {
   "cell_type": "code",
   "execution_count": 79,
   "id": "fed3375d",
   "metadata": {},
   "outputs": [],
   "source": [
    "next_btn.click()"
   ]
  },
  {
   "cell_type": "code",
   "execution_count": 80,
   "id": "e3fbff17",
   "metadata": {},
   "outputs": [
    {
     "name": "stdout",
     "output_type": "stream",
     "text": [
      "120\n"
     ]
    },
    {
     "data": {
      "text/plain": [
       "['Singco India',\n",
       " 'ROZZETTA CRAFT',\n",
       " 'SRPM',\n",
       " 'SUNBEE',\n",
       " 'PIRASO',\n",
       " 'DEIXELS',\n",
       " 'PIRASO',\n",
       " 'ROYAL SON',\n",
       " 'Elligator',\n",
       " 'Fastrack',\n",
       " 'New Specs',\n",
       " 'ROZZETTA CRAFT',\n",
       " 'SHAAH COLLECTIONS',\n",
       " 'kingsunglasses',\n",
       " 'GANSTA',\n",
       " 'ROZZETTA CRAFT',\n",
       " 'PIRASO',\n",
       " 'Fastrack',\n",
       " 'ROZZETTA CRAFT',\n",
       " 'ROZZETTA CRAFT',\n",
       " 'Lee Topper',\n",
       " 'Lee Topper',\n",
       " 'Silver Kartz',\n",
       " 'povty',\n",
       " 'PIRASO',\n",
       " 'Elligator',\n",
       " 'Elligator',\n",
       " 'VINCENT CHASE',\n",
       " 'kingsunglasses',\n",
       " 'Fastrack',\n",
       " 'PHENOMENAL',\n",
       " 'Singco India',\n",
       " 'Rich Club',\n",
       " 'Fastrack',\n",
       " 'PIRASO',\n",
       " 'Singco India',\n",
       " 'kingsunglasses',\n",
       " 'SRPM',\n",
       " 'ROYAL SON',\n",
       " 'ROYAL SON',\n",
       " 'New Specs',\n",
       " 'SUNBEE',\n",
       " 'SRPM',\n",
       " 'Fastrack',\n",
       " 'kingsunglasses',\n",
       " 'GANSTA',\n",
       " 'SHAAH COLLECTIONS',\n",
       " 'kingsunglasses',\n",
       " 'ROYAL SON',\n",
       " 'PIRASO',\n",
       " 'PHENOMENAL',\n",
       " 'ROZZETTA CRAFT',\n",
       " 'NuVew',\n",
       " 'IDEE',\n",
       " 'Rich Club',\n",
       " 'New Specs',\n",
       " 'SRPM',\n",
       " 'PIRASO',\n",
       " 'PIRASO',\n",
       " 'DEIXELS',\n",
       " 'PIRASO',\n",
       " 'ROYAL SON',\n",
       " 'Silver Kartz',\n",
       " 'VINCENT CHASE',\n",
       " 'Singco India',\n",
       " 'IDEE',\n",
       " 'IDEE',\n",
       " 'PIRASO',\n",
       " 'SUNBEE',\n",
       " 'IDEE',\n",
       " 'Lee Topper',\n",
       " 'PHENOMENAL',\n",
       " 'Lee Topper',\n",
       " 'kingsunglasses',\n",
       " 'ROYAL SON',\n",
       " 'SUNBEE',\n",
       " 'New Specs',\n",
       " 'ROZZETTA CRAFT',\n",
       " 'hipe',\n",
       " 'Mi',\n",
       " 'kingsunglasses',\n",
       " 'Fastrack',\n",
       " 'SHAAH COLLECTIONS',\n",
       " 'Fastrack',\n",
       " 'Poloport',\n",
       " 'Fastrack',\n",
       " 'povty',\n",
       " 'kingsunglasses',\n",
       " 'Rich Club',\n",
       " 'PIRASO',\n",
       " 'PIRASO',\n",
       " 'elegante',\n",
       " 'ROYAL SON',\n",
       " 'AISLIN',\n",
       " 'Fastrack',\n",
       " 'ROZZETTA CRAFT',\n",
       " 'PHENOMENAL',\n",
       " 'hipe',\n",
       " 'PHENOMENAL',\n",
       " 'Rich Club']"
      ]
     },
     "execution_count": 80,
     "metadata": {},
     "output_type": "execute_result"
    }
   ],
   "source": [
    "brand_tags=driver4.find_elements_by_xpath(\"//div[@class='_2WkVRV']\")\n",
    "brand_tags[0:2]\n",
    "\n",
    "for i in brand_tags:\n",
    "    brand.append(i.text)\n",
    "print(len(brand))    \n",
    "brand_100=brand[0:100]\n",
    "brand_100"
   ]
  },
  {
   "cell_type": "code",
   "execution_count": 81,
   "id": "fc2973a5",
   "metadata": {},
   "outputs": [
    {
     "name": "stdout",
     "output_type": "stream",
     "text": [
      "40\n",
      "120\n"
     ]
    },
    {
     "data": {
      "text/plain": [
       "['Gradient, Toughened Glass Lens, UV Protection Retro Squ...',\n",
       " 'UV Protection, UV Protection Retro Square Sunglasses (F...',\n",
       " 'UV Protection Wayfarer Sunglasses (50)',\n",
       " 'UV Protection, Polarized Wayfarer Sunglasses (Free Size...',\n",
       " 'UV Protection Aviator Sunglasses (54)',\n",
       " 'UV Protection Aviator, Wayfarer Sunglasses (Free Size)',\n",
       " 'UV Protection Aviator Sunglasses (54)',\n",
       " 'UV Protection Retro Square Sunglasses (60)',\n",
       " 'UV Protection Round Sunglasses (54)',\n",
       " 'UV Protection Rectangular Sunglasses (Free Size)',\n",
       " 'UV Protection Rectangular Sunglasses (Free Size)',\n",
       " 'UV Protection Round Sunglasses (Free Size)',\n",
       " 'UV Protection, Polarized, Mirrored Rectangular Sunglass...',\n",
       " 'UV Protection, Riding Glasses, Mirrored Wayfarer Sungla...',\n",
       " 'UV Protection, Riding Glasses Wayfarer Sunglasses (53)',\n",
       " 'Gradient, UV Protection Round Sunglasses (Free Size)',\n",
       " 'UV Protection Aviator Sunglasses (54)',\n",
       " 'UV Protection Wayfarer Sunglasses (Free Size)',\n",
       " 'Polarized, Night Vision, Riding Glasses Sports, Wrap-ar...',\n",
       " 'UV Protection Spectacle Sunglasses (Free Size)',\n",
       " 'UV Protection Rectangular Sunglasses (Free Size)',\n",
       " 'Riding Glasses Wrap-around Sunglasses (Free Size)',\n",
       " 'UV Protection Wayfarer Sunglasses (Free Size)',\n",
       " 'UV Protection Retro Square Sunglasses (Free Size)',\n",
       " 'UV Protection Wayfarer Sunglasses (55)',\n",
       " 'UV Protection Round Sunglasses (53)',\n",
       " 'UV Protection Wayfarer Sunglasses (53)',\n",
       " 'by Lenskart Polarized, UV Protection Round Sunglasses (...',\n",
       " 'Mirrored, UV Protection Wayfarer Sunglasses (Free Size)',\n",
       " 'Polarized Retro Square Sunglasses (Free Size)',\n",
       " 'UV Protection Retro Square Sunglasses (53)',\n",
       " 'Mirrored, UV Protection, Riding Glasses Wayfarer Sungla...',\n",
       " 'UV Protection Round Sunglasses (48)',\n",
       " 'Gradient, UV Protection Wayfarer Sunglasses (Free Size)',\n",
       " 'UV Protection Wayfarer Sunglasses (32)',\n",
       " 'Mirrored, Riding Glasses, Others Sports Sunglasses (50)',\n",
       " 'UV Protection Round Sunglasses (54)',\n",
       " 'Others Wayfarer, Retro Square Sunglasses (50)',\n",
       " 'Mirrored Aviator Sunglasses (55)',\n",
       " 'UV Protection Retro Square Sunglasses (51)',\n",
       " 'Mirrored, UV Protection, Riding Glasses, Others Round S...',\n",
       " 'UV Protection, Polarized, Mirrored Round Sunglasses (Fr...',\n",
       " 'UV Protection Wayfarer Sunglasses (53)',\n",
       " 'Gradient, UV Protection Wayfarer Sunglasses (Free Size)',\n",
       " 'Mirrored, UV Protection Wayfarer, Rectangular Sunglasse...',\n",
       " 'UV Protection Aviator Sunglasses (57)',\n",
       " 'UV Protection, Polarized, Mirrored Rectangular Sunglass...',\n",
       " 'UV Protection Round Sunglasses (Free Size)',\n",
       " 'Mirrored Aviator Sunglasses (Free Size)',\n",
       " 'UV Protection Aviator Sunglasses (Free Size)',\n",
       " 'UV Protection Retro Square Sunglasses (Free Size)',\n",
       " 'UV Protection Retro Square Sunglasses (Free Size)',\n",
       " 'UV Protection Sports Sunglasses (62)',\n",
       " 'UV Protection Rectangular Sunglasses (59)',\n",
       " 'Polarized Round Sunglasses (48)',\n",
       " 'UV Protection Aviator Sunglasses (Free Size)',\n",
       " 'Night Vision, UV Protection Round Sunglasses (54)',\n",
       " 'UV Protection Butterfly Sunglasses (65)',\n",
       " 'UV Protection Aviator Sunglasses (58)',\n",
       " 'UV Protection Wayfarer Sunglasses (Free Size)',\n",
       " 'Mirrored Aviator Sunglasses (32)',\n",
       " 'Mirrored Aviator Sunglasses (55)',\n",
       " 'UV Protection Aviator Sunglasses (88)',\n",
       " 'by Lenskart Polarized, UV Protection Wayfarer Sunglasse...',\n",
       " 'Mirrored, Riding Glasses, Others Sports Sunglasses (50)',\n",
       " 'UV Protection Over-sized Sunglasses (57)',\n",
       " 'UV Protection Cat-eye Sunglasses (17)',\n",
       " 'UV Protection Butterfly Sunglasses (60)',\n",
       " 'UV Protection, Polarized, Mirrored Wayfarer Sunglasses ...',\n",
       " 'UV Protection Cat-eye Sunglasses (17)',\n",
       " 'UV Protection, Riding Glasses Retro Square, Spectacle ...',\n",
       " 'UV Protection, Mirrored Retro Square Sunglasses (53)',\n",
       " 'Riding Glasses, Night Vision Wrap-around Sunglasses (Fr...',\n",
       " 'UV Protection Rectangular Sunglasses (Free Size)',\n",
       " 'UV Protection Rectangular Sunglasses (58)',\n",
       " 'UV Protection, Polarized, Mirrored Retro Square Sunglas...',\n",
       " 'UV Protection, Mirrored Sports Sunglasses (Free Size)',\n",
       " 'UV Protection, Gradient Rectangular Sunglasses (Free Si...',\n",
       " 'UV Protection, Gradient, Mirrored, Riding Glasses Aviat...',\n",
       " 'Polarized Aviator Sunglasses (Free Size)',\n",
       " 'UV Protection, Others Round, Aviator Sunglasses (54)',\n",
       " 'UV Protection Wayfarer Sunglasses (Free Size)',\n",
       " 'UV Protection Round Sunglasses (Free Size)',\n",
       " 'UV Protection Shield Sunglasses (Free Size)',\n",
       " 'UV Protection Wayfarer Sunglasses (Free Size)',\n",
       " 'UV Protection Wayfarer Sunglasses (Free Size)',\n",
       " 'UV Protection Retro Square Sunglasses (Free Size)',\n",
       " 'UV Protection, Mirrored Round Sunglasses (Free Size)',\n",
       " 'UV Protection, Polarized Oval, Retro Square Sunglasses ...',\n",
       " 'UV Protection Aviator Sunglasses (55)',\n",
       " 'UV Protection Aviator Sunglasses (58)',\n",
       " 'UV Protection Wayfarer Sunglasses (Free Size)',\n",
       " 'Polarized Rectangular Sunglasses (60)',\n",
       " 'UV Protection, Gradient Butterfly, Retro Square Sunglas...',\n",
       " 'UV Protection Aviator Sunglasses (Free Size)',\n",
       " 'UV Protection, Gradient Retro Square Sunglasses (Free S...',\n",
       " 'UV Protection Clubmaster Sunglasses (Free Size)',\n",
       " 'Mirrored, UV Protection, Gradient Round Sunglasses (55)',\n",
       " 'UV Protection, Mirrored Clubmaster Sunglasses (Free Siz...',\n",
       " 'Polarized Round Sunglasses (48)']"
      ]
     },
     "execution_count": 81,
     "metadata": {},
     "output_type": "execute_result"
    }
   ],
   "source": [
    "desc_tags=driver4.find_elements_by_class_name('IRpwTa')\n",
    "print(len(desc_tags))\n",
    "desc_tags[0:2]\n",
    "\n",
    "for i in desc_tags:\n",
    "    pdt_desc.append(i.text)\n",
    "    \n",
    "print(len(pdt_desc))\n",
    "pdt_desc_100=pdt_desc[0:100]\n",
    "pdt_desc_100"
   ]
  },
  {
   "cell_type": "code",
   "execution_count": 82,
   "id": "d62ccd32",
   "metadata": {},
   "outputs": [
    {
     "name": "stdout",
     "output_type": "stream",
     "text": [
      "120\n"
     ]
    },
    {
     "data": {
      "text/plain": [
       "['614',\n",
       " '181',\n",
       " '148',\n",
       " '203',\n",
       " '179',\n",
       " '152',\n",
       " '175',\n",
       " '649',\n",
       " '208',\n",
       " '629',\n",
       " '182',\n",
       " '376',\n",
       " '115',\n",
       " '134',\n",
       " '148',\n",
       " '376',\n",
       " '175',\n",
       " '549',\n",
       " '424',\n",
       " '349',\n",
       " '149',\n",
       " '225',\n",
       " '196',\n",
       " '249',\n",
       " '175',\n",
       " '139',\n",
       " '126',\n",
       " '799',\n",
       " '189',\n",
       " '548',\n",
       " '239',\n",
       " '245',\n",
       " '210',\n",
       " '629',\n",
       " '175',\n",
       " '144',\n",
       " '136',\n",
       " '128',\n",
       " '329',\n",
       " '614',\n",
       " '213',\n",
       " '234',\n",
       " '170',\n",
       " '629',\n",
       " '208',\n",
       " '234',\n",
       " '131',\n",
       " '239',\n",
       " '329',\n",
       " '249',\n",
       " '278',\n",
       " '424',\n",
       " '277',\n",
       " '929',\n",
       " '125',\n",
       " '133',\n",
       " '149',\n",
       " '325',\n",
       " '299',\n",
       " '149',\n",
       " '149',\n",
       " '329',\n",
       " '205',\n",
       " '749',\n",
       " '144',\n",
       " '929',\n",
       " '869',\n",
       " '325',\n",
       " '203',\n",
       " '859',\n",
       " '325',\n",
       " '267',\n",
       " '226',\n",
       " '130',\n",
       " '424',\n",
       " '180',\n",
       " '108',\n",
       " '349',\n",
       " '159',\n",
       " '959',\n",
       " '129',\n",
       " '709',\n",
       " '234',\n",
       " '649',\n",
       " '186',\n",
       " '549',\n",
       " '249',\n",
       " '179',\n",
       " '129',\n",
       " '200',\n",
       " '249',\n",
       " '349',\n",
       " '614',\n",
       " '396',\n",
       " '549',\n",
       " '281',\n",
       " '257',\n",
       " '139',\n",
       " '257',\n",
       " '115']"
      ]
     },
     "execution_count": 82,
     "metadata": {},
     "output_type": "execute_result"
    }
   ],
   "source": [
    "price_tags=driver4.find_elements_by_xpath(\"//div[@class='_30jeq3']\")\n",
    "price_tags[0:2]\n",
    "\n",
    "for i in price_tags:\n",
    "    price.append(i.text.replace(\"₹\",\"\"))\n",
    "    \n",
    "print(len(price))\n",
    "price_100=price[0:100]\n",
    "price_100"
   ]
  },
  {
   "cell_type": "code",
   "execution_count": 83,
   "id": "cfebec75",
   "metadata": {},
   "outputs": [
    {
     "data": {
      "text/plain": [
       "40"
      ]
     },
     "execution_count": 83,
     "metadata": {},
     "output_type": "execute_result"
    }
   ],
   "source": [
    "discount_tags=driver4.find_elements_by_xpath(\"//div[@class='_3Ay6Sb']\")\n",
    "discount_tags[0:2]\n",
    "len(discount_tags)"
   ]
  },
  {
   "cell_type": "code",
   "execution_count": 84,
   "id": "2855785e",
   "metadata": {},
   "outputs": [
    {
     "name": "stdout",
     "output_type": "stream",
     "text": [
      "120\n"
     ]
    },
    {
     "data": {
      "text/plain": [
       "['79',\n",
       " '89',\n",
       " '88',\n",
       " '84',\n",
       " '88',\n",
       " '87',\n",
       " '89',\n",
       " '67',\n",
       " '91',\n",
       " '21',\n",
       " '92',\n",
       " '85',\n",
       " '93',\n",
       " '88',\n",
       " '91',\n",
       " '81',\n",
       " '89',\n",
       " '31',\n",
       " '78',\n",
       " '82',\n",
       " '85',\n",
       " '90',\n",
       " '86',\n",
       " '75',\n",
       " '89',\n",
       " '86',\n",
       " '91',\n",
       " '68',\n",
       " '90',\n",
       " '31',\n",
       " '76',\n",
       " '90',\n",
       " '73',\n",
       " '21',\n",
       " '89',\n",
       " '90',\n",
       " '86',\n",
       " '87',\n",
       " '78',\n",
       " '69',\n",
       " '84',\n",
       " '86',\n",
       " '82',\n",
       " '30',\n",
       " '89',\n",
       " '88',\n",
       " '86',\n",
       " '85',\n",
       " '78',\n",
       " '84',\n",
       " '86',\n",
       " '80',\n",
       " '77',\n",
       " '62',\n",
       " '74',\n",
       " '91',\n",
       " '85',\n",
       " '87',\n",
       " '88',\n",
       " '70',\n",
       " '90',\n",
       " '78',\n",
       " '82',\n",
       " '70',\n",
       " '90',\n",
       " '62',\n",
       " '61',\n",
       " '87',\n",
       " '84',\n",
       " '61',\n",
       " '74',\n",
       " '86',\n",
       " '90',\n",
       " '88',\n",
       " '71',\n",
       " '86',\n",
       " '91',\n",
       " '82',\n",
       " '84',\n",
       " '20',\n",
       " '87',\n",
       " '21',\n",
       " '86',\n",
       " '27',\n",
       " '90',\n",
       " '31',\n",
       " '75',\n",
       " '89',\n",
       " '74',\n",
       " '87',\n",
       " '90',\n",
       " '76',\n",
       " '69',\n",
       " '74',\n",
       " '31',\n",
       " '85',\n",
       " '87',\n",
       " '90',\n",
       " '87',\n",
       " '76',\n",
       " '86',\n",
       " '77',\n",
       " '76',\n",
       " '15',\n",
       " '86',\n",
       " '78',\n",
       " '81',\n",
       " '82',\n",
       " '90',\n",
       " '80',\n",
       " '35',\n",
       " '85',\n",
       " '86',\n",
       " '74',\n",
       " '83',\n",
       " '78',\n",
       " '89',\n",
       " '61',\n",
       " '86',\n",
       " '90']"
      ]
     },
     "execution_count": 84,
     "metadata": {},
     "output_type": "execute_result"
    }
   ],
   "source": [
    "for i in discount_tags:\n",
    "    discount.append(i.text.replace(\"% off\",\"\"))\n",
    "    \n",
    "print(len(discount))\n",
    "discount_100=discount[0:100]\n",
    "discount_100\n",
    "discount"
   ]
  },
  {
   "cell_type": "code",
   "execution_count": 85,
   "id": "b7439ad2",
   "metadata": {},
   "outputs": [
    {
     "data": {
      "text/plain": [
       "(100, 100, 100, 100)"
      ]
     },
     "execution_count": 85,
     "metadata": {},
     "output_type": "execute_result"
    }
   ],
   "source": [
    "len(brand_100),len(pdt_desc_100),len(price_100),len(discount_100)"
   ]
  },
  {
   "cell_type": "code",
   "execution_count": 86,
   "id": "e8e667d5",
   "metadata": {},
   "outputs": [
    {
     "data": {
      "text/html": [
       "<div>\n",
       "<style scoped>\n",
       "    .dataframe tbody tr th:only-of-type {\n",
       "        vertical-align: middle;\n",
       "    }\n",
       "\n",
       "    .dataframe tbody tr th {\n",
       "        vertical-align: top;\n",
       "    }\n",
       "\n",
       "    .dataframe thead th {\n",
       "        text-align: right;\n",
       "    }\n",
       "</style>\n",
       "<table border=\"1\" class=\"dataframe\">\n",
       "  <thead>\n",
       "    <tr style=\"text-align: right;\">\n",
       "      <th></th>\n",
       "      <th>Brand</th>\n",
       "      <th>Product Description</th>\n",
       "      <th>Price(in ₹)</th>\n",
       "      <th>Discount(in %)</th>\n",
       "    </tr>\n",
       "  </thead>\n",
       "  <tbody>\n",
       "    <tr>\n",
       "      <th>1</th>\n",
       "      <td>Singco India</td>\n",
       "      <td>Gradient, Toughened Glass Lens, UV Protection ...</td>\n",
       "      <td>614</td>\n",
       "      <td>79</td>\n",
       "    </tr>\n",
       "    <tr>\n",
       "      <th>2</th>\n",
       "      <td>ROZZETTA CRAFT</td>\n",
       "      <td>UV Protection, UV Protection Retro Square Sung...</td>\n",
       "      <td>181</td>\n",
       "      <td>89</td>\n",
       "    </tr>\n",
       "    <tr>\n",
       "      <th>3</th>\n",
       "      <td>SRPM</td>\n",
       "      <td>UV Protection Wayfarer Sunglasses (50)</td>\n",
       "      <td>148</td>\n",
       "      <td>88</td>\n",
       "    </tr>\n",
       "    <tr>\n",
       "      <th>4</th>\n",
       "      <td>SUNBEE</td>\n",
       "      <td>UV Protection, Polarized Wayfarer Sunglasses (...</td>\n",
       "      <td>203</td>\n",
       "      <td>84</td>\n",
       "    </tr>\n",
       "    <tr>\n",
       "      <th>5</th>\n",
       "      <td>PIRASO</td>\n",
       "      <td>UV Protection Aviator Sunglasses (54)</td>\n",
       "      <td>179</td>\n",
       "      <td>88</td>\n",
       "    </tr>\n",
       "    <tr>\n",
       "      <th>...</th>\n",
       "      <td>...</td>\n",
       "      <td>...</td>\n",
       "      <td>...</td>\n",
       "      <td>...</td>\n",
       "    </tr>\n",
       "    <tr>\n",
       "      <th>96</th>\n",
       "      <td>ROZZETTA CRAFT</td>\n",
       "      <td>UV Protection, Gradient Retro Square Sunglasse...</td>\n",
       "      <td>281</td>\n",
       "      <td>85</td>\n",
       "    </tr>\n",
       "    <tr>\n",
       "      <th>97</th>\n",
       "      <td>PHENOMENAL</td>\n",
       "      <td>UV Protection Clubmaster Sunglasses (Free Size)</td>\n",
       "      <td>257</td>\n",
       "      <td>87</td>\n",
       "    </tr>\n",
       "    <tr>\n",
       "      <th>98</th>\n",
       "      <td>hipe</td>\n",
       "      <td>Mirrored, UV Protection, Gradient Round Sungla...</td>\n",
       "      <td>139</td>\n",
       "      <td>90</td>\n",
       "    </tr>\n",
       "    <tr>\n",
       "      <th>99</th>\n",
       "      <td>PHENOMENAL</td>\n",
       "      <td>UV Protection, Mirrored Clubmaster Sunglasses ...</td>\n",
       "      <td>257</td>\n",
       "      <td>87</td>\n",
       "    </tr>\n",
       "    <tr>\n",
       "      <th>100</th>\n",
       "      <td>Rich Club</td>\n",
       "      <td>Polarized Round Sunglasses (48)</td>\n",
       "      <td>115</td>\n",
       "      <td>76</td>\n",
       "    </tr>\n",
       "  </tbody>\n",
       "</table>\n",
       "<p>100 rows × 4 columns</p>\n",
       "</div>"
      ],
      "text/plain": [
       "              Brand                                Product Description  \\\n",
       "1      Singco India  Gradient, Toughened Glass Lens, UV Protection ...   \n",
       "2    ROZZETTA CRAFT  UV Protection, UV Protection Retro Square Sung...   \n",
       "3              SRPM             UV Protection Wayfarer Sunglasses (50)   \n",
       "4            SUNBEE  UV Protection, Polarized Wayfarer Sunglasses (...   \n",
       "5            PIRASO              UV Protection Aviator Sunglasses (54)   \n",
       "..              ...                                                ...   \n",
       "96   ROZZETTA CRAFT  UV Protection, Gradient Retro Square Sunglasse...   \n",
       "97       PHENOMENAL    UV Protection Clubmaster Sunglasses (Free Size)   \n",
       "98             hipe  Mirrored, UV Protection, Gradient Round Sungla...   \n",
       "99       PHENOMENAL  UV Protection, Mirrored Clubmaster Sunglasses ...   \n",
       "100       Rich Club                    Polarized Round Sunglasses (48)   \n",
       "\n",
       "    Price(in ₹) Discount(in %)  \n",
       "1           614             79  \n",
       "2           181             89  \n",
       "3           148             88  \n",
       "4           203             84  \n",
       "5           179             88  \n",
       "..          ...            ...  \n",
       "96          281             85  \n",
       "97          257             87  \n",
       "98          139             90  \n",
       "99          257             87  \n",
       "100         115             76  \n",
       "\n",
       "[100 rows x 4 columns]"
      ]
     },
     "execution_count": 86,
     "metadata": {},
     "output_type": "execute_result"
    }
   ],
   "source": [
    "df4=pd.DataFrame({\"Brand\":brand_100,\"Product Description\":pdt_desc_100,\"Price(in ₹)\":price_100,\"Discount(in %)\":discount_100})\n",
    "df4.index=np.arange(1,len(df4)+1)\n",
    "df4"
   ]
  },
  {
   "cell_type": "markdown",
   "id": "26852a7f",
   "metadata": {},
   "source": [
    "# Q5:"
   ]
  },
  {
   "cell_type": "code",
   "execution_count": 87,
   "id": "ee18ad37",
   "metadata": {},
   "outputs": [],
   "source": [
    "driver5=webdriver.Chrome(\"chromedriver.exe\")"
   ]
  },
  {
   "cell_type": "code",
   "execution_count": 88,
   "id": "a9782cb9",
   "metadata": {},
   "outputs": [],
   "source": [
    "url5=\"https://www.flipkart.com/apple-iphone-11-black-64-gb-includes- earpods-power-adapter/p/itm0f37c2240b217?pid=MOBFKCTSVZAXUHGR&lid=LSTMOBFKCTSVZAXUHGREPBFGI&marketplace.\"\n",
    "driver5.get(url5)"
   ]
  },
  {
   "cell_type": "code",
   "execution_count": 89,
   "id": "ce5bc626",
   "metadata": {},
   "outputs": [
    {
     "data": {
      "text/plain": [
       "<selenium.webdriver.remote.webelement.WebElement (session=\"0ff4076a618c3f45d6d08edd5183215b\", element=\"5ac28d0a-c409-43e5-8a57-960ba92ab1d9\")>"
      ]
     },
     "execution_count": 89,
     "metadata": {},
     "output_type": "execute_result"
    }
   ],
   "source": [
    "all_reviews=driver5.find_element_by_xpath(\"/html/body/div[1]/div/div[3]/div[1]/div[2]/div[8]/div/div/div[5]/div/a/div\")\n",
    "all_reviews"
   ]
  },
  {
   "cell_type": "code",
   "execution_count": 90,
   "id": "1e54b4c5",
   "metadata": {},
   "outputs": [],
   "source": [
    "all_reviews.click()"
   ]
  },
  {
   "cell_type": "code",
   "execution_count": 91,
   "id": "5be71cfa",
   "metadata": {
    "scrolled": true
   },
   "outputs": [
    {
     "name": "stdout",
     "output_type": "stream",
     "text": [
      "['5', '5', '5', '5', '5', '5', '5', '4', '5', '5']\n",
      "['Brilliant', 'Simply awesome', 'Best in the market!', 'Perfect product!', 'Fabulous!', 'Worth every penny', 'Great product', 'Good choice', 'Highly recommended', 'Worth every penny']\n",
      "['The Best Phone for the Money\\n\\nThe iPhone 11 offers superb cameras, a more durable design and excellent battery life for an affordable price.\\n\\nCompelling ultra-wide camera\\nNew Night mode is excellent\\nLong battery life', 'Really satisfied with the Product I received... It’s totally genuine and the packaging was also really good so if ur planning to buy just go for it.', 'Great iPhone very snappy experience as apple kind. Upgraded from iPhone 7.\\nPros\\n-Camera top class\\n- Battery top performed\\n-Chipset no need to say as apple kind\\n-Security as you expect from apple\\n- Display super bright industry leading colour\\naccuracy and super responsive\\n-Build quality as expect from apple sturdy\\npremium durable beautiful stylish.\\n-Os most stable os in smartphone industry\\n\\nCons\\n-No 5G\\n-Display is not based on OLED technology\\n-Charger headphones and 1 apple stic...\\nREAD MORE', 'Amazing phone with great cameras and better battery which gives you the best performance. I just love the camera .', 'This is my first iOS phone. I am very happy with this product. Very much satisfied with this. I love this phone.', 'Previously I was using one plus 3t it was a great phone\\nAnd then I decided to upgrade I am stuck between Samsung s10 plus or iPhone 11\\nI have seen the specs and everything were good except the display it’s somewhere between 720-1080 and it’s not even an amoled it’s an LCD display\\nBut I decided to go with iPhone because I have never used an IOS device I have Been an android user from the past 9 years I ordered IPhone 11 (128gb) product red\\nMy experience after using 3 weeks\\n1. The delivery ...\\nREAD MORE', 'Amazing Powerful and Durable Gadget.\\n\\nI’m am very happy with the camera picture quality, Amazing face id unlocked in dark room, Strong battery with perfect screen size as you can carry easily in pocket. This is my third iPhone.\\n\\nI shifted from android Samsung Note series to iPhone because of the strong build quality and peace of mind for next 3-4 years.\\n\\nDon’t think to much just go for it and I suggest you to go for minimum 128gb variant or more 256gb.\\n\\nI’ve attached my puppy pics and no fi...\\nREAD MORE', 'So far it’s been an AMAZING experience coming back to iOS after nearly a decade but it’s not as versatile as android though phone is sturdy dropped it accidentally a couple of times and nothing happened fortunately camera is awesome', 'What a camera .....just awesome ..you can feel this iPhone just awesome . Good for gaming also ...try pubg in hd it’s just wow', 'i11 is worthy to buy, too much happy with the product. Thank u flipkart I received the item on time..loved it..']\n"
     ]
    }
   ],
   "source": [
    "rating=[]\n",
    "review_summary=[]\n",
    "full_review=[]\n",
    "urls=[]\n",
    "rating_tags=driver5.find_elements_by_xpath(\"//div[@class='_3LWZlK _1BLPMq']\")\n",
    "rev_sum_tags=driver5.find_elements_by_xpath(\"//p[@class='_2-N8zT']\")\n",
    "full_rev_tags=driver5.find_elements_by_xpath(\"//div[@class='t-ZTKy']\")\n",
    "for i in rating_tags:\n",
    "    rating.append(i.text)\n",
    "for i in rev_sum_tags:\n",
    "    review_summary.append(i.text)\n",
    "for i in full_rev_tags:\n",
    "    full_review.append(i.text)\n",
    "    \n",
    "print(rating)\n",
    "print(review_summary)\n",
    "print(full_review)"
   ]
  },
  {
   "cell_type": "code",
   "execution_count": 92,
   "id": "1b5186c8",
   "metadata": {},
   "outputs": [
    {
     "name": "stdout",
     "output_type": "stream",
     "text": [
      "['5', '5', '5', '5', '5', '5', '5', '4', '5', '5', '5', '5', '5', '5', '5', '5', '5', '5', '5', '5', '5', '4', '5', '5', '5', '4', '5', '5', '5', '5', '5', '4', '5', '5', '5', '5', '5', '5', '5', '5', '4', '5', '5', '5', '4', '5', '5', '5', '5', '5', '5', '5', '4', '5', '5', '4', '5', '5', '4', '5', '5', '5', '5', '5', '5', '5', '5', '5', '5', '5', '5', '5', '5', '5', '5', '5', '5', '5', '3', '5', '5', '5', '5', '5']\n",
      "['Brilliant', 'Simply awesome', 'Best in the market!', 'Perfect product!', 'Fabulous!', 'Worth every penny', 'Great product', 'Good choice', 'Highly recommended', 'Worth every penny', 'Highly recommended', 'Perfect product!', 'Perfect product!', 'Highly recommended', 'Perfect product!', 'Worth every penny', 'Classy product', 'Worth every penny', 'Terrific', 'Wonderful', 'Worth every penny', 'Nice product', 'Perfect product!', 'Classy product', 'Brilliant', 'Good choice', 'Perfect product!', 'Wonderful', 'Terrific purchase', 'Terrific purchase', 'Simply awesome', 'Good quality product', 'Very poor', 'Perfect product!', 'Classy product', 'Fabulous!', 'Perfect product!', 'Must buy!', 'Mind-blowing purchase', 'Must buy!', 'Great product', 'Very Good', 'Wonderful', 'Classy product', 'Awesome', 'Pretty good', 'Awesome', 'Classy product', 'Awesome', 'Perfect product!', 'Highly recommended', 'Very poor', 'Fabulous!', 'Excellent', 'Value-for-money', 'Best in the market!', 'Brilliant', 'Good quality product', 'Best in the market!', 'Awesome', 'Value-for-money', 'Worthless', 'Super!', 'Simply awesome', 'Just wow!', 'Perfect product!', 'Must buy!', 'Brilliant', 'Simply awesome', 'Fabulous!', 'Just wow!', 'Absolute rubbish!', 'Great product', 'Excellent', 'Worthless', 'Mind-blowing purchase', 'Mind-blowing purchase', 'Super!', 'Excellent', 'Wonderful', 'Awesome', 'Perfect product!', 'Terrific purchase', 'Does the job', 'Just wow!', 'Terrific purchase', 'Worth every penny', 'Mind-blowing purchase', 'Excellent', 'Waste of money!']\n",
      "['The Best Phone for the Money\\n\\nThe iPhone 11 offers superb cameras, a more durable design and excellent battery life for an affordable price.\\n\\nCompelling ultra-wide camera\\nNew Night mode is excellent\\nLong battery life', 'Really satisfied with the Product I received... It’s totally genuine and the packaging was also really good so if ur planning to buy just go for it.', 'Great iPhone very snappy experience as apple kind. Upgraded from iPhone 7.\\nPros\\n-Camera top class\\n- Battery top performed\\n-Chipset no need to say as apple kind\\n-Security as you expect from apple\\n- Display super bright industry leading colour\\naccuracy and super responsive\\n-Build quality as expect from apple sturdy\\npremium durable beautiful stylish.\\n-Os most stable os in smartphone industry\\n\\nCons\\n-No 5G\\n-Display is not based on OLED technology\\n-Charger headphones and 1 apple stic...\\nREAD MORE', 'Amazing phone with great cameras and better battery which gives you the best performance. I just love the camera .', 'This is my first iOS phone. I am very happy with this product. Very much satisfied with this. I love this phone.', 'Previously I was using one plus 3t it was a great phone\\nAnd then I decided to upgrade I am stuck between Samsung s10 plus or iPhone 11\\nI have seen the specs and everything were good except the display it’s somewhere between 720-1080 and it’s not even an amoled it’s an LCD display\\nBut I decided to go with iPhone because I have never used an IOS device I have Been an android user from the past 9 years I ordered IPhone 11 (128gb) product red\\nMy experience after using 3 weeks\\n1. The delivery ...\\nREAD MORE', 'Amazing Powerful and Durable Gadget.\\n\\nI’m am very happy with the camera picture quality, Amazing face id unlocked in dark room, Strong battery with perfect screen size as you can carry easily in pocket. This is my third iPhone.\\n\\nI shifted from android Samsung Note series to iPhone because of the strong build quality and peace of mind for next 3-4 years.\\n\\nDon’t think to much just go for it and I suggest you to go for minimum 128gb variant or more 256gb.\\n\\nI’ve attached my puppy pics and no fi...\\nREAD MORE', 'So far it’s been an AMAZING experience coming back to iOS after nearly a decade but it’s not as versatile as android though phone is sturdy dropped it accidentally a couple of times and nothing happened fortunately camera is awesome', 'What a camera .....just awesome ..you can feel this iPhone just awesome . Good for gaming also ...try pubg in hd it’s just wow', 'i11 is worthy to buy, too much happy with the product. Thank u flipkart I received the item on time..loved it..', 'iphone 11 is a very good phone to buy only if you can compromise for the display. The display on this is device is pretty good but you can get other options with better displays in this price segment.\\nIf you can survive with an HD+ LCD panel with thicker bezels and a notch up top then this is a very good phone for you.\\nCameras are awesome, battery backup excellent, great performance and a decent premium look. Good job Apple !', 'It’s a must buy who is looking for an upgrade from previous generation of iPhones. If you are using XR then still you can hold on for sometime and upgrade to 2020 model else this phone is a must buy . Camera quality is amazing and wide angle is something to count upon. Performance wise it’s amazing and feels premium while holding in hand. So a big YES for this device. Go for 128 GB variant as the 4K videos will occupy lots of space and the storage can get over very quickly. Try to buy it with...\\nREAD MORE', 'Value for money❤️❤️\\nIts awesome mobile phone in the world ...\\nDisplay was very good and bright ..\\nTrust me freinds you r never regret after Buying..\\nJust go for it....\\nI love this phone and i switch to iphone x to 11', \"It's my first time to use iOS phone and I am loving my upgradation 😍😍 I love the color, I love the assebility of the phone....I need to learn more about its functionality, but as far as I have seen, it's quite easy and it has a lot of functions to work on, specially if you are a content writer or a blogger you get a lot of content creation platforms and they are really amazing.\\n\\nThis phone not only for good quality photography but a lot of other task too.😍💯\", \"Iphone is just awesome.. battery backup is very very nice.. continuously for 10 hours we can use it.camera is just awesome.. display is just fab.i love it alot..i had to wait 15 days for it as i pre ordered it..overalll it's worth the price..these all images are clicked by my iPhone..and i love it.\", 'Best budget Iphone till date ❤️ go for it guys without second thought. Let me explain you guys about Camera, Display, battery, and performance.\\n\\nCamera: at this price range there is no comparison of camera, you’ll love the picture quality as well as video quality. I am a Vlogger I wanted an iPhone with 4k video by front camera and I got this phone and I am more than happy 😃\\n\\nBattery: I use this phone roughly as I am active social media person and I have a youtube channel. so the battery ba...\\nREAD MORE', 'Totally in love with this ❤ the camera quality is amazing just love it 😘😘😘 itsss dammnnnnnn amazing... Must buy iPhone 11 this is my best experience ever ☀👌👌🧡🧡🧡🧡🧡 thanku apple ❤', 'It’s been almost a month since I have been using this phone. I upgraded from an iPhone 8. The main issue with my 8 was battery and this phone is just awesome when it comes to battery. It lasts a day and a half for me with my regular use , internet connected always with 4g\\nCan’t move forward without saying this. Battery of this phone is a life saver when I am traveling or at work when I don’t get the option to charge\\nCamera is superb. Front cam selfies and back cam photos are just awesome.\\n...\\nREAD MORE', 'Really worth of money. i just love it. It is the best phone ever.', 'This is my first ever I phone. Before this I was using my google nexus 5. But moving from android to iOS is a great experience. It’s worth at this price. I will highly recommend it if you want to move to iOS. The best part of this phone is it’s camera and it’s battery life. This two things have won my heart. I loved it. Happy to have it in my hand. Still exploring its features. And can’t forget to mention Flipkart service. Very prompt service and fast delivery.', 'Smooth like butter, camera like fantabulous, sound is crystal clear & its red color is damn attractive, i am just loving it. Must buy if you love photography.\\n\\nLucky to get it in sale, thank you Flipkart.', 'Awesome Phone. Slightly high price but worth. Better than iPhone XR.\\nCamera is superb and wide angle camera is very clear.\\n12MP selfie camera is also very good.\\nA13 Chip gives a very good and smooth performance.', 'Battery backup is extraordinary, camera is decent & performance offered by A13 bionic is awsome. The display is good in practical usage like the visibility of display is very good in direct sun light compare to pro models. Iam extremely satisfied for the money I spent.', 'Superb Product !!!\\nA big and worthy upgrade from mi 3S to iphone 11 .\\nTotally loved it !', 'I have migrated from OP 7pro... and trust me, iPhone 11 is totally worth it.. following are the reasons:-\\n1)there is ABSOLUTELY NO ISSUE WITH THE DISPLAY... its crisp, sharp and I found it to be much much better than OP7 pro. Netflix, Prime video all run crisply... you won’t miss a thing. True Tone works flawlessly...the display brightness is perfect. OP have not calibrated their screens properly.\\n2) iPhone 11 series have really good cameras... others have spoken in depth about them.\\n3) bat...\\nREAD MORE', 'Looking so good 👍 😍 super 👌 stylish 😎 phone\\nClean box 📦 good 👍 delivery 👌 fast delivery\\nOriginal box Original iphone 📱 👌 😍😍😍', 'After 1 month use I found camera quality best compared to my previous Samsung note 10+.Display not good as note 10 also charging too slow.Apple should add fast charger like 11 plus and pro.Best phone for daily use', 'I just directly switch from iphone 6s to iphone 11 .The best premium smartphone I recommend to everyone. Excellent quality and colors the iphone have in 11 series.\\nCamera quality is just awesome and the major feel when we hold in our hands. The sound quality and volume is also higher then the previous models.\\nI will recommend to buy iphone 11 instead of pro models , there is nothing much difference as this model contains everything which fulfill our needs.\\n\\nOnly one thing that I dislike abo...\\nREAD MORE', 'Upgraded from iphone 6 to 11 best phone for iphone users battery is much better than other iphones camera is awesome love to use it.camera is so clear in night.', 'The built quality is not very premium.\\nThe battery back is great .\\nThe LCD panel is not so sharp but the brightness level is very High .\\nCamera is super duper awesome.\\nThe red colour which people think is bright is actually very soothing and excellent colour to choose from .\\nThe A13 Bionic chip is really a flagship processor and can beat any phone which even has 12 gb ram .\\nCamera module is very great and looks very stylish.', 'Really good actually this is my first apple product am using its really awesome performance wise excellent. Am really happy with this iphone11', 'it is very good at performance. Camera is best like before and very smooth response even in water. Don’t buy 12 mini buy iPhone 11 , it is far better than 12 mini believe me ! Have a nice day \\uf8ff ☺️', 'Reviewing again after 5 months. At the beginning the battery and performance was good but it degraded soon. Also I was facing heating issues. The mobile will heat up like a stove sometimes. You cannot even play Pubg even in low settings properly, performance is not a problem but heating is. Also if you play that game for 10 mins the brightness will be automatically down due to over heating even when the auto brightness is set to off. This will not be solved even if u manually increase the bri...\\nREAD MORE', 'In love with this iphone great performance,camera ,battery everything. Go for it have a uncompareble battery backup, no doubts in iPhone camera here You can see the picture which is shot on my iPhone In love with this iphone great performance,camera ,battery everything. Go for it have a uncompareble battery backup, no doubts in iPhone camera here You can see the picture which is shot on my iPhone In love with this iphone great performance,camera ,battery everything. Go for it have a uncompare...\\nREAD MORE', 'We are on apple ecosystem for almost eight years now with couple of iPads and iPhones, including Xr.\\n\\nBought iPhone 11 as a gift to my daughter who loves it. We chose for a purple coloured one. Believe me it is gorgeous and towards the lighter shade. Dazzling and brilliant!\\n\\nThe phone is great and does excellent RAM management like any other Apple device.\\n\\nThe screen, though a LCD and lesser ppi as compared to other flagship phones of competitor brands, is a delight to watch with perfect re...\\nREAD MORE', 'Everything is perfect pictures come out so clearly and at first I wasn’t sure when I got it then when I started to use it and get the hang of it it was amazing!! I can’t wait to see what the next future phones will be like. The screen display on this bad boy are unbelievable they are so clear and never fail me. The performance is super cool there is a lot of cool features as well I like this phone because I feel that it is easy to use and one of my favorite things about this phone is the Face...\\nREAD MORE', 'It is just awesome mobile for this price from Apple,\\n\\nAfter 10 days review\\n\\nBattery enough for 1 day even 24*7 Internet will be on and mostly internet usage\\n\\nCamera is just awesome cool , android 64 MP is equal to this just 12 MP\\n\\nA13 Bionic chip will give more high performance without hanging\\n\\nAudio stereo speakers will give Dolby atoms sound with crystal clear\\n\\nVideo recording is like cinematic shots of every sec can be a 4K 60fps. Just awesome this phone\\niPhone 11 loved one', 'Best Apple iPhone that i have bought at a very reasonable price, camera quality is next level just awesome n of superior quality android phones not even close(RIP) to that and also battery is really good but packaging by Flipkart of iPhone was very poor of such a expensive product, firstly im bit worried about the quality of product if i purchased it through online how was the product but i think now this was mine best decision to bought it through Flipkart online because i got genuine Apple...\\nREAD MORE', 'Best Quality Product OF iPhone Series , Sound Quality & Camera quality is very awesome, Battery Life is very Sufficient for 24 hr Backup With Full Internet Access , I love this this Product too much , It is very fast & making me Very fast in all my daily Routine\\nHighlights;\\n1.Camera: 5 STAR\\n2.Video Recording: 5 star\\n3.Night mODE sHOOTING & Camera:4 star\\n4. Audio Quality: Awesome\\n5. Battery : 5 Star\\n6. Touch:5 Star\\n7. Processor: Very Fast\\nThe M...\\nREAD MORE', 'I rate this product 5* as it has got amazing user experience with the best performing A13 bionic processor. The screen responds and graphics rendering is top notch. With casual gaming and internet browsing, the battery lasts for approx. 1 day. Camera is very good. You will fall in love with the portrait mode. You can call me a loyal Apple customer or whatever but I won’t stop praising the products and overall experience. That user experience matters and is worth every penny you pay.\\n\\nBelow ar...\\nREAD MORE', \"Again back to apple iphone after a gap of 2-3 years. It's pleasure to use iOS and the quality product by Apple. Iphone 11 still works like a beast in 2021 also. It really capable of doing day to day usage as well as hard core gaming. Battery is awesome. I'm really too much satisfied with it. Apart fto the very gorgious IPS LCD (AMOLED will be better) everything is mind boggling. Iphone💕.\", 'impressive super phone and best in class camera ,sound and face unlock is super fast just see and phone is unlock and fast in daily apps use', 'Super and marvellous phone look very cute and nice sound. I love this phone i think white is good colur.Excellent camer 5*😍😘♥️♥️', 'Well while switching from android to iOS the first thing you need to be careful about is that you will loose all your whatsapp chat backups as both are different operating systems. Camera clarity is awesome and though being an lcd screen clarity and resolution is good. Battery backup is also good unlike previous gen iPhone. So far the experience is good will Padre after a few months of usage.\\n\\nP.S the black is more of a dark grey shade and not jet black', 'Very excited to have this phone. This phone has the real power unlike the android phones having SD 855 . The battery life is very good and the camera quality is excellent as comapred to redmi and other phones except google pixel. I M enjoying every single bit of it. Would recommed only if you have the budget.', 'I was using Iphone 6s and also Oneplus 6t. Both mobiles were perfectly alright in Photos, gaming, and smooth interface . My 6s mobile getting battery issue. thought upgrade to 11. Really like this mobile of its Internal storage (compare to 6s) , camera and its touch feeling. Its a worth buying mobile for me.', 'I am using this phone for 5 days and its one of the best camera out there ❤️ the screen is not oled and i am coming from iphone xs so its little bit not up to the mark i would say\\nBut overall value for money💕😍the battery back up is far better than my iphone xs and its worth in my apple ecosystem💫❤️if u are an apple User and have the eco system then go for it❤️though i will be getting the new iphone but its pretty good💫', 'Best and amazing product.....phone looks so premium.... battary is also good as expected .... Wide angle camera is so addictive ...if you are a IOS lover....then this phone will be the best choice for you all!!💯🔥', 'Always love the apple products, upgraded from old iPhone 6S plus to this after having my first baby. I just love to click baby’s photos with it. Overall I just love this phone. Battery back up is okay, sound quality is good. Haven’t tested yet waterproof yet. Only one thing I hate is apple could have given charger & headphones in box.', 'Value for money\\n5 star rating\\nExcellent camera\\nBattery backup full day in single charge.\\n\\nTougher and water resistant design, glossy back.\\nThe screen has excellent brightness and contrast.\\nApple A13 Bionic is the fastest smartphone chip on the planet.\\nExcellent battery life, fast charging support.\\nStereo speakers with great quality.', 'Thanks Flipkart For this amazing deal! I had a dream of owning a iphone since i had known about.\\nIm very happy with my purchase & it is totally worth it.\\nAmazing experience all over !!\\n\\nAnyone who’s thinking of buying it in 2021, i would simply say go for it without any second thoughts ❤️', 'Please DONT buy from here,\\n\\nI purchased Apple iPhone 11. with an exchange of IPhone 7, the exchange did not go well, iPhone 7 had a small scratch out side screen which i could never identify till date, but the FLIPKART person could, so he reduced 50% from exchange rate. I decided not to trade in, but paid money.\\n\\niPhone 11 Detail Below\\n---------------------------------------------\\nIt came with no charging, then i have put for charging, it took lot of time for charging, the phone also showe...\\nREAD MORE', 'awesome phone to have. it has got many smart features apart from mind blowing looks, camera, display, battery and sound. have fallen in love with this phone. must buy phone if you have got enough money. thanks to flipkart and apple of course..', 'Its a fabulous mobile look awesome performance unbeaten camera like dslr battery good i think this is a beast of mobile', \"Just got this iphone 11\\nAnd it is most powerful mobile phone I have used ever\\n\\nSo,go for it if you want a phone with best specification like camera,battery backup,display, A13 bionic chip\\n\\nThat's my review about this phone but yours can be differ from me....\", \"The best all rounder iphone. Flipkart is doing a great job. They're delivery services are blazing fast. I got delivery on the same day. Genuine Apple Product. Working great. Talking about review There's no need of review for iphones. They're simply the best.\", 'Amazing phone and on great deal I received with super fast delivery by Flipkart...', \"I'm switching this phone to oppo reno 10x zoom\\nIt's really impressive\\nRarely I'm missing smooth display touch response like oppo reno but\\nI really loved it.\\nCamera really impressive\", 'Damn this phone is a blast . Upgraded from android to ios and is a duperb experience. Battery backup is top notch and display also pretty good', 'I dreamt about this day from a long time.... Getting an iPhone with my own money.... Super happy and worth spending every penny', \"I'm Really happy with the product\\nDelivery was fast as well\\n..it was a gift for my sister and she loved it so much.\", \"Phone is awesome no doubt. But Camera & Display is not great. Performance is mind blowing.\\nBut the phone is heating too much when charging or when you regularly used. It's experience after using 1 week. It's heating extrem when I play PUBG for 30 minutes.\\nGo for iPhone 11 pro or 12. Otherwise go for Android phone you will get much better phone in less price.\", 'Did an upgrade from 6s plus to iphone 11.\\nAo far the experience is well and good. Felt smoother than 6s plus. The camera quality is superb. Battery backup is descent. Not a heavy user, and gets power more than a day. Go for it if you need an alrounder iphone in a competitve price.', 'Excellent camera, good performance, no lag. The lcd display is also good.. but difference come when we watch movie in prime and Netflix, the colours are not vibrant.. as we see in amoled display.. and the charger in box is of 5 watts.. takes more than 3 hours to charge from 0 to 100.. so guys be prepare to buy 18 watts charger . Finally I am an android user, it was my first Iapple phone, I promise u guys the iOS is so smooth.. overall the phone is damn good.... close eyes to buy it.. thanks t...\\nREAD MORE', 'Camera battery and it’s overall performance is good', 'Awesome purchase. Amazing phone with good battery backup. It’s a top notch device. White colour looks amazing. Phone has a few extra feature than iPhone XR. Overall, this is value for money', 'It’s an amazing product from apple and the camera is simply superb. Phone is faster.Night shot is simply superb and detailing and colour differentiation from camera is an added advantage\\n\\nThis review I have written from iPhone 11 only and I am glad to say outside.\\n\\nCons wise if we see HD+ display only, no battery percentage indicator as in older iPhone 8.\\nNo assistive touch control button in it\\nNo oleophobic coating on back panel glass and finger prints are visible but since I bought mint gr...\\nREAD MORE', 'Excellent camera and display touching very nice and smooth very improvement against iPhone XR and new processor is very fast', \"It's very high performances devise i am like the service of flipkart delevary very fast and packing very nice perfect phone\", \"I can say I'm damn impressed with iPhone 11. As they says iPhone 11 have the toughest glass ever in the smartphone which you'll find on the front and back and it's totally smooth. The fit and finish is full apple quality - there's no sense that any cheaping out has happened in the construction. Without saying it's camera features this review won't complete. The iPhone 11 has a dual camera system, consisting of a wide angle len's that's pretty much same as found on the iPhone XR last year, but...\\nREAD MORE\", 'Best in class. Battery backup is good especially when you play games like Pubg COD. But it is sort of heavy when you hold in hands. Portrait mode is best to click pictures. Stage light effect is awesome. Try to click photos outside in nature because photos inside home or room will not give you the quality in any phone even in DSLR.', 'Products damage', 'Well you all know the specifications . One of a kind. Best iPhone till date. Many enhancements to the camera app with many options. Love the glass body with matte finish in the lens area on the back. Lovely colours to choose from. Best battery in an iPhone till date, enough to last more than a day in normal usage. I tested my iPhone 11 battery and lasted for than 24 hours after full charge still with 30% battery charge left. Watched movies for some time. Normal usage on calls, browsing, musi...\\nREAD MORE', 'A perfect phone and a good battery super camera and the sound is dynamic overall the phone is perfect for upgrading from lower iPhone model to iPhone 11', 'New Phone worked for 2 weeks. After it gone dead without any reason and unfortunately lockdown hence at repair center for last 2 weeks. There were a exchange offer for old phone but they deducted amount saying one scratch on edge of old phone, infact any phone if u use for 1 month, if u use ring on ur finger it will come. It was not at all visible. The display, battery, performance for the old phone was perfect, still they deducted. With this experience i suggest you to buy phones from author...\\nREAD MORE', 'First thanks to Flipkart for this amazing deal and phone is outstanding. I upgraded from iPhone 7 and this is like very big upgrade. But the packaging was very basic I expected a good packaging as they only wrapped one layer of bubble wrap which I don’t think is enough to protect this expensive phone. And I recommend this phone and seller as well.\\n\\nAnd I’m posting this review after using it for 4 days.', 'This will help you more. See if you are planning to buy iPhone 11. I will say. Yes. But there are some plans I just want to disclose before you buy. 1) If you are an existing iPhone X/XS/XS Max/ XR user, better you guys do not think it to buy. You guys have more or less better gadget. 2) If you are an android user and planning to buy premium phone. I will suggest them to please buy iPhone instead of buying an Android. I bet you will never go back to android after using IOS. Now I want to shar...\\nREAD MORE', 'This is my first ever iPhone.\\nAnd I truly don’t regret switching to IOS from my Android.\\n\\nIt is easily an alternative to a DSLR camera.\\nIf you’re obsessed with photos and videos, just don’t think twice or don’t compare to other androids(Samsung S10 lite or OnePlus 8/8T), as it’s far better from them in every field.\\nComparing will only make you confused.\\n\\nI am getting an average Screen on Time of around 10 hours with 30 percent left. I haven’t let my device discharged below 30 % as it aff...\\nREAD MORE', 'Amazing camera and feel super machine I am not describe my feeling but this is amazing Phone I am so lucky I have this', 'Superfast delivery by Flipkart. Thanks.\\n\\n1. iPhone 11 is a pretty solid phone for the money you are paying.\\n2. All the bad reviews about the display is confusing. It’s not that bad.\\n3. I switched from a Oneplus 7t. I have no complaints about the display quality of iPhone. Yes, it’s not OLED, so, we are missing on the deep blacks. But that’s it. It is a very colour accurate display. Gets adequately bright and I could not find any pixelation.\\n4. Performance is one of the best, if not best, in ...\\nREAD MORE', 'Can’t beat the software and hardware integration of apple.\\nPerforms like a beast. Great quality camera\\n6-7 hours screen on time which is good. Nothing much to complaint about the screen. Good connectivity speeds.\\nGreat buy and Flipkart’s delivery top notch as usual', 'Worth the money’ starting first from its performance it beats out all phones , second the smoothness of camera is awesome, contrast ratio is much than expected. Price will not matter if u r a quality person, if not other phones are available with better discount', 'Its Very awesome product working and good camera quality and all about best product and also flipkart is very great deal and offer nice price', \"phone is good but in display is 720p lcd in this price range we can get full hd OLED displays with higher refresh rate processor is very good camera is nice but looks kind of oldish in front of todays phone also there's no charging in box had to buy it seperately\", 'Great iphone.\\nI am writing this review after 2 months of usage.\\nCamera is excellent, especially the nightmode\\nDisplay perfect\\nBattery backup awesome\\nSound quality very good\\nOverall Apple gives you a perfect iphone in this range.\\nReally in love with iPhone 11', 'finally an iPhone with very nice battery backup. update from iPhone 7 and happy to have it. camera is not up to the mark in low light but overall a recommended phone if your budget allows 😀', 'iPhone is delivered on time. Display is great u won’t feel that it’s a hd panel. Quality is excellent. Sounds is great it has stereo setup. Camera is good. iOS 14.2 comes in the box. U roughly get 113 gb free if u buy 128 gb. This is my second iPhone and i love it. Value for money.', 'beautiful shining, battery performance is too good.\\nonly the draw back is my expectations not meeted front cam but back cam is superb.', '🤩🤩🤩🤩🤩🤩I loved the Phone.. Every time I pick up the phone it makes me happy... The phone is beast💪💪 and the camera is fabulous 🥰🥰🥰.. I think one of my great purchase from Flipkart.. Thank you Filpkart..', 'Mobile is not getting charge.Mobile cannot be stated']\n"
     ]
    }
   ],
   "source": [
    "\n",
    "\n",
    "for page in range(2,10):\n",
    "    page_url=\"https://www.flipkart.com/apple-iphone-11-black-64-gb-includes-earpods-power-adapter/product-reviews/itm0f37c2240b217?pid=MOBFKCTSVZAXUHGR&page=\"+str(page)\n",
    "    driver5.get(page_url)\n",
    "    \n",
    "    rating_tags=driver5.find_elements_by_xpath(\"//div[@class='_3LWZlK _1BLPMq']\")\n",
    "    rev_sum_tags=driver5.find_elements_by_xpath(\"//p[@class='_2-N8zT']\")\n",
    "    full_rev_tags=driver5.find_elements_by_xpath(\"//div[@class='t-ZTKy']\")\n",
    "    for i in rating_tags:\n",
    "        rating.append(i.text)\n",
    "    for i in rev_sum_tags:\n",
    "        review_summary.append(i.text)\n",
    "    for i in full_rev_tags:\n",
    "        full_review.append(i.text)\n",
    "    \n",
    "print(rating)\n",
    "print(review_summary)\n",
    "print(full_review)\n",
    "    "
   ]
  },
  {
   "cell_type": "code",
   "execution_count": 93,
   "id": "809e020f",
   "metadata": {},
   "outputs": [
    {
     "ename": "ValueError",
     "evalue": "arrays must all be same length",
     "output_type": "error",
     "traceback": [
      "\u001b[1;31m---------------------------------------------------------------------------\u001b[0m",
      "\u001b[1;31mValueError\u001b[0m                                Traceback (most recent call last)",
      "\u001b[1;32m<ipython-input-93-8e5a5e81af5e>\u001b[0m in \u001b[0;36m<module>\u001b[1;34m\u001b[0m\n\u001b[1;32m----> 1\u001b[1;33m \u001b[0mdf5\u001b[0m\u001b[1;33m=\u001b[0m\u001b[0mpd\u001b[0m\u001b[1;33m.\u001b[0m\u001b[0mDataFrame\u001b[0m\u001b[1;33m(\u001b[0m\u001b[1;33m{\u001b[0m\u001b[1;34m\"Rating\"\u001b[0m\u001b[1;33m:\u001b[0m\u001b[0mrating\u001b[0m\u001b[1;33m,\u001b[0m\u001b[1;34m\"Review Summary\"\u001b[0m\u001b[1;33m:\u001b[0m\u001b[0mreview_summary\u001b[0m\u001b[1;33m,\u001b[0m\u001b[1;34m\"Full Review\"\u001b[0m\u001b[1;33m:\u001b[0m\u001b[0mfull_review\u001b[0m\u001b[1;33m}\u001b[0m\u001b[1;33m)\u001b[0m\u001b[1;33m\u001b[0m\u001b[1;33m\u001b[0m\u001b[0m\n\u001b[0m\u001b[0;32m      2\u001b[0m \u001b[0mdf5\u001b[0m\u001b[1;33m\u001b[0m\u001b[1;33m\u001b[0m\u001b[0m\n",
      "\u001b[1;32mC:\\ProgramData\\Anaconda3\\lib\\site-packages\\pandas\\core\\frame.py\u001b[0m in \u001b[0;36m__init__\u001b[1;34m(self, data, index, columns, dtype, copy)\u001b[0m\n\u001b[0;32m    527\u001b[0m \u001b[1;33m\u001b[0m\u001b[0m\n\u001b[0;32m    528\u001b[0m         \u001b[1;32melif\u001b[0m \u001b[0misinstance\u001b[0m\u001b[1;33m(\u001b[0m\u001b[0mdata\u001b[0m\u001b[1;33m,\u001b[0m \u001b[0mdict\u001b[0m\u001b[1;33m)\u001b[0m\u001b[1;33m:\u001b[0m\u001b[1;33m\u001b[0m\u001b[1;33m\u001b[0m\u001b[0m\n\u001b[1;32m--> 529\u001b[1;33m             \u001b[0mmgr\u001b[0m \u001b[1;33m=\u001b[0m \u001b[0minit_dict\u001b[0m\u001b[1;33m(\u001b[0m\u001b[0mdata\u001b[0m\u001b[1;33m,\u001b[0m \u001b[0mindex\u001b[0m\u001b[1;33m,\u001b[0m \u001b[0mcolumns\u001b[0m\u001b[1;33m,\u001b[0m \u001b[0mdtype\u001b[0m\u001b[1;33m=\u001b[0m\u001b[0mdtype\u001b[0m\u001b[1;33m)\u001b[0m\u001b[1;33m\u001b[0m\u001b[1;33m\u001b[0m\u001b[0m\n\u001b[0m\u001b[0;32m    530\u001b[0m         \u001b[1;32melif\u001b[0m \u001b[0misinstance\u001b[0m\u001b[1;33m(\u001b[0m\u001b[0mdata\u001b[0m\u001b[1;33m,\u001b[0m \u001b[0mma\u001b[0m\u001b[1;33m.\u001b[0m\u001b[0mMaskedArray\u001b[0m\u001b[1;33m)\u001b[0m\u001b[1;33m:\u001b[0m\u001b[1;33m\u001b[0m\u001b[1;33m\u001b[0m\u001b[0m\n\u001b[0;32m    531\u001b[0m             \u001b[1;32mimport\u001b[0m \u001b[0mnumpy\u001b[0m\u001b[1;33m.\u001b[0m\u001b[0mma\u001b[0m\u001b[1;33m.\u001b[0m\u001b[0mmrecords\u001b[0m \u001b[1;32mas\u001b[0m \u001b[0mmrecords\u001b[0m\u001b[1;33m\u001b[0m\u001b[1;33m\u001b[0m\u001b[0m\n",
      "\u001b[1;32mC:\\ProgramData\\Anaconda3\\lib\\site-packages\\pandas\\core\\internals\\construction.py\u001b[0m in \u001b[0;36minit_dict\u001b[1;34m(data, index, columns, dtype)\u001b[0m\n\u001b[0;32m    285\u001b[0m             \u001b[0marr\u001b[0m \u001b[1;32mif\u001b[0m \u001b[1;32mnot\u001b[0m \u001b[0mis_datetime64tz_dtype\u001b[0m\u001b[1;33m(\u001b[0m\u001b[0marr\u001b[0m\u001b[1;33m)\u001b[0m \u001b[1;32melse\u001b[0m \u001b[0marr\u001b[0m\u001b[1;33m.\u001b[0m\u001b[0mcopy\u001b[0m\u001b[1;33m(\u001b[0m\u001b[1;33m)\u001b[0m \u001b[1;32mfor\u001b[0m \u001b[0marr\u001b[0m \u001b[1;32min\u001b[0m \u001b[0marrays\u001b[0m\u001b[1;33m\u001b[0m\u001b[1;33m\u001b[0m\u001b[0m\n\u001b[0;32m    286\u001b[0m         ]\n\u001b[1;32m--> 287\u001b[1;33m     \u001b[1;32mreturn\u001b[0m \u001b[0marrays_to_mgr\u001b[0m\u001b[1;33m(\u001b[0m\u001b[0marrays\u001b[0m\u001b[1;33m,\u001b[0m \u001b[0mdata_names\u001b[0m\u001b[1;33m,\u001b[0m \u001b[0mindex\u001b[0m\u001b[1;33m,\u001b[0m \u001b[0mcolumns\u001b[0m\u001b[1;33m,\u001b[0m \u001b[0mdtype\u001b[0m\u001b[1;33m=\u001b[0m\u001b[0mdtype\u001b[0m\u001b[1;33m)\u001b[0m\u001b[1;33m\u001b[0m\u001b[1;33m\u001b[0m\u001b[0m\n\u001b[0m\u001b[0;32m    288\u001b[0m \u001b[1;33m\u001b[0m\u001b[0m\n\u001b[0;32m    289\u001b[0m \u001b[1;33m\u001b[0m\u001b[0m\n",
      "\u001b[1;32mC:\\ProgramData\\Anaconda3\\lib\\site-packages\\pandas\\core\\internals\\construction.py\u001b[0m in \u001b[0;36marrays_to_mgr\u001b[1;34m(arrays, arr_names, index, columns, dtype, verify_integrity)\u001b[0m\n\u001b[0;32m     78\u001b[0m         \u001b[1;31m# figure out the index, if necessary\u001b[0m\u001b[1;33m\u001b[0m\u001b[1;33m\u001b[0m\u001b[1;33m\u001b[0m\u001b[0m\n\u001b[0;32m     79\u001b[0m         \u001b[1;32mif\u001b[0m \u001b[0mindex\u001b[0m \u001b[1;32mis\u001b[0m \u001b[1;32mNone\u001b[0m\u001b[1;33m:\u001b[0m\u001b[1;33m\u001b[0m\u001b[1;33m\u001b[0m\u001b[0m\n\u001b[1;32m---> 80\u001b[1;33m             \u001b[0mindex\u001b[0m \u001b[1;33m=\u001b[0m \u001b[0mextract_index\u001b[0m\u001b[1;33m(\u001b[0m\u001b[0marrays\u001b[0m\u001b[1;33m)\u001b[0m\u001b[1;33m\u001b[0m\u001b[1;33m\u001b[0m\u001b[0m\n\u001b[0m\u001b[0;32m     81\u001b[0m         \u001b[1;32melse\u001b[0m\u001b[1;33m:\u001b[0m\u001b[1;33m\u001b[0m\u001b[1;33m\u001b[0m\u001b[0m\n\u001b[0;32m     82\u001b[0m             \u001b[0mindex\u001b[0m \u001b[1;33m=\u001b[0m \u001b[0mensure_index\u001b[0m\u001b[1;33m(\u001b[0m\u001b[0mindex\u001b[0m\u001b[1;33m)\u001b[0m\u001b[1;33m\u001b[0m\u001b[1;33m\u001b[0m\u001b[0m\n",
      "\u001b[1;32mC:\\ProgramData\\Anaconda3\\lib\\site-packages\\pandas\\core\\internals\\construction.py\u001b[0m in \u001b[0;36mextract_index\u001b[1;34m(data)\u001b[0m\n\u001b[0;32m    399\u001b[0m             \u001b[0mlengths\u001b[0m \u001b[1;33m=\u001b[0m \u001b[0mlist\u001b[0m\u001b[1;33m(\u001b[0m\u001b[0mset\u001b[0m\u001b[1;33m(\u001b[0m\u001b[0mraw_lengths\u001b[0m\u001b[1;33m)\u001b[0m\u001b[1;33m)\u001b[0m\u001b[1;33m\u001b[0m\u001b[1;33m\u001b[0m\u001b[0m\n\u001b[0;32m    400\u001b[0m             \u001b[1;32mif\u001b[0m \u001b[0mlen\u001b[0m\u001b[1;33m(\u001b[0m\u001b[0mlengths\u001b[0m\u001b[1;33m)\u001b[0m \u001b[1;33m>\u001b[0m \u001b[1;36m1\u001b[0m\u001b[1;33m:\u001b[0m\u001b[1;33m\u001b[0m\u001b[1;33m\u001b[0m\u001b[0m\n\u001b[1;32m--> 401\u001b[1;33m                 \u001b[1;32mraise\u001b[0m \u001b[0mValueError\u001b[0m\u001b[1;33m(\u001b[0m\u001b[1;34m\"arrays must all be same length\"\u001b[0m\u001b[1;33m)\u001b[0m\u001b[1;33m\u001b[0m\u001b[1;33m\u001b[0m\u001b[0m\n\u001b[0m\u001b[0;32m    402\u001b[0m \u001b[1;33m\u001b[0m\u001b[0m\n\u001b[0;32m    403\u001b[0m             \u001b[1;32mif\u001b[0m \u001b[0mhave_dicts\u001b[0m\u001b[1;33m:\u001b[0m\u001b[1;33m\u001b[0m\u001b[1;33m\u001b[0m\u001b[0m\n",
      "\u001b[1;31mValueError\u001b[0m: arrays must all be same length"
     ]
    }
   ],
   "source": [
    "df5=pd.DataFrame({\"Rating\":rating,\"Review Summary\":review_summary,\"Full Review\":full_review})\n",
    "df5"
   ]
  },
  {
   "cell_type": "code",
   "execution_count": null,
   "id": "4e3b66b6",
   "metadata": {},
   "outputs": [],
   "source": []
  },
  {
   "cell_type": "code",
   "execution_count": null,
   "id": "6f5adc88",
   "metadata": {},
   "outputs": [],
   "source": []
  },
  {
   "cell_type": "markdown",
   "id": "81e0d8fb",
   "metadata": {},
   "source": [
    "# Q6:"
   ]
  },
  {
   "cell_type": "code",
   "execution_count": 94,
   "id": "baedeacf",
   "metadata": {},
   "outputs": [],
   "source": [
    "driver6=webdriver.Chrome(\"chromedriver.exe\")"
   ]
  },
  {
   "cell_type": "code",
   "execution_count": 95,
   "id": "65d2c8ea",
   "metadata": {},
   "outputs": [],
   "source": [
    "url=\"https://www.flipkart.com/\"\n",
    "driver6.get(url)"
   ]
  },
  {
   "cell_type": "code",
   "execution_count": 96,
   "id": "96a79295",
   "metadata": {},
   "outputs": [
    {
     "data": {
      "text/plain": [
       "<selenium.webdriver.remote.webelement.WebElement (session=\"0416a9522b1496525ed9a9291e27a9b3\", element=\"794e3774-1ae3-441e-890c-fba21d1ac7f4\")>"
      ]
     },
     "execution_count": 96,
     "metadata": {},
     "output_type": "execute_result"
    }
   ],
   "source": [
    "pop_up=driver6.find_element_by_xpath(\"/html/body/div[2]/div/div/button\")\n",
    "pop_up"
   ]
  },
  {
   "cell_type": "code",
   "execution_count": 97,
   "id": "efcc1920",
   "metadata": {},
   "outputs": [],
   "source": [
    "pop_up.click()"
   ]
  },
  {
   "cell_type": "code",
   "execution_count": 98,
   "id": "dfc00352",
   "metadata": {},
   "outputs": [
    {
     "data": {
      "text/plain": [
       "<selenium.webdriver.remote.webelement.WebElement (session=\"0416a9522b1496525ed9a9291e27a9b3\", element=\"e71e04c7-5d49-45e7-9cea-d5ce08e52d42\")>"
      ]
     },
     "execution_count": 98,
     "metadata": {},
     "output_type": "execute_result"
    }
   ],
   "source": [
    "search_pdt=driver6.find_element_by_xpath(\"/html/body/div[1]/div/div[1]/div[1]/div[2]/div[2]/form/div/div/input\")\n",
    "search_pdt"
   ]
  },
  {
   "cell_type": "code",
   "execution_count": 99,
   "id": "4bdcc7b9",
   "metadata": {},
   "outputs": [],
   "source": [
    "search_pdt.send_keys(\"sneakers\")"
   ]
  },
  {
   "cell_type": "code",
   "execution_count": 100,
   "id": "9f46c557",
   "metadata": {},
   "outputs": [
    {
     "data": {
      "text/plain": [
       "<selenium.webdriver.remote.webelement.WebElement (session=\"0416a9522b1496525ed9a9291e27a9b3\", element=\"fab35e8b-62cf-4351-8e8c-2dcbd83f2bd7\")>"
      ]
     },
     "execution_count": 100,
     "metadata": {},
     "output_type": "execute_result"
    }
   ],
   "source": [
    "search_btn=driver6.find_element_by_xpath(\"/html/body/div[1]/div/div[1]/div[1]/div[2]/div[2]/form/div/button\")\n",
    "search_btn"
   ]
  },
  {
   "cell_type": "code",
   "execution_count": 101,
   "id": "966b3ad4",
   "metadata": {},
   "outputs": [],
   "source": [
    "search_btn.click()"
   ]
  },
  {
   "cell_type": "code",
   "execution_count": 102,
   "id": "235c054e",
   "metadata": {},
   "outputs": [
    {
     "name": "stdout",
     "output_type": "stream",
     "text": [
      "120 120 120 120\n",
      "['SHELBY', 'Noztile', 'Magnolia', 'Chevit', 'TR', 'BRUTON', 'Magnolia', 'RapidBox', 'World Wear Footwear', 'Kraasa', 'KWIK FIT', 'Echor', 'URBANBOX', 'corsac', 'World Wear Footwear', 'EMPTILE', 'D-SNEAKERZ', 'Shoes Bank', 'DUNKASTON', 'Bacan', 'aadi', 'luxury fashion', 'BRUTON', 'Numenzo', 'BRUTON', 'SCATCHITE', 'Rzisbo', 'Robbie jones', 'Magnolia', 'Kraasa', 'RapidBox', 'BRUTON', 'Kzaara', 'luxury fashion', 'BRUTON', 'Nilatin', 'Echor', 'BRUTON', 'BRUTON', 'Robbie jones', 'Elevarse', 'World Wear Footwear', 'Chevit', 'SHELBY', 'PUMA', 'Kraasa', 'BIRDE', 'Noztile', 'CLYMB', 'RAFTAR FASHION', 'Vellinto', 'Echor', 'CAMPUS', 'Numenzo', 'Robbie jones', 'RapidBox', 'ASTEROID', 'ASIAN', 'Chevit', 'EMPTILE', 'Robbie jones', 'Ktiz', 'ORICUM', 'Bacan', 'D-SNEAKERZ', 'Hot & Knot', 'SPARX', 'Numenzo', 'Zorth', 'SWIGGY', 'Echor', 'Robbie jones', 'KNIGHT WALKERS', 'LE GREEM', 'T-ROCK', 'BRUTON', 'Bretton', 'Dizzler', 'Stinson', 'Nilatin', 'Nilatin', 'RANZAG', 'PUMA', 'SHELBY', \"LEVI'S\", 'CAMPUS', 'Magnolia', 'Noztile', 'PUMA', 'CLYMB', 'ESSENCE', 'RapidBox', 'Chevit', 'Arohi', 'Hida', 'Echor', 'Echor', 'SPARX', 'WHITEHUB', 'Bacan', 'luxury fashion', 'RapidBox', 'BIRDE', 'Robbie jones', 'DUNKASTON', 'Zorth', 'bluemaker', 'BRUTON', 'Robbie jones', 'Numenzo', 'BAUCHHAAR', 'Robbie jones', 'U.S. POLO ASSN.', 'WHITE WALKERS', 'Trendmode', 'BRUTON', 'FILA', 'Kraasa', 'Brainer', 'bacca bucci']\n",
      "['Casual Sneakers Lightweight Shoes for Men and Boys Snea...', 'Sneakers For Men', 'Sneakers For Men', 'Super Stylish & Trendy Combo Pack of 02 Pairs Sneakers ...', 'Sneakers For Men', 'Modern Trendy Sneakers Shoes Sneakers For Men', 'Sneakers For Men', 'Sneakers For Men', 'Sneakers For Men', 'Series 7 Sneakers For Men', 'Kwik FIT casual sneaker shoes and partywear shoes Casua...', \"Echor Men's Sneakers Fashion Lightweight Running Shoes ...\", 'Sneakers Sneakers For Men', 'STYLISH MENS BLACK AND WHITE SNEAKER Sneakers For Men', '5011-Latest Collection Stylish Casual Loafer Sneakers S...', 'all white heartbeat casual shoe Sneakers For Men', \"Casual , Partywear Sneakers Shoes For Men's And Boys Wh...\", \"White Sneaker For Men's/Boy's Sneakers For Men\", 'Sneakers For Men', 'Sneakers For Men', 'Sneakers For Men', 'Luxury Fashionable casual sneaker shoes Sneakers For Me...', 'Combo Pack Of 4 Casual Shoes Loafer Shoes Sneakers For ...', 'Sneakers For Men', 'Modern & Trendy Collection Combo Pack of 02 Shoes for M...', 'Sneakers For Men', 'Sneakers For Men', 'Sneakers For Men', 'Sneakers For Men', 'Shark-41 Sneakers For Men', 'Sneakers For Men', 'Combo Pack Of 3 Latest Casual Shoes Sneakers For Men', 'Sneakers For Men', 'Sneakers For Men', 'Lattest Sneakers Shoe Sneakers For Men', 'Sneakers For Men', \"Men's Sneakers Fashion Lightweight Running Shoes Tennis...\", 'Combo Pack Of 2 Latest Stylish Casual Shoes for Men Lac...', 'Sneaker Sneakers For Men', 'Sneakers For Men', 'Sneakers For Men', 'Latest Collection-1227 Stylish Casual Sports Sneakers F...', '516 Trendy Star Perfect Sneakers For Men', 'Casual Sneakers Lightweight Shoes for Men and Boys Snea...', 'RS-X WINTERIZED Sneakers For Men', 'Casuals, Canvas, Partywear Sneakers For Men', 'Sports Running Shoes Sneakers For Men', 'Sneakers For Men', \"Perfect Sports Shoes for Men's Running ,Cycling & Trekk...\", 'Sneakers For Men', 'Casual Sneakrs For Men Sneakers For Men', \"Echor Men's Sneakers Fashion Lightweight Running Shoes ...\", 'EXPLORE Sneakers For Men', '411 Casual Sneakers For Men', 'Sneakers For Men', 'Sneakers For Men', 'Sneakers For Men', 'Skypy-31 Walking Shoes,Training Shoes,Sneakers,Loafers,...', 'Unique & Perfect Collection Combo Pack of 02 Shoes for ...', 'all white heartbeat casual shoe Sneakers For Men', 'Sneakers For Men', 'Sneakers For Men', 'Casual Sneakers Shoes for Men Pack of 5 Combo(O)-1667-3...', 'Sneakers For Men', \"Casual , Partywear Sneakers Shoes For Men's And Boys Wh...\", 'High Top Casual Party Wear Boot Stylish Sneakers For Me...', 'SM-439 Sneakers For Men', 'Sneakers For Men', 'Sneakers For Men', 'casual sneakers shoes For Mens Multicolor Combo(MR)-179...', \"Men's Sneakers Fashion Lightweight Running Shoes Tennis...\", 'Sneakers For Men', 'Sneakers For Men', 'Comfortable & Ultra Light Weight Sneaker Sneakers For M...', 'Stylish White Casual Sneakers shoes Men and Boys Sneake...', 'Combo Pack Of 3 Latest Casual Shoes Sneakers For Men', 'Classy Stylish Ayasa Sneakers Sneakers For Men', 'Sneakers For Men', 'Sneakers For Men', 'Sneakers For Men', 'Sneakers For Men', 'Running Shoes Stylish Comfortable Shoes For Men Sneaker...', 'Rigel Sneakers For Men', 'Casual Sneakers Lightweight Shoes for Men and Boys Snea...', 'INDI EXCLUSIVE Sneaker For Men', 'EXPLORE Sneakers For Men', 'White Sneakers Sneakers For Men', 'Sneakers For Men', 'Puma Wired Cage Sneakers For Men', 'Khalifa/Walking/Outdoor/Sneakers Sneakers For Men', 'Sneakers For Men', 'Sneakers For Men', 'Perfect & Affordable Combo Pack of 02 Pairs Sneakers Ou...', 'Sneakers For Men', 'Sneakers For Men', \"Echor Men's Sneakers Fashion Lightweight Running Shoes ...\", 'Sneakers For Men', 'SM-439 Sneakers For Men', 'Sneakers For Men', 'Sneakers For Men', 'Fashionable sneaker shoes Sneakers For Men', 'Sneakers For Men', 'Stylish and Trendy New Design Lightweight,Casual shoes ...', 'Sneakers For Men', 'Sneakers For Men', 'New Fashion Outdoor Trendy Lightweight Casual,Canvas St...', 'casual for men Sneakers For Men', 'Combo Pack Of 3 Latest Casual Shoes Sneakers For Men', 'Sneakers For Men', 'Sneakers For Men', 'sports shoes for men | Latest Stylish Casual sneakers f...', 'Sneakers For Men', 'PANAL Sneakers For Men', 'Stylish & Trending Outdoor Walking Comfortable Sneakers...', 'Sneakers For Men', 'Men Pack of 2 Casual Sneakers For Men', 'Sneakers For Men', 'Shark-41 Sneakers For Men', 'Sneakers For Men', 'Flat Hi-Top Casual Streetwear Fashion Sneakers With ext...']\n",
      "['₹499', '₹349', '₹327', '₹501', '₹272', '₹209', '₹327', '₹580', '₹149', '₹394', '₹349', '₹433', '₹148', '₹399', '₹149', '₹347', '₹249', '₹248', '₹269', '₹476', '₹269', '₹399', '₹449', '₹379', '₹421', '₹348', '₹444', '₹424', '₹349', '₹394', '₹630', '₹397', '₹209', '₹439', '₹249', '₹599', '₹424', '₹449', '₹249', '₹424', '₹349', '₹209', '₹209', '₹499', '₹3,262', '₹444', '₹249', '₹349', '₹199', '₹649', '₹549', '₹433', '₹999', '₹424', '₹424', '₹580', '₹424', '₹498', '₹373', '₹347', '₹424', '₹398', '₹885', '₹476', '₹334', '₹539', '₹799', '₹379', '₹397', '₹580', '₹424', '₹424', '₹598', '₹399', '₹349', '₹397', '₹201', '₹445', '₹209', '₹599', '₹599', '₹345', '₹1,321', '₹499', '₹1,209', '₹1,849', '₹307', '₹349', '₹1,294', '₹534', '₹349', '₹580', '₹365', '₹395', '₹566', '₹433', '₹449', '₹799', '₹429', '₹476', '₹449', '₹630', '₹269', '₹424', '₹349', '₹385', '₹424', '₹397', '₹424', '₹379', '₹349', '₹424', '₹1,499', '₹549', '₹209', '₹374', '₹997', '₹394', '₹449', '₹1,380']\n",
      "['61% off', '82% off', '67% off', '68% off', '72% off', '83% off', '67% off', '41% off', '70% off', '60% off', '82% off', '71% off', '85% off', '73% off', '70% off', '65% off', '62% off', '75% off', '82% off', '52% off', '73% off', '69% off', '87% off', '70% off', '83% off', '65% off', '55% off', '57% off', '65% off', '60% off', '36% off', '86% off', '79% off', '78% off', '80% off', '80% off', '57% off', '82% off', '80% off', '57% off', '65% off', '58% off', '73% off', '61% off', '63% off', '55% off', '50% off', '82% off', '80% off', '35% off', '57% off', '71% off', '47% off', '78% off', '57% off', '41% off', '78% off', '37% off', '75% off', '65% off', '57% off', '60% off', '64% off', '52% off', '66% off', '46% off', '5% off', '70% off', '60% off', '41% off', '57% off', '57% off', '60% off', '60% off', '65% off', '86% off', '89% off', '38% off', '58% off', '80% off', '80% off', '65% off', '52% off', '61% off', '56% off', '2% off', '69% off', '82% off', '63% off', '64% off', '65% off', '41% off', '79% off', '60% off', '43% off', '71% off', '70% off', '5% off', '57% off', '52% off', '77% off', '36% off', '46% off', '57% off', '76% off', '61% off', '57% off', '86% off', '57% off', '70% off', '65% off', '57% off', '50% off', '54% off', '70% off', '85% off', '66% off', '60% off', '65% off', '60% off']\n"
     ]
    }
   ],
   "source": [
    "brand=[]\n",
    "pdt_desc=[]\n",
    "price=[]\n",
    "discount=[]\n",
    "\n",
    "for page in range(1,4):\n",
    "    urls=\"https://www.flipkart.com/search?q=sneakers&otracker=search&otracker1=search&marketplace=FLIPKART&as-show=on&as=off&page=\"+str(page)\n",
    "    driver6.get(urls)\n",
    "    brand_tags=driver6.find_elements_by_xpath(\"//div[@class='_2WkVRV']\")\n",
    "    for j in brand_tags:\n",
    "        brand.append(j.text)\n",
    "    prd_desc_tags=driver6.find_elements_by_class_name('IRpwTa')\n",
    "    for j in prd_desc_tags:\n",
    "        pdt_desc.append(j.text)\n",
    "    price_tags=driver6.find_elements_by_xpath('//div[@class=\"_30jeq3\"]')\n",
    "    for j in price_tags:\n",
    "        price.append(j.text)\n",
    "    discount_tags=driver6.find_elements_by_xpath('//div[@class=\"_3Ay6Sb\"]')\n",
    "    for j in discount_tags:\n",
    "        discount.append(j.text)\n",
    "\n",
    "print(len(brand),len(pdt_desc),len(price),len(discount))\n",
    "print(brand)\n",
    "print(pdt_desc)\n",
    "print(price)\n",
    "print(discount)"
   ]
  },
  {
   "cell_type": "code",
   "execution_count": 103,
   "id": "f85edf00",
   "metadata": {},
   "outputs": [
    {
     "name": "stdout",
     "output_type": "stream",
     "text": [
      "['SHELBY', 'Noztile', 'Magnolia', 'Chevit', 'TR', 'BRUTON', 'Magnolia', 'RapidBox', 'World Wear Footwear', 'Kraasa', 'KWIK FIT', 'Echor', 'URBANBOX', 'corsac', 'World Wear Footwear', 'EMPTILE', 'D-SNEAKERZ', 'Shoes Bank', 'DUNKASTON', 'Bacan', 'aadi', 'luxury fashion', 'BRUTON', 'Numenzo', 'BRUTON', 'SCATCHITE', 'Rzisbo', 'Robbie jones', 'Magnolia', 'Kraasa', 'RapidBox', 'BRUTON', 'Kzaara', 'luxury fashion', 'BRUTON', 'Nilatin', 'Echor', 'BRUTON', 'BRUTON', 'Robbie jones', 'Elevarse', 'World Wear Footwear', 'Chevit', 'SHELBY', 'PUMA', 'Kraasa', 'BIRDE', 'Noztile', 'CLYMB', 'RAFTAR FASHION', 'Vellinto', 'Echor', 'CAMPUS', 'Numenzo', 'Robbie jones', 'RapidBox', 'ASTEROID', 'ASIAN', 'Chevit', 'EMPTILE', 'Robbie jones', 'Ktiz', 'ORICUM', 'Bacan', 'D-SNEAKERZ', 'Hot & Knot', 'SPARX', 'Numenzo', 'Zorth', 'SWIGGY', 'Echor', 'Robbie jones', 'KNIGHT WALKERS', 'LE GREEM', 'T-ROCK', 'BRUTON', 'Bretton', 'Dizzler', 'Stinson', 'Nilatin', 'Nilatin', 'RANZAG', 'PUMA', 'SHELBY', \"LEVI'S\", 'CAMPUS', 'Magnolia', 'Noztile', 'PUMA', 'CLYMB', 'ESSENCE', 'RapidBox', 'Chevit', 'Arohi', 'Hida', 'Echor', 'Echor', 'SPARX', 'WHITEHUB', 'Bacan']\n",
      "['Casual Sneakers Lightweight Shoes for Men and Boys Snea...', 'Sneakers For Men', 'Sneakers For Men', 'Super Stylish & Trendy Combo Pack of 02 Pairs Sneakers ...', 'Sneakers For Men', 'Modern Trendy Sneakers Shoes Sneakers For Men', 'Sneakers For Men', 'Sneakers For Men', 'Sneakers For Men', 'Series 7 Sneakers For Men', 'Kwik FIT casual sneaker shoes and partywear shoes Casua...', \"Echor Men's Sneakers Fashion Lightweight Running Shoes ...\", 'Sneakers Sneakers For Men', 'STYLISH MENS BLACK AND WHITE SNEAKER Sneakers For Men', '5011-Latest Collection Stylish Casual Loafer Sneakers S...', 'all white heartbeat casual shoe Sneakers For Men', \"Casual , Partywear Sneakers Shoes For Men's And Boys Wh...\", \"White Sneaker For Men's/Boy's Sneakers For Men\", 'Sneakers For Men', 'Sneakers For Men', 'Sneakers For Men', 'Luxury Fashionable casual sneaker shoes Sneakers For Me...', 'Combo Pack Of 4 Casual Shoes Loafer Shoes Sneakers For ...', 'Sneakers For Men', 'Modern & Trendy Collection Combo Pack of 02 Shoes for M...', 'Sneakers For Men', 'Sneakers For Men', 'Sneakers For Men', 'Sneakers For Men', 'Shark-41 Sneakers For Men', 'Sneakers For Men', 'Combo Pack Of 3 Latest Casual Shoes Sneakers For Men', 'Sneakers For Men', 'Sneakers For Men', 'Lattest Sneakers Shoe Sneakers For Men', 'Sneakers For Men', \"Men's Sneakers Fashion Lightweight Running Shoes Tennis...\", 'Combo Pack Of 2 Latest Stylish Casual Shoes for Men Lac...', 'Sneaker Sneakers For Men', 'Sneakers For Men', 'Sneakers For Men', 'Latest Collection-1227 Stylish Casual Sports Sneakers F...', '516 Trendy Star Perfect Sneakers For Men', 'Casual Sneakers Lightweight Shoes for Men and Boys Snea...', 'RS-X WINTERIZED Sneakers For Men', 'Casuals, Canvas, Partywear Sneakers For Men', 'Sports Running Shoes Sneakers For Men', 'Sneakers For Men', \"Perfect Sports Shoes for Men's Running ,Cycling & Trekk...\", 'Sneakers For Men', 'Casual Sneakrs For Men Sneakers For Men', \"Echor Men's Sneakers Fashion Lightweight Running Shoes ...\", 'EXPLORE Sneakers For Men', '411 Casual Sneakers For Men', 'Sneakers For Men', 'Sneakers For Men', 'Sneakers For Men', 'Skypy-31 Walking Shoes,Training Shoes,Sneakers,Loafers,...', 'Unique & Perfect Collection Combo Pack of 02 Shoes for ...', 'all white heartbeat casual shoe Sneakers For Men', 'Sneakers For Men', 'Sneakers For Men', 'Casual Sneakers Shoes for Men Pack of 5 Combo(O)-1667-3...', 'Sneakers For Men', \"Casual , Partywear Sneakers Shoes For Men's And Boys Wh...\", 'High Top Casual Party Wear Boot Stylish Sneakers For Me...', 'SM-439 Sneakers For Men', 'Sneakers For Men', 'Sneakers For Men', 'casual sneakers shoes For Mens Multicolor Combo(MR)-179...', \"Men's Sneakers Fashion Lightweight Running Shoes Tennis...\", 'Sneakers For Men', 'Sneakers For Men', 'Comfortable & Ultra Light Weight Sneaker Sneakers For M...', 'Stylish White Casual Sneakers shoes Men and Boys Sneake...', 'Combo Pack Of 3 Latest Casual Shoes Sneakers For Men', 'Classy Stylish Ayasa Sneakers Sneakers For Men', 'Sneakers For Men', 'Sneakers For Men', 'Sneakers For Men', 'Sneakers For Men', 'Running Shoes Stylish Comfortable Shoes For Men Sneaker...', 'Rigel Sneakers For Men', 'Casual Sneakers Lightweight Shoes for Men and Boys Snea...', 'INDI EXCLUSIVE Sneaker For Men', 'EXPLORE Sneakers For Men', 'White Sneakers Sneakers For Men', 'Sneakers For Men', 'Puma Wired Cage Sneakers For Men', 'Khalifa/Walking/Outdoor/Sneakers Sneakers For Men', 'Sneakers For Men', 'Sneakers For Men', 'Perfect & Affordable Combo Pack of 02 Pairs Sneakers Ou...', 'Sneakers For Men', 'Sneakers For Men', \"Echor Men's Sneakers Fashion Lightweight Running Shoes ...\", 'Sneakers For Men', 'SM-439 Sneakers For Men', 'Sneakers For Men', 'Sneakers For Men']\n",
      "['₹499', '₹349', '₹327', '₹501', '₹272', '₹209', '₹327', '₹580', '₹149', '₹394', '₹349', '₹433', '₹148', '₹399', '₹149', '₹347', '₹249', '₹248', '₹269', '₹476', '₹269', '₹399', '₹449', '₹379', '₹421', '₹348', '₹444', '₹424', '₹349', '₹394', '₹630', '₹397', '₹209', '₹439', '₹249', '₹599', '₹424', '₹449', '₹249', '₹424', '₹349', '₹209', '₹209', '₹499', '₹3,262', '₹444', '₹249', '₹349', '₹199', '₹649', '₹549', '₹433', '₹999', '₹424', '₹424', '₹580', '₹424', '₹498', '₹373', '₹347', '₹424', '₹398', '₹885', '₹476', '₹334', '₹539', '₹799', '₹379', '₹397', '₹580', '₹424', '₹424', '₹598', '₹399', '₹349', '₹397', '₹201', '₹445', '₹209', '₹599', '₹599', '₹345', '₹1,321', '₹499', '₹1,209', '₹1,849', '₹307', '₹349', '₹1,294', '₹534', '₹349', '₹580', '₹365', '₹395', '₹566', '₹433', '₹449', '₹799', '₹429', '₹476']\n",
      "['61% off', '82% off', '67% off', '68% off', '72% off', '83% off', '67% off', '41% off', '70% off', '60% off', '82% off', '71% off', '85% off', '73% off', '70% off', '65% off', '62% off', '75% off', '82% off', '52% off', '73% off', '69% off', '87% off', '70% off', '83% off', '65% off', '55% off', '57% off', '65% off', '60% off', '36% off', '86% off', '79% off', '78% off', '80% off', '80% off', '57% off', '82% off', '80% off', '57% off', '65% off', '58% off', '73% off', '61% off', '63% off', '55% off', '50% off', '82% off', '80% off', '35% off', '57% off', '71% off', '47% off', '78% off', '57% off', '41% off', '78% off', '37% off', '75% off', '65% off', '57% off', '60% off', '64% off', '52% off', '66% off', '46% off', '5% off', '70% off', '60% off', '41% off', '57% off', '57% off', '60% off', '60% off', '65% off', '86% off', '89% off', '38% off', '58% off', '80% off', '80% off', '65% off', '52% off', '61% off', '56% off', '2% off', '69% off', '82% off', '63% off', '64% off', '65% off', '41% off', '79% off', '60% off', '43% off', '71% off', '70% off', '5% off', '57% off', '52% off']\n"
     ]
    }
   ],
   "source": [
    "brand_100=brand[0:100]\n",
    "pdt_desc_100=pdt_desc[0:100]\n",
    "price_100=price[0:100]\n",
    "discount_100=discount[0:100]\n",
    "print(brand_100)\n",
    "print(pdt_desc_100)\n",
    "print(price_100)\n",
    "print(discount_100)"
   ]
  },
  {
   "cell_type": "code",
   "execution_count": 104,
   "id": "1c19c0c0",
   "metadata": {},
   "outputs": [
    {
     "data": {
      "text/html": [
       "<div>\n",
       "<style scoped>\n",
       "    .dataframe tbody tr th:only-of-type {\n",
       "        vertical-align: middle;\n",
       "    }\n",
       "\n",
       "    .dataframe tbody tr th {\n",
       "        vertical-align: top;\n",
       "    }\n",
       "\n",
       "    .dataframe thead th {\n",
       "        text-align: right;\n",
       "    }\n",
       "</style>\n",
       "<table border=\"1\" class=\"dataframe\">\n",
       "  <thead>\n",
       "    <tr style=\"text-align: right;\">\n",
       "      <th></th>\n",
       "      <th>Brand</th>\n",
       "      <th>Product Description</th>\n",
       "      <th>Price</th>\n",
       "      <th>Discount</th>\n",
       "    </tr>\n",
       "  </thead>\n",
       "  <tbody>\n",
       "    <tr>\n",
       "      <th>1</th>\n",
       "      <td>SHELBY</td>\n",
       "      <td>Casual Sneakers Lightweight Shoes for Men and ...</td>\n",
       "      <td>₹499</td>\n",
       "      <td>61% off</td>\n",
       "    </tr>\n",
       "    <tr>\n",
       "      <th>2</th>\n",
       "      <td>Noztile</td>\n",
       "      <td>Sneakers For Men</td>\n",
       "      <td>₹349</td>\n",
       "      <td>82% off</td>\n",
       "    </tr>\n",
       "    <tr>\n",
       "      <th>3</th>\n",
       "      <td>Magnolia</td>\n",
       "      <td>Sneakers For Men</td>\n",
       "      <td>₹327</td>\n",
       "      <td>67% off</td>\n",
       "    </tr>\n",
       "    <tr>\n",
       "      <th>4</th>\n",
       "      <td>Chevit</td>\n",
       "      <td>Super Stylish &amp; Trendy Combo Pack of 02 Pairs ...</td>\n",
       "      <td>₹501</td>\n",
       "      <td>68% off</td>\n",
       "    </tr>\n",
       "    <tr>\n",
       "      <th>5</th>\n",
       "      <td>TR</td>\n",
       "      <td>Sneakers For Men</td>\n",
       "      <td>₹272</td>\n",
       "      <td>72% off</td>\n",
       "    </tr>\n",
       "    <tr>\n",
       "      <th>...</th>\n",
       "      <td>...</td>\n",
       "      <td>...</td>\n",
       "      <td>...</td>\n",
       "      <td>...</td>\n",
       "    </tr>\n",
       "    <tr>\n",
       "      <th>96</th>\n",
       "      <td>Echor</td>\n",
       "      <td>Echor Men's Sneakers Fashion Lightweight Runni...</td>\n",
       "      <td>₹433</td>\n",
       "      <td>71% off</td>\n",
       "    </tr>\n",
       "    <tr>\n",
       "      <th>97</th>\n",
       "      <td>Echor</td>\n",
       "      <td>Sneakers For Men</td>\n",
       "      <td>₹449</td>\n",
       "      <td>70% off</td>\n",
       "    </tr>\n",
       "    <tr>\n",
       "      <th>98</th>\n",
       "      <td>SPARX</td>\n",
       "      <td>SM-439 Sneakers For Men</td>\n",
       "      <td>₹799</td>\n",
       "      <td>5% off</td>\n",
       "    </tr>\n",
       "    <tr>\n",
       "      <th>99</th>\n",
       "      <td>WHITEHUB</td>\n",
       "      <td>Sneakers For Men</td>\n",
       "      <td>₹429</td>\n",
       "      <td>57% off</td>\n",
       "    </tr>\n",
       "    <tr>\n",
       "      <th>100</th>\n",
       "      <td>Bacan</td>\n",
       "      <td>Sneakers For Men</td>\n",
       "      <td>₹476</td>\n",
       "      <td>52% off</td>\n",
       "    </tr>\n",
       "  </tbody>\n",
       "</table>\n",
       "<p>100 rows × 4 columns</p>\n",
       "</div>"
      ],
      "text/plain": [
       "        Brand                                Product Description Price  \\\n",
       "1      SHELBY  Casual Sneakers Lightweight Shoes for Men and ...  ₹499   \n",
       "2     Noztile                                   Sneakers For Men  ₹349   \n",
       "3    Magnolia                                   Sneakers For Men  ₹327   \n",
       "4      Chevit  Super Stylish & Trendy Combo Pack of 02 Pairs ...  ₹501   \n",
       "5          TR                                   Sneakers For Men  ₹272   \n",
       "..        ...                                                ...   ...   \n",
       "96      Echor  Echor Men's Sneakers Fashion Lightweight Runni...  ₹433   \n",
       "97      Echor                                   Sneakers For Men  ₹449   \n",
       "98      SPARX                            SM-439 Sneakers For Men  ₹799   \n",
       "99   WHITEHUB                                   Sneakers For Men  ₹429   \n",
       "100     Bacan                                   Sneakers For Men  ₹476   \n",
       "\n",
       "    Discount  \n",
       "1    61% off  \n",
       "2    82% off  \n",
       "3    67% off  \n",
       "4    68% off  \n",
       "5    72% off  \n",
       "..       ...  \n",
       "96   71% off  \n",
       "97   70% off  \n",
       "98    5% off  \n",
       "99   57% off  \n",
       "100  52% off  \n",
       "\n",
       "[100 rows x 4 columns]"
      ]
     },
     "execution_count": 104,
     "metadata": {},
     "output_type": "execute_result"
    }
   ],
   "source": [
    "df6=pd.DataFrame({\"Brand\":brand_100,\"Product Description\":pdt_desc_100,\"Price\":price_100,\"Discount\":discount_100})\n",
    "df6.index=np.arange(1,len(df6)+1)\n",
    "df6"
   ]
  },
  {
   "cell_type": "markdown",
   "id": "08f37407",
   "metadata": {},
   "source": [
    "# Q7:"
   ]
  },
  {
   "cell_type": "code",
   "execution_count": 105,
   "id": "f1bdcd98",
   "metadata": {},
   "outputs": [],
   "source": [
    "driver7=webdriver.Chrome(\"chromedriver.exe\")"
   ]
  },
  {
   "cell_type": "code",
   "execution_count": 106,
   "id": "23057739",
   "metadata": {},
   "outputs": [],
   "source": [
    "url7=\"https://www.myntra.com/shoes\"\n",
    "driver7.get(url7)"
   ]
  },
  {
   "cell_type": "code",
   "execution_count": 107,
   "id": "9fb78305",
   "metadata": {},
   "outputs": [
    {
     "data": {
      "text/plain": [
       "<selenium.webdriver.remote.webelement.WebElement (session=\"f82e44c3c11e65ed4a7468c6c2650e44\", element=\"4a12fadf-e43e-4891-8fb5-4c7884fe9df8\")>"
      ]
     },
     "execution_count": 107,
     "metadata": {},
     "output_type": "execute_result"
    }
   ],
   "source": [
    "price_filter=driver7.find_element_by_xpath(\"/html/body/div[2]/div/div[1]/main/div[3]/div[1]/section/div/div[5]/ul/li[2]/label/div\")\n",
    "price_filter"
   ]
  },
  {
   "cell_type": "code",
   "execution_count": 108,
   "id": "77d0cdd7",
   "metadata": {},
   "outputs": [],
   "source": [
    "price_filter.click()"
   ]
  },
  {
   "cell_type": "code",
   "execution_count": 109,
   "id": "a2454d8c",
   "metadata": {},
   "outputs": [
    {
     "data": {
      "text/plain": [
       "<selenium.webdriver.remote.webelement.WebElement (session=\"f82e44c3c11e65ed4a7468c6c2650e44\", element=\"f4943f3d-28ef-4f68-a4ad-f04bb753525b\")>"
      ]
     },
     "execution_count": 109,
     "metadata": {},
     "output_type": "execute_result"
    }
   ],
   "source": [
    "color_filter=driver7.find_element_by_xpath(\"/html/body/div[2]/div/div[1]/main/div[3]/div[1]/section/div/div[6]/ul/li[1]/label/div\")\n",
    "color_filter"
   ]
  },
  {
   "cell_type": "code",
   "execution_count": 110,
   "id": "aba9e26e",
   "metadata": {},
   "outputs": [],
   "source": [
    "color_filter.click()"
   ]
  },
  {
   "cell_type": "code",
   "execution_count": 111,
   "id": "91b988ea",
   "metadata": {},
   "outputs": [
    {
     "name": "stdout",
     "output_type": "stream",
     "text": [
      "100 100 100\n",
      "['Nike', 'ALDO', 'ALDO', 'Puma', 'ALDO', 'Puma', 'Puma', 'Puma', 'Hush Puppies', 'Puma', 'Nike', 'Puma', 'Puma', 'MANGO', 'Hush Puppies', 'Hush Puppies', 'J.FONTINI', 'Hush Puppies', 'Clarks', 'Hush Puppies', 'Saint G', 'Bugatti', 'ASICS', 'ALDO', 'TRIBAN By Decathlon', 'Geox', 'Clarks', 'ROSSO BRUNELLO', 'Saint G', 'J.FONTINI', 'FILA', 'J.FONTINI', 'J.FONTINI', 'Geox', 'Tommy Hilfiger', 'DAVINCHI', 'ALDO', 'ALDO', 'Heel & Buckle London', 'Clarks', 'Saint G', 'J.FONTINI', 'Saint G', 'FILA', 'Sole To Soul', 'Sole To Soul', 'Sole To Soul', 'ROSSO BRUNELLO', 'Sole To Soul', 'ROSSO BRUNELLO', 'ROSSO BRUNELLO', 'ROSSO BRUNELLO', 'New Balance', 'Columbia', 'Bugatti', 'Columbia', 'Bugatti', 'Geox', 'Cole Haan', 'Cole Haan', 'Cobblerz', 'Columbia', 'Saint G', 'Geox', 'Geox', 'Xtep', 'RARE RABBIT', 'Geox', 'Royal Enfield', 'Cole Haan', 'ASICS', 'Cole Haan', 'Geox', 'Cole Haan', 'J.FONTINI', 'Pavers England', 'Saint G', 'Saint G', 'Saint G', 'Saint G', 'Sole To Soul', 'DAVINCHI', 'DAVINCHI', 'J.FONTINI', 'DAVINCHI', 'J.FONTINI', 'Saint G', 'Saint G', 'Saint G', 'Saint G', 'Saint G', 'Saint G', 'DAVINCHI', 'Saint G', 'Saint G', 'DAVINCHI', 'Saint G', 'Saint G', 'Pavers England', 'Saint G']\n",
      "['Men Winflo 7 Running Shoes', 'Men Printed Sneakers', 'Men Leather Driving Shoes', 'Electrify Nitro Running Shoes', 'Men Woven Design Sneakers', 'Eternity Nitro Running Shoes', 'Men Jamming 2.0 Running Shoes', 'Men Training or Gym Shoes', 'Men Solid Leather Formal Slip-Ons', 'Women Eternity NITRO Shoes', 'Men Air Max Dawn Sneakers', 'Women Velocity NITRO Runners', 'Men FUSE Training Shoes', 'Women Solid Sneakers', 'Men Formal Derbys', 'Men Solid Leather Formal Slip-Ons', 'Men Black Leather Loafers', 'Men Solid Leather Formal Derbys', 'Men Solid Formal Leather Derbys', 'Men Solid Formal Slip-Ons', 'Women Leather Block Heels', 'Men Textured Leather High-Top Flat Boots', 'Women Running Shoes', 'Wedge Sandals', 'Unisex Training or Gym Shoes', 'Women Leather Pumps', 'Men Leather Derbys', 'PU Block Pumps with Buckles', 'Men Mid-Top Chelsea Boots', 'Men Solid Loafers', 'Men Printed Trekking Shoes', 'Men Textured Leather Loafers', 'Men Textured Leather Loafers', 'Men Formal Derbys', 'Men Cleated Leather Sneakers', 'Men Textured Formal Leather Loafers', 'Leather Slim Heels', 'Wedge Sandals', 'Men Formal Leather Derby', 'Men Solid Leather Formal Loafers', 'Striped Suede Flatform Heeled Boots', 'Men Leather Formal Loafers', 'Leather Party Block Mules', 'Women Leather Sneakers', 'Women Block Heeled Boots', 'High-Top Block Heeled Boots', 'Suede High-Top Block Heeled Boots', 'Printed PU Kitten Sandals', 'High-Top Platform Heeled Boots', 'PU Block Pumps with Buckles', 'PU Block Pumps with Buckles', 'Textured PU Block Pumps', 'Women Woven Running Shoes', 'Women REDMOND V2 TrekkingShoe', 'Men Solid Formal Oxfords', 'PEAKFREAK OUTDRY Trekking Shoe', 'Men Solid Leather Formal Derbys', 'Men Leather Driving Shoes', 'Men Wingtip Oxford Sneakers', 'Men GENERATION ZEROGRAND STITCHLITE', 'Men Textured Leather Formal Derbys', 'Men FACET OUTDRY Trekking Shoe', 'Women Leather Mules', 'Women Solid Leather Pumps', 'Women Solid Leather Pumps', 'Men Running Shoes', 'Men Leather Flat Boots', 'Men Leather Loafers', 'Cabo WP Riding Boots', 'Women Open Toe Flats', 'Men Colourblocked PU Sneakers', 'Women Sneakers', 'Women Solid Leather Ballerinas', 'Women Solid Leather Ballerinas', 'Men Leather Formal Loafers', 'Men Leather Driving Shoes', 'Leather Heeled Knee High Boots', 'Women Leather Heeled Boots', 'Women Leather Heeled Boots', 'Women Leather Knee High Boots', 'Platform Peep Toes with Buckles', 'Ustraa black', 'Men Formal Leather Slip-Ons', 'Men Solid Leather Formal Loafers', 'Solid Slip On Shoes', 'Men Textured Leather Formal Loafers', 'Leather Wedge Heeled Boots with Buckles', 'Leather High-Top Block Heeled Boots', 'Leather Kitten Heeled Boots', 'Printed Flatform Heeled Boots with Buckles', 'Leather Platform Heeled Boots', 'Leather Block Heeled Boots with Bows', 'Men Solid Leather Formal Derbys', 'Leather High-Top Heeled Boots', 'Suede Party High-Top Block Heeled Boots', 'Men Textured Formal Leather Loafers', 'Suede High-Top Flatform Heeled Boots', 'Leather Boots with Buckles', 'Men Printed Loafers', 'High-Top Block Heeled Boots']\n",
      "['Rs. 7995', 'Rs. 9099Rs. 12999(30% OFF)', 'Rs. 12999', 'Rs. 9999', 'Rs. 13999', 'Rs. 12999', 'Rs. 12999', 'Rs. 7999', 'Rs. 7649Rs. 8999(15% OFF)', 'Rs. 9099Rs. 12999(30% OFF)', 'Rs. 10995', 'Rs. 7149Rs. 10999(35% OFF)', 'Rs. 7999', 'Rs. 7192Rs. 8990(20% OFF)', 'Rs. 8499Rs. 9999(15% OFF)', 'Rs. 8499Rs. 9999(15% OFF)', 'Rs. 8490', 'Rs. 8499Rs. 9999(15% OFF)', 'Rs. 9999', 'Rs. 8499Rs. 9999(15% OFF)', 'Rs. 9500', 'Rs. 8399Rs. 11999(30% OFF)', 'Rs. 7999', 'Rs. 7999', 'Rs. 8029Rs. 10999(27% OFF)', 'Rs. 8999', 'Rs. 7499', 'Rs. 7499', 'Rs. 10500Rs. 10900(Rs. 400 OFF)', 'Rs. 8990', 'Rs. 11599', 'Rs. 8490', 'Rs. 7990', 'Rs. 9990', 'Rs. 7739Rs. 8599(10% OFF)', 'Rs. 8990', 'Rs. 8399Rs. 11999(30% OFF)', 'Rs. 7999', 'Rs. 7990', 'Rs. 7999', 'Rs. 8415Rs. 9900(15% OFF)', 'Rs. 7490', 'Rs. 7380Rs. 8200(10% OFF)', 'Rs. 8499', 'Rs. 8900', 'Rs. 7900', 'Rs. 9500', 'Rs. 8499', 'Rs. 8900', 'Rs. 7999', 'Rs. 7999', 'Rs. 7999', 'Rs. 7149Rs. 12999( 45 % OFF)', 'Rs. 7999', 'Rs. 8999', 'Rs. 9999', 'Rs. 9499', 'Rs. 9499', 'Rs. 12999', 'Rs. 11999', 'Rs. 8999Rs. 9999(Rs. 1000 OFF)', 'Rs. 12999', 'Rs. 7216Rs. 8200(12% OFF)', 'Rs. 7999', 'Rs. 10990', 'Rs. 7699', 'Rs. 8099Rs. 9999(19% OFF)', 'Rs. 9999', 'Rs. 8500', 'Rs. 11999', 'Rs. 9999', 'Rs. 12999', 'Rs. 8999', 'Rs. 13999', 'Rs. 7490', 'Rs. 7499', 'Rs. 12325Rs. 14500(15% OFF)', 'Rs. 12325Rs. 14500(15% OFF)', 'Rs. 14025Rs. 16500(15% OFF)', 'Rs. 11815Rs. 13900(15% OFF)', 'Rs. 7690', 'Rs. 8990', 'Rs. 8990', 'Rs. 9990', 'Rs. 7990', 'Rs. 8990', 'Rs. 12665Rs. 14900(15% OFF)', 'Rs. 14025Rs. 16500(15% OFF)', 'Rs. 8415Rs. 9900(15% OFF)', 'Rs. 8415Rs. 9900(15% OFF)', 'Rs. 9265Rs. 10900(15% OFF)', 'Rs. 11815Rs. 13900(15% OFF)', 'Rs. 9990', 'Rs. 10625Rs. 12500(15% OFF)', 'Rs. 8925Rs. 10500(15% OFF)', 'Rs. 8990', 'Rs. 11475Rs. 13500(15% OFF)', 'Rs. 8925Rs. 10500(15% OFF)', 'Rs. 11999', 'Rs. 10625Rs. 12500(15% OFF)']\n"
     ]
    }
   ],
   "source": [
    "brand=[]\n",
    "pdt_desc=[]\n",
    "price=[]\n",
    "\n",
    "for page in range(1,3):\n",
    "    urls=\"https://www.myntra.com/shoes?f=Color%3ABlack_36454f&p=\"+str(page)+\"&rf=Price%3A7134.0_14089.0_7134.0%20TO%2014089.0\"\n",
    "    driver7.get(urls)\n",
    "    brand_tags=driver7.find_elements_by_xpath(\"//h3[@class='product-brand']\")\n",
    "    for j in brand_tags:\n",
    "        brand.append(j.text)\n",
    "    prd_desc_tags=driver7.find_elements_by_class_name('product-product')\n",
    "    for j in prd_desc_tags:\n",
    "        pdt_desc.append(j.text)\n",
    "    price_tags=driver7.find_elements_by_xpath('//div[@class=\"product-price\"]')\n",
    "    for j in price_tags:\n",
    "        price.append(j.text)\n",
    "        \n",
    "print(len(brand),len(pdt_desc),len(price))\n",
    "print(brand)\n",
    "print(pdt_desc)\n",
    "print(price)"
   ]
  },
  {
   "cell_type": "code",
   "execution_count": 112,
   "id": "d0b49065",
   "metadata": {},
   "outputs": [
    {
     "data": {
      "text/html": [
       "<div>\n",
       "<style scoped>\n",
       "    .dataframe tbody tr th:only-of-type {\n",
       "        vertical-align: middle;\n",
       "    }\n",
       "\n",
       "    .dataframe tbody tr th {\n",
       "        vertical-align: top;\n",
       "    }\n",
       "\n",
       "    .dataframe thead th {\n",
       "        text-align: right;\n",
       "    }\n",
       "</style>\n",
       "<table border=\"1\" class=\"dataframe\">\n",
       "  <thead>\n",
       "    <tr style=\"text-align: right;\">\n",
       "      <th></th>\n",
       "      <th>Brand</th>\n",
       "      <th>Product Description</th>\n",
       "      <th>Price</th>\n",
       "    </tr>\n",
       "  </thead>\n",
       "  <tbody>\n",
       "    <tr>\n",
       "      <th>1</th>\n",
       "      <td>Nike</td>\n",
       "      <td>Men Winflo 7 Running Shoes</td>\n",
       "      <td>Rs. 7995</td>\n",
       "    </tr>\n",
       "    <tr>\n",
       "      <th>2</th>\n",
       "      <td>ALDO</td>\n",
       "      <td>Men Printed Sneakers</td>\n",
       "      <td>Rs. 9099Rs. 12999(30% OFF)</td>\n",
       "    </tr>\n",
       "    <tr>\n",
       "      <th>3</th>\n",
       "      <td>ALDO</td>\n",
       "      <td>Men Leather Driving Shoes</td>\n",
       "      <td>Rs. 12999</td>\n",
       "    </tr>\n",
       "    <tr>\n",
       "      <th>4</th>\n",
       "      <td>Puma</td>\n",
       "      <td>Electrify Nitro Running Shoes</td>\n",
       "      <td>Rs. 9999</td>\n",
       "    </tr>\n",
       "    <tr>\n",
       "      <th>5</th>\n",
       "      <td>ALDO</td>\n",
       "      <td>Men Woven Design Sneakers</td>\n",
       "      <td>Rs. 13999</td>\n",
       "    </tr>\n",
       "    <tr>\n",
       "      <th>...</th>\n",
       "      <td>...</td>\n",
       "      <td>...</td>\n",
       "      <td>...</td>\n",
       "    </tr>\n",
       "    <tr>\n",
       "      <th>96</th>\n",
       "      <td>DAVINCHI</td>\n",
       "      <td>Men Textured Formal Leather Loafers</td>\n",
       "      <td>Rs. 8990</td>\n",
       "    </tr>\n",
       "    <tr>\n",
       "      <th>97</th>\n",
       "      <td>Saint G</td>\n",
       "      <td>Suede High-Top Flatform Heeled Boots</td>\n",
       "      <td>Rs. 11475Rs. 13500(15% OFF)</td>\n",
       "    </tr>\n",
       "    <tr>\n",
       "      <th>98</th>\n",
       "      <td>Saint G</td>\n",
       "      <td>Leather Boots with Buckles</td>\n",
       "      <td>Rs. 8925Rs. 10500(15% OFF)</td>\n",
       "    </tr>\n",
       "    <tr>\n",
       "      <th>99</th>\n",
       "      <td>Pavers England</td>\n",
       "      <td>Men Printed Loafers</td>\n",
       "      <td>Rs. 11999</td>\n",
       "    </tr>\n",
       "    <tr>\n",
       "      <th>100</th>\n",
       "      <td>Saint G</td>\n",
       "      <td>High-Top Block Heeled Boots</td>\n",
       "      <td>Rs. 10625Rs. 12500(15% OFF)</td>\n",
       "    </tr>\n",
       "  </tbody>\n",
       "</table>\n",
       "<p>100 rows × 3 columns</p>\n",
       "</div>"
      ],
      "text/plain": [
       "              Brand                   Product Description  \\\n",
       "1              Nike            Men Winflo 7 Running Shoes   \n",
       "2              ALDO                  Men Printed Sneakers   \n",
       "3              ALDO             Men Leather Driving Shoes   \n",
       "4              Puma         Electrify Nitro Running Shoes   \n",
       "5              ALDO             Men Woven Design Sneakers   \n",
       "..              ...                                   ...   \n",
       "96         DAVINCHI   Men Textured Formal Leather Loafers   \n",
       "97          Saint G  Suede High-Top Flatform Heeled Boots   \n",
       "98          Saint G            Leather Boots with Buckles   \n",
       "99   Pavers England                   Men Printed Loafers   \n",
       "100         Saint G           High-Top Block Heeled Boots   \n",
       "\n",
       "                           Price  \n",
       "1                       Rs. 7995  \n",
       "2     Rs. 9099Rs. 12999(30% OFF)  \n",
       "3                      Rs. 12999  \n",
       "4                       Rs. 9999  \n",
       "5                      Rs. 13999  \n",
       "..                           ...  \n",
       "96                      Rs. 8990  \n",
       "97   Rs. 11475Rs. 13500(15% OFF)  \n",
       "98    Rs. 8925Rs. 10500(15% OFF)  \n",
       "99                     Rs. 11999  \n",
       "100  Rs. 10625Rs. 12500(15% OFF)  \n",
       "\n",
       "[100 rows x 3 columns]"
      ]
     },
     "execution_count": 112,
     "metadata": {},
     "output_type": "execute_result"
    }
   ],
   "source": [
    "df7=pd.DataFrame({\"Brand\":brand,\"Product Description\":pdt_desc,\"Price\":price})\n",
    "df7.index=np.arange(1,len(df7)+1)\n",
    "df7"
   ]
  },
  {
   "cell_type": "markdown",
   "id": "ab4138b2",
   "metadata": {},
   "source": [
    "# Q8:"
   ]
  },
  {
   "cell_type": "code",
   "execution_count": 113,
   "id": "8c610339",
   "metadata": {},
   "outputs": [],
   "source": [
    "driver8=webdriver.Chrome(\"chromedriver.exe\")"
   ]
  },
  {
   "cell_type": "code",
   "execution_count": 114,
   "id": "65040dca",
   "metadata": {},
   "outputs": [],
   "source": [
    "url8=\"https://www.amazon.in/\"\n",
    "driver8.get(url8)"
   ]
  },
  {
   "cell_type": "code",
   "execution_count": 115,
   "id": "26e59b4c",
   "metadata": {},
   "outputs": [
    {
     "data": {
      "text/plain": [
       "<selenium.webdriver.remote.webelement.WebElement (session=\"be80f76255b91ecc5502df31d2bba2c2\", element=\"0b70f99b-08e5-4bf3-8d54-5e62aede6681\")>"
      ]
     },
     "execution_count": 115,
     "metadata": {},
     "output_type": "execute_result"
    }
   ],
   "source": [
    "search=driver8.find_element_by_xpath(\"/html/body/div[1]/header/div/div[1]/div[2]/div/form/div[2]/div[1]/input\")\n",
    "search"
   ]
  },
  {
   "cell_type": "code",
   "execution_count": 116,
   "id": "09e93be1",
   "metadata": {},
   "outputs": [],
   "source": [
    "search.send_keys(\"Laptop\")"
   ]
  },
  {
   "cell_type": "code",
   "execution_count": 117,
   "id": "d8631ced",
   "metadata": {},
   "outputs": [
    {
     "data": {
      "text/plain": [
       "<selenium.webdriver.remote.webelement.WebElement (session=\"be80f76255b91ecc5502df31d2bba2c2\", element=\"80030567-f8fa-4f69-a261-bd961444b5ce\")>"
      ]
     },
     "execution_count": 117,
     "metadata": {},
     "output_type": "execute_result"
    }
   ],
   "source": [
    "search_btn=driver8.find_element_by_xpath(\"/html/body/div[1]/header/div/div[1]/div[2]/div/form/div[3]/div/span/input\")\n",
    "search_btn"
   ]
  },
  {
   "cell_type": "code",
   "execution_count": 118,
   "id": "33ac6658",
   "metadata": {},
   "outputs": [],
   "source": [
    "search_btn.click()"
   ]
  },
  {
   "cell_type": "code",
   "execution_count": 119,
   "id": "bf3c7cbb",
   "metadata": {},
   "outputs": [],
   "source": [
    "chk_box1=driver8.find_element_by_xpath(\"/html/body/div[1]/div[2]/div[1]/div[2]/div/div[3]/span/div[1]/div/div/div[5]/ul[4]/li[13]/span/a/div/label/i\")\n",
    "chk_box1.click()"
   ]
  },
  {
   "cell_type": "code",
   "execution_count": 120,
   "id": "163b63d7",
   "metadata": {},
   "outputs": [
    {
     "data": {
      "text/plain": [
       "['ASUS TUF Gaming F15 (2021), 15.6\" (39.62 cms) FHD 144Hz, Intel Core i7-11600H 11th Gen, 4GB RTX 3050 Graphics, Gaming Laptop (16GB/512GB SSD/Windows 10/Office 2019/Gray/2.3 Kg), FX566HCB-HN299TS',\n",
       " 'ASUS VivoBook 14 (2021), 14-inch (35.56 cms) FHD, Intel Core i7-1065G7 10th Gen, Thin and Light Laptop (16GB/512GB SSD/Integrated Graphics/Office 2021/Windows 11/Silver/1.6 Kg), X415JA-EK701WS',\n",
       " 'ASUS VivoBook 14 (2021), 14-inch (35.56 cms) FHD, Intel Core i7-1065G7 10th Gen, Thin and Light Laptop (16GB/512GB SSD/Integrated Graphics/Office 2021/Windows 11/Silver/1.6 Kg), X415JA-EK701WS',\n",
       " 'Mi Notebook Ultra 3.2K Resolution Display Intel Core i7-11370H 11th Gen 15.6-inch(39.62 cm) Thin and Light Laptop (16GB/512GB SSD/Iris Xe Graphic/Win 10/MS Office/Backlit KB/Fingerprint Sensor/1.7Kg)',\n",
       " 'HP Pavilion x360 11th Gen Intel Core i7 14 inches FHD, IPS, Convertible Laptop (16 GB RAM/512GB SSD, B&O/Win 11 Home/Backlit keyboard/FPR/ Alexa-Built in/MS Office/Natural Silver/1.52 Kg) -14-dy1013TU',\n",
       " 'ASUS TUF Gaming F15 (2021), 15.6\" (39.62 cms) FHD 144Hz, Intel Core i7-11600H 11th Gen, 4GB RTX 3050 Graphics, Gaming Laptop (16GB/512GB SSD/Windows 10/Office 2019/Gray/2.3 Kg), FX566HCB-HN299TS',\n",
       " 'ASUS TUF Dash F15 (2021), 15.6\" (39.62 cms) FHD 240Hz/3ms, Intel Core i7-11370H 11th Gen, 8GB RTX 3070 Graphics, Gaming Laptop (16GB/1TB SSD/Office 2019/Windows 10/Gray/2 Kg), FX516PRZ-AZ122TS',\n",
       " 'ASUS VivoBook K15 OLED (2021), 15.6-inch (39.62 cms) FHD OLED, Intel Core i7-1165G7 11th Gen, Thin and Light Laptop (16GB/512GB SSD/Iris Xe Graphics/Office 2021/Windows 11/Silver/1.8 Kg) K513EA-L712WS',\n",
       " 'Dell G15 Intel i7-11800H Gaming Laptop, 16GB DDR4, 512GB SSD, Win 10+MSO, NVIDIA RTX 3050 Ti 4GB GDDR6, 15.6\" (39.62cm) FHD AG 250 nits 120Hz, Backlit KB Orange, Grey (G15 5511, D560640WIN9B), 2.6kg',\n",
       " 'Lenovo IdeaPad 5 Pro 11th Gen Intel Core i7 14\" (35.56cm)QHD IPS Thin & Light Laptop(16GB/512GB SSD/Iris Xe Graphics/3Yr Warranty/Windows 11/Office 2021/Backlit/300Nits/Storm Grey/1.41Kg), 82L3006YIN']"
      ]
     },
     "execution_count": 120,
     "metadata": {},
     "output_type": "execute_result"
    }
   ],
   "source": [
    "# Extracting titles\n",
    "\n",
    "title=[]\n",
    "\n",
    "title_tag=driver8.find_elements_by_xpath(\"//span[@class='a-size-medium a-color-base a-text-normal']\")\n",
    "for i in title_tag:\n",
    "    title.append(i.text)\n",
    "    \n",
    "title_10=title[0:10]\n",
    "title_10"
   ]
  },
  {
   "cell_type": "code",
   "execution_count": 121,
   "id": "7895400d",
   "metadata": {},
   "outputs": [
    {
     "name": "stdout",
     "output_type": "stream",
     "text": [
      "[<selenium.webdriver.remote.webelement.WebElement (session=\"be80f76255b91ecc5502df31d2bba2c2\", element=\"81ca46c6-0ce8-4d13-8058-3fc78e603db0\")>, <selenium.webdriver.remote.webelement.WebElement (session=\"be80f76255b91ecc5502df31d2bba2c2\", element=\"5eb8e32a-9c7f-445c-8139-74ff793fd90c\")>, <selenium.webdriver.remote.webelement.WebElement (session=\"be80f76255b91ecc5502df31d2bba2c2\", element=\"043336f2-bda6-491c-b344-3a13c39a6dc0\")>, <selenium.webdriver.remote.webelement.WebElement (session=\"be80f76255b91ecc5502df31d2bba2c2\", element=\"22369a85-a6cd-4f60-8183-07c457bbfc1c\")>, <selenium.webdriver.remote.webelement.WebElement (session=\"be80f76255b91ecc5502df31d2bba2c2\", element=\"928e9efd-61f5-4c43-8bbc-ddfee3403316\")>, <selenium.webdriver.remote.webelement.WebElement (session=\"be80f76255b91ecc5502df31d2bba2c2\", element=\"8889404c-d89a-4142-9ac2-27896a12e27d\")>, <selenium.webdriver.remote.webelement.WebElement (session=\"be80f76255b91ecc5502df31d2bba2c2\", element=\"7bc2dc99-f76d-4200-91a4-c463928e71aa\")>, <selenium.webdriver.remote.webelement.WebElement (session=\"be80f76255b91ecc5502df31d2bba2c2\", element=\"57a195f2-bff3-4c03-bebe-afd3aa8334da\")>, <selenium.webdriver.remote.webelement.WebElement (session=\"be80f76255b91ecc5502df31d2bba2c2\", element=\"c83eb36e-7fea-483e-b7f6-6e3144d4060d\")>, <selenium.webdriver.remote.webelement.WebElement (session=\"be80f76255b91ecc5502df31d2bba2c2\", element=\"79bee845-9d22-4f2a-8dd8-92f8312055b0\")>, <selenium.webdriver.remote.webelement.WebElement (session=\"be80f76255b91ecc5502df31d2bba2c2\", element=\"e1bbaa4a-e96f-442f-80da-4c894279e3d2\")>, <selenium.webdriver.remote.webelement.WebElement (session=\"be80f76255b91ecc5502df31d2bba2c2\", element=\"07d9fd5c-d668-4959-b835-b359a9c9e192\")>, <selenium.webdriver.remote.webelement.WebElement (session=\"be80f76255b91ecc5502df31d2bba2c2\", element=\"2d204a89-b4dc-4d73-bcf5-79fb151b495f\")>, <selenium.webdriver.remote.webelement.WebElement (session=\"be80f76255b91ecc5502df31d2bba2c2\", element=\"e04f0bb3-760b-43fc-af6c-e93cb70385e2\")>, <selenium.webdriver.remote.webelement.WebElement (session=\"be80f76255b91ecc5502df31d2bba2c2\", element=\"73aca308-25bb-4f0b-8140-dfa09589341a\")>, <selenium.webdriver.remote.webelement.WebElement (session=\"be80f76255b91ecc5502df31d2bba2c2\", element=\"85da723f-3c6e-4a54-a119-51fb2b7630f9\")>, <selenium.webdriver.remote.webelement.WebElement (session=\"be80f76255b91ecc5502df31d2bba2c2\", element=\"dc8e1554-c508-478f-9e3f-ffd486d2d744\")>, <selenium.webdriver.remote.webelement.WebElement (session=\"be80f76255b91ecc5502df31d2bba2c2\", element=\"bc0ede81-f724-4808-bf45-87b22c9ec8f9\")>, <selenium.webdriver.remote.webelement.WebElement (session=\"be80f76255b91ecc5502df31d2bba2c2\", element=\"ba658084-83f0-4256-9517-0960bc2d14ac\")>, <selenium.webdriver.remote.webelement.WebElement (session=\"be80f76255b91ecc5502df31d2bba2c2\", element=\"19776f10-08eb-41c5-9a7e-e01df5139bb5\")>, <selenium.webdriver.remote.webelement.WebElement (session=\"be80f76255b91ecc5502df31d2bba2c2\", element=\"85e68725-51b7-490a-8d44-ebe02e3410a9\")>, <selenium.webdriver.remote.webelement.WebElement (session=\"be80f76255b91ecc5502df31d2bba2c2\", element=\"2861cefd-dd9b-4b2b-92bc-1bf2442672ac\")>, <selenium.webdriver.remote.webelement.WebElement (session=\"be80f76255b91ecc5502df31d2bba2c2\", element=\"7e5441b0-da7c-47a1-a2b3-f1a37beaff6a\")>, <selenium.webdriver.remote.webelement.WebElement (session=\"be80f76255b91ecc5502df31d2bba2c2\", element=\"099e0f20-ae6d-4cb3-a0a5-40f51513d2c8\")>, <selenium.webdriver.remote.webelement.WebElement (session=\"be80f76255b91ecc5502df31d2bba2c2\", element=\"6ad2f7b3-1605-4aab-957f-311c97360754\")>]\n",
      "25\n"
     ]
    },
    {
     "data": {
      "text/plain": [
       "['',\n",
       " '',\n",
       " '',\n",
       " '',\n",
       " '',\n",
       " '',\n",
       " '',\n",
       " '',\n",
       " '',\n",
       " '',\n",
       " '',\n",
       " '',\n",
       " '',\n",
       " '',\n",
       " '',\n",
       " '',\n",
       " '',\n",
       " '',\n",
       " '',\n",
       " '',\n",
       " '',\n",
       " '',\n",
       " '',\n",
       " '',\n",
       " '']"
      ]
     },
     "execution_count": 121,
     "metadata": {},
     "output_type": "execute_result"
    }
   ],
   "source": [
    "# Extracting ratings\n",
    "\n",
    "rating=[]\n",
    "j=0\n",
    "rating_tag=driver8.find_elements_by_xpath(\"//a[@class='a-popover-trigger a-declarative']\")\n",
    "print(rating_tag)\n",
    "print(len(rating_tag))\n",
    "for i in rating_tag:\n",
    "    if rating_tag[j]!=False:\n",
    "        child=i.find_element_by_tag_name('span')\n",
    "        rating.append(child.text)\n",
    "        j=j+1\n",
    "    else:\n",
    "        print(\"NA\")\n",
    "    \n",
    "'''for i in rating_tag:\n",
    "    rating.append(i.text)'''\n",
    "    \n",
    "rating"
   ]
  },
  {
   "cell_type": "code",
   "execution_count": 122,
   "id": "eee65a6d",
   "metadata": {},
   "outputs": [
    {
     "name": "stdout",
     "output_type": "stream",
     "text": [
      "0\n",
      "[]\n"
     ]
    }
   ],
   "source": [
    "# Extracting price\n",
    "\n",
    "price=[]\n",
    "\n",
    "price_tags=driver8.find_elements_by_xpath(\"//span[@class='a-price-whole']\")\n",
    "\n",
    "for i in price_tags:\n",
    "    if price_tags==True:\n",
    "        price.append(i.text)\n",
    "    \n",
    "print(len(price))\n",
    "print(price)"
   ]
  },
  {
   "cell_type": "code",
   "execution_count": null,
   "id": "3c3e4bad",
   "metadata": {},
   "outputs": [],
   "source": []
  },
  {
   "cell_type": "markdown",
   "id": "9be9bac0",
   "metadata": {},
   "source": [
    "# Q9:"
   ]
  },
  {
   "cell_type": "code",
   "execution_count": 123,
   "id": "2e089a49",
   "metadata": {},
   "outputs": [],
   "source": [
    "driver9=webdriver.Chrome(\"chromedriver.exe\")"
   ]
  },
  {
   "cell_type": "code",
   "execution_count": 124,
   "id": "3986e05e",
   "metadata": {},
   "outputs": [],
   "source": [
    "url9=\"https://www.ambitionbox.com/\"\n",
    "driver9.get(url9)"
   ]
  },
  {
   "cell_type": "code",
   "execution_count": 125,
   "id": "dc6d94c0",
   "metadata": {},
   "outputs": [],
   "source": [
    "job_btn=driver9.find_element_by_xpath(\"/html/body/div[1]/nav/nav/a[6]\")\n",
    "job_btn.click()"
   ]
  },
  {
   "cell_type": "code",
   "execution_count": 126,
   "id": "a1e26b60",
   "metadata": {},
   "outputs": [],
   "source": [
    "search_bar=driver9.find_element_by_xpath(\"/html/body/div/div/div/div[2]/div[1]/div/div/div/div/span/input\")\n",
    "search_bar.send_keys(\"Data Scientist\")"
   ]
  },
  {
   "cell_type": "code",
   "execution_count": 127,
   "id": "a9dd5ecf",
   "metadata": {},
   "outputs": [],
   "source": [
    "search_btn=driver9.find_element_by_xpath(\"/html/body/div/div/div/div[2]/div[1]/div/div/div/button\")\n",
    "search_btn.click()"
   ]
  },
  {
   "cell_type": "code",
   "execution_count": 128,
   "id": "7ea7052a",
   "metadata": {},
   "outputs": [],
   "source": [
    "location=driver9.find_element_by_xpath(\"/html/body/div/div/div/div[2]/div[2]/div[1]/div/div/div/div[2]/div[1]/p\")\n",
    "location.click()"
   ]
  },
  {
   "cell_type": "code",
   "execution_count": 129,
   "id": "beea9bcb",
   "metadata": {},
   "outputs": [],
   "source": [
    "location_input=driver9.find_element_by_xpath(\"/html/body/div/div/div/div[2]/div[2]/div[1]/div/div/div/div[2]/div[2]/div/div[2]/input\")\n",
    "location_input.send_keys(\"Noida\")"
   ]
  },
  {
   "cell_type": "code",
   "execution_count": 130,
   "id": "e8837d0d",
   "metadata": {},
   "outputs": [],
   "source": [
    "locn_input_slt=driver9.find_element_by_xpath(\"/html/body/div/div/div/div[2]/div[2]/div[1]/div/div/div/div[2]/div[2]/div/div[3]/div[1]/div[1]/div/label\")\n",
    "locn_input_slt.click()"
   ]
  },
  {
   "cell_type": "code",
   "execution_count": 131,
   "id": "26f37a80",
   "metadata": {},
   "outputs": [
    {
     "name": "stdout",
     "output_type": "stream",
     "text": [
      "['NTT DATA GLOBAL DELIVERY SERVICES PRIVATE LIMITED', 'HCL Technologies Limited', 'Optum Global Solutions (India) Private Limited', 'WSP CONSULTANTS INDIA PRIVATE LIMITED', 'Microsoft India (R and D) Pvt Ltd', 'HCL Technologies Ltd', 'Jubilant Foodworks Limited', 'HCL Technologies', 'RATEGAIN TRAVEL TECHNOLOGIES LIMITED', 'Hanu Software Solutions Pvt Ltd']\n"
     ]
    }
   ],
   "source": [
    "# Extracting company name:\n",
    "\n",
    "company_name=[]\n",
    "name_tags=driver9.find_elements_by_xpath('//p[@class=\"company body-medium\"]')\n",
    "for i in name_tags:\n",
    "    company_name.append(i.text)\n",
    "    \n",
    "print(company_name[0:10])    "
   ]
  },
  {
   "cell_type": "code",
   "execution_count": 132,
   "id": "b040cf27",
   "metadata": {},
   "outputs": [
    {
     "name": "stdout",
     "output_type": "stream",
     "text": [
      "['7d ago', '8d ago', '18d ago', '8d ago', '19d ago', '16d ago', '6d ago', '23d ago', '1d ago', '8d ago']\n"
     ]
    }
   ],
   "source": [
    "# Extracting the no. of days ago when job was posted\n",
    "\n",
    "days_ago=[]\n",
    "days_tags=driver9.find_elements_by_xpath('//span[@class=\"body-small-l\"]')\n",
    "for i in days_tags:\n",
    "    days_ago.append(i.text)\n",
    "        \n",
    "for j in days_ago:\n",
    "    if j==\"via naukri.com\":\n",
    "        days_ago.remove(j)\n",
    "print(days_ago[0:10])"
   ]
  },
  {
   "cell_type": "code",
   "execution_count": 133,
   "id": "9680606e",
   "metadata": {},
   "outputs": [
    {
     "name": "stdout",
     "output_type": "stream",
     "text": [
      "['3.9', '3.8', '4.1', '4.2', '4.2', '3.8', '3.9', '3.8', '3.8', '3.7']\n"
     ]
    }
   ],
   "source": [
    "# Extracting rating of the company\n",
    "\n",
    "rating=[]\n",
    "rating_tags=driver9.find_elements_by_xpath('//span[@class=\"body-small\"]')\n",
    "for i in rating_tags:\n",
    "    rating.append(i.text)\n",
    "    \n",
    "print(rating[0:10])    "
   ]
  },
  {
   "cell_type": "code",
   "execution_count": 134,
   "id": "1c565932",
   "metadata": {},
   "outputs": [
    {
     "data": {
      "text/html": [
       "<div>\n",
       "<style scoped>\n",
       "    .dataframe tbody tr th:only-of-type {\n",
       "        vertical-align: middle;\n",
       "    }\n",
       "\n",
       "    .dataframe tbody tr th {\n",
       "        vertical-align: top;\n",
       "    }\n",
       "\n",
       "    .dataframe thead th {\n",
       "        text-align: right;\n",
       "    }\n",
       "</style>\n",
       "<table border=\"1\" class=\"dataframe\">\n",
       "  <thead>\n",
       "    <tr style=\"text-align: right;\">\n",
       "      <th></th>\n",
       "      <th>Company Name</th>\n",
       "      <th>No. of days ago when job was posted</th>\n",
       "      <th>Rating of the Company</th>\n",
       "    </tr>\n",
       "  </thead>\n",
       "  <tbody>\n",
       "    <tr>\n",
       "      <th>1</th>\n",
       "      <td>NTT DATA GLOBAL DELIVERY SERVICES PRIVATE LIMITED</td>\n",
       "      <td>7d ago</td>\n",
       "      <td>3.9</td>\n",
       "    </tr>\n",
       "    <tr>\n",
       "      <th>2</th>\n",
       "      <td>HCL Technologies Limited</td>\n",
       "      <td>8d ago</td>\n",
       "      <td>3.8</td>\n",
       "    </tr>\n",
       "    <tr>\n",
       "      <th>3</th>\n",
       "      <td>Optum Global Solutions (India) Private Limited</td>\n",
       "      <td>18d ago</td>\n",
       "      <td>4.1</td>\n",
       "    </tr>\n",
       "    <tr>\n",
       "      <th>4</th>\n",
       "      <td>WSP CONSULTANTS INDIA PRIVATE LIMITED</td>\n",
       "      <td>8d ago</td>\n",
       "      <td>4.2</td>\n",
       "    </tr>\n",
       "    <tr>\n",
       "      <th>5</th>\n",
       "      <td>Microsoft India (R and D) Pvt Ltd</td>\n",
       "      <td>19d ago</td>\n",
       "      <td>4.2</td>\n",
       "    </tr>\n",
       "    <tr>\n",
       "      <th>6</th>\n",
       "      <td>HCL Technologies Ltd</td>\n",
       "      <td>16d ago</td>\n",
       "      <td>3.8</td>\n",
       "    </tr>\n",
       "    <tr>\n",
       "      <th>7</th>\n",
       "      <td>Jubilant Foodworks Limited</td>\n",
       "      <td>6d ago</td>\n",
       "      <td>3.9</td>\n",
       "    </tr>\n",
       "    <tr>\n",
       "      <th>8</th>\n",
       "      <td>HCL Technologies</td>\n",
       "      <td>23d ago</td>\n",
       "      <td>3.8</td>\n",
       "    </tr>\n",
       "    <tr>\n",
       "      <th>9</th>\n",
       "      <td>RATEGAIN TRAVEL TECHNOLOGIES LIMITED</td>\n",
       "      <td>1d ago</td>\n",
       "      <td>3.8</td>\n",
       "    </tr>\n",
       "    <tr>\n",
       "      <th>10</th>\n",
       "      <td>Hanu Software Solutions Pvt Ltd</td>\n",
       "      <td>8d ago</td>\n",
       "      <td>3.7</td>\n",
       "    </tr>\n",
       "  </tbody>\n",
       "</table>\n",
       "</div>"
      ],
      "text/plain": [
       "                                         Company Name  \\\n",
       "1   NTT DATA GLOBAL DELIVERY SERVICES PRIVATE LIMITED   \n",
       "2                            HCL Technologies Limited   \n",
       "3      Optum Global Solutions (India) Private Limited   \n",
       "4               WSP CONSULTANTS INDIA PRIVATE LIMITED   \n",
       "5                   Microsoft India (R and D) Pvt Ltd   \n",
       "6                                HCL Technologies Ltd   \n",
       "7                          Jubilant Foodworks Limited   \n",
       "8                                    HCL Technologies   \n",
       "9                RATEGAIN TRAVEL TECHNOLOGIES LIMITED   \n",
       "10                    Hanu Software Solutions Pvt Ltd   \n",
       "\n",
       "    No. of days ago when job was posted Rating of the Company  \n",
       "1                                7d ago                   3.9  \n",
       "2                                8d ago                   3.8  \n",
       "3                               18d ago                   4.1  \n",
       "4                                8d ago                   4.2  \n",
       "5                               19d ago                   4.2  \n",
       "6                               16d ago                   3.8  \n",
       "7                                6d ago                   3.9  \n",
       "8                               23d ago                   3.8  \n",
       "9                                1d ago                   3.8  \n",
       "10                               8d ago                   3.7  "
      ]
     },
     "execution_count": 134,
     "metadata": {},
     "output_type": "execute_result"
    }
   ],
   "source": [
    "company_name_10=company_name[0:10]\n",
    "days_ago_10=days_ago[0:10]\n",
    "rating_10=rating[0:10]\n",
    "\n",
    "df9=pd.DataFrame({\"Company Name\":company_name_10,\" No. of days ago when job was posted\":days_ago_10,\"Rating of the Company\":rating_10})\n",
    "df9.index=np.arange(1,len(df9)+1)\n",
    "df9"
   ]
  },
  {
   "cell_type": "markdown",
   "id": "e36256f5",
   "metadata": {},
   "source": [
    "# Q10:"
   ]
  },
  {
   "cell_type": "code",
   "execution_count": 135,
   "id": "c37db80e",
   "metadata": {},
   "outputs": [],
   "source": [
    "driver10=webdriver.Chrome(\"chromedriver.exe\")"
   ]
  },
  {
   "cell_type": "code",
   "execution_count": 136,
   "id": "84bad111",
   "metadata": {},
   "outputs": [],
   "source": [
    "url10=\"https://www.ambitionbox.com/\"\n",
    "driver10.get(url10)"
   ]
  },
  {
   "cell_type": "code",
   "execution_count": 137,
   "id": "64880f41",
   "metadata": {},
   "outputs": [],
   "source": [
    "salary_btn=driver10.find_element_by_xpath(\"/html/body/div[1]/nav/nav/a[4]\")\n",
    "salary_btn.click()"
   ]
  },
  {
   "cell_type": "code",
   "execution_count": 138,
   "id": "8d6b74ec",
   "metadata": {},
   "outputs": [],
   "source": [
    "job_profile=driver10.find_element_by_xpath(\"/html/body/div/div/div/main/section[1]/div[2]/div[1]/span/input\")\n",
    "job_profile.send_keys(\"Data Scientist\")"
   ]
  },
  {
   "cell_type": "code",
   "execution_count": 139,
   "id": "7b611607",
   "metadata": {},
   "outputs": [
    {
     "data": {
      "text/plain": [
       "['Ab Inbev',\n",
       " 'ZS',\n",
       " 'Optum',\n",
       " 'Fractal Analytics',\n",
       " 'Tiger Analytics',\n",
       " 'UnitedHealth',\n",
       " 'Verizon',\n",
       " 'Ganit Business Solutions',\n",
       " 'Ericsson',\n",
       " 'Deloitte']"
      ]
     },
     "execution_count": 139,
     "metadata": {},
     "output_type": "execute_result"
    }
   ],
   "source": [
    "# Extracting company name\n",
    "\n",
    "company_name=[]\n",
    "\n",
    "name_tag=driver10.find_elements_by_xpath('//div[@class=\"name\"]')\n",
    "for i in name_tag:\n",
    "    child=i.find_element_by_tag_name(\"a\")\n",
    "    company_name.append(child.text)\n",
    "    \n",
    "company_name_10=company_name[0:10]\n",
    "company_name_10"
   ]
  },
  {
   "cell_type": "code",
   "execution_count": 140,
   "id": "5e5a3967",
   "metadata": {},
   "outputs": [
    {
     "data": {
      "text/plain": [
       "['based on 28 salaries',\n",
       " 'based on 15 salaries',\n",
       " 'based on 25 salaries',\n",
       " 'based on 77 salaries',\n",
       " 'based on 33 salaries',\n",
       " 'based on 52 salaries',\n",
       " 'based on 14 salaries',\n",
       " 'based on 13 salaries',\n",
       " 'based on 43 salaries',\n",
       " 'based on 57 salaries']"
      ]
     },
     "execution_count": 140,
     "metadata": {},
     "output_type": "execute_result"
    }
   ],
   "source": [
    "# Extracting total salary record\n",
    "\n",
    "sal_record=[]\n",
    "sal_record_tag=driver10.find_elements_by_xpath('//div[@class=\"name\"]')\n",
    "for i in sal_record_tag:\n",
    "    child=i.find_element_by_tag_name(\"span\")\n",
    "    sal_record.append(child.text)\n",
    "    \n",
    "sal_record_10=sal_record[0:10]\n",
    "sal_record_10"
   ]
  },
  {
   "cell_type": "code",
   "execution_count": 141,
   "id": "d8182245",
   "metadata": {},
   "outputs": [
    {
     "data": {
      "text/plain": [
       "['₹ 20.3L',\n",
       " '₹ 15.3L',\n",
       " '₹ 15.1L',\n",
       " '₹ 15.1L',\n",
       " '₹ 14.4L',\n",
       " '₹ 13.9L',\n",
       " '₹ 12.7L',\n",
       " '₹ 12.4L',\n",
       " '₹ 11.9L',\n",
       " '₹ 11.7L']"
      ]
     },
     "execution_count": 141,
     "metadata": {},
     "output_type": "execute_result"
    }
   ],
   "source": [
    "# Extracting average salary\n",
    "\n",
    "avg_sal=[]\n",
    "avg_sal_tag=driver10.find_elements_by_xpath(\"//p[@class='averageCtc']\")\n",
    "for i in avg_sal_tag:\n",
    "    avg_sal.append(i.text)\n",
    "    \n",
    "avg_sal_10=avg_sal[0:10]\n",
    "avg_sal_10"
   ]
  },
  {
   "cell_type": "code",
   "execution_count": 142,
   "id": "d007010f",
   "metadata": {},
   "outputs": [
    {
     "name": "stdout",
     "output_type": "stream",
     "text": [
      "['₹ 15.0L', '₹ 9.5L', '₹ 11.0L', '₹ 9.5L', '₹ 8.3L', '₹ 8.3L', '₹ 10.0L', '₹ 8.5L', '₹ 5.8L', '₹ 6.9L']\n",
      "['₹ 25.5L', '₹ 20.0L', '₹ 21.3L', '₹ 22.0L', '₹ 20.0L', '₹ 20.5L', '₹ 21.0L', '₹ 15.0L', '₹ 24.0L', '₹ 23.4L']\n"
     ]
    }
   ],
   "source": [
    "# Extracting minimum and maximum salary\n",
    "\n",
    "sal=[]\n",
    "sal_tag=driver10.find_elements_by_xpath(\"//div[@class='value body-medium']\")\n",
    "for i in sal_tag:\n",
    "    sal.append(i.text)\n",
    "    \n",
    "min_sal=sal[0::2]\n",
    "max_sal=sal[1::2]\n",
    "    \n",
    "min_sal_10=min_sal[0:10]\n",
    "max_sal_10=max_sal[0:10]\n",
    "print(min_sal_10)\n",
    "print(max_sal_10)"
   ]
  },
  {
   "cell_type": "code",
   "execution_count": 143,
   "id": "3d31d4c5",
   "metadata": {},
   "outputs": [
    {
     "data": {
      "text/plain": [
       "['3-4 yrs exp',\n",
       " '2 yrs exp',\n",
       " '3-4 yrs exp',\n",
       " '2-4 yrs exp',\n",
       " '3-4 yrs exp',\n",
       " '2-4 yrs exp',\n",
       " '4 yrs exp',\n",
       " '4 yrs exp',\n",
       " '3-4 yrs exp',\n",
       " '2-4 yrs exp']"
      ]
     },
     "execution_count": 143,
     "metadata": {},
     "output_type": "execute_result"
    }
   ],
   "source": [
    "# Extracting experience required\n",
    "\n",
    "exp=[]\n",
    "exp_tag=driver10.find_elements_by_xpath(\"//div[@class='salaries sbold-list-header']\")\n",
    "for i in exp_tag:\n",
    "    exp.append(i.text.replace(\"Data Scientist\\n . \\n\",\"\"))\n",
    "    \n",
    "exp_10=exp[0:10]\n",
    "exp_10"
   ]
  },
  {
   "cell_type": "code",
   "execution_count": 144,
   "id": "68758cbe",
   "metadata": {},
   "outputs": [
    {
     "data": {
      "text/html": [
       "<div>\n",
       "<style scoped>\n",
       "    .dataframe tbody tr th:only-of-type {\n",
       "        vertical-align: middle;\n",
       "    }\n",
       "\n",
       "    .dataframe tbody tr th {\n",
       "        vertical-align: top;\n",
       "    }\n",
       "\n",
       "    .dataframe thead th {\n",
       "        text-align: right;\n",
       "    }\n",
       "</style>\n",
       "<table border=\"1\" class=\"dataframe\">\n",
       "  <thead>\n",
       "    <tr style=\"text-align: right;\">\n",
       "      <th></th>\n",
       "      <th>Company Name</th>\n",
       "      <th>Total Salary Record</th>\n",
       "      <th>Average Salary</th>\n",
       "      <th>Minimum Salary</th>\n",
       "      <th>Maximum Salary</th>\n",
       "      <th>Experience Required</th>\n",
       "    </tr>\n",
       "  </thead>\n",
       "  <tbody>\n",
       "    <tr>\n",
       "      <th>1</th>\n",
       "      <td>Ab Inbev</td>\n",
       "      <td>based on 28 salaries</td>\n",
       "      <td>₹ 20.3L</td>\n",
       "      <td>₹ 15.0L</td>\n",
       "      <td>₹ 25.5L</td>\n",
       "      <td>3-4 yrs exp</td>\n",
       "    </tr>\n",
       "    <tr>\n",
       "      <th>2</th>\n",
       "      <td>ZS</td>\n",
       "      <td>based on 15 salaries</td>\n",
       "      <td>₹ 15.3L</td>\n",
       "      <td>₹ 9.5L</td>\n",
       "      <td>₹ 20.0L</td>\n",
       "      <td>2 yrs exp</td>\n",
       "    </tr>\n",
       "    <tr>\n",
       "      <th>3</th>\n",
       "      <td>Optum</td>\n",
       "      <td>based on 25 salaries</td>\n",
       "      <td>₹ 15.1L</td>\n",
       "      <td>₹ 11.0L</td>\n",
       "      <td>₹ 21.3L</td>\n",
       "      <td>3-4 yrs exp</td>\n",
       "    </tr>\n",
       "    <tr>\n",
       "      <th>4</th>\n",
       "      <td>Fractal Analytics</td>\n",
       "      <td>based on 77 salaries</td>\n",
       "      <td>₹ 15.1L</td>\n",
       "      <td>₹ 9.5L</td>\n",
       "      <td>₹ 22.0L</td>\n",
       "      <td>2-4 yrs exp</td>\n",
       "    </tr>\n",
       "    <tr>\n",
       "      <th>5</th>\n",
       "      <td>Tiger Analytics</td>\n",
       "      <td>based on 33 salaries</td>\n",
       "      <td>₹ 14.4L</td>\n",
       "      <td>₹ 8.3L</td>\n",
       "      <td>₹ 20.0L</td>\n",
       "      <td>3-4 yrs exp</td>\n",
       "    </tr>\n",
       "    <tr>\n",
       "      <th>6</th>\n",
       "      <td>UnitedHealth</td>\n",
       "      <td>based on 52 salaries</td>\n",
       "      <td>₹ 13.9L</td>\n",
       "      <td>₹ 8.3L</td>\n",
       "      <td>₹ 20.5L</td>\n",
       "      <td>2-4 yrs exp</td>\n",
       "    </tr>\n",
       "    <tr>\n",
       "      <th>7</th>\n",
       "      <td>Verizon</td>\n",
       "      <td>based on 14 salaries</td>\n",
       "      <td>₹ 12.7L</td>\n",
       "      <td>₹ 10.0L</td>\n",
       "      <td>₹ 21.0L</td>\n",
       "      <td>4 yrs exp</td>\n",
       "    </tr>\n",
       "    <tr>\n",
       "      <th>8</th>\n",
       "      <td>Ganit Business Solutions</td>\n",
       "      <td>based on 13 salaries</td>\n",
       "      <td>₹ 12.4L</td>\n",
       "      <td>₹ 8.5L</td>\n",
       "      <td>₹ 15.0L</td>\n",
       "      <td>4 yrs exp</td>\n",
       "    </tr>\n",
       "    <tr>\n",
       "      <th>9</th>\n",
       "      <td>Ericsson</td>\n",
       "      <td>based on 43 salaries</td>\n",
       "      <td>₹ 11.9L</td>\n",
       "      <td>₹ 5.8L</td>\n",
       "      <td>₹ 24.0L</td>\n",
       "      <td>3-4 yrs exp</td>\n",
       "    </tr>\n",
       "    <tr>\n",
       "      <th>10</th>\n",
       "      <td>Deloitte</td>\n",
       "      <td>based on 57 salaries</td>\n",
       "      <td>₹ 11.7L</td>\n",
       "      <td>₹ 6.9L</td>\n",
       "      <td>₹ 23.4L</td>\n",
       "      <td>2-4 yrs exp</td>\n",
       "    </tr>\n",
       "  </tbody>\n",
       "</table>\n",
       "</div>"
      ],
      "text/plain": [
       "                Company Name   Total Salary Record Average Salary  \\\n",
       "1                   Ab Inbev  based on 28 salaries        ₹ 20.3L   \n",
       "2                         ZS  based on 15 salaries        ₹ 15.3L   \n",
       "3                      Optum  based on 25 salaries        ₹ 15.1L   \n",
       "4          Fractal Analytics  based on 77 salaries        ₹ 15.1L   \n",
       "5            Tiger Analytics  based on 33 salaries        ₹ 14.4L   \n",
       "6               UnitedHealth  based on 52 salaries        ₹ 13.9L   \n",
       "7                    Verizon  based on 14 salaries        ₹ 12.7L   \n",
       "8   Ganit Business Solutions  based on 13 salaries        ₹ 12.4L   \n",
       "9                   Ericsson  based on 43 salaries        ₹ 11.9L   \n",
       "10                  Deloitte  based on 57 salaries        ₹ 11.7L   \n",
       "\n",
       "   Minimum Salary Maximum Salary Experience Required  \n",
       "1         ₹ 15.0L        ₹ 25.5L         3-4 yrs exp  \n",
       "2          ₹ 9.5L        ₹ 20.0L           2 yrs exp  \n",
       "3         ₹ 11.0L        ₹ 21.3L         3-4 yrs exp  \n",
       "4          ₹ 9.5L        ₹ 22.0L         2-4 yrs exp  \n",
       "5          ₹ 8.3L        ₹ 20.0L         3-4 yrs exp  \n",
       "6          ₹ 8.3L        ₹ 20.5L         2-4 yrs exp  \n",
       "7         ₹ 10.0L        ₹ 21.0L           4 yrs exp  \n",
       "8          ₹ 8.5L        ₹ 15.0L           4 yrs exp  \n",
       "9          ₹ 5.8L        ₹ 24.0L         3-4 yrs exp  \n",
       "10         ₹ 6.9L        ₹ 23.4L         2-4 yrs exp  "
      ]
     },
     "execution_count": 144,
     "metadata": {},
     "output_type": "execute_result"
    }
   ],
   "source": [
    "df10=pd.DataFrame({\"Company Name\":company_name_10,\"Total Salary Record\":sal_record_10,\"Average Salary\":avg_sal_10,\"Minimum Salary\":min_sal_10,\"Maximum Salary\":max_sal_10,\"Experience Required\":exp_10})\n",
    "df10.index=np.arange(1,len(df10)+1)\n",
    "df10"
   ]
  },
  {
   "cell_type": "code",
   "execution_count": null,
   "id": "53a6eb81",
   "metadata": {},
   "outputs": [],
   "source": []
  }
 ],
 "metadata": {
  "kernelspec": {
   "display_name": "Python 3",
   "language": "python",
   "name": "python3"
  },
  "language_info": {
   "codemirror_mode": {
    "name": "ipython",
    "version": 3
   },
   "file_extension": ".py",
   "mimetype": "text/x-python",
   "name": "python",
   "nbconvert_exporter": "python",
   "pygments_lexer": "ipython3",
   "version": "3.8.8"
  }
 },
 "nbformat": 4,
 "nbformat_minor": 5
}
