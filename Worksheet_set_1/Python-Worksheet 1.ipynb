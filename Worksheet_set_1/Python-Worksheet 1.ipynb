{
 "cells": [
  {
   "cell_type": "markdown",
   "id": "df9c356b",
   "metadata": {},
   "source": [
    "# Python-Worksheet 1"
   ]
  },
  {
   "cell_type": "markdown",
   "id": "89025be7",
   "metadata": {},
   "source": [
    "# Q11:"
   ]
  },
  {
   "cell_type": "code",
   "execution_count": 4,
   "id": "ab4da9b9",
   "metadata": {},
   "outputs": [
    {
     "name": "stdout",
     "output_type": "stream",
     "text": [
      "Enter a number to find the factorial:6\n"
     ]
    },
    {
     "data": {
      "text/plain": [
       "720"
      ]
     },
     "execution_count": 4,
     "metadata": {},
     "output_type": "execute_result"
    }
   ],
   "source": [
    "def factorial(n):\n",
    "    if n<0:\n",
    "        return 0\n",
    "    elif n==0 or n==1:\n",
    "        return 1\n",
    "    else:\n",
    "        fact=1\n",
    "        while(n>1):\n",
    "            fact=fact*n\n",
    "            n=n-1\n",
    "        return fact\n",
    "    \n",
    "num=int(input(\"Enter a number to find the factorial:\"))\n",
    "factorial(num)"
   ]
  },
  {
   "cell_type": "markdown",
   "id": "79d3628d",
   "metadata": {},
   "source": [
    "# Q12:"
   ]
  },
  {
   "cell_type": "code",
   "execution_count": 15,
   "id": "7f0eef14",
   "metadata": {},
   "outputs": [
    {
     "name": "stdout",
     "output_type": "stream",
     "text": [
      "Enter a number: 10\n",
      "10 is a composite number\n"
     ]
    }
   ],
   "source": [
    "n=int(input(\"Enter a number: \"))\n",
    "if n==0 or n==1:\n",
    "    print(n,\"is neither a prime nor composite number\")\n",
    "elif n>1:\n",
    "    for i in range(2,n):\n",
    "        if n%i==0:\n",
    "            print(n,\"is a composite number\")\n",
    "            break\n",
    "    else:\n",
    "        print(n,\"is a prime number\")\n",
    "else:\n",
    "    print(\"Enter positive numbers only\")"
   ]
  },
  {
   "cell_type": "markdown",
   "id": "d037fa68",
   "metadata": {},
   "source": [
    "# Q13:"
   ]
  },
  {
   "cell_type": "code",
   "execution_count": 19,
   "id": "884a2b95",
   "metadata": {},
   "outputs": [
    {
     "name": "stdout",
     "output_type": "stream",
     "text": [
      "Enter a word to check if it is palindrome or not: girl\n",
      "girl is not palindrome\n"
     ]
    }
   ],
   "source": [
    "def palindrome(s):\n",
    "    return s==s[::-1]\n",
    "\n",
    "s=input(\"Enter a word to check if it is palindrome or not: \")\n",
    "p=palindrome(s)\n",
    "if p:\n",
    "    print(s,\"is palindrome\")\n",
    "else:\n",
    "    print(s,\"is not palindrome\")"
   ]
  },
  {
   "cell_type": "markdown",
   "id": "1e2178ff",
   "metadata": {},
   "source": [
    "# Q14:"
   ]
  },
  {
   "cell_type": "code",
   "execution_count": 22,
   "id": "0c4f1614",
   "metadata": {},
   "outputs": [],
   "source": [
    "import math"
   ]
  },
  {
   "cell_type": "code",
   "execution_count": 29,
   "id": "2f406bee",
   "metadata": {},
   "outputs": [
    {
     "name": "stdout",
     "output_type": "stream",
     "text": [
      "Enter any two sides of the right angled triangle and third side as 'x'\n",
      "Enter the opposite side of the right angled triangle: x\n",
      "Enter the adjacent side of the right angled triangle: 4\n",
      "Enter the hypotenuse of the right angled triangle: 5\n",
      "3.0 is the third side of the triangle\n"
     ]
    }
   ],
   "source": [
    "print(\"Enter any two sides of the right angled triangle and third side as 'x'\")\n",
    "opp_side=input(\"Enter the opposite side of the right angled triangle: \")\n",
    "adj_side=input(\"Enter the adjacent side of the right angled triangle: \")\n",
    "hyp=input(\"Enter the hypotenuse of the right angled triangle: \")\n",
    "if opp_side=='x':\n",
    "    third_side=math.sqrt(int(hyp)**2-int(adj_side)**2)\n",
    "elif adj_side=='x':\n",
    "    third_side=math.sqrt(int(hyp)**2-int(opp_side)**2)\n",
    "else:\n",
    "    third_side=math.sqrt(int(adj_side)**2+int(opp_side)**2)\n",
    "print(third_side,\"is the third side of the triangle\")    "
   ]
  },
  {
   "cell_type": "markdown",
   "id": "810cdaf0",
   "metadata": {},
   "source": [
    "# Q15:"
   ]
  },
  {
   "cell_type": "code",
   "execution_count": 42,
   "id": "e10309b3",
   "metadata": {},
   "outputs": [
    {
     "name": "stdout",
     "output_type": "stream",
     "text": [
      "Enter a string: i am a good girl\n",
      "Count of all characters in i am a good girl is: \n",
      "{'i': 2, ' ': 4, 'a': 2, 'm': 1, 'g': 2, 'o': 2, 'd': 1, 'r': 1, 'l': 1}\n"
     ]
    }
   ],
   "source": [
    "str_in=input(\"Enter a string: \")\n",
    "freq={}\n",
    "for i in str_in:\n",
    "    if i in freq:\n",
    "        freq[i]=freq[i]+1\n",
    "    else:\n",
    "        freq[i]=1\n",
    "        \n",
    "print(\"Count of all characters in\",str_in,\"is: \\n\"+str(freq))"
   ]
  },
  {
   "cell_type": "code",
   "execution_count": null,
   "id": "667a4898",
   "metadata": {},
   "outputs": [],
   "source": []
  }
 ],
 "metadata": {
  "kernelspec": {
   "display_name": "Python 3",
   "language": "python",
   "name": "python3"
  },
  "language_info": {
   "codemirror_mode": {
    "name": "ipython",
    "version": 3
   },
   "file_extension": ".py",
   "mimetype": "text/x-python",
   "name": "python",
   "nbconvert_exporter": "python",
   "pygments_lexer": "ipython3",
   "version": "3.8.8"
  }
 },
 "nbformat": 4,
 "nbformat_minor": 5
}
